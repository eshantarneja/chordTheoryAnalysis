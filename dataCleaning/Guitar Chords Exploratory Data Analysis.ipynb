{
 "cells": [
  {
   "cell_type": "markdown",
   "metadata": {},
   "source": [
    "# 0. Introduction\n",
    "\n",
    "As both an aspiring guitarist and product management/analytics professional, I thought it would be a great idea to merge my interests into one project - using data to explore basic guitar music theory and to inform my next steps for learning guitar.\n",
    "\n",
    "#### Guitar Motivation\n",
    "For the last year I have been self teaching myself guitar. Like all things I've self-taught in the past, I have spent endless hours on youtube, learning new songs, chords, etc. I feel like I've got the basics down now and can learn most songs after watching a youtube video or finding the chords online. However, I'm hungry now to get into that next level of understanding - music theory. I want to know what and why I'm playing. I've found myself asking questions like - what chords sound good together? Why does chord x always show up after chord y? How can I think about starting to write my own music? What song should I be learning next? I've started diving into these questions through youtube, but like anything, I believed data could help guide my learning and decision making.\n",
    "\n",
    "#### Data Motivation\n",
    "Over the last few years, I've really found my interests converging at the intersetion of product and data. In school I was lucky enough to get involved in classes all over the data science spectrum, touching subjects and projects varying from ML to Data Visualization Interaction. Now as a Product manager, I am actively involved in analyzing our business data to help us make decisions on how to build our products!\n",
    "\n",
    "Although I've done a lot so far, there's still so many more skills that I want to build upon in this space. For example, I've often worked with dirty data, usually in the form of logs generated from our software at work. However, I've never really had to gather it myself. And although I've gotten to answer some really cool questions with data, I've never been able to use data to explore a subject I really know nothing about.\n",
    "\n",
    "#### Project  Overview\n",
    "\n",
    "So for this project, I will be working down the data science pipeline from A-Z to explore the basics of music theory while simultaneosly building out my data science skills!\n",
    "\n",
    "This notebook contains a majority of my work, broken up by each step in the process\n",
    "\n",
    "1. Data Collection (Done)\n",
    "\n",
    "2. Data Cleaning (Done)\n",
    "\n",
    "3. Exploratory Data Analysis (In Progress)\n",
    "\n",
    "4. Modeling (Not Started)\n",
    "\n",
    "5. Conclusion/Takeaways (Not Started)\n"
   ]
  },
  {
   "cell_type": "markdown",
   "metadata": {},
   "source": [
    "## 1. Data Collection"
   ]
  },
  {
   "cell_type": "markdown",
   "metadata": {},
   "source": [
    "The first step of the process was finding or creating an approptiate data set of guitar chords/tabelature. Specifically, I wanted a large data set of guitar tabelature from a variety of different difficulty levels, genres, artists, etc. One of my main objectives for this project was to build out my own ETL pipeline. With that in mind I decided to build a web scraper. \n",
    "\n",
    "I scraped my data from the popular guitar chords website ultimate-guitar.com. To scrape the site I utilized the selenium data package. This was my first time web scraping so I relied heavily on this amazing [youtube tutorial](https://www.youtube.com/watch?v=Xjv1sY630Uc) from Tech With Tim ! The code for my scraper can be found in the scraping folder in my git. But I will give a brief overview of my process here...\n",
    "\n",
    "\n",
    "#### Choosing a site to scrape\n",
    "\n",
    "There are a few different websites that host guitar tabs, but the most popular by far is ultimate-guitar.com. I considered some other sites as well, but UG seemed to have by far the most inventory of tabs. More importantly, each tab seems to follow a similar format - which is great for scraping capabilities. \n",
    "\n",
    "Unfortunately, UG does not have a single location that lists all of it's tabs, so I had to get a bit creative. I decided to break the scraping up into two parts. First, using the search page on UG to find the links to different song tabs, and stored that data in a csv. Second, I used that list I generated of song tabs and scraped through each song one by one, and stored that data in a csv.\n",
    "\n",
    "#### Gathering a list of tabs to scrape\n",
    "\n",
    "To gather the list of song url's, I played around with the url of the explore page. I itiratevely changed the url to filter by different genres and decades, resulting in different results in the search page. For each decade/genre combination, I would use selenium to grab all the urls from that page, navigate to the next page (often there were about 20 pages of results), then grabbed those urls as well. I would then change the decade/genre filter and go again.\n",
    "\n",
    "#### Scraping tabs\n",
    "\n",
    "Scraping the actual tabs once I had the URLs for them was rather straightforward. From each page, I gathered all information available about the song (chords, difficulty, capo, etc).\n",
    "\n",
    "#### Results and Takeaways\n",
    "\n",
    "In the end, I finished with a dataset of a little under 10,000 unique song tabs for guitar. I actually had a list of 30k tabs to eventually scrape, but unfortunately UG kicked me off the site for generating too much traffic. I had no idea this was a thing, but after reading about similar incidents online I decided to shut down the remaining scraping. I am a big user of UG and don't want to break any of their rules further! This was a great lesson though for future scraping activities - make sure to understand the site's guidelines regarding scraping before moving forward!\n"
   ]
  },
  {
   "cell_type": "markdown",
   "metadata": {},
   "source": [
    "## 2. Data Cleaning\n",
    "\n",
    "My data set was quite expansive, but it was rather dirty. Before getting into any analysis I needed to do some basic cleaning. There is more cleaning to come throughout the analysis as I identified more errors, so this section is focused more instead on cleaning up the low hanging fruit."
   ]
  },
  {
   "cell_type": "code",
   "execution_count": 1,
   "metadata": {},
   "outputs": [],
   "source": [
    "import pandas as pd\n",
    "import matplotlib.pyplot as plt\n",
    "import seaborn as sns\n",
    "from ast import literal_eval\n",
    "import numpy as np\n",
    "import math\n",
    "import glob\n",
    "import seaborn as sns\n",
    "from nltk.corpus import stopwords"
   ]
  },
  {
   "cell_type": "markdown",
   "metadata": {},
   "source": [
    "#### Read in and combine data files\n",
    "\n",
    "I iteratively stored songs into different CSVs during scraping to avoid losing data if my computer shut down. So  we'll want to read all these files and combine them into one"
   ]
  },
  {
   "cell_type": "code",
   "execution_count": 2,
   "metadata": {},
   "outputs": [
    {
     "data": {
      "text/html": [
       "<div>\n",
       "<style scoped>\n",
       "    .dataframe tbody tr th:only-of-type {\n",
       "        vertical-align: middle;\n",
       "    }\n",
       "\n",
       "    .dataframe tbody tr th {\n",
       "        vertical-align: top;\n",
       "    }\n",
       "\n",
       "    .dataframe thead th {\n",
       "        text-align: right;\n",
       "    }\n",
       "</style>\n",
       "<table border=\"1\" class=\"dataframe\">\n",
       "  <thead>\n",
       "    <tr style=\"text-align: right;\">\n",
       "      <th></th>\n",
       "      <th>url</th>\n",
       "      <th>new_x</th>\n",
       "      <th>new_y</th>\n",
       "      <th>chordOrder</th>\n",
       "      <th>chordList</th>\n",
       "      <th>topInfo</th>\n",
       "      <th>songArtist</th>\n",
       "    </tr>\n",
       "  </thead>\n",
       "  <tbody>\n",
       "    <tr>\n",
       "      <th>0</th>\n",
       "      <td>https://tabs.ultimate-guitar.com/tab/dolly-par...</td>\n",
       "      <td>['Country']</td>\n",
       "      <td>[1970]</td>\n",
       "      <td>['G', 'C', 'G', 'C', 'D', 'G', 'C', 'G', 'C', ...</td>\n",
       "      <td>['G', 'C', 'D']</td>\n",
       "      <td>[]</td>\n",
       "      <td>Its All Wrong But Its All Right chords by Doll...</td>\n",
       "    </tr>\n",
       "    <tr>\n",
       "      <th>1</th>\n",
       "      <td>https://tabs.ultimate-guitar.com/tab/dolly-par...</td>\n",
       "      <td>['Country', 'Folk', 'Folk']</td>\n",
       "      <td>[1970, 1970, 1940]</td>\n",
       "      <td>['Am', 'C', 'G', 'Am', 'G', 'Am', 'Am', 'C', '...</td>\n",
       "      <td>['Am', 'C', 'G']</td>\n",
       "      <td>['Difficulty: intermediate', 'Tuning: E A D G ...</td>\n",
       "      <td>Jolene chords by Dolly Parton</td>\n",
       "    </tr>\n",
       "    <tr>\n",
       "      <th>2</th>\n",
       "      <td>https://tabs.ultimate-guitar.com/tab/dolly-par...</td>\n",
       "      <td>['Country']</td>\n",
       "      <td>[1970]</td>\n",
       "      <td>['Em', 'G', 'D', 'Em', 'D', 'Em', 'Em', 'G', '...</td>\n",
       "      <td>['Em', 'G', 'D']</td>\n",
       "      <td>['Difficulty: novice', 'Tuning: E A D G B E', ...</td>\n",
       "      <td>Jolene chords by Dolly Parton</td>\n",
       "    </tr>\n",
       "    <tr>\n",
       "      <th>3</th>\n",
       "      <td>https://tabs.ultimate-guitar.com/tab/dolly-par...</td>\n",
       "      <td>['Country', 'Folk']</td>\n",
       "      <td>[1970, 1970]</td>\n",
       "      <td>['Dm', 'F', 'C', 'Dm', 'C', 'Dm', 'F', 'C', 'D...</td>\n",
       "      <td>['Dm', 'F', 'C']</td>\n",
       "      <td>[]</td>\n",
       "      <td>Jolene chords by Dolly Parton</td>\n",
       "    </tr>\n",
       "    <tr>\n",
       "      <th>4</th>\n",
       "      <td>https://tabs.ultimate-guitar.com/tab/dolly-par...</td>\n",
       "      <td>['Country', 'Country', 'Folk', 'Folk']</td>\n",
       "      <td>[1970, 1940, 1970, 1940]</td>\n",
       "      <td>['Am', 'Am', 'C', 'G', 'Am', 'G', 'Am', 'Am', ...</td>\n",
       "      <td>['Am', 'C', 'G', 'Em']</td>\n",
       "      <td>['Difficulty: novice', 'Tuning: E A D G B E', ...</td>\n",
       "      <td>Jolene chords by Dolly Parton</td>\n",
       "    </tr>\n",
       "  </tbody>\n",
       "</table>\n",
       "</div>"
      ],
      "text/plain": [
       "                                                 url  \\\n",
       "0  https://tabs.ultimate-guitar.com/tab/dolly-par...   \n",
       "1  https://tabs.ultimate-guitar.com/tab/dolly-par...   \n",
       "2  https://tabs.ultimate-guitar.com/tab/dolly-par...   \n",
       "3  https://tabs.ultimate-guitar.com/tab/dolly-par...   \n",
       "4  https://tabs.ultimate-guitar.com/tab/dolly-par...   \n",
       "\n",
       "                                    new_x                     new_y  \\\n",
       "0                             ['Country']                    [1970]   \n",
       "1             ['Country', 'Folk', 'Folk']        [1970, 1970, 1940]   \n",
       "2                             ['Country']                    [1970]   \n",
       "3                     ['Country', 'Folk']              [1970, 1970]   \n",
       "4  ['Country', 'Country', 'Folk', 'Folk']  [1970, 1940, 1970, 1940]   \n",
       "\n",
       "                                          chordOrder               chordList  \\\n",
       "0  ['G', 'C', 'G', 'C', 'D', 'G', 'C', 'G', 'C', ...         ['G', 'C', 'D']   \n",
       "1  ['Am', 'C', 'G', 'Am', 'G', 'Am', 'Am', 'C', '...        ['Am', 'C', 'G']   \n",
       "2  ['Em', 'G', 'D', 'Em', 'D', 'Em', 'Em', 'G', '...        ['Em', 'G', 'D']   \n",
       "3  ['Dm', 'F', 'C', 'Dm', 'C', 'Dm', 'F', 'C', 'D...        ['Dm', 'F', 'C']   \n",
       "4  ['Am', 'Am', 'C', 'G', 'Am', 'G', 'Am', 'Am', ...  ['Am', 'C', 'G', 'Em']   \n",
       "\n",
       "                                             topInfo  \\\n",
       "0                                                 []   \n",
       "1  ['Difficulty: intermediate', 'Tuning: E A D G ...   \n",
       "2  ['Difficulty: novice', 'Tuning: E A D G B E', ...   \n",
       "3                                                 []   \n",
       "4  ['Difficulty: novice', 'Tuning: E A D G B E', ...   \n",
       "\n",
       "                                          songArtist  \n",
       "0  Its All Wrong But Its All Right chords by Doll...  \n",
       "1                      Jolene chords by Dolly Parton  \n",
       "2                      Jolene chords by Dolly Parton  \n",
       "3                      Jolene chords by Dolly Parton  \n",
       "4                      Jolene chords by Dolly Parton  "
      ]
     },
     "execution_count": 2,
     "metadata": {},
     "output_type": "execute_result"
    }
   ],
   "source": [
    "# Combine csvs\n",
    "all_files=glob.glob(\"/Users/eshantarneja/Documents/DataScience/data/rawData/*.csv\")\n",
    "li = []\n",
    "for filename in all_files:\n",
    "    df = pd.read_csv(filename, encoding='latin-1')\n",
    "    li.append(df)\n",
    "df = pd.concat(li, axis=0, ignore_index=True)\n",
    "df.head()"
   ]
  },
  {
   "cell_type": "code",
   "execution_count": 3,
   "metadata": {},
   "outputs": [
    {
     "name": "stdout",
     "output_type": "stream",
     "text": [
      "<class 'pandas.core.frame.DataFrame'>\n",
      "RangeIndex: 9997 entries, 0 to 9996\n",
      "Data columns (total 7 columns):\n",
      "url           9997 non-null object\n",
      "new_x         9997 non-null object\n",
      "new_y         9997 non-null object\n",
      "chordOrder    9997 non-null object\n",
      "chordList     9997 non-null object\n",
      "topInfo       9997 non-null object\n",
      "songArtist    9997 non-null object\n",
      "dtypes: object(7)\n",
      "memory usage: 546.8+ KB\n"
     ]
    }
   ],
   "source": [
    "df.info()"
   ]
  },
  {
   "cell_type": "markdown",
   "metadata": {},
   "source": [
    "#### Low Hanging Fruit\n",
    "\n",
    "There are a couple of issues within this raw data that I can see just by looking at it. Lets clean those up to start.\n",
    "\n",
    "1. Song and Artist are in a field together (i.e Dust Bowl chords by 10,000 Maniacs). We'll want to seperate these into their own fields\n",
    "\n",
    "2. All of the lists got read in as strings. I can see that by all of them being read as \"objects\". I learned that reading and writing in csvs loses python formatting (this is what pckl files are great for apparently...I had always heard of these...never knew why people used them). I'll go ahead and convert those back into lists though.\n",
    "\n",
    "3. The topInfo column has really disparate information about the song. This data is found at the top of the chord page and usually contains Key, Capo, and Tuning...but sometimes has only some of that info, and also sometimes has random facts about the song. I'll break these into their own fields if they exist, and if there is extra info, I'll put it in a column called \"other\"\n",
    "\n",
    "4. I know from my original file combining that there are quite a few duplicates in the data. I.e these Urls were found in multiple genres and decades, but have the exact same tab (shown by url). That is why the genre and decades are stored as list because I combined all the info from each of these into one before scraping the song to avoid duplicate work. I'll take the unique set of genres and decades for each entry. I.e [\"Folk\",\"Folk\", \"Rock\", \"Rock\"] -> [\"Folk\", \"Rock\"]. I'll decide what to do with multiple genres/decades later..."
   ]
  },
  {
   "cell_type": "code",
   "execution_count": 4,
   "metadata": {},
   "outputs": [
    {
     "data": {
      "text/html": [
       "<div>\n",
       "<style scoped>\n",
       "    .dataframe tbody tr th:only-of-type {\n",
       "        vertical-align: middle;\n",
       "    }\n",
       "\n",
       "    .dataframe tbody tr th {\n",
       "        vertical-align: top;\n",
       "    }\n",
       "\n",
       "    .dataframe thead th {\n",
       "        text-align: right;\n",
       "    }\n",
       "</style>\n",
       "<table border=\"1\" class=\"dataframe\">\n",
       "  <thead>\n",
       "    <tr style=\"text-align: right;\">\n",
       "      <th></th>\n",
       "      <th>url</th>\n",
       "      <th>chordOrder</th>\n",
       "      <th>uniqueChords</th>\n",
       "      <th>song</th>\n",
       "      <th>artist</th>\n",
       "      <th>genre</th>\n",
       "      <th>decade</th>\n",
       "      <th>difficulty</th>\n",
       "      <th>tuning</th>\n",
       "      <th>capo</th>\n",
       "      <th>key</th>\n",
       "      <th>other</th>\n",
       "    </tr>\n",
       "  </thead>\n",
       "  <tbody>\n",
       "    <tr>\n",
       "      <th>0</th>\n",
       "      <td>https://tabs.ultimate-guitar.com/tab/dolly-par...</td>\n",
       "      <td>[G, C, G, C, D, G, C, G, C, D, G, C, G, C, D, ...</td>\n",
       "      <td>[G, C, D]</td>\n",
       "      <td>Its All Wrong But Its All Right</td>\n",
       "      <td>Dolly Parton</td>\n",
       "      <td>[Country]</td>\n",
       "      <td>[1970]</td>\n",
       "      <td>NaN</td>\n",
       "      <td>NaN</td>\n",
       "      <td>NaN</td>\n",
       "      <td>NaN</td>\n",
       "      <td>NaN</td>\n",
       "    </tr>\n",
       "    <tr>\n",
       "      <th>1</th>\n",
       "      <td>https://tabs.ultimate-guitar.com/tab/dolly-par...</td>\n",
       "      <td>[Am, C, G, Am, G, Am, Am, C, G, Am, G, Am, Am,...</td>\n",
       "      <td>[Am, C, G]</td>\n",
       "      <td>Jolene</td>\n",
       "      <td>Dolly Parton</td>\n",
       "      <td>[Folk, Country]</td>\n",
       "      <td>[1970, 1940]</td>\n",
       "      <td>intermediate</td>\n",
       "      <td>E A D G B E</td>\n",
       "      <td>4th fret</td>\n",
       "      <td>NaN</td>\n",
       "      <td>NaN</td>\n",
       "    </tr>\n",
       "    <tr>\n",
       "      <th>2</th>\n",
       "      <td>https://tabs.ultimate-guitar.com/tab/dolly-par...</td>\n",
       "      <td>[Em, G, D, Em, D, Em, Em, G, D, Em, Em, G, D, ...</td>\n",
       "      <td>[Em, G, D]</td>\n",
       "      <td>Jolene</td>\n",
       "      <td>Dolly Parton</td>\n",
       "      <td>[Country]</td>\n",
       "      <td>[1970]</td>\n",
       "      <td>novice</td>\n",
       "      <td>E A D G B E</td>\n",
       "      <td>4th fret</td>\n",
       "      <td>NaN</td>\n",
       "      <td>NaN</td>\n",
       "    </tr>\n",
       "    <tr>\n",
       "      <th>3</th>\n",
       "      <td>https://tabs.ultimate-guitar.com/tab/dolly-par...</td>\n",
       "      <td>[Dm, F, C, Dm, C, Dm, F, C, Dm, C, Dm, Dm, F, ...</td>\n",
       "      <td>[Dm, F, C]</td>\n",
       "      <td>Jolene</td>\n",
       "      <td>Dolly Parton</td>\n",
       "      <td>[Folk, Country]</td>\n",
       "      <td>[1970]</td>\n",
       "      <td>NaN</td>\n",
       "      <td>NaN</td>\n",
       "      <td>NaN</td>\n",
       "      <td>NaN</td>\n",
       "      <td>NaN</td>\n",
       "    </tr>\n",
       "    <tr>\n",
       "      <th>4</th>\n",
       "      <td>https://tabs.ultimate-guitar.com/tab/dolly-par...</td>\n",
       "      <td>[Am, Am, C, G, Am, G, Am, Am, C, G, Am, G, Em,...</td>\n",
       "      <td>[Am, C, G, Em]</td>\n",
       "      <td>Jolene</td>\n",
       "      <td>Dolly Parton</td>\n",
       "      <td>[Folk, Country]</td>\n",
       "      <td>[1970, 1940]</td>\n",
       "      <td>novice</td>\n",
       "      <td>E A D G B E</td>\n",
       "      <td>4th fret</td>\n",
       "      <td>C#m</td>\n",
       "      <td>NaN</td>\n",
       "    </tr>\n",
       "  </tbody>\n",
       "</table>\n",
       "</div>"
      ],
      "text/plain": [
       "                                                 url  \\\n",
       "0  https://tabs.ultimate-guitar.com/tab/dolly-par...   \n",
       "1  https://tabs.ultimate-guitar.com/tab/dolly-par...   \n",
       "2  https://tabs.ultimate-guitar.com/tab/dolly-par...   \n",
       "3  https://tabs.ultimate-guitar.com/tab/dolly-par...   \n",
       "4  https://tabs.ultimate-guitar.com/tab/dolly-par...   \n",
       "\n",
       "                                          chordOrder    uniqueChords  \\\n",
       "0  [G, C, G, C, D, G, C, G, C, D, G, C, G, C, D, ...       [G, C, D]   \n",
       "1  [Am, C, G, Am, G, Am, Am, C, G, Am, G, Am, Am,...      [Am, C, G]   \n",
       "2  [Em, G, D, Em, D, Em, Em, G, D, Em, Em, G, D, ...      [Em, G, D]   \n",
       "3  [Dm, F, C, Dm, C, Dm, F, C, Dm, C, Dm, Dm, F, ...      [Dm, F, C]   \n",
       "4  [Am, Am, C, G, Am, G, Am, Am, C, G, Am, G, Em,...  [Am, C, G, Em]   \n",
       "\n",
       "                              song        artist            genre  \\\n",
       "0  Its All Wrong But Its All Right  Dolly Parton        [Country]   \n",
       "1                           Jolene  Dolly Parton  [Folk, Country]   \n",
       "2                           Jolene  Dolly Parton        [Country]   \n",
       "3                           Jolene  Dolly Parton  [Folk, Country]   \n",
       "4                           Jolene  Dolly Parton  [Folk, Country]   \n",
       "\n",
       "         decade    difficulty       tuning      capo  key other  \n",
       "0        [1970]           NaN          NaN       NaN  NaN   NaN  \n",
       "1  [1970, 1940]  intermediate  E A D G B E  4th fret  NaN   NaN  \n",
       "2        [1970]        novice  E A D G B E  4th fret  NaN   NaN  \n",
       "3        [1970]           NaN          NaN       NaN  NaN   NaN  \n",
       "4  [1970, 1940]        novice  E A D G B E  4th fret  C#m   NaN  "
      ]
     },
     "execution_count": 4,
     "metadata": {},
     "output_type": "execute_result"
    }
   ],
   "source": [
    "def cleanSongArtist(raw):\n",
    "#     takes in songArtist field and splits into Song and Artist columns seperately\n",
    "    song=np.NaN\n",
    "    artist=np.NaN\n",
    "    saList=raw.split(\" chords by \")\n",
    "    if len(saList)==2:       \n",
    "        song=saList[0]\n",
    "        artist=saList[1]\n",
    "    return pd.Series([song,artist])\n",
    "\n",
    "\n",
    "def stringToList(row):\n",
    "#     all lists were read into CSVS as strings. Use literal eval to convert back to list format\n",
    "    chordList=literal_eval(row['chordList'])\n",
    "    chordOrder=literal_eval(row['chordOrder'])\n",
    "    songInfo=literal_eval(row['topInfo'])\n",
    "    genre=literal_eval(row['new_x'])\n",
    "    decade=literal_eval(row['new_y'])\n",
    "    return pd.Series([chordList, chordOrder, genre, decade, songInfo])\n",
    "\n",
    "\n",
    "def cleanSongInfo(songInfo):\n",
    "#     break songInfo field into its parts\n",
    "    diff = np.NaN\n",
    "    tuning = np.NaN\n",
    "    capo = np.NaN\n",
    "    key = np.NaN\n",
    "    other = np.NaN\n",
    "# loop through since some values may be missing (i.e no capo listed). weird values stored in the \"other\" column\n",
    "    if type(songInfo)==int:\n",
    "        print(songInfo)\n",
    "    for i in songInfo:\n",
    "        infoList=i.split(': ')\n",
    "        if len(infoList)==2:\n",
    "            infoType=infoList[0]\n",
    "            value=infoList[1]\n",
    "            if infoType=='Difficulty':\n",
    "                diff=value\n",
    "            elif infoType=='Tuning':\n",
    "                tuning=value\n",
    "            elif infoType=='Capo':\n",
    "                capo=value\n",
    "            elif infoType=='Key':\n",
    "                key=value\n",
    "            else:\n",
    "                other=i\n",
    "        else:\n",
    "            other=i            \n",
    "    return pd.Series([diff, tuning, capo, key, other])\n",
    "\n",
    "# remove duplicate genre and decades from data\n",
    "def removeDuplicates(row):\n",
    "    decade=list(set(row['decade']))\n",
    "    genre=list(set(row['genre']))\n",
    "    return pd.Series([decade, genre])\n",
    "\n",
    "# def cleanUrl(rawUrl):\n",
    "#     urlList=rawUrl.split('/')\n",
    "#     urlShort=urlList[4:6]\n",
    "#     artistName=urlShort[0].replace('-',' ')\n",
    "#     songName=urlShort[1].split('-chords')[0].replace('-',' ')\n",
    "#     return pd.Series([artistName, songName])\n",
    "\n",
    "\n",
    "\n",
    "# df[['artistName', 'songName']]=df.url.apply(cleanUrl)\n",
    "df[['song','artist']]=df.songArtist.apply(cleanSongArtist)\n",
    "df[['chordList', 'chordOrder', 'genre', 'decade', 'songInfo']]=df.apply(stringToList, axis=1)\n",
    "df[['difficulty', 'tuning', 'capo', 'key','other']]=df.songInfo.apply(cleanSongInfo)\n",
    "df[['decade','genre']]=df.apply(removeDuplicates, axis=1)\n",
    "df.drop(['new_x', 'new_y', 'songInfo', 'topInfo', 'songArtist'], axis=1, inplace=True)\n",
    "df.rename(columns={'chordList':'uniqueChords'},inplace=True)\n",
    "\n",
    "\n",
    "df.head()   \n"
   ]
  },
  {
   "cell_type": "markdown",
   "metadata": {},
   "source": [
    "# EDA\n",
    "\n",
    "Let's now do a basic exploratory analysis of our data, we could have to clean up some more as we expose more issues. The main focus of this analysis is on the chords, however I want to get a baseline understanding of this data set first, so I'll step through each field one by one until we reach the chords...we'll go more in depth once we arrive at the chords."
   ]
  },
  {
   "cell_type": "markdown",
   "metadata": {},
   "source": [
    "### Decades\n",
    "\n",
    "We'll start with the decades field. Lets see the breakdown of how much of our data is from each decade. From the start, it seems a bit weird that we have tabs with multiple decades...that could be something to look into here as well."
   ]
  },
  {
   "cell_type": "code",
   "execution_count": 5,
   "metadata": {},
   "outputs": [
    {
     "data": {
      "text/plain": [
       "<matplotlib.axes._subplots.AxesSubplot at 0x11b246fd0>"
      ]
     },
     "execution_count": 5,
     "metadata": {},
     "output_type": "execute_result"
    },
    {
     "data": {
      "image/png": "[encoded data removed]",
      "text/plain": [
       "<Figure size 432x288 with 1 Axes>"
      ]
     },
     "metadata": {
      "needs_background": "light"
     },
     "output_type": "display_data"
    }
   ],
   "source": [
    "pd.Series(df.decade.sum()).value_counts().plot(kind=\"bar\")"
   ]
  },
  {
   "cell_type": "markdown",
   "metadata": {},
   "source": [
    "Wow, lots of 1940's....seems a bit off. After a quick check on the ultimate guitar website I realized that there are no 1940's chords at all. Turns out there was a bug in my web scraper that was adding in that date as a filter. I should have only been going back to 1950. \n",
    "\n",
    "This might explain why there are multiple decades for some songs. A song can only be from one decade. Lets see if all of these multi-decade songs have a 1940 in them."
   ]
  },
  {
   "cell_type": "code",
   "execution_count": 6,
   "metadata": {},
   "outputs": [
    {
     "name": "stdout",
     "output_type": "stream",
     "text": [
      "Entries with multiple decade values:  36528\n",
      "Multiple decade values that contain 1940:  36528\n",
      "Maximum length of duplicate values:  2\n"
     ]
    }
   ],
   "source": [
    "a=df[df['decade'].map(len)>1]\n",
    "print('Entries with multiple decade values: ', a.size)\n",
    "mask = a.decade.apply(lambda x: 1940 in x)\n",
    "print('Multiple decade values that contain 1940: ', a[mask].size)\n",
    "newCol=a['decade'].map(len)\n",
    "print('Maximum length of duplicate values: ', max(newCol))"
   ]
  },
  {
   "cell_type": "markdown",
   "metadata": {},
   "source": [
    "Awesome news...all of these entries that have multiple decade values have 2 decades in their list, and one of those decades is a 1940. Also, when I check out those filters on ultimate guitar, it seems all of the rest of the info is correct...so all I need to do is remove the \"1940\" decade tag from them and the rest of the data is still good values. We shouldn't have any more duplicate decades after that."
   ]
  },
  {
   "cell_type": "code",
   "execution_count": 7,
   "metadata": {},
   "outputs": [
    {
     "data": {
      "text/plain": [
       "<matplotlib.axes._subplots.AxesSubplot at 0x11b5beeb8>"
      ]
     },
     "execution_count": 7,
     "metadata": {},
     "output_type": "execute_result"
    },
    {
     "data": {
      "image/png": "[encoded data removed]",
      "text/plain": [
       "<Figure size 432x288 with 1 Axes>"
      ]
     },
     "metadata": {
      "needs_background": "light"
     },
     "output_type": "display_data"
    }
   ],
   "source": [
    "# remove 1940s from data. found during initial data analysis that these values were brought in incorrectly...no 1940 data online. when scraping for 1940 it just removes that filter but keeps the other (genre)\n",
    "def removeFourtys(decades):\n",
    "    newList=[]\n",
    "    for dec in decades:\n",
    "        if dec!=1940:\n",
    "            newList.append(dec)\n",
    "    if len(newList)>0:\n",
    "        return str(max(newList))\n",
    "    else:\n",
    "        return np.NaN\n",
    "\n",
    "df['decade']=df.decade.apply(removeFourtys)\n",
    "df.fillna('Missing').decade.value_counts().plot(kind='bar')\n"
   ]
  },
  {
   "cell_type": "markdown",
   "metadata": {},
   "source": [
    "Much better...After removing 1940 as a possible decade, we see that most of our tabs are from recent decades. The amount of tabs decreases as we go further back in time. There are a couple of tabs now missing decades since all they had were \"1940\". We can either clean those up by hand or just remove them...\n",
    "\n",
    "(PS I've also gone ahead and fixed that bug in my scraper in case any one else wants to use it!) "
   ]
  },
  {
   "cell_type": "markdown",
   "metadata": {},
   "source": [
    "### Genres"
   ]
  },
  {
   "cell_type": "code",
   "execution_count": 8,
   "metadata": {},
   "outputs": [
    {
     "data": {
      "text/plain": [
       "<matplotlib.axes._subplots.AxesSubplot at 0x1191f7748>"
      ]
     },
     "execution_count": 8,
     "metadata": {},
     "output_type": "execute_result"
    },
    {
     "data": {
      "image/png": "[encoded data removed]",
      "text/plain": [
       "<Figure size 432x288 with 1 Axes>"
      ]
     },
     "metadata": {
      "needs_background": "light"
     },
     "output_type": "display_data"
    }
   ],
   "source": [
    "pd.Series(df.genre.sum()).value_counts().plot(kind=\"bar\")"
   ]
  },
  {
   "cell_type": "markdown",
   "metadata": {},
   "source": [
    "Similar to decades, a song potentially has multiple genres. However, unlike decades, having multiple genres is definitely possible. "
   ]
  },
  {
   "cell_type": "code",
   "execution_count": 9,
   "metadata": {},
   "outputs": [
    {
     "name": "stdout",
     "output_type": "stream",
     "text": [
      "Entries with multiple genre values:  18636\n"
     ]
    },
    {
     "data": {
      "text/plain": [
       "Text(0, 0.5, 'Count')"
      ]
     },
     "execution_count": 9,
     "metadata": {},
     "output_type": "execute_result"
    },
    {
     "data": {
      "image/png": "[encoded data removed]",
      "text/plain": [
       "<Figure size 432x288 with 1 Axes>"
      ]
     },
     "metadata": {
      "needs_background": "light"
     },
     "output_type": "display_data"
    }
   ],
   "source": [
    "a=df[df['genre'].map(len)>1]\n",
    "print('Entries with multiple genre values: ', a.size)\n",
    "# newCol=a['genre'].map(len)\n",
    "# print('Maximum length of duplicate values: ', max(newCol))\n",
    "ax =df['genre'].map(len).value_counts().plot(kind='bar', title='Number of Genres a Song Has')\n",
    "ax.set_xlabel(\"Genres\")\n",
    "ax.set_ylabel(\"Count\")"
   ]
  },
  {
   "cell_type": "markdown",
   "metadata": {},
   "source": [
    "So most songs only have one genre, but we still have quite a few with multiple (some even have 5). There's no reason to try and choose one genre for each song, as it could be interesting to to explore songs that cross genres, how they are related, etc. However, a list may not be the best format for comparing them. Lets try and see what the most popular crossover genres are. We will transform the field to be a sorted tuple for direct comparisons and hashing ability."
   ]
  },
  {
   "cell_type": "code",
   "execution_count": 10,
   "metadata": {},
   "outputs": [
    {
     "data": {
      "text/plain": [
       "<matplotlib.axes._subplots.AxesSubplot at 0x11aa04d30>"
      ]
     },
     "execution_count": 10,
     "metadata": {},
     "output_type": "execute_result"
    },
    {
     "data": {
      "image/png": "[encoded data removed]",
      "text/plain": [
       "<Figure size 432x288 with 1 Axes>"
      ]
     },
     "metadata": {
      "needs_background": "light"
     },
     "output_type": "display_data"
    }
   ],
   "source": [
    "df['genre']=df.genre.apply(sorted).apply(tuple)\n",
    "df[df['genre'].map(len)>1]['genre'].value_counts().sort_values(ascending=False).head(15).plot(kind='bar')"
   ]
  },
  {
   "cell_type": "markdown",
   "metadata": {},
   "source": [
    "These all seem legit! \n",
    "\n",
    "Another thing I'm interested to see is how our decades and genres are related. I would assume that most of our Pop songs are from 2000's on, and Jazz would be earlier on. Lets try to graph this breakdown. It will be a good excercise in playing with pandas group by's as well"
   ]
  },
  {
   "cell_type": "code",
   "execution_count": 11,
   "metadata": {},
   "outputs": [
    {
     "data": {
      "text/plain": [
       "<matplotlib.axes._subplots.AxesSubplot at 0x11a5ba7f0>"
      ]
     },
     "execution_count": 11,
     "metadata": {},
     "output_type": "execute_result"
    },
    {
     "data": {
      "image/png": "[encoded data removed]",
      "text/plain": [
       "<Figure size 432x288 with 1 Axes>"
      ]
     },
     "metadata": {
      "needs_background": "light"
     },
     "output_type": "display_data"
    }
   ],
   "source": [
    "groups=df.groupby('decade')['genre'].apply(lambda x: list(x)).apply(lambda x: [item for sublist in x for item in sublist]).apply(lambda x: pd.Series(x).value_counts())\n",
    "groups[['Pop','Folk','Rock','Rhythm And Blues','Country','Metal']].plot(kind='bar', stacked=True)"
   ]
  },
  {
   "cell_type": "markdown",
   "metadata": {},
   "source": [
    "Nevermind! There actually is a fairly even split among all decades. This is honestly unexpected. This means that when I filtered on UG by \"2010+Pop\", I recieved a similar amount of data for the filter \"1980+Pop\". This is great that we have a balanced data set though! That was one of the reasons of scraping in the way I did."
   ]
  },
  {
   "cell_type": "markdown",
   "metadata": {},
   "source": [
    "### Songs and Artists"
   ]
  },
  {
   "cell_type": "markdown",
   "metadata": {},
   "source": [
    "Lets take a look at our artists first. I wonder how many diferent artists we have in this dataset?"
   ]
  },
  {
   "cell_type": "code",
   "execution_count": 12,
   "metadata": {},
   "outputs": [
    {
     "name": "stdout",
     "output_type": "stream",
     "text": [
      "Unique artists in data set:  872\n"
     ]
    }
   ],
   "source": [
    "print(\"Unique artists in data set: \", df.artist.nunique())"
   ]
  },
  {
   "cell_type": "markdown",
   "metadata": {},
   "source": [
    "Interesting, so we only have 872 unique artist, but we have over 10000 tabs. That means we have multiple songs per artist. Lets see which artists have the most songs in our dataset"
   ]
  },
  {
   "cell_type": "code",
   "execution_count": 13,
   "metadata": {},
   "outputs": [
    {
     "data": {
      "text/plain": [
       "<matplotlib.axes._subplots.AxesSubplot at 0x11a594908>"
      ]
     },
     "execution_count": 13,
     "metadata": {},
     "output_type": "execute_result"
    },
    {
     "data": {
      "image/png": "[encoded data removed]",
      "text/plain": [
       "<Figure size 432x288 with 1 Axes>"
      ]
     },
     "metadata": {
      "needs_background": "light"
     },
     "output_type": "display_data"
    }
   ],
   "source": [
    "df.artist.value_counts().head(10).plot(kind='bar', title='Tabs per artist')"
   ]
  },
  {
   "cell_type": "code",
   "execution_count": 14,
   "metadata": {},
   "outputs": [],
   "source": [
    "# df.artist.value_counts().plot(kind='hist', bins=25,title='Tabs per artist', edgecolor='k')\n",
    "# ax = sns.distplot(df.artist.value_counts(),bins=25 ,hist=True, color='b',hist_kws=dict(edgecolor=\"k\", linewidth=2))\n",
    "# plt.title('Distribution of Tab Count Per Artist') \n",
    "# plt.ylabel('Frequency')\n",
    "# plt.xlabel('Tab Count')"
   ]
  },
  {
   "cell_type": "markdown",
   "metadata": {},
   "source": [
    "Lets look at the top artist from this group, Bob Dylan, to get an idea of what a breakdown of all his songs are"
   ]
  },
  {
   "cell_type": "code",
   "execution_count": 15,
   "metadata": {},
   "outputs": [
    {
     "name": "stdout",
     "output_type": "stream",
     "text": [
      "number of bob dylan songs with tabs:  152\n",
      "number of bob dylan songs with multiple versions:  80\n"
     ]
    },
    {
     "data": {
      "text/plain": [
       "<matplotlib.axes._subplots.AxesSubplot at 0x11c184f98>"
      ]
     },
     "execution_count": 15,
     "metadata": {},
     "output_type": "execute_result"
    },
    {
     "data": {
      "image/png": "[encoded data removed]",
      "text/plain": [
       "<Figure size 432x288 with 1 Axes>"
      ]
     },
     "metadata": {
      "needs_background": "light"
     },
     "output_type": "display_data"
    }
   ],
   "source": [
    "dylan=df[df['artist']==\"Bob Dylan\"]\n",
    "dylanSongs=dylan.groupby('song').size().sort_values(ascending=False)\n",
    "print(\"number of bob dylan songs with tabs: \", len(dylanSongs))\n",
    "print(\"number of bob dylan songs with multiple versions: \",len(dylanSongs[dylanSongs>1]) )\n",
    "dylanSongs.head(20).plot(kind='bar', title=\"Versions of Bob Dylan Songs\")"
   ]
  },
  {
   "cell_type": "markdown",
   "metadata": {},
   "source": [
    "lets look specifically into Blowing in the Wind to see what the differences are"
   ]
  },
  {
   "cell_type": "code",
   "execution_count": 16,
   "metadata": {},
   "outputs": [
    {
     "data": {
      "text/html": [
       "<div>\n",
       "<style scoped>\n",
       "    .dataframe tbody tr th:only-of-type {\n",
       "        vertical-align: middle;\n",
       "    }\n",
       "\n",
       "    .dataframe tbody tr th {\n",
       "        vertical-align: top;\n",
       "    }\n",
       "\n",
       "    .dataframe thead th {\n",
       "        text-align: right;\n",
       "    }\n",
       "</style>\n",
       "<table border=\"1\" class=\"dataframe\">\n",
       "  <thead>\n",
       "    <tr style=\"text-align: right;\">\n",
       "      <th></th>\n",
       "      <th>url</th>\n",
       "      <th>chordOrder</th>\n",
       "      <th>uniqueChords</th>\n",
       "      <th>song</th>\n",
       "      <th>artist</th>\n",
       "      <th>genre</th>\n",
       "      <th>decade</th>\n",
       "      <th>difficulty</th>\n",
       "      <th>tuning</th>\n",
       "      <th>capo</th>\n",
       "      <th>key</th>\n",
       "      <th>other</th>\n",
       "    </tr>\n",
       "  </thead>\n",
       "  <tbody>\n",
       "    <tr>\n",
       "      <th>4996</th>\n",
       "      <td>https://tabs.ultimate-guitar.com/tab/bob-dylan...</td>\n",
       "      <td>[D, D, G, D, G, D, D, G, D, G, A, D, G, D, G, ...</td>\n",
       "      <td>[D, G, A, Bm]</td>\n",
       "      <td>Blowin In The Wind</td>\n",
       "      <td>Bob Dylan</td>\n",
       "      <td>(Folk, Rock)</td>\n",
       "      <td>1960</td>\n",
       "      <td>novice</td>\n",
       "      <td>NaN</td>\n",
       "      <td>NaN</td>\n",
       "      <td>D</td>\n",
       "      <td>NaN</td>\n",
       "    </tr>\n",
       "    <tr>\n",
       "      <th>4997</th>\n",
       "      <td>https://tabs.ultimate-guitar.com/tab/bob-dylan...</td>\n",
       "      <td>[C, F, C, Am, C, F, G, G7, C, F, C, Am, C, F, ...</td>\n",
       "      <td>[C, F, Am, G, G7, E7]</td>\n",
       "      <td>Blowin In The Wind</td>\n",
       "      <td>Bob Dylan</td>\n",
       "      <td>(Folk, Rock)</td>\n",
       "      <td>1960</td>\n",
       "      <td>NaN</td>\n",
       "      <td>E A D G B E</td>\n",
       "      <td>NaN</td>\n",
       "      <td>NaN</td>\n",
       "      <td>NaN</td>\n",
       "    </tr>\n",
       "    <tr>\n",
       "      <th>4998</th>\n",
       "      <td>https://tabs.ultimate-guitar.com/tab/bob-dylan...</td>\n",
       "      <td>[G, C, D, G, C, G, G, C, D, G, C, D, G, C, D, ...</td>\n",
       "      <td>[G, C, D]</td>\n",
       "      <td>Blowin In The Wind</td>\n",
       "      <td>Bob Dylan</td>\n",
       "      <td>(Folk, Rock)</td>\n",
       "      <td>1960</td>\n",
       "      <td>novice</td>\n",
       "      <td>E A D G B E</td>\n",
       "      <td>7th fret</td>\n",
       "      <td>D</td>\n",
       "      <td>NaN</td>\n",
       "    </tr>\n",
       "    <tr>\n",
       "      <th>4999</th>\n",
       "      <td>https://tabs.ultimate-guitar.com/tab/bob-dylan...</td>\n",
       "      <td>[C, D, G, C, D, G, G, C, D, G, C, D, G, C, D, ...</td>\n",
       "      <td>[C, D, G]</td>\n",
       "      <td>Blowin In The Wind</td>\n",
       "      <td>Bob Dylan</td>\n",
       "      <td>(Folk, Rock)</td>\n",
       "      <td>1960</td>\n",
       "      <td>NaN</td>\n",
       "      <td>NaN</td>\n",
       "      <td>NaN</td>\n",
       "      <td>NaN</td>\n",
       "      <td>NaN</td>\n",
       "    </tr>\n",
       "    <tr>\n",
       "      <th>5000</th>\n",
       "      <td>https://tabs.ultimate-guitar.com/tab/bob-dylan...</td>\n",
       "      <td>[G, C, G, C, G, G, C, G, C, D, G, C, G, C, G, ...</td>\n",
       "      <td>[G, C, D, Em]</td>\n",
       "      <td>Blowin In The Wind</td>\n",
       "      <td>Bob Dylan</td>\n",
       "      <td>(Folk, Rock)</td>\n",
       "      <td>1960</td>\n",
       "      <td>novice</td>\n",
       "      <td>E A D G B E</td>\n",
       "      <td>6th fret</td>\n",
       "      <td>NaN</td>\n",
       "      <td>NaN</td>\n",
       "    </tr>\n",
       "    <tr>\n",
       "      <th>5001</th>\n",
       "      <td>https://tabs.ultimate-guitar.com/tab/bob-dylan...</td>\n",
       "      <td>[G, G, C, G/B, D/A, G, G, C, G/B, G, G, C, G/B...</td>\n",
       "      <td>[G, C, G/B, D/A, C/B, D/F#, C/G, D]</td>\n",
       "      <td>Blowin In The Wind</td>\n",
       "      <td>Bob Dylan</td>\n",
       "      <td>(Folk,)</td>\n",
       "      <td>1960</td>\n",
       "      <td>intermediate</td>\n",
       "      <td>E A D G B E</td>\n",
       "      <td>7th fret</td>\n",
       "      <td>D</td>\n",
       "      <td>Chords for the classic acoustic version from \"...</td>\n",
       "    </tr>\n",
       "    <tr>\n",
       "      <th>5002</th>\n",
       "      <td>https://tabs.ultimate-guitar.com/tab/bob-dylan...</td>\n",
       "      <td>[D, D, G, A, D, G, D, G, A, D, G, A, D, G, A, ...</td>\n",
       "      <td>[D, G, A, Bm]</td>\n",
       "      <td>Blowin In The Wind</td>\n",
       "      <td>Bob Dylan</td>\n",
       "      <td>(Folk,)</td>\n",
       "      <td>1960</td>\n",
       "      <td>NaN</td>\n",
       "      <td>E A D G B E</td>\n",
       "      <td>NaN</td>\n",
       "      <td>NaN</td>\n",
       "      <td>NaN</td>\n",
       "    </tr>\n",
       "    <tr>\n",
       "      <th>5003</th>\n",
       "      <td>https://tabs.ultimate-guitar.com/tab/bob-dylan...</td>\n",
       "      <td>[G, C, G, C, G, G, C, G, C, D, G, C, G, C, G, ...</td>\n",
       "      <td>[G, C, D]</td>\n",
       "      <td>Blowin In The Wind</td>\n",
       "      <td>Bob Dylan</td>\n",
       "      <td>(Folk,)</td>\n",
       "      <td>1960</td>\n",
       "      <td>NaN</td>\n",
       "      <td>E A D G B E</td>\n",
       "      <td>NaN</td>\n",
       "      <td>NaN</td>\n",
       "      <td>NaN</td>\n",
       "    </tr>\n",
       "    <tr>\n",
       "      <th>5004</th>\n",
       "      <td>https://tabs.ultimate-guitar.com/tab/bob-dylan...</td>\n",
       "      <td>[C, F, C, C, C, F, C, C, C, F, C, C, C, F, C, ...</td>\n",
       "      <td>[C, F, G, Am]</td>\n",
       "      <td>Blowin In The Wind</td>\n",
       "      <td>Bob Dylan</td>\n",
       "      <td>(Folk,)</td>\n",
       "      <td>1960</td>\n",
       "      <td>novice</td>\n",
       "      <td>E A D G B E</td>\n",
       "      <td>2nd fret</td>\n",
       "      <td>NaN</td>\n",
       "      <td>NaN</td>\n",
       "    </tr>\n",
       "  </tbody>\n",
       "</table>\n",
       "</div>"
      ],
      "text/plain": [
       "                                                    url  \\\n",
       "4996  https://tabs.ultimate-guitar.com/tab/bob-dylan...   \n",
       "4997  https://tabs.ultimate-guitar.com/tab/bob-dylan...   \n",
       "4998  https://tabs.ultimate-guitar.com/tab/bob-dylan...   \n",
       "4999  https://tabs.ultimate-guitar.com/tab/bob-dylan...   \n",
       "5000  https://tabs.ultimate-guitar.com/tab/bob-dylan...   \n",
       "5001  https://tabs.ultimate-guitar.com/tab/bob-dylan...   \n",
       "5002  https://tabs.ultimate-guitar.com/tab/bob-dylan...   \n",
       "5003  https://tabs.ultimate-guitar.com/tab/bob-dylan...   \n",
       "5004  https://tabs.ultimate-guitar.com/tab/bob-dylan...   \n",
       "\n",
       "                                             chordOrder  \\\n",
       "4996  [D, D, G, D, G, D, D, G, D, G, A, D, G, D, G, ...   \n",
       "4997  [C, F, C, Am, C, F, G, G7, C, F, C, Am, C, F, ...   \n",
       "4998  [G, C, D, G, C, G, G, C, D, G, C, D, G, C, D, ...   \n",
       "4999  [C, D, G, C, D, G, G, C, D, G, C, D, G, C, D, ...   \n",
       "5000  [G, C, G, C, G, G, C, G, C, D, G, C, G, C, G, ...   \n",
       "5001  [G, G, C, G/B, D/A, G, G, C, G/B, G, G, C, G/B...   \n",
       "5002  [D, D, G, A, D, G, D, G, A, D, G, A, D, G, A, ...   \n",
       "5003  [G, C, G, C, G, G, C, G, C, D, G, C, G, C, G, ...   \n",
       "5004  [C, F, C, C, C, F, C, C, C, F, C, C, C, F, C, ...   \n",
       "\n",
       "                             uniqueChords                song     artist  \\\n",
       "4996                        [D, G, A, Bm]  Blowin In The Wind  Bob Dylan   \n",
       "4997                [C, F, Am, G, G7, E7]  Blowin In The Wind  Bob Dylan   \n",
       "4998                            [G, C, D]  Blowin In The Wind  Bob Dylan   \n",
       "4999                            [C, D, G]  Blowin In The Wind  Bob Dylan   \n",
       "5000                        [G, C, D, Em]  Blowin In The Wind  Bob Dylan   \n",
       "5001  [G, C, G/B, D/A, C/B, D/F#, C/G, D]  Blowin In The Wind  Bob Dylan   \n",
       "5002                        [D, G, A, Bm]  Blowin In The Wind  Bob Dylan   \n",
       "5003                            [G, C, D]  Blowin In The Wind  Bob Dylan   \n",
       "5004                        [C, F, G, Am]  Blowin In The Wind  Bob Dylan   \n",
       "\n",
       "             genre decade    difficulty       tuning      capo  key  \\\n",
       "4996  (Folk, Rock)   1960        novice          NaN       NaN    D   \n",
       "4997  (Folk, Rock)   1960           NaN  E A D G B E       NaN  NaN   \n",
       "4998  (Folk, Rock)   1960        novice  E A D G B E  7th fret    D   \n",
       "4999  (Folk, Rock)   1960           NaN          NaN       NaN  NaN   \n",
       "5000  (Folk, Rock)   1960        novice  E A D G B E  6th fret  NaN   \n",
       "5001       (Folk,)   1960  intermediate  E A D G B E  7th fret    D   \n",
       "5002       (Folk,)   1960           NaN  E A D G B E       NaN  NaN   \n",
       "5003       (Folk,)   1960           NaN  E A D G B E       NaN  NaN   \n",
       "5004       (Folk,)   1960        novice  E A D G B E  2nd fret  NaN   \n",
       "\n",
       "                                                  other  \n",
       "4996                                                NaN  \n",
       "4997                                                NaN  \n",
       "4998                                                NaN  \n",
       "4999                                                NaN  \n",
       "5000                                                NaN  \n",
       "5001  Chords for the classic acoustic version from \"...  \n",
       "5002                                                NaN  \n",
       "5003                                                NaN  \n",
       "5004                                                NaN  "
      ]
     },
     "execution_count": 16,
     "metadata": {},
     "output_type": "execute_result"
    }
   ],
   "source": [
    "dylan[dylan['song']=='Blowin In The Wind']"
   ]
  },
  {
   "cell_type": "markdown",
   "metadata": {},
   "source": [
    "Interesting, so looks like there are 9 pretty different versions of the same song. There are a few basic versions where the songs only use C D and G. Theres another version with D G A and Bm. Theres also an intermediate version with some more unique chords...\n",
    "\n",
    "Lets look at these multi-versioned songs on a higher level."
   ]
  },
  {
   "cell_type": "code",
   "execution_count": 17,
   "metadata": {},
   "outputs": [
    {
     "name": "stdout",
     "output_type": "stream",
     "text": [
      "Number of unique songs in db:  6365\n",
      "Number of songs that have multiple versions:  5564\n"
     ]
    }
   ],
   "source": [
    "songArtist=df.groupby(['song','artist']).size().sort_values(ascending=False)\n",
    "print(\"Number of unique songs in db: \", len(songArtist))\n",
    "print(\"Number of songs that have multiple versions: \", songArtist[songArtist>1].sum())"
   ]
  },
  {
   "cell_type": "markdown",
   "metadata": {},
   "source": [
    "Interesting, so a majority of our songs all have multiple versions in this data set. It could be interesting to look at differences across versions at some point!\n",
    "\n",
    "As a first step though, lets look at which songs have the most versions in this data set."
   ]
  },
  {
   "cell_type": "code",
   "execution_count": 18,
   "metadata": {},
   "outputs": [
    {
     "data": {
      "text/plain": [
       "<matplotlib.axes._subplots.AxesSubplot at 0x11aad09b0>"
      ]
     },
     "execution_count": 18,
     "metadata": {},
     "output_type": "execute_result"
    },
    {
     "data": {
      "image/png": "[encoded data removed]",
      "text/plain": [
       "<Figure size 432x288 with 1 Axes>"
      ]
     },
     "metadata": {
      "needs_background": "light"
     },
     "output_type": "display_data"
    }
   ],
   "source": [
    "(df['song']+'-'+df['artist']).value_counts().head(15).plot(kind='bar')\n",
    "# df.song.value_counts().head(10).plot(kind='bar')"
   ]
  },
  {
   "cell_type": "markdown",
   "metadata": {},
   "source": [
    "Wow Adele really dominates this list, tons of songs with multiple versions."
   ]
  },
  {
   "cell_type": "markdown",
   "metadata": {},
   "source": [
    "### Song Difficulties, Tuning, Capo, and Key (Not Finished)\n",
    "\n",
    "On to the next. These values were all gathered in one field listed at the top of the tab."
   ]
  },
  {
   "cell_type": "code",
   "execution_count": null,
   "metadata": {},
   "outputs": [
    {
     "data": {
      "text/plain": [
       "<matplotlib.axes._subplots.AxesSubplot at 0x11bbb92b0>"
      ]
     },
     "execution_count": 19,
     "metadata": {},
     "output_type": "execute_result"
    },
    {
     "data": {
      "image/png": "[encoded data removed]",
      "text/plain": [
       "<Figure size 432x288 with 1 Axes>"
      ]
     },
     "metadata": {},
     "output_type": "display_data"
    }
   ],
   "source": [
    "df.difficulty.value_counts().plot(kind='pie')"
   ]
  },
  {
   "cell_type": "code",
   "execution_count": null,
   "metadata": {},
   "outputs": [
    {
     "data": {
      "text/plain": [
       "<matplotlib.axes._subplots.AxesSubplot at 0x11a6a0780>"
      ]
     },
     "execution_count": 20,
     "metadata": {},
     "output_type": "execute_result"
    },
    {
     "data": {
      "image/png": "[encoded data removed]",
      "text/plain": [
       "<Figure size 432x288 with 1 Axes>"
      ]
     },
     "metadata": {
      "needs_background": "light"
     },
     "output_type": "display_data"
    }
   ],
   "source": [
    "df.tuning.value_counts().plot(kind='bar')"
   ]
  },
  {
   "cell_type": "markdown",
   "metadata": {},
   "source": [
    "Can we assume that all missing tunings are standard tuning?"
   ]
  },
  {
   "cell_type": "code",
   "execution_count": null,
   "metadata": {},
   "outputs": [
    {
     "data": {
      "text/plain": [
       "<matplotlib.axes._subplots.AxesSubplot at 0x11a82a6a0>"
      ]
     },
     "execution_count": 21,
     "metadata": {},
     "output_type": "execute_result"
    },
    {
     "data": {
      "image/png": "[encoded data removed]",
      "text/plain": [
       "<Figure size 432x288 with 1 Axes>"
      ]
     },
     "metadata": {
      "needs_background": "light"
     },
     "output_type": "display_data"
    }
   ],
   "source": [
    "df.key.value_counts().plot(kind='bar')"
   ]
  },
  {
   "cell_type": "code",
   "execution_count": null,
   "metadata": {},
   "outputs": [],
   "source": [
    "# use other column to add tunings where missing\n",
    "\n",
    "df['other']= df.other.apply(lambda x: x.lower() if isinstance(x, str) else x)\n",
    "df.loc[df['other'].str.contains(\"standard tuning\") & df['tuning'].isnull(),\n",
    "      'tuning']='E A D G B E'"
   ]
  },
  {
   "cell_type": "markdown",
   "metadata": {},
   "source": [
    "## Chords"
   ]
  },
  {
   "cell_type": "markdown",
   "metadata": {},
   "source": [
    "I honestly don't even know where to start with these. I think the best way forward will be to just ask some questions, and try to find answers. That might inform next questions and steps for modeling as well. I'm going to list out some question ideas below.\n",
    "\n",
    "#### Questions to answer\n",
    "\n",
    "* What are the most used chords?\n",
    "\n",
    "* How many chords do most songs have?\n",
    "\n",
    "* What are the total number of unique chords in all the songs\n",
    "\n",
    "* What is the most likely chord to happen after another chord?(i.e what transition should you learn)\n",
    "\n",
    "* How do chords and transitions differ by genre? (how do chords define genres)\n",
    "\n",
    "* What chords do you need to know for each difficulty level?\n",
    "\n",
    "* top chords per genre, decade, artist?\n",
    "* predict the genre or decade based on chords, cardinality, etc?\n",
    "\n",
    "\n",
    "#### Potential cleaning of chords remaining\n",
    "\n",
    "* Changing chord names based on capo??\n",
    "https://www.youtube.com/watch?v=Ky8uOOfI2tY\n",
    "\n",
    "* Adding key based on chords in song\n",
    "\n",
    "* Getting numeric notation chord sequence\n",
    "\n"
   ]
  },
  {
   "cell_type": "markdown",
   "metadata": {},
   "source": [
    "#### What are the most used chords across all songs?"
   ]
  },
  {
   "cell_type": "code",
   "execution_count": null,
   "metadata": {},
   "outputs": [],
   "source": [
    "chordList=df.uniqueChords.sum()\n",
    "((pd.Series(chordList).value_counts().sort_values(ascending=False)/len(df))* 100).head(15).plot(kind='bar', title='Percent of Songs That Have Chord X')"
   ]
  },
  {
   "cell_type": "markdown",
   "metadata": {},
   "source": [
    "Wow G C and D are all in over 50% of the songs in the DB!"
   ]
  },
  {
   "cell_type": "markdown",
   "metadata": {},
   "source": [
    "#### How many unique chords are in this database?"
   ]
  },
  {
   "cell_type": "code",
   "execution_count": null,
   "metadata": {},
   "outputs": [],
   "source": [
    "uniqueChords=len(list(set(chordList)))\n",
    "print(\"There are {} unique chords used across all songs\".format(uniqueChords))"
   ]
  },
  {
   "cell_type": "markdown",
   "metadata": {},
   "source": [
    "Is this right?? Are there that many unique chords? Maybe we can check by seeing if chords are used across multiple songs? I would assume if they are only used once in the entire DB of 10k songs, it's likely they are just written in a unique way"
   ]
  },
  {
   "cell_type": "code",
   "execution_count": null,
   "metadata": {},
   "outputs": [],
   "source": [
    "chordCounts=pd.Series(chordList).value_counts().sort_values(ascending=False)\n",
    "ranges = [0,1,10,2000,100000]\n",
    "chordCounts.groupby(pd.cut(chordCounts, ranges)).count().plot(kind='bar')\n",
    "\n",
    "# chordCounts.plot(kind='hist', bins=20)\n",
    "\n",
    "sns.distplot(chordCounts)\n",
    "\n",
    "\n",
    "# df.artist.value_counts().plot(kind='hist', bins=25,title='Tabs per artist', edgecolor='k')\n",
    "# ax = sns.distplot(df.artist.value_counts(),bins=25 ,hist=True, color='b',hist_kws=dict(edgecolor=\"k\", linewidth=2))\n",
    "# plt.title('Distribution of Tab Count Per Artist') \n",
    "# plt.ylabel('Frequency')\n",
    "# plt.xlabel('Tab Count')"
   ]
  },
  {
   "cell_type": "code",
   "execution_count": null,
   "metadata": {},
   "outputs": [],
   "source": [
    "sns.distplot(chordCounts)"
   ]
  },
  {
   "cell_type": "markdown",
   "metadata": {},
   "source": [
    "https://www.uberchord.com/blog/learn-how-to-read-guitar-chord-chart-symbols/"
   ]
  },
  {
   "cell_type": "markdown",
   "metadata": {},
   "source": [
    "We might need to consider cleaning these chords up, or at least using some subset of them. Lets keep this in mind as we eye a classification task with chords."
   ]
  },
  {
   "cell_type": "markdown",
   "metadata": {},
   "source": [
    "### How many chords do most songs have?\n"
   ]
  },
  {
   "cell_type": "code",
   "execution_count": null,
   "metadata": {},
   "outputs": [],
   "source": [
    "df['cardinality']=df.uniqueChords.apply(lambda x: len(x))\n",
    "df.cardinality.plot(kind='hist', bins=50)"
   ]
  },
  {
   "cell_type": "code",
   "execution_count": null,
   "metadata": {},
   "outputs": [],
   "source": [
    "print('Song Chord Info')\n",
    "print('Median Cardinality: ', df['cardinality'].median())\n",
    "print('Max Cardinality: ', df['cardinality'].max())\n",
    "print('Min Cardinality: ', df['cardinality'].min())"
   ]
  },
  {
   "cell_type": "markdown",
   "metadata": {},
   "source": [
    "These cadinality counts are interesting. Looks like we have some data with no chord data at all. We can remove those from our data set. It could also be worth exploring some of these songs with 50 chords! 101 is our max which is really a lot of chords to have for a song..."
   ]
  },
  {
   "cell_type": "code",
   "execution_count": null,
   "metadata": {},
   "outputs": [],
   "source": [
    "pd.set_option('display.max_colwidth', -1)\n",
    "#remove songs with no chords\n",
    "df=df[df['cardinality']!=0]\n",
    "# df[df['cardinality']>50]"
   ]
  },
  {
   "cell_type": "markdown",
   "metadata": {},
   "source": [
    "Do difficult songs have more chords?"
   ]
  },
  {
   "cell_type": "code",
   "execution_count": null,
   "metadata": {},
   "outputs": [],
   "source": [
    "# fig, ax = plt.subplots()\n",
    "\n",
    "# a_heights, a_bins = np.histogram(df[df['difficulty']=='novice'].cardinality)\n",
    "# b_heights, b_bins = np.histogram(df[df['difficulty']=='advanced'].cardinality, bins=a_bins)\n",
    "\n",
    "# width = (a_bins[1] - a_bins[0])/3\n",
    "\n",
    "# ax.bar(a_bins[:-1], a_heights, width=width, facecolor='cornflowerblue')\n",
    "# ax.bar(b_bins[:-1]+width, b_heights, width=width, facecolor='seagreen')"
   ]
  },
  {
   "cell_type": "markdown",
   "metadata": {},
   "source": [
    "### Do songs often use the same chords?"
   ]
  },
  {
   "cell_type": "code",
   "execution_count": null,
   "metadata": {},
   "outputs": [],
   "source": [
    "# dfNov=df[df['difficulty']=='novice']\n",
    "# dfInt=df[df['difficulty']=='intermediate']\n",
    "# dfAdv=df[df['difficulty']=='advanced']\n",
    "# novChords=pd.Series(dfNov.uniqueChords.sum())"
   ]
  },
  {
   "cell_type": "code",
   "execution_count": null,
   "metadata": {},
   "outputs": [],
   "source": [
    "# novChords.value_counts()\n",
    "df.uniqueChords.apply(sorted).apply(tuple).value_counts().head(10).plot(kind='bar')"
   ]
  },
  {
   "cell_type": "code",
   "execution_count": null,
   "metadata": {},
   "outputs": [],
   "source": [
    "df['uniqueChordsTup']=df.uniqueChords.apply(sorted).apply(tuple)"
   ]
  },
  {
   "cell_type": "code",
   "execution_count": null,
   "metadata": {},
   "outputs": [],
   "source": [
    "df[df['uniqueChords'].apply(sorted).apply(tuple)==('C','D','Em','G')].difficulty.value_counts()"
   ]
  },
  {
   "cell_type": "markdown",
   "metadata": {},
   "source": [
    "This makes a lot of sense.... It looks like common chord progressions are used in easier songs. I'm guessing harder songs have more unique chords progressions. We can take a look at this at a high level. Lets break down these common chord progressions by the difficulty level they fall in.\n",
    "\n",
    "Interesting video about the many songs made from this chord progression\n",
    "https://www.youtube.com/watch?v=2pXS8k1zx8U"
   ]
  },
  {
   "cell_type": "code",
   "execution_count": null,
   "metadata": {},
   "outputs": [],
   "source": [
    "chordGroups=df.uniqueChordsTup.value_counts().head(20)\n",
    "dfTest=df[df['uniqueChordsTup'].isin(chordGroups.index.to_list())]\n",
    "dfTest.groupby(['uniqueChordsTup', 'difficulty']).size().unstack(fill_value=0).plot(kind='bar', stacked=True)"
   ]
  },
  {
   "cell_type": "markdown",
   "metadata": {},
   "source": [
    "Two things...\n",
    "1) would be nice for this graph to be sorted\n",
    "2) why is a song difficult with an easy chord progression"
   ]
  },
  {
   "cell_type": "code",
   "execution_count": null,
   "metadata": {},
   "outputs": [],
   "source": [
    "# dfTest.groupby(['uniqueChordsTup', 'difficulty']).size().unstack(fill_value=0)"
   ]
  },
  {
   "cell_type": "code",
   "execution_count": null,
   "metadata": {},
   "outputs": [],
   "source": [
    "# df[df['uniqueChordsTup']==('C','D','Em','G')]"
   ]
  },
  {
   "cell_type": "markdown",
   "metadata": {},
   "source": [
    "Can we do this same thing for genres?"
   ]
  },
  {
   "cell_type": "code",
   "execution_count": null,
   "metadata": {},
   "outputs": [],
   "source": [
    "# df['genreTup']=df.genre.apply(sorted).apply(tuple)\n",
    "# dfTest=df[df['uniqueChordsTup'].isin(chordGroups.index.to_list())]\n",
    "# dfTest.groupby(['uniqueChordsTup', 'genreTup']).size().unstack(fill_value=0).plot(kind='bar', stacked=True)"
   ]
  },
  {
   "cell_type": "code",
   "execution_count": null,
   "metadata": {},
   "outputs": [],
   "source": [
    "# dfTest=df[df['uniqueChordsTup'].isin(chordGroups.index.to_list())]\n",
    "# dfTest.groupby(['uniqueChordsTup', 'genreTup']).size().unstack(fill_value=0).plot(kind='bar', stacked=True)"
   ]
  },
  {
   "cell_type": "code",
   "execution_count": null,
   "metadata": {},
   "outputs": [],
   "source": [
    "ChordList=df.uniqueChords.sum()\n",
    "((pd.Series(ChordList).value_counts().sort_values(ascending=False)/len(df))* 100).head(15).plot(kind='bar', title='Percent of Songs That Have Chord X')"
   ]
  },
  {
   "cell_type": "markdown",
   "metadata": {},
   "source": [
    "#### How many songs do you know by learning x top chords?"
   ]
  },
  {
   "cell_type": "code",
   "execution_count": null,
   "metadata": {},
   "outputs": [],
   "source": [
    "# set('G','C')==('C','G')"
   ]
  },
  {
   "cell_type": "code",
   "execution_count": null,
   "metadata": {},
   "outputs": [],
   "source": []
  },
  {
   "cell_type": "markdown",
   "metadata": {},
   "source": [
    "## Missing Values\n",
    "\n",
    "- Steal values from other tabs of the same song (genre, decade, etc.) \n",
    "- Take data from other column\n",
    "- Make assumptions about tuning and capo\n",
    "- Calculate key from chords in song"
   ]
  },
  {
   "cell_type": "code",
   "execution_count": null,
   "metadata": {},
   "outputs": [],
   "source": [
    "sns.heatmap(df.isnull(),yticklabels=False,cbar=False,cmap='viridis')"
   ]
  },
  {
   "cell_type": "markdown",
   "metadata": {},
   "source": [
    "#### Other Column"
   ]
  },
  {
   "cell_type": "code",
   "execution_count": null,
   "metadata": {},
   "outputs": [],
   "source": [
    "# temp=df[df.other.notnull()]\n",
    "# word_list=' '.join(temp['other']).lower().split()\n",
    "# filtered_words =  pd.Series([word for word in word_list if word not in stopwords.words('english')])\n",
    "# filtered_words.value_counts()[:100]"
   ]
  },
  {
   "cell_type": "markdown",
   "metadata": {},
   "source": [
    "#### Other questions\n",
    "\n",
    "Whats the most difficult genre to play?"
   ]
  },
  {
   "cell_type": "markdown",
   "metadata": {},
   "source": [
    "# Convert to number system\n",
    "\n",
    "Step 1: Clean up chords\n",
    "\n",
    "Step 2: Get Key\n",
    "\n",
    "Step 3: Add in numerical index"
   ]
  },
  {
   "cell_type": "code",
   "execution_count": null,
   "metadata": {},
   "outputs": [],
   "source": [
    "import re\n",
    "def clean_chords(chords):\n",
    "    \"\"\"\n",
    "    This function takes in a comma-separated string of \n",
    "    chords and cleans it by removing any base note variations, or\n",
    "    other chord embelishments.  Diminished labels are kept as these\n",
    "    are used in the chord progression table. The purpose of this\n",
    "    is to clean the chords to match the labels within the chord\n",
    "    progression table.\n",
    "    \n",
    "    returns:\n",
    "        new_chords - array of newly cleaned chords to be tabulated\n",
    "                        by the chord progression table\n",
    "    \"\"\"\n",
    "    \n",
    "    chords=','.join(chords)\n",
    "    \n",
    "    # Pattern grouping: 1=(chord pitch) 2=(base note) 3=(chord type) 4=(base note)\n",
    "    pattern = \"^([A-G]+)(\\/[A-G]*[b#])*([(?m)|(?m\\d)|(?b\\d)|(?#\\d)|(?maj\\d)|\\\n",
    "    (?add\\d)|(?sus\\d)|(?aug)|(?aug\\d)|(?dim)|(?dim\\d)]*)(\\/[A-G]*[b#])*\"        \n",
    "    prog = re.compile(pattern)\n",
    "\n",
    "    pattern2 = \"^([A-G])([b#])?(m$|m\\d$)?(dim$|dim\\d$)?\"\n",
    "    prog2 = re.compile(pattern2)\n",
    "\n",
    "    chords = chords.split(',')\n",
    "#     filter out missing chords\n",
    "    chords = list(filter(None, chords))\n",
    "    new_chords = [\"\"]*len(chords)\n",
    "    for i in range(len(chords)):\n",
    "        try:\n",
    "            curr_chord = chords[i]\n",
    "#           fix for parentheses\n",
    "            curr_chord= re.sub('[()]', '', curr_chord)\n",
    "#   fix for H chords (they are used in Europe apparently, equivalent to b chords in US)\n",
    "            curr_chord = re.sub('[H]','B', curr_chord)\n",
    "            groups = prog.findall(curr_chord)[0] \n",
    "            no_base = groups[0] + groups[2]\n",
    "            no_num = re.sub(pattern=\"\\d\", repl=\"\", string=no_base)\n",
    "            groups = prog2.findall(no_num)[0]\n",
    "            note,accidental = fix_accidental(groups[0], groups[1])\n",
    "            new_chords[i] = note + accidental + groups[2] + groups[3]\n",
    "        except Exception as e:\n",
    "            print(\"exception\")\n",
    "            print(\"curr chord: \", curr_chord)\n",
    "            print(groups)\n",
    "            print('-------')\n",
    "\n",
    "        \n",
    "    return(new_chords)\n",
    "\n",
    "def fix_accidental(note, accidental):\n",
    "    notes = np.asarray(['A', 'B', 'C', 'D', 'E', 'F', 'G'])\n",
    "    note_idx = int(np.where(notes == note)[0])\n",
    "    if accidental == '#':\n",
    "        # Account for B# or E#\n",
    "        if note == 'B':\n",
    "            return('C', '')\n",
    "        elif note == 'E':\n",
    "            return('F', '')\n",
    "        return(note,accidental)\n",
    "    elif accidental == 'b':\n",
    "        # Account for Cb or Fb\n",
    "        if note == 'C':\n",
    "            return('B', '')\n",
    "        elif note == 'F':\n",
    "            return('E', '')\n",
    "        return(notes[note_idx - 1],'#')\n",
    "    else:\n",
    "        return(note, accidental)\n",
    "            \n",
    "df['cleanChordOrder']=df.chordOrder.apply(clean_chords)"
   ]
  },
  {
   "cell_type": "code",
   "execution_count": null,
   "metadata": {},
   "outputs": [],
   "source": [
    "list(set(df.loc[1, 'cleanChordOrder']))"
   ]
  },
  {
   "cell_type": "code",
   "execution_count": null,
   "metadata": {},
   "outputs": [],
   "source": [
    "df['cleanUniqueChords']=df.cleanChordOrder.apply(lambda x: list(set(x)))\n",
    "df.head()"
   ]
  },
  {
   "cell_type": "code",
   "execution_count": null,
   "metadata": {},
   "outputs": [],
   "source": [
    "ChordList=df.cleanUniqueChords.sum()\n",
    "((pd.Series(ChordList).value_counts().sort_values(ascending=False)/len(df))* 100).head(100).plot(kind='bar', title='Percent of Songs That Have Chord X')"
   ]
  },
  {
   "cell_type": "code",
   "execution_count": null,
   "metadata": {},
   "outputs": [],
   "source": [
    "pd.Series(ChordList).value_counts()"
   ]
  },
  {
   "cell_type": "markdown",
   "metadata": {},
   "source": [
    "Notes for finding key:\n",
    "\n",
    "Check commonalities between chords you know are in song and the key\n",
    "\n",
    "Some times there are ties\n",
    "tricks for ties\n",
    "\n",
    "1) 7th chord always has to be 5th chord\n",
    "2) diminished is a dead give away for chord\n",
    "3) most popular chord is often the key (not always though)\n",
    "4) first chords is often the key\n",
    "\n",
    "https://www.youtube.com/watch?v=Pg-zZEdNg3c&t=63s&ab_channel=SeanDaniel"
   ]
  },
  {
   "cell_type": "code",
   "execution_count": null,
   "metadata": {},
   "outputs": [],
   "source": [
    "chordDic= {'A': ['A', 'Bm', 'C#m', 'D', 'E', 'F#', 'G#dim'],\n",
    " 'Am': ['Am', 'Bdim', 'C', 'Dm', 'Em', 'F', 'G'],\n",
    " 'B': ['B', 'C#m', 'D#m', 'E', 'F#', 'G#m', 'A#dim'],\n",
    " 'C': ['C', 'Dm', 'Em', 'F', 'G', 'Am', 'Bdim'],\n",
    "\n",
    " 'D': ['D', 'Em', 'F#m', 'G', 'A', 'Bm', 'C#dim'],\n",
    " 'E': ['E', 'F#m', 'G#m', 'A', 'B', 'C#m', 'D#dim'],\n",
    " 'Em': ['Em', 'F#dim', 'G', 'Am', 'Bm', 'C', 'D'],\n",
    " 'F': ['F', 'Gm', 'Am', 'Bb', 'C', 'Dm', 'Edim'],\n",
    " 'G': ['G', 'Am', 'Bm', 'C', 'D', 'Em', 'F#dim']}\n",
    "\n",
    "#  'Am': ['Am', 'Bdim', 'C', 'Dm', 'Em', 'F', 'G'],\n",
    "#  'Em': ['Em', 'F#dim', 'G', 'Am', 'Bm', 'C', 'D'],\n",
    "def findKey(chords):\n",
    "    keyMax=0\n",
    "    keys=[]\n",
    "    finalKey=\"N/A\"\n",
    "    match=\"\"\n",
    "    for key, value in chordDic.items():  \n",
    "        intersect=len(set(chords).intersection(set(value)))\n",
    "        if intersect>keyMax:\n",
    "            keys=[key]\n",
    "            keyMax=intersect\n",
    "        elif intersect==keyMax and keyMax>0:\n",
    "            keys.append(key)\n",
    "    # tiebreaker\n",
    "    if len(keys)>1:\n",
    "        maxChord= str(pd.Series(chords).value_counts().sort_values(ascending=False).head(1).index[0])\n",
    "        firstChord=chords[0]\n",
    "        lastChord=chords[-1]\n",
    "        if maxChord in keys:\n",
    "            finalKey=maxChord\n",
    "            match=\"maxChord\"\n",
    "        elif firstChord in keys:\n",
    "            finalKey=firstChord\n",
    "            match=\"firstChord\"\n",
    "        elif lastChord in keys:\n",
    "            finalKey=lastChord\n",
    "            match=\"lastChord\"\n",
    "        else:\n",
    "            match=\"tiebreak failed\"\n",
    "            finalKey=keys[0]\n",
    "    elif len(keys)==1:\n",
    "        finalKey=keys[0]\n",
    "        match=\"one choice\"\n",
    "    else:\n",
    "        match=\"no matches\"\n",
    "    return pd.Series([finalKey, keys, match])\n",
    "\n",
    "dfKeys=df[df.key.notnull()]\n",
    "dfKeys[['finalKey', 'keyChoices','match']]=dfKeys.cleanChordOrder.apply(lambda x: findKey(x))\n",
    "dfKeys['keyCheck']=dfKeys[['key','finalKey']].apply(lambda x: 1 if x[0]==x[1] else 0, axis=1)\n",
    "missDf=dfKeys[dfKeys['keyCheck']==0]\n",
    "matchDf=dfKeys[dfKeys['keyCheck']==1]\n",
    "dfKeys.keyCheck.value_counts(normalize=True)"
   ]
  },
  {
   "cell_type": "code",
   "execution_count": null,
   "metadata": {},
   "outputs": [],
   "source": [
    "missDf.key.value_counts()\n",
    "# missDf.match.value_counts()\n",
    "# missDf.groupby('key')['match'].apply(lambda x: list(x))\n",
    "# missDf[missDf['match']=='one choice']\n",
    "# missDf.fill_null(\"none\").match.value_counts()"
   ]
  },
  {
   "cell_type": "code",
   "execution_count": null,
   "metadata": {},
   "outputs": [],
   "source": [
    "missDf[missDf['key']=='Am']"
   ]
  },
  {
   "cell_type": "code",
   "execution_count": null,
   "metadata": {},
   "outputs": [],
   "source": [
    "dfKeys.match.fillna(\"NA\").value_counts().plot(kind='pie')"
   ]
  },
  {
   "cell_type": "code",
   "execution_count": null,
   "metadata": {},
   "outputs": [],
   "source": [
    "dfKeys.head()"
   ]
  },
  {
   "cell_type": "code",
   "execution_count": null,
   "metadata": {},
   "outputs": [],
   "source": [
    "\n",
    "dfKeys['keyCheck']=dfKeys[['key','finalKey']].apply(lambda x: 1 if x[0]==x[1] else 0, axis=1)"
   ]
  },
  {
   "cell_type": "code",
   "execution_count": null,
   "metadata": {},
   "outputs": [],
   "source": [
    "dfKeys.head()"
   ]
  },
  {
   "cell_type": "code",
   "execution_count": null,
   "metadata": {},
   "outputs": [],
   "source": [
    "dfKeys.fillna(\"null\").keyCheck.value_counts()"
   ]
  },
  {
   "cell_type": "code",
   "execution_count": null,
   "metadata": {},
   "outputs": [],
   "source": [
    "dfKeys.shape[0]"
   ]
  },
  {
   "cell_type": "code",
   "execution_count": null,
   "metadata": {},
   "outputs": [],
   "source": [
    "dfKeys.info()"
   ]
  },
  {
   "cell_type": "code",
   "execution_count": null,
   "metadata": {},
   "outputs": [],
   "source": []
  }
 ],
 "metadata": {
  "kernelspec": {
   "display_name": "Python 3",
   "language": "python",
   "name": "python3"
  },
  "language_info": {
   "codemirror_mode": {
    "name": "ipython",
    "version": 3
   },
   "file_extension": ".py",
   "mimetype": "text/x-python",
   "name": "python",
   "nbconvert_exporter": "python",
   "pygments_lexer": "ipython3",
   "version": "3.6.4"
  }
 },
 "nbformat": 4,
 "nbformat_minor": 2
}
