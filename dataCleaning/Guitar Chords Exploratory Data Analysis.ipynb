{
 "cells": [
  {
   "cell_type": "markdown",
   "metadata": {},
   "source": [
    "# Data Cleaning and EDA"
   ]
  },
  {
   "cell_type": "code",
   "execution_count": 61,
   "metadata": {},
   "outputs": [],
   "source": [
    "import pandas as pd\n",
    "import matplotlib.pyplot as plt\n",
    "import seaborn as sns\n",
    "from ast import literal_eval\n",
    "import numpy as np\n",
    "import math\n",
    "import glob\n",
    "import seaborn as sns\n",
    "from nltk.corpus import stopwords"
   ]
  },
  {
   "cell_type": "markdown",
   "metadata": {},
   "source": [
    "## 1. Read in Data\n",
    "\n",
    "I iteratively stored songs into different CSVs during scraping to avoid losing data if my computer shut down. So  we'll want to read all these files and combine them into one"
   ]
  },
  {
   "cell_type": "code",
   "execution_count": 62,
   "metadata": {},
   "outputs": [
    {
     "data": {
      "text/html": [
       "<div>\n",
       "<style scoped>\n",
       "    .dataframe tbody tr th:only-of-type {\n",
       "        vertical-align: middle;\n",
       "    }\n",
       "\n",
       "    .dataframe tbody tr th {\n",
       "        vertical-align: top;\n",
       "    }\n",
       "\n",
       "    .dataframe thead th {\n",
       "        text-align: right;\n",
       "    }\n",
       "</style>\n",
       "<table border=\"1\" class=\"dataframe\">\n",
       "  <thead>\n",
       "    <tr style=\"text-align: right;\">\n",
       "      <th></th>\n",
       "      <th>url</th>\n",
       "      <th>new_x</th>\n",
       "      <th>new_y</th>\n",
       "      <th>chordOrder</th>\n",
       "      <th>chordList</th>\n",
       "      <th>topInfo</th>\n",
       "      <th>songArtist</th>\n",
       "    </tr>\n",
       "  </thead>\n",
       "  <tbody>\n",
       "    <tr>\n",
       "      <th>0</th>\n",
       "      <td>https://tabs.ultimate-guitar.com/tab/dolly-parton/its-all-wrong-but-its-all-right-chords-2113377</td>\n",
       "      <td>['Country']</td>\n",
       "      <td>[1970]</td>\n",
       "      <td>['G', 'C', 'G', 'C', 'D', 'G', 'C', 'G', 'C', 'D', 'G', 'C', 'G', 'C', 'D', 'G', 'C', 'G', 'C', 'D', 'G', 'G', 'C', 'G', 'C', 'D', 'G', 'C', 'G']</td>\n",
       "      <td>['G', 'C', 'D']</td>\n",
       "      <td>[]</td>\n",
       "      <td>Its All Wrong But Its All Right chords by Dolly Parton</td>\n",
       "    </tr>\n",
       "    <tr>\n",
       "      <th>1</th>\n",
       "      <td>https://tabs.ultimate-guitar.com/tab/dolly-parton/jolene-chords-1099394</td>\n",
       "      <td>['Country', 'Folk', 'Folk']</td>\n",
       "      <td>[1970, 1970, 1940]</td>\n",
       "      <td>['Am', 'C', 'G', 'Am', 'G', 'Am', 'Am', 'C', 'G', 'Am', 'G', 'Am', 'Am', 'C', 'G', 'Am', 'G', 'Am', 'Am', 'C', 'G', 'Am', 'G', 'Am', 'Am', 'C', 'G', 'Am', 'G', 'Am', 'Am', 'C', 'G', 'Am', 'G', 'Am', 'Am', 'C', 'G', 'Am', 'Am', 'Am', 'C', 'G', 'Am', 'G', 'Am', 'Am', 'C', 'G', 'Am', 'G', 'Am', 'Am', 'C', 'G', 'Am', 'G', 'Am', 'Am', 'C', 'G', 'Am', 'G', 'Am', 'Am', 'C', 'G', 'Am', 'G', 'Am']</td>\n",
       "      <td>['Am', 'C', 'G']</td>\n",
       "      <td>['Difficulty: intermediate', 'Tuning: E A D G B E', 'Capo: 4th fret']</td>\n",
       "      <td>Jolene chords by Dolly Parton</td>\n",
       "    </tr>\n",
       "    <tr>\n",
       "      <th>2</th>\n",
       "      <td>https://tabs.ultimate-guitar.com/tab/dolly-parton/jolene-chords-1233293</td>\n",
       "      <td>['Country']</td>\n",
       "      <td>[1970]</td>\n",
       "      <td>['Em', 'G', 'D', 'Em', 'D', 'Em', 'Em', 'G', 'D', 'Em', 'Em', 'G', 'D', 'Em', 'D', 'Em', 'Em', 'G', 'D', 'Em', 'D', 'Em', 'Em', 'G', 'D', 'Em', 'D', 'Em', 'Em', 'G', 'D', 'Em', 'D', 'Em', 'Em', 'G', 'D', 'Em', 'D', 'Em', 'Em', 'G', 'D', 'Em', 'D', 'Em', 'Em', 'G', 'D', 'Em', 'D', 'Em', 'Em', 'G', 'D', 'Em', 'D', 'Em', 'Em', 'G', 'D', 'Em', 'D', 'Em', 'Em', 'G', 'D', 'Em', 'D', 'Em', 'Em', 'G', 'D', 'Em', 'D', 'Em', 'Em', 'G', 'D', 'Em', 'D', 'Em', 'D', 'Em']</td>\n",
       "      <td>['Em', 'G', 'D']</td>\n",
       "      <td>['Difficulty: novice', 'Tuning: E A D G B E', 'Capo: 4th fret']</td>\n",
       "      <td>Jolene chords by Dolly Parton</td>\n",
       "    </tr>\n",
       "    <tr>\n",
       "      <th>3</th>\n",
       "      <td>https://tabs.ultimate-guitar.com/tab/dolly-parton/jolene-chords-165569</td>\n",
       "      <td>['Country', 'Folk']</td>\n",
       "      <td>[1970, 1970]</td>\n",
       "      <td>['Dm', 'F', 'C', 'Dm', 'C', 'Dm', 'F', 'C', 'Dm', 'C', 'Dm', 'Dm', 'F', 'C', 'Dm', 'C', 'Dm', 'Dm', 'F', 'C', 'Dm', 'C', 'Dm', 'Dm', 'F', 'C', 'Dm', 'C', 'Dm', 'Dm', 'F', 'C', 'Dm', 'C', 'Dm']</td>\n",
       "      <td>['Dm', 'F', 'C']</td>\n",
       "      <td>[]</td>\n",
       "      <td>Jolene chords by Dolly Parton</td>\n",
       "    </tr>\n",
       "    <tr>\n",
       "      <th>4</th>\n",
       "      <td>https://tabs.ultimate-guitar.com/tab/dolly-parton/jolene-chords-183019</td>\n",
       "      <td>['Country', 'Country', 'Folk', 'Folk']</td>\n",
       "      <td>[1970, 1940, 1970, 1940]</td>\n",
       "      <td>['Am', 'Am', 'C', 'G', 'Am', 'G', 'Am', 'Am', 'C', 'G', 'Am', 'G', 'Em', 'Am', 'Am', 'C', 'G', 'Am', 'G', 'Em', 'Am', 'Am', 'C', 'G', 'Am', 'G', 'Em', 'Am', 'Am', 'C', 'G', 'Am', 'G', 'Em', 'Am', 'Am', 'C', 'G', 'Am', 'G', 'Em', 'Am', 'Am', 'C', 'G', 'Am', 'G', 'Am', 'Am', 'C', 'G', 'Am', 'G', 'Em', 'Am', 'Am', 'C', 'G', 'Am', 'G', 'Em', 'Am', 'Am', 'C', 'G', 'Am', 'G', 'Em', 'Am', 'Am', 'C', 'G', 'Am', 'G', 'Am', 'Am', 'C', 'G', 'Am', 'G', 'Em', 'Am']</td>\n",
       "      <td>['Am', 'C', 'G', 'Em']</td>\n",
       "      <td>['Difficulty: novice', 'Tuning: E A D G B E', 'Capo: 4th fret', 'Key: C#m']</td>\n",
       "      <td>Jolene chords by Dolly Parton</td>\n",
       "    </tr>\n",
       "  </tbody>\n",
       "</table>\n",
       "</div>"
      ],
      "text/plain": [
       "                                                                                                url  \\\n",
       "0  https://tabs.ultimate-guitar.com/tab/dolly-parton/its-all-wrong-but-its-all-right-chords-2113377   \n",
       "1  https://tabs.ultimate-guitar.com/tab/dolly-parton/jolene-chords-1099394                            \n",
       "2  https://tabs.ultimate-guitar.com/tab/dolly-parton/jolene-chords-1233293                            \n",
       "3  https://tabs.ultimate-guitar.com/tab/dolly-parton/jolene-chords-165569                             \n",
       "4  https://tabs.ultimate-guitar.com/tab/dolly-parton/jolene-chords-183019                             \n",
       "\n",
       "                                    new_x                     new_y  \\\n",
       "0  ['Country']                             [1970]                     \n",
       "1  ['Country', 'Folk', 'Folk']             [1970, 1970, 1940]         \n",
       "2  ['Country']                             [1970]                     \n",
       "3  ['Country', 'Folk']                     [1970, 1970]               \n",
       "4  ['Country', 'Country', 'Folk', 'Folk']  [1970, 1940, 1970, 1940]   \n",
       "\n",
       "                                                                                                                                                                                                                                                                                                                                                                                                                                                                       chordOrder  \\\n",
       "0  ['G', 'C', 'G', 'C', 'D', 'G', 'C', 'G', 'C', 'D', 'G', 'C', 'G', 'C', 'D', 'G', 'C', 'G', 'C', 'D', 'G', 'G', 'C', 'G', 'C', 'D', 'G', 'C', 'G']                                                                                                                                                                                                                                                                                                                                \n",
       "1  ['Am', 'C', 'G', 'Am', 'G', 'Am', 'Am', 'C', 'G', 'Am', 'G', 'Am', 'Am', 'C', 'G', 'Am', 'G', 'Am', 'Am', 'C', 'G', 'Am', 'G', 'Am', 'Am', 'C', 'G', 'Am', 'G', 'Am', 'Am', 'C', 'G', 'Am', 'G', 'Am', 'Am', 'C', 'G', 'Am', 'Am', 'Am', 'C', 'G', 'Am', 'G', 'Am', 'Am', 'C', 'G', 'Am', 'G', 'Am', 'Am', 'C', 'G', 'Am', 'G', 'Am', 'Am', 'C', 'G', 'Am', 'G', 'Am', 'Am', 'C', 'G', 'Am', 'G', 'Am']                                                                          \n",
       "2  ['Em', 'G', 'D', 'Em', 'D', 'Em', 'Em', 'G', 'D', 'Em', 'Em', 'G', 'D', 'Em', 'D', 'Em', 'Em', 'G', 'D', 'Em', 'D', 'Em', 'Em', 'G', 'D', 'Em', 'D', 'Em', 'Em', 'G', 'D', 'Em', 'D', 'Em', 'Em', 'G', 'D', 'Em', 'D', 'Em', 'Em', 'G', 'D', 'Em', 'D', 'Em', 'Em', 'G', 'D', 'Em', 'D', 'Em', 'Em', 'G', 'D', 'Em', 'D', 'Em', 'Em', 'G', 'D', 'Em', 'D', 'Em', 'Em', 'G', 'D', 'Em', 'D', 'Em', 'Em', 'G', 'D', 'Em', 'D', 'Em', 'Em', 'G', 'D', 'Em', 'D', 'Em', 'D', 'Em']   \n",
       "3  ['Dm', 'F', 'C', 'Dm', 'C', 'Dm', 'F', 'C', 'Dm', 'C', 'Dm', 'Dm', 'F', 'C', 'Dm', 'C', 'Dm', 'Dm', 'F', 'C', 'Dm', 'C', 'Dm', 'Dm', 'F', 'C', 'Dm', 'C', 'Dm', 'Dm', 'F', 'C', 'Dm', 'C', 'Dm']                                                                                                                                                                                                                                                                                 \n",
       "4  ['Am', 'Am', 'C', 'G', 'Am', 'G', 'Am', 'Am', 'C', 'G', 'Am', 'G', 'Em', 'Am', 'Am', 'C', 'G', 'Am', 'G', 'Em', 'Am', 'Am', 'C', 'G', 'Am', 'G', 'Em', 'Am', 'Am', 'C', 'G', 'Am', 'G', 'Em', 'Am', 'Am', 'C', 'G', 'Am', 'G', 'Em', 'Am', 'Am', 'C', 'G', 'Am', 'G', 'Am', 'Am', 'C', 'G', 'Am', 'G', 'Em', 'Am', 'Am', 'C', 'G', 'Am', 'G', 'Em', 'Am', 'Am', 'C', 'G', 'Am', 'G', 'Em', 'Am', 'Am', 'C', 'G', 'Am', 'G', 'Am', 'Am', 'C', 'G', 'Am', 'G', 'Em', 'Am']         \n",
       "\n",
       "                chordList  \\\n",
       "0  ['G', 'C', 'D']          \n",
       "1  ['Am', 'C', 'G']         \n",
       "2  ['Em', 'G', 'D']         \n",
       "3  ['Dm', 'F', 'C']         \n",
       "4  ['Am', 'C', 'G', 'Em']   \n",
       "\n",
       "                                                                       topInfo  \\\n",
       "0  []                                                                            \n",
       "1  ['Difficulty: intermediate', 'Tuning: E A D G B E', 'Capo: 4th fret']         \n",
       "2  ['Difficulty: novice', 'Tuning: E A D G B E', 'Capo: 4th fret']               \n",
       "3  []                                                                            \n",
       "4  ['Difficulty: novice', 'Tuning: E A D G B E', 'Capo: 4th fret', 'Key: C#m']   \n",
       "\n",
       "                                               songArtist  \n",
       "0  Its All Wrong But Its All Right chords by Dolly Parton  \n",
       "1  Jolene chords by Dolly Parton                           \n",
       "2  Jolene chords by Dolly Parton                           \n",
       "3  Jolene chords by Dolly Parton                           \n",
       "4  Jolene chords by Dolly Parton                           "
      ]
     },
     "execution_count": 62,
     "metadata": {},
     "output_type": "execute_result"
    }
   ],
   "source": [
    "# Combine csvs\n",
    "all_files=glob.glob(\"/Users/eshantarneja/Documents/DataScience/data/rawData/*.csv\")\n",
    "li = []\n",
    "for filename in all_files:\n",
    "    df = pd.read_csv(filename, encoding='latin-1')\n",
    "    li.append(df)\n",
    "df = pd.concat(li, axis=0, ignore_index=True)\n",
    "df.head()"
   ]
  },
  {
   "cell_type": "code",
   "execution_count": 63,
   "metadata": {},
   "outputs": [
    {
     "name": "stdout",
     "output_type": "stream",
     "text": [
      "<class 'pandas.core.frame.DataFrame'>\n",
      "RangeIndex: 9997 entries, 0 to 9996\n",
      "Data columns (total 7 columns):\n",
      "url           9997 non-null object\n",
      "new_x         9997 non-null object\n",
      "new_y         9997 non-null object\n",
      "chordOrder    9997 non-null object\n",
      "chordList     9997 non-null object\n",
      "topInfo       9997 non-null object\n",
      "songArtist    9997 non-null object\n",
      "dtypes: object(7)\n",
      "memory usage: 546.8+ KB\n"
     ]
    }
   ],
   "source": [
    "df.info()"
   ]
  },
  {
   "cell_type": "markdown",
   "metadata": {},
   "source": [
    "## 2. Clean up Low Hanging Fruit\n",
    "\n",
    "My data set was quite expansive, but it was rather dirty. Before getting into any analysis I needed to do some basic cleaning. There is more cleaning to come throughout the analysis as I identified more errors, so this section is focused more instead on cleaning up the low hanging fruit.\n",
    "\n",
    "There are a couple of issues within this raw data that I can see just by looking at it. Lets clean those up to start.\n",
    "\n",
    "1. Song and Artist are in a field together (i.e Dust Bowl chords by 10,000 Maniacs). We'll want to seperate these into their own fields\n",
    "\n",
    "2. All of the lists got read in as strings. I can see that by all of them being read as \"objects\". I learned that reading and writing in csvs loses python formatting (this is what pckl files are great for apparently...I had always heard of these...never knew why people used them). I'll go ahead and convert those back into lists though.\n",
    "\n",
    "3. The topInfo column has really disparate information about the song. This data is found at the top of the chord page and usually contains Key, Capo, and Tuning...but sometimes has only some of that info, and also sometimes has random facts about the song. I'll break these into their own fields if they exist, and if there is extra info, I'll put it in a column called \"other\"\n",
    "\n",
    "4. I know from my original file combining that there are quite a few duplicates in the data. I.e these Urls were found in multiple genres and decades, but have the exact same tab (shown by url). That is why the genre and decades are stored as list because I combined all the info from each of these into one before scraping the song to avoid duplicate work. I'll take the unique set of genres and decades for each entry. I.e [\"Folk\",\"Folk\", \"Rock\", \"Rock\"] -> [\"Folk\", \"Rock\"]. I'll decide what to do with multiple genres/decades later..."
   ]
  },
  {
   "cell_type": "code",
   "execution_count": 64,
   "metadata": {},
   "outputs": [
    {
     "data": {
      "text/html": [
       "<div>\n",
       "<style scoped>\n",
       "    .dataframe tbody tr th:only-of-type {\n",
       "        vertical-align: middle;\n",
       "    }\n",
       "\n",
       "    .dataframe tbody tr th {\n",
       "        vertical-align: top;\n",
       "    }\n",
       "\n",
       "    .dataframe thead th {\n",
       "        text-align: right;\n",
       "    }\n",
       "</style>\n",
       "<table border=\"1\" class=\"dataframe\">\n",
       "  <thead>\n",
       "    <tr style=\"text-align: right;\">\n",
       "      <th></th>\n",
       "      <th>url</th>\n",
       "      <th>chordOrder</th>\n",
       "      <th>uniqueChords</th>\n",
       "      <th>song</th>\n",
       "      <th>artist</th>\n",
       "      <th>genre</th>\n",
       "      <th>decade</th>\n",
       "      <th>difficulty</th>\n",
       "      <th>tuning</th>\n",
       "      <th>capo</th>\n",
       "      <th>key</th>\n",
       "      <th>other</th>\n",
       "    </tr>\n",
       "  </thead>\n",
       "  <tbody>\n",
       "    <tr>\n",
       "      <th>0</th>\n",
       "      <td>https://tabs.ultimate-guitar.com/tab/dolly-parton/its-all-wrong-but-its-all-right-chords-2113377</td>\n",
       "      <td>[G, C, G, C, D, G, C, G, C, D, G, C, G, C, D, G, C, G, C, D, G, G, C, G, C, D, G, C, G]</td>\n",
       "      <td>[G, C, D]</td>\n",
       "      <td>Its All Wrong But Its All Right</td>\n",
       "      <td>Dolly Parton</td>\n",
       "      <td>[Country]</td>\n",
       "      <td>[1970]</td>\n",
       "      <td>NaN</td>\n",
       "      <td>NaN</td>\n",
       "      <td>NaN</td>\n",
       "      <td>NaN</td>\n",
       "      <td>NaN</td>\n",
       "    </tr>\n",
       "    <tr>\n",
       "      <th>1</th>\n",
       "      <td>https://tabs.ultimate-guitar.com/tab/dolly-parton/jolene-chords-1099394</td>\n",
       "      <td>[Am, C, G, Am, G, Am, Am, C, G, Am, G, Am, Am, C, G, Am, G, Am, Am, C, G, Am, G, Am, Am, C, G, Am, G, Am, Am, C, G, Am, G, Am, Am, C, G, Am, Am, Am, C, G, Am, G, Am, Am, C, G, Am, G, Am, Am, C, G, Am, G, Am, Am, C, G, Am, G, Am, Am, C, G, Am, G, Am]</td>\n",
       "      <td>[Am, C, G]</td>\n",
       "      <td>Jolene</td>\n",
       "      <td>Dolly Parton</td>\n",
       "      <td>[Folk, Country]</td>\n",
       "      <td>[1970, 1940]</td>\n",
       "      <td>intermediate</td>\n",
       "      <td>E A D G B E</td>\n",
       "      <td>4th fret</td>\n",
       "      <td>NaN</td>\n",
       "      <td>NaN</td>\n",
       "    </tr>\n",
       "    <tr>\n",
       "      <th>2</th>\n",
       "      <td>https://tabs.ultimate-guitar.com/tab/dolly-parton/jolene-chords-1233293</td>\n",
       "      <td>[Em, G, D, Em, D, Em, Em, G, D, Em, Em, G, D, Em, D, Em, Em, G, D, Em, D, Em, Em, G, D, Em, D, Em, Em, G, D, Em, D, Em, Em, G, D, Em, D, Em, Em, G, D, Em, D, Em, Em, G, D, Em, D, Em, Em, G, D, Em, D, Em, Em, G, D, Em, D, Em, Em, G, D, Em, D, Em, Em, G, D, Em, D, Em, Em, G, D, Em, D, Em, D, Em]</td>\n",
       "      <td>[Em, G, D]</td>\n",
       "      <td>Jolene</td>\n",
       "      <td>Dolly Parton</td>\n",
       "      <td>[Country]</td>\n",
       "      <td>[1970]</td>\n",
       "      <td>novice</td>\n",
       "      <td>E A D G B E</td>\n",
       "      <td>4th fret</td>\n",
       "      <td>NaN</td>\n",
       "      <td>NaN</td>\n",
       "    </tr>\n",
       "    <tr>\n",
       "      <th>3</th>\n",
       "      <td>https://tabs.ultimate-guitar.com/tab/dolly-parton/jolene-chords-165569</td>\n",
       "      <td>[Dm, F, C, Dm, C, Dm, F, C, Dm, C, Dm, Dm, F, C, Dm, C, Dm, Dm, F, C, Dm, C, Dm, Dm, F, C, Dm, C, Dm, Dm, F, C, Dm, C, Dm]</td>\n",
       "      <td>[Dm, F, C]</td>\n",
       "      <td>Jolene</td>\n",
       "      <td>Dolly Parton</td>\n",
       "      <td>[Folk, Country]</td>\n",
       "      <td>[1970]</td>\n",
       "      <td>NaN</td>\n",
       "      <td>NaN</td>\n",
       "      <td>NaN</td>\n",
       "      <td>NaN</td>\n",
       "      <td>NaN</td>\n",
       "    </tr>\n",
       "    <tr>\n",
       "      <th>4</th>\n",
       "      <td>https://tabs.ultimate-guitar.com/tab/dolly-parton/jolene-chords-183019</td>\n",
       "      <td>[Am, Am, C, G, Am, G, Am, Am, C, G, Am, G, Em, Am, Am, C, G, Am, G, Em, Am, Am, C, G, Am, G, Em, Am, Am, C, G, Am, G, Em, Am, Am, C, G, Am, G, Em, Am, Am, C, G, Am, G, Am, Am, C, G, Am, G, Em, Am, Am, C, G, Am, G, Em, Am, Am, C, G, Am, G, Em, Am, Am, C, G, Am, G, Am, Am, C, G, Am, G, Em, Am]</td>\n",
       "      <td>[Am, C, G, Em]</td>\n",
       "      <td>Jolene</td>\n",
       "      <td>Dolly Parton</td>\n",
       "      <td>[Folk, Country]</td>\n",
       "      <td>[1970, 1940]</td>\n",
       "      <td>novice</td>\n",
       "      <td>E A D G B E</td>\n",
       "      <td>4th fret</td>\n",
       "      <td>C#m</td>\n",
       "      <td>NaN</td>\n",
       "    </tr>\n",
       "  </tbody>\n",
       "</table>\n",
       "</div>"
      ],
      "text/plain": [
       "                                                                                                url  \\\n",
       "0  https://tabs.ultimate-guitar.com/tab/dolly-parton/its-all-wrong-but-its-all-right-chords-2113377   \n",
       "1  https://tabs.ultimate-guitar.com/tab/dolly-parton/jolene-chords-1099394                            \n",
       "2  https://tabs.ultimate-guitar.com/tab/dolly-parton/jolene-chords-1233293                            \n",
       "3  https://tabs.ultimate-guitar.com/tab/dolly-parton/jolene-chords-165569                             \n",
       "4  https://tabs.ultimate-guitar.com/tab/dolly-parton/jolene-chords-183019                             \n",
       "\n",
       "                                                                                                                                                                                                                                                                                               chordOrder  \\\n",
       "0  [G, C, G, C, D, G, C, G, C, D, G, C, G, C, D, G, C, G, C, D, G, G, C, G, C, D, G, C, G]                                                                                                                                                                                                                  \n",
       "1  [Am, C, G, Am, G, Am, Am, C, G, Am, G, Am, Am, C, G, Am, G, Am, Am, C, G, Am, G, Am, Am, C, G, Am, G, Am, Am, C, G, Am, G, Am, Am, C, G, Am, Am, Am, C, G, Am, G, Am, Am, C, G, Am, G, Am, Am, C, G, Am, G, Am, Am, C, G, Am, G, Am, Am, C, G, Am, G, Am]                                                \n",
       "2  [Em, G, D, Em, D, Em, Em, G, D, Em, Em, G, D, Em, D, Em, Em, G, D, Em, D, Em, Em, G, D, Em, D, Em, Em, G, D, Em, D, Em, Em, G, D, Em, D, Em, Em, G, D, Em, D, Em, Em, G, D, Em, D, Em, Em, G, D, Em, D, Em, Em, G, D, Em, D, Em, Em, G, D, Em, D, Em, Em, G, D, Em, D, Em, Em, G, D, Em, D, Em, D, Em]   \n",
       "3  [Dm, F, C, Dm, C, Dm, F, C, Dm, C, Dm, Dm, F, C, Dm, C, Dm, Dm, F, C, Dm, C, Dm, Dm, F, C, Dm, C, Dm, Dm, F, C, Dm, C, Dm]                                                                                                                                                                               \n",
       "4  [Am, Am, C, G, Am, G, Am, Am, C, G, Am, G, Em, Am, Am, C, G, Am, G, Em, Am, Am, C, G, Am, G, Em, Am, Am, C, G, Am, G, Em, Am, Am, C, G, Am, G, Em, Am, Am, C, G, Am, G, Am, Am, C, G, Am, G, Em, Am, Am, C, G, Am, G, Em, Am, Am, C, G, Am, G, Em, Am, Am, C, G, Am, G, Am, Am, C, G, Am, G, Em, Am]     \n",
       "\n",
       "     uniqueChords                             song        artist  \\\n",
       "0  [G, C, D]       Its All Wrong But Its All Right  Dolly Parton   \n",
       "1  [Am, C, G]      Jolene                           Dolly Parton   \n",
       "2  [Em, G, D]      Jolene                           Dolly Parton   \n",
       "3  [Dm, F, C]      Jolene                           Dolly Parton   \n",
       "4  [Am, C, G, Em]  Jolene                           Dolly Parton   \n",
       "\n",
       "             genre        decade    difficulty       tuning      capo  key  \\\n",
       "0  [Country]        [1970]        NaN           NaN          NaN       NaN   \n",
       "1  [Folk, Country]  [1970, 1940]  intermediate  E A D G B E  4th fret  NaN   \n",
       "2  [Country]        [1970]        novice        E A D G B E  4th fret  NaN   \n",
       "3  [Folk, Country]  [1970]        NaN           NaN          NaN       NaN   \n",
       "4  [Folk, Country]  [1970, 1940]  novice        E A D G B E  4th fret  C#m   \n",
       "\n",
       "  other  \n",
       "0  NaN   \n",
       "1  NaN   \n",
       "2  NaN   \n",
       "3  NaN   \n",
       "4  NaN   "
      ]
     },
     "execution_count": 64,
     "metadata": {},
     "output_type": "execute_result"
    }
   ],
   "source": [
    "def cleanSongArtist(raw):\n",
    "#     takes in songArtist field and splits into Song and Artist columns seperately\n",
    "    song=np.NaN\n",
    "    artist=np.NaN\n",
    "    saList=raw.split(\" chords by \")\n",
    "    if len(saList)==2:       \n",
    "        song=saList[0]\n",
    "        artist=saList[1]\n",
    "    return pd.Series([song,artist])\n",
    "\n",
    "\n",
    "def stringToList(row):\n",
    "#     all lists were read into CSVS as strings. Use literal eval to convert back to list format\n",
    "    chordList=literal_eval(row['chordList'])\n",
    "    chordOrder=literal_eval(row['chordOrder'])\n",
    "    songInfo=literal_eval(row['topInfo'])\n",
    "    genre=literal_eval(row['new_x'])\n",
    "    decade=literal_eval(row['new_y'])\n",
    "    return pd.Series([chordList, chordOrder, genre, decade, songInfo])\n",
    "\n",
    "\n",
    "def cleanSongInfo(songInfo):\n",
    "#     break songInfo field into its parts\n",
    "    diff = np.NaN\n",
    "    tuning = np.NaN\n",
    "    capo = np.NaN\n",
    "    key = np.NaN\n",
    "    other = np.NaN\n",
    "# loop through since some values may be missing (i.e no capo listed). weird values stored in the \"other\" column\n",
    "    if type(songInfo)==int:\n",
    "        print(songInfo)\n",
    "    for i in songInfo:\n",
    "        infoList=i.split(': ')\n",
    "        if len(infoList)==2:\n",
    "            infoType=infoList[0]\n",
    "            value=infoList[1]\n",
    "            if infoType=='Difficulty':\n",
    "                diff=value\n",
    "            elif infoType=='Tuning':\n",
    "                tuning=value\n",
    "            elif infoType=='Capo':\n",
    "                capo=value\n",
    "            elif infoType=='Key':\n",
    "                key=value\n",
    "            else:\n",
    "                other=i\n",
    "        else:\n",
    "            other=i            \n",
    "    return pd.Series([diff, tuning, capo, key, other])\n",
    "\n",
    "# remove duplicate genre and decades from data\n",
    "def removeDuplicates(row):\n",
    "    decade=list(set(row['decade']))\n",
    "    genre=list(set(row['genre']))\n",
    "    return pd.Series([decade, genre])\n",
    "\n",
    "# def cleanUrl(rawUrl):\n",
    "#     urlList=rawUrl.split('/')\n",
    "#     urlShort=urlList[4:6]\n",
    "#     artistName=urlShort[0].replace('-',' ')\n",
    "#     songName=urlShort[1].split('-chords')[0].replace('-',' ')\n",
    "#     return pd.Series([artistName, songName])\n",
    "\n",
    "\n",
    "\n",
    "# df[['artistName', 'songName']]=df.url.apply(cleanUrl)\n",
    "df[['song','artist']]=df.songArtist.apply(cleanSongArtist)\n",
    "df[['chordList', 'chordOrder', 'genre', 'decade', 'songInfo']]=df.apply(stringToList, axis=1)\n",
    "df[['difficulty', 'tuning', 'capo', 'key','other']]=df.songInfo.apply(cleanSongInfo)\n",
    "df[['decade','genre']]=df.apply(removeDuplicates, axis=1)\n",
    "df.drop(['new_x', 'new_y', 'songInfo', 'topInfo', 'songArtist'], axis=1, inplace=True)\n",
    "df.rename(columns={'chordList':'uniqueChords'},inplace=True)\n",
    "\n",
    "\n",
    "df.head()   \n"
   ]
  },
  {
   "cell_type": "markdown",
   "metadata": {},
   "source": [
    "## 3. EDA\n",
    "\n",
    "Let's now do a basic exploratory analysis of our data, we could have to clean up some more as we expose more issues. The main focus of this analysis is on the chords, however I want to get a baseline understanding of this data set first, so I'll step through each field one by one until we reach the chords...we'll go more in depth once we arrive at the chords."
   ]
  },
  {
   "cell_type": "markdown",
   "metadata": {},
   "source": [
    "### Decades\n",
    "\n",
    "We'll start with the decades field. Lets see the breakdown of how much of our data is from each decade. From the start, it seems a bit weird that we have tabs with multiple decades...that could be something to look into here as well."
   ]
  },
  {
   "cell_type": "code",
   "execution_count": 65,
   "metadata": {},
   "outputs": [
    {
     "data": {
      "text/plain": [
       "<matplotlib.axes._subplots.AxesSubplot at 0x1242a84e0>"
      ]
     },
     "execution_count": 65,
     "metadata": {},
     "output_type": "execute_result"
    },
    {
     "data": {
      "image/png": "[encoded data removed]",
      "text/plain": [
       "<Figure size 432x288 with 1 Axes>"
      ]
     },
     "metadata": {
      "needs_background": "light"
     },
     "output_type": "display_data"
    }
   ],
   "source": [
    "pd.Series(df.decade.sum()).value_counts().plot(kind=\"bar\")"
   ]
  },
  {
   "cell_type": "markdown",
   "metadata": {},
   "source": [
    "Wow, lots of 1940's....seems a bit off. After a quick check on the ultimate guitar website I realized that there are no 1940's chords at all. Turns out there was a bug in my web scraper that was adding in that date as a filter. I should have only been going back to 1950. \n",
    "\n",
    "This might explain why there are multiple decades for some songs. A song can only be from one decade. Lets see if all of these multi-decade songs have a 1940 in them."
   ]
  },
  {
   "cell_type": "code",
   "execution_count": 66,
   "metadata": {},
   "outputs": [
    {
     "name": "stdout",
     "output_type": "stream",
     "text": [
      "Entries with multiple decade values:  36528\n",
      "Multiple decade values that contain 1940:  36528\n",
      "Maximum length of duplicate values:  2\n"
     ]
    }
   ],
   "source": [
    "a=df[df['decade'].map(len)>1]\n",
    "print('Entries with multiple decade values: ', a.size)\n",
    "mask = a.decade.apply(lambda x: 1940 in x)\n",
    "print('Multiple decade values that contain 1940: ', a[mask].size)\n",
    "newCol=a['decade'].map(len)\n",
    "print('Maximum length of duplicate values: ', max(newCol))"
   ]
  },
  {
   "cell_type": "markdown",
   "metadata": {},
   "source": [
    "Awesome news...all of these entries that have multiple decade values have 2 decades in their list, and one of those decades is a 1940. Also, when I check out those filters on ultimate guitar, it seems all of the rest of the info is correct...so all I need to do is remove the \"1940\" decade tag from them and the rest of the data is still good values. We shouldn't have any more duplicate decades after that."
   ]
  },
  {
   "cell_type": "code",
   "execution_count": 67,
   "metadata": {},
   "outputs": [
    {
     "data": {
      "text/plain": [
       "<matplotlib.axes._subplots.AxesSubplot at 0x11e904518>"
      ]
     },
     "execution_count": 67,
     "metadata": {},
     "output_type": "execute_result"
    },
    {
     "data": {
      "image/png": "[encoded data removed]",
      "text/plain": [
       "<Figure size 432x288 with 1 Axes>"
      ]
     },
     "metadata": {
      "needs_background": "light"
     },
     "output_type": "display_data"
    }
   ],
   "source": [
    "# remove 1940s from data. found during initial data analysis that these values were brought in incorrectly...no 1940 data online. when scraping for 1940 it just removes that filter but keeps the other (genre)\n",
    "def removeFourtys(decades):\n",
    "    newList=[]\n",
    "    for dec in decades:\n",
    "        if dec!=1940:\n",
    "            newList.append(dec)\n",
    "    if len(newList)>0:\n",
    "        return str(max(newList))\n",
    "    else:\n",
    "        return np.NaN\n",
    "\n",
    "df['decade']=df.decade.apply(removeFourtys)\n",
    "df.fillna('Missing').decade.value_counts().plot(kind='bar')\n"
   ]
  },
  {
   "cell_type": "markdown",
   "metadata": {},
   "source": [
    "Much better...After removing 1940 as a possible decade, we see that most of our tabs are from recent decades. The amount of tabs decreases as we go further back in time. There are a couple of tabs now missing decades since all they had were \"1940\". We can either clean those up by hand or just remove them...\n",
    "\n",
    "(PS I've also gone ahead and fixed that bug in my scraper in case any one else wants to use it!) "
   ]
  },
  {
   "cell_type": "markdown",
   "metadata": {},
   "source": [
    "### Genres"
   ]
  },
  {
   "cell_type": "code",
   "execution_count": 68,
   "metadata": {},
   "outputs": [
    {
     "data": {
      "text/plain": [
       "<matplotlib.axes._subplots.AxesSubplot at 0x11e2d4be0>"
      ]
     },
     "execution_count": 68,
     "metadata": {},
     "output_type": "execute_result"
    },
    {
     "data": {
      "image/png": "[encoded data removed]",
      "text/plain": [
       "<Figure size 432x288 with 1 Axes>"
      ]
     },
     "metadata": {
      "needs_background": "light"
     },
     "output_type": "display_data"
    }
   ],
   "source": [
    "pd.Series(df.genre.sum()).value_counts().plot(kind=\"bar\")"
   ]
  },
  {
   "cell_type": "markdown",
   "metadata": {},
   "source": [
    "Similar to decades, a song potentially has multiple genres. However, unlike decades, having multiple genres is definitely possible. "
   ]
  },
  {
   "cell_type": "code",
   "execution_count": 69,
   "metadata": {},
   "outputs": [
    {
     "name": "stdout",
     "output_type": "stream",
     "text": [
      "Entries with multiple genre values:  18636\n"
     ]
    },
    {
     "data": {
      "text/plain": [
       "Text(0, 0.5, 'Count')"
      ]
     },
     "execution_count": 69,
     "metadata": {},
     "output_type": "execute_result"
    },
    {
     "data": {
      "image/png": "[encoded data removed]",
      "text/plain": [
       "<Figure size 432x288 with 1 Axes>"
      ]
     },
     "metadata": {
      "needs_background": "light"
     },
     "output_type": "display_data"
    }
   ],
   "source": [
    "a=df[df['genre'].map(len)>1]\n",
    "print('Entries with multiple genre values: ', a.size)\n",
    "# newCol=a['genre'].map(len)\n",
    "# print('Maximum length of duplicate values: ', max(newCol))\n",
    "ax =df['genre'].map(len).value_counts().plot(kind='bar', title='Number of Genres a Song Has')\n",
    "ax.set_xlabel(\"Genres\")\n",
    "ax.set_ylabel(\"Count\")"
   ]
  },
  {
   "cell_type": "markdown",
   "metadata": {},
   "source": [
    "So most songs only have one genre, but we still have quite a few with multiple (some even have 5). There's no reason to try and choose one genre for each song, as it could be interesting to to explore songs that cross genres, how they are related, etc. However, a list may not be the best format for comparing them. Lets try and see what the most popular crossover genres are. We will transform the field to be a sorted tuple for direct comparisons and hashing ability."
   ]
  },
  {
   "cell_type": "code",
   "execution_count": 70,
   "metadata": {},
   "outputs": [
    {
     "data": {
      "text/plain": [
       "<matplotlib.axes._subplots.AxesSubplot at 0x12514eb38>"
      ]
     },
     "execution_count": 70,
     "metadata": {},
     "output_type": "execute_result"
    },
    {
     "data": {
      "image/png": "[encoded data removed]",
      "text/plain": [
       "<Figure size 432x288 with 1 Axes>"
      ]
     },
     "metadata": {
      "needs_background": "light"
     },
     "output_type": "display_data"
    }
   ],
   "source": [
    "df['genre']=df.genre.apply(sorted).apply(tuple)\n",
    "df[df['genre'].map(len)>1]['genre'].value_counts().sort_values(ascending=False).head(15).plot(kind='bar')"
   ]
  },
  {
   "cell_type": "markdown",
   "metadata": {},
   "source": [
    "These all seem legit! \n",
    "\n",
    "Another thing I'm interested to see is how our decades and genres are related. I would assume that most of our Pop songs are from 2000's on, and Jazz would be earlier on. Lets try to graph this breakdown. It will be a good excercise in playing with pandas group by's as well"
   ]
  },
  {
   "cell_type": "code",
   "execution_count": 71,
   "metadata": {},
   "outputs": [
    {
     "data": {
      "text/plain": [
       "<matplotlib.axes._subplots.AxesSubplot at 0x125a5e4a8>"
      ]
     },
     "execution_count": 71,
     "metadata": {},
     "output_type": "execute_result"
    },
    {
     "data": {
      "image/png": "[encoded data removed]",
      "text/plain": [
       "<Figure size 432x288 with 1 Axes>"
      ]
     },
     "metadata": {
      "needs_background": "light"
     },
     "output_type": "display_data"
    }
   ],
   "source": [
    "groups=df.groupby('decade')['genre'].apply(lambda x: list(x)).apply(lambda x: [item for sublist in x for item in sublist]).apply(lambda x: pd.Series(x).value_counts())\n",
    "groups[['Pop','Folk','Rock','Rhythm And Blues','Country','Metal']].plot(kind='bar', stacked=True)"
   ]
  },
  {
   "cell_type": "markdown",
   "metadata": {},
   "source": [
    "Nevermind! There actually is a fairly even split among all decades. This is honestly unexpected. This means that when I filtered on UG by \"2010+Pop\", I recieved a similar amount of data for the filter \"1980+Pop\". This is great that we have a balanced data set though! That was one of the reasons of scraping in the way I did."
   ]
  },
  {
   "cell_type": "markdown",
   "metadata": {},
   "source": [
    "### Songs and Artists"
   ]
  },
  {
   "cell_type": "markdown",
   "metadata": {},
   "source": [
    "Lets take a look at our artists first. I wonder how many diferent artists we have in this dataset?"
   ]
  },
  {
   "cell_type": "code",
   "execution_count": 72,
   "metadata": {},
   "outputs": [
    {
     "name": "stdout",
     "output_type": "stream",
     "text": [
      "Unique artists in data set:  872\n"
     ]
    }
   ],
   "source": [
    "print(\"Unique artists in data set: \", df.artist.nunique())"
   ]
  },
  {
   "cell_type": "markdown",
   "metadata": {},
   "source": [
    "Interesting, so we only have 872 unique artist, but we have over 10000 tabs. That means we have multiple songs per artist. Lets see which artists have the most songs in our dataset"
   ]
  },
  {
   "cell_type": "code",
   "execution_count": 73,
   "metadata": {},
   "outputs": [
    {
     "data": {
      "text/plain": [
       "<matplotlib.axes._subplots.AxesSubplot at 0x125cb7400>"
      ]
     },
     "execution_count": 73,
     "metadata": {},
     "output_type": "execute_result"
    },
    {
     "data": {
      "image/png": "[encoded data removed]",
      "text/plain": [
       "<Figure size 432x288 with 1 Axes>"
      ]
     },
     "metadata": {
      "needs_background": "light"
     },
     "output_type": "display_data"
    }
   ],
   "source": [
    "df.artist.value_counts().head(10).plot(kind='bar', title='Tabs per artist')"
   ]
  },
  {
   "cell_type": "code",
   "execution_count": 74,
   "metadata": {},
   "outputs": [],
   "source": [
    "# df.artist.value_counts().plot(kind='hist', bins=25,title='Tabs per artist', edgecolor='k')\n",
    "# ax = sns.distplot(df.artist.value_counts(),bins=25 ,hist=True, color='b',hist_kws=dict(edgecolor=\"k\", linewidth=2))\n",
    "# plt.title('Distribution of Tab Count Per Artist') \n",
    "# plt.ylabel('Frequency')\n",
    "# plt.xlabel('Tab Count')"
   ]
  },
  {
   "cell_type": "markdown",
   "metadata": {},
   "source": [
    "Lets look at the top artist from this group, Bob Dylan, to get an idea of what a breakdown of all his songs are"
   ]
  },
  {
   "cell_type": "code",
   "execution_count": 75,
   "metadata": {},
   "outputs": [
    {
     "name": "stdout",
     "output_type": "stream",
     "text": [
      "number of bob dylan songs with tabs:  152\n",
      "number of bob dylan songs with multiple versions:  80\n"
     ]
    },
    {
     "data": {
      "text/plain": [
       "<matplotlib.axes._subplots.AxesSubplot at 0x125b4b5f8>"
      ]
     },
     "execution_count": 75,
     "metadata": {},
     "output_type": "execute_result"
    },
    {
     "data": {
      "image/png": "[encoded data removed]",
      "text/plain": [
       "<Figure size 432x288 with 1 Axes>"
      ]
     },
     "metadata": {
      "needs_background": "light"
     },
     "output_type": "display_data"
    }
   ],
   "source": [
    "dylan=df[df['artist']==\"Bob Dylan\"]\n",
    "dylanSongs=dylan.groupby('song').size().sort_values(ascending=False)\n",
    "print(\"number of bob dylan songs with tabs: \", len(dylanSongs))\n",
    "print(\"number of bob dylan songs with multiple versions: \",len(dylanSongs[dylanSongs>1]) )\n",
    "dylanSongs.head(20).plot(kind='bar', title=\"Versions of Bob Dylan Songs\")"
   ]
  },
  {
   "cell_type": "markdown",
   "metadata": {},
   "source": [
    "lets look specifically into Blowing in the Wind to see what the differences are"
   ]
  },
  {
   "cell_type": "code",
   "execution_count": 76,
   "metadata": {},
   "outputs": [
    {
     "data": {
      "text/html": [
       "<div>\n",
       "<style scoped>\n",
       "    .dataframe tbody tr th:only-of-type {\n",
       "        vertical-align: middle;\n",
       "    }\n",
       "\n",
       "    .dataframe tbody tr th {\n",
       "        vertical-align: top;\n",
       "    }\n",
       "\n",
       "    .dataframe thead th {\n",
       "        text-align: right;\n",
       "    }\n",
       "</style>\n",
       "<table border=\"1\" class=\"dataframe\">\n",
       "  <thead>\n",
       "    <tr style=\"text-align: right;\">\n",
       "      <th></th>\n",
       "      <th>url</th>\n",
       "      <th>chordOrder</th>\n",
       "      <th>uniqueChords</th>\n",
       "      <th>song</th>\n",
       "      <th>artist</th>\n",
       "      <th>genre</th>\n",
       "      <th>decade</th>\n",
       "      <th>difficulty</th>\n",
       "      <th>tuning</th>\n",
       "      <th>capo</th>\n",
       "      <th>key</th>\n",
       "      <th>other</th>\n",
       "    </tr>\n",
       "  </thead>\n",
       "  <tbody>\n",
       "    <tr>\n",
       "      <th>4996</th>\n",
       "      <td>https://tabs.ultimate-guitar.com/tab/bob-dylan/blowin-in-the-wind-chords-1086954</td>\n",
       "      <td>[D, D, G, D, G, D, D, G, D, G, A, D, G, D, G, D, G, A, D, Bm, G, A, D, G, A, D, Bm, G, A, D, D, G, D, G, D, D, G, D, G, A, D, G, D, G, D, G, A, D, Bm, G, A, D, G, A, D, Bm, G, A, D, D, G, D, G, D, D, G, D, G, A, D, G, D, G, D, G, A, D, Bm, G, A, D, G, A, D, Bm, G, A, D]</td>\n",
       "      <td>[D, G, A, Bm]</td>\n",
       "      <td>Blowin In The Wind</td>\n",
       "      <td>Bob Dylan</td>\n",
       "      <td>(Folk, Rock)</td>\n",
       "      <td>1960</td>\n",
       "      <td>novice</td>\n",
       "      <td>NaN</td>\n",
       "      <td>NaN</td>\n",
       "      <td>D</td>\n",
       "      <td>NaN</td>\n",
       "    </tr>\n",
       "    <tr>\n",
       "      <th>4997</th>\n",
       "      <td>https://tabs.ultimate-guitar.com/tab/bob-dylan/blowin-in-the-wind-chords-147936</td>\n",
       "      <td>[C, F, C, Am, C, F, G, G7, C, F, C, Am, C, F, G, G7, C, F, C, Am, C, F, G, F, G, C, E7, Am, F, G, C, C, F, C, Am, C, F, G, G7, C, F, C, Am, C, F, G, G7, C, F, C, Am, C, F, G, G7, F, G, C, E7, Am, F, G, C, C, F, C, Am, C, F, G, G7, C, F, C, Am, C, F, G, G7, C, F, C, Am, C, F, G, G7, F, G, C, E7, Am, F, G, C]</td>\n",
       "      <td>[C, F, Am, G, G7, E7]</td>\n",
       "      <td>Blowin In The Wind</td>\n",
       "      <td>Bob Dylan</td>\n",
       "      <td>(Folk, Rock)</td>\n",
       "      <td>1960</td>\n",
       "      <td>NaN</td>\n",
       "      <td>E A D G B E</td>\n",
       "      <td>NaN</td>\n",
       "      <td>NaN</td>\n",
       "      <td>NaN</td>\n",
       "    </tr>\n",
       "    <tr>\n",
       "      <th>4998</th>\n",
       "      <td>https://tabs.ultimate-guitar.com/tab/bob-dylan/blowin-in-the-wind-chords-14835</td>\n",
       "      <td>[G, C, D, G, C, G, G, C, D, G, C, D, G, C, D, G, C, G, C, D, G, C, D, G, C, D, G, C, C, D, G, G, C, D, G, C, G, G, C, D, G, C, D, G, C, D, G, C, G, C, D, G, C, D, G, C, D, G, C, C, D, G, G, C, D, G, C, G, G, C, D, G, C, D, G, C, D, G, C, G, C, D, G, C, D, G, C, D, G, C, C, D, G]</td>\n",
       "      <td>[G, C, D]</td>\n",
       "      <td>Blowin In The Wind</td>\n",
       "      <td>Bob Dylan</td>\n",
       "      <td>(Folk, Rock)</td>\n",
       "      <td>1960</td>\n",
       "      <td>novice</td>\n",
       "      <td>E A D G B E</td>\n",
       "      <td>7th fret</td>\n",
       "      <td>D</td>\n",
       "      <td>NaN</td>\n",
       "    </tr>\n",
       "    <tr>\n",
       "      <th>4999</th>\n",
       "      <td>https://tabs.ultimate-guitar.com/tab/bob-dylan/blowin-in-the-wind-chords-14845</td>\n",
       "      <td>[C, D, G, C, D, G, G, C, D, G, C, D, G, C, D, G, C, D, G, C, D, G, C, D, G, C, D, G, C, D, G, C, D, G, C, D, G, C, D, G, C, D, G, C, D, G, C, D, G, C, D, G, C, D, G, C, D, G, C, D]</td>\n",
       "      <td>[C, D, G]</td>\n",
       "      <td>Blowin In The Wind</td>\n",
       "      <td>Bob Dylan</td>\n",
       "      <td>(Folk, Rock)</td>\n",
       "      <td>1960</td>\n",
       "      <td>NaN</td>\n",
       "      <td>NaN</td>\n",
       "      <td>NaN</td>\n",
       "      <td>NaN</td>\n",
       "      <td>NaN</td>\n",
       "    </tr>\n",
       "    <tr>\n",
       "      <th>5000</th>\n",
       "      <td>https://tabs.ultimate-guitar.com/tab/bob-dylan/blowin-in-the-wind-chords-1813913</td>\n",
       "      <td>[G, C, G, C, G, G, C, G, C, D, G, C, G, C, G, C, D, G, Em, C, D, G, C, D, G, Em, C, D, G, G, C, G, C, G, G, C, G, C, D, G, C, G, C, G, C, D, G, Em, C, D, G, C, D, G, Em, C, D, G, G, C, G, C, G, G, C, G, C, D, G, C, G, C, G, C, D, G, Em, C, D, G]</td>\n",
       "      <td>[G, C, D, Em]</td>\n",
       "      <td>Blowin In The Wind</td>\n",
       "      <td>Bob Dylan</td>\n",
       "      <td>(Folk, Rock)</td>\n",
       "      <td>1960</td>\n",
       "      <td>novice</td>\n",
       "      <td>E A D G B E</td>\n",
       "      <td>6th fret</td>\n",
       "      <td>NaN</td>\n",
       "      <td>NaN</td>\n",
       "    </tr>\n",
       "    <tr>\n",
       "      <th>5001</th>\n",
       "      <td>https://tabs.ultimate-guitar.com/tab/bob-dylan/blowin-in-the-wind-chords-2273011</td>\n",
       "      <td>[G, G, C, G/B, D/A, G, G, C, G/B, G, G, C, G/B, D/A, G, G, C, G/B, D/A, G, C, G/B, D/A, G, G, C, G/B, G, C, C/B, D/A, D/F#, G, C, C/G, C, C/B, D/A, G, C, C/B, D/A, D/F#, G, C, C/G, C, C/B, D/A, G, G, G, C, G/B, D/A, G, G, C, G/B, G, G, C, G/B, D/A, G, G, C, G/B, D/A, G, C, G/B, D/A, G, G, C, G/B, G, C, C/B, D/A, D/F#, G, C, C/G, C, C/B, D/A, G, C, C/B, D/A, G, C, C/G, C, C/B, D/A, D/F#, G, ...]</td>\n",
       "      <td>[G, C, G/B, D/A, C/B, D/F#, C/G, D]</td>\n",
       "      <td>Blowin In The Wind</td>\n",
       "      <td>Bob Dylan</td>\n",
       "      <td>(Folk,)</td>\n",
       "      <td>1960</td>\n",
       "      <td>intermediate</td>\n",
       "      <td>E A D G B E</td>\n",
       "      <td>7th fret</td>\n",
       "      <td>D</td>\n",
       "      <td>Chords for the classic acoustic version from \"The Freewheelin' Bob Dylan\": https://www.youtube.com/watch?v=MMFj8uDubsE / intermediate with split chords - including the bass line played on the 5th and 6th string. Was this info helpful?YesNo</td>\n",
       "    </tr>\n",
       "    <tr>\n",
       "      <th>5002</th>\n",
       "      <td>https://tabs.ultimate-guitar.com/tab/bob-dylan/blowin-in-the-wind-chords-660670</td>\n",
       "      <td>[D, D, G, A, D, G, D, G, A, D, G, A, D, G, A, D, G, D, G, A, D, Bm, G, A, D, G, A, D, Bm, G, A, D, D, G, A, D, G, D, G, A, D, G, A, D, G, A, D, G, D, G, A, D, Bm, G, A, D, G, A, D, Bm, G, A, D, D, G, A, D, G, D, G, A, D, G, A, D, G, A, D, G, D, G, A, D, Bm, G, A, D, G, A, D, Bm, G, A, D]</td>\n",
       "      <td>[D, G, A, Bm]</td>\n",
       "      <td>Blowin In The Wind</td>\n",
       "      <td>Bob Dylan</td>\n",
       "      <td>(Folk,)</td>\n",
       "      <td>1960</td>\n",
       "      <td>NaN</td>\n",
       "      <td>E A D G B E</td>\n",
       "      <td>NaN</td>\n",
       "      <td>NaN</td>\n",
       "      <td>NaN</td>\n",
       "    </tr>\n",
       "    <tr>\n",
       "      <th>5003</th>\n",
       "      <td>https://tabs.ultimate-guitar.com/tab/bob-dylan/blowin-in-the-wind-chords-771892</td>\n",
       "      <td>[G, C, G, C, G, G, C, G, C, D, G, C, G, C, G, C, D, G, C, C, D, G, C, D, G, C, C, D, G, G, C, G, C, G, G, C, G, C, D, G, C, G, C, G, C, D, G, C, C, D, G, G, C, G, G, C, G, G, C, G, G, C, D, G, C, G, G, C, G, C, D, G, C, C, D, G]</td>\n",
       "      <td>[G, C, D]</td>\n",
       "      <td>Blowin In The Wind</td>\n",
       "      <td>Bob Dylan</td>\n",
       "      <td>(Folk,)</td>\n",
       "      <td>1960</td>\n",
       "      <td>NaN</td>\n",
       "      <td>E A D G B E</td>\n",
       "      <td>NaN</td>\n",
       "      <td>NaN</td>\n",
       "      <td>NaN</td>\n",
       "    </tr>\n",
       "    <tr>\n",
       "      <th>5004</th>\n",
       "      <td>https://tabs.ultimate-guitar.com/tab/bob-dylan/blowin-in-the-wind-chords-995791</td>\n",
       "      <td>[C, F, C, C, C, F, C, C, C, F, C, C, C, F, C, C, C, F, G, G, C, F, C, G, C, F, G, F, G, C, Am, F, G, C, C, C, F, C, C, C, F, C, C, C, F, C, C, C, F, C, C, C, F, G, G, C, F, C, C, C, F, G, F, G, C, Am, F, G, C, C, C, F, C, C, C, F, C, C, C, F, C, C, C, F, C, C, C, F, G, G, C, F, C, C, C, F, G, F, G, C, ...]</td>\n",
       "      <td>[C, F, G, Am]</td>\n",
       "      <td>Blowin In The Wind</td>\n",
       "      <td>Bob Dylan</td>\n",
       "      <td>(Folk,)</td>\n",
       "      <td>1960</td>\n",
       "      <td>novice</td>\n",
       "      <td>E A D G B E</td>\n",
       "      <td>2nd fret</td>\n",
       "      <td>NaN</td>\n",
       "      <td>NaN</td>\n",
       "    </tr>\n",
       "  </tbody>\n",
       "</table>\n",
       "</div>"
      ],
      "text/plain": [
       "                                                                                   url  \\\n",
       "4996  https://tabs.ultimate-guitar.com/tab/bob-dylan/blowin-in-the-wind-chords-1086954   \n",
       "4997  https://tabs.ultimate-guitar.com/tab/bob-dylan/blowin-in-the-wind-chords-147936    \n",
       "4998  https://tabs.ultimate-guitar.com/tab/bob-dylan/blowin-in-the-wind-chords-14835     \n",
       "4999  https://tabs.ultimate-guitar.com/tab/bob-dylan/blowin-in-the-wind-chords-14845     \n",
       "5000  https://tabs.ultimate-guitar.com/tab/bob-dylan/blowin-in-the-wind-chords-1813913   \n",
       "5001  https://tabs.ultimate-guitar.com/tab/bob-dylan/blowin-in-the-wind-chords-2273011   \n",
       "5002  https://tabs.ultimate-guitar.com/tab/bob-dylan/blowin-in-the-wind-chords-660670    \n",
       "5003  https://tabs.ultimate-guitar.com/tab/bob-dylan/blowin-in-the-wind-chords-771892    \n",
       "5004  https://tabs.ultimate-guitar.com/tab/bob-dylan/blowin-in-the-wind-chords-995791    \n",
       "\n",
       "                                                                                                                                                                                                                                                                                                                                                                                                         chordOrder  \\\n",
       "4996  [D, D, G, D, G, D, D, G, D, G, A, D, G, D, G, D, G, A, D, Bm, G, A, D, G, A, D, Bm, G, A, D, D, G, D, G, D, D, G, D, G, A, D, G, D, G, D, G, A, D, Bm, G, A, D, G, A, D, Bm, G, A, D, D, G, D, G, D, D, G, D, G, A, D, G, D, G, D, G, A, D, Bm, G, A, D, G, A, D, Bm, G, A, D]                                                                                                                                  \n",
       "4997  [C, F, C, Am, C, F, G, G7, C, F, C, Am, C, F, G, G7, C, F, C, Am, C, F, G, F, G, C, E7, Am, F, G, C, C, F, C, Am, C, F, G, G7, C, F, C, Am, C, F, G, G7, C, F, C, Am, C, F, G, G7, F, G, C, E7, Am, F, G, C, C, F, C, Am, C, F, G, G7, C, F, C, Am, C, F, G, G7, C, F, C, Am, C, F, G, G7, F, G, C, E7, Am, F, G, C]                                                                                            \n",
       "4998  [G, C, D, G, C, G, G, C, D, G, C, D, G, C, D, G, C, G, C, D, G, C, D, G, C, D, G, C, C, D, G, G, C, D, G, C, G, G, C, D, G, C, D, G, C, D, G, C, G, C, D, G, C, D, G, C, D, G, C, C, D, G, G, C, D, G, C, G, G, C, D, G, C, D, G, C, D, G, C, G, C, D, G, C, D, G, C, D, G, C, C, D, G]                                                                                                                         \n",
       "4999  [C, D, G, C, D, G, G, C, D, G, C, D, G, C, D, G, C, D, G, C, D, G, C, D, G, C, D, G, C, D, G, C, D, G, C, D, G, C, D, G, C, D, G, C, D, G, C, D, G, C, D, G, C, D, G, C, D, G, C, D]                                                                                                                                                                                                                            \n",
       "5000  [G, C, G, C, G, G, C, G, C, D, G, C, G, C, G, C, D, G, Em, C, D, G, C, D, G, Em, C, D, G, G, C, G, C, G, G, C, G, C, D, G, C, G, C, G, C, D, G, Em, C, D, G, C, D, G, Em, C, D, G, G, C, G, C, G, G, C, G, C, D, G, C, G, C, G, C, D, G, Em, C, D, G]                                                                                                                                                           \n",
       "5001  [G, G, C, G/B, D/A, G, G, C, G/B, G, G, C, G/B, D/A, G, G, C, G/B, D/A, G, C, G/B, D/A, G, G, C, G/B, G, C, C/B, D/A, D/F#, G, C, C/G, C, C/B, D/A, G, C, C/B, D/A, D/F#, G, C, C/G, C, C/B, D/A, G, G, G, C, G/B, D/A, G, G, C, G/B, G, G, C, G/B, D/A, G, G, C, G/B, D/A, G, C, G/B, D/A, G, G, C, G/B, G, C, C/B, D/A, D/F#, G, C, C/G, C, C/B, D/A, G, C, C/B, D/A, G, C, C/G, C, C/B, D/A, D/F#, G, ...]   \n",
       "5002  [D, D, G, A, D, G, D, G, A, D, G, A, D, G, A, D, G, D, G, A, D, Bm, G, A, D, G, A, D, Bm, G, A, D, D, G, A, D, G, D, G, A, D, G, A, D, G, A, D, G, D, G, A, D, Bm, G, A, D, G, A, D, Bm, G, A, D, D, G, A, D, G, D, G, A, D, G, A, D, G, A, D, G, D, G, A, D, Bm, G, A, D, G, A, D, Bm, G, A, D]                                                                                                                \n",
       "5003  [G, C, G, C, G, G, C, G, C, D, G, C, G, C, G, C, D, G, C, C, D, G, C, D, G, C, C, D, G, G, C, G, C, G, G, C, G, C, D, G, C, G, C, G, C, D, G, C, C, D, G, G, C, G, G, C, G, G, C, G, G, C, D, G, C, G, G, C, G, C, D, G, C, C, D, G]                                                                                                                                                                            \n",
       "5004  [C, F, C, C, C, F, C, C, C, F, C, C, C, F, C, C, C, F, G, G, C, F, C, G, C, F, G, F, G, C, Am, F, G, C, C, C, F, C, C, C, F, C, C, C, F, C, C, C, F, C, C, C, F, G, G, C, F, C, C, C, F, G, F, G, C, Am, F, G, C, C, C, F, C, C, C, F, C, C, C, F, C, C, C, F, C, C, C, F, G, G, C, F, C, C, C, F, G, F, G, C, ...]                                                                                             \n",
       "\n",
       "                             uniqueChords                song     artist  \\\n",
       "4996  [D, G, A, Bm]                        Blowin In The Wind  Bob Dylan   \n",
       "4997  [C, F, Am, G, G7, E7]                Blowin In The Wind  Bob Dylan   \n",
       "4998  [G, C, D]                            Blowin In The Wind  Bob Dylan   \n",
       "4999  [C, D, G]                            Blowin In The Wind  Bob Dylan   \n",
       "5000  [G, C, D, Em]                        Blowin In The Wind  Bob Dylan   \n",
       "5001  [G, C, G/B, D/A, C/B, D/F#, C/G, D]  Blowin In The Wind  Bob Dylan   \n",
       "5002  [D, G, A, Bm]                        Blowin In The Wind  Bob Dylan   \n",
       "5003  [G, C, D]                            Blowin In The Wind  Bob Dylan   \n",
       "5004  [C, F, G, Am]                        Blowin In The Wind  Bob Dylan   \n",
       "\n",
       "             genre decade    difficulty       tuning      capo  key  \\\n",
       "4996  (Folk, Rock)  1960   novice        NaN          NaN       D     \n",
       "4997  (Folk, Rock)  1960   NaN           E A D G B E  NaN       NaN   \n",
       "4998  (Folk, Rock)  1960   novice        E A D G B E  7th fret  D     \n",
       "4999  (Folk, Rock)  1960   NaN           NaN          NaN       NaN   \n",
       "5000  (Folk, Rock)  1960   novice        E A D G B E  6th fret  NaN   \n",
       "5001  (Folk,)       1960   intermediate  E A D G B E  7th fret  D     \n",
       "5002  (Folk,)       1960   NaN           E A D G B E  NaN       NaN   \n",
       "5003  (Folk,)       1960   NaN           E A D G B E  NaN       NaN   \n",
       "5004  (Folk,)       1960   novice        E A D G B E  2nd fret  NaN   \n",
       "\n",
       "                                                                                                                                                                                                                                                other  \n",
       "4996  NaN                                                                                                                                                                                                                                              \n",
       "4997  NaN                                                                                                                                                                                                                                              \n",
       "4998  NaN                                                                                                                                                                                                                                              \n",
       "4999  NaN                                                                                                                                                                                                                                              \n",
       "5000  NaN                                                                                                                                                                                                                                              \n",
       "5001  Chords for the classic acoustic version from \"The Freewheelin' Bob Dylan\": https://www.youtube.com/watch?v=MMFj8uDubsE / intermediate with split chords - including the bass line played on the 5th and 6th string. Was this info helpful?YesNo  \n",
       "5002  NaN                                                                                                                                                                                                                                              \n",
       "5003  NaN                                                                                                                                                                                                                                              \n",
       "5004  NaN                                                                                                                                                                                                                                              "
      ]
     },
     "execution_count": 76,
     "metadata": {},
     "output_type": "execute_result"
    }
   ],
   "source": [
    "dylan[dylan['song']=='Blowin In The Wind']"
   ]
  },
  {
   "cell_type": "markdown",
   "metadata": {},
   "source": [
    "Interesting, so looks like there are 9 pretty different versions of the same song. There are a few basic versions where the songs only use C D and G. Theres another version with D G A and Bm. Theres also an intermediate version with some more unique chords...\n",
    "\n",
    "Lets look at these multi-versioned songs on a higher level."
   ]
  },
  {
   "cell_type": "code",
   "execution_count": 77,
   "metadata": {},
   "outputs": [
    {
     "name": "stdout",
     "output_type": "stream",
     "text": [
      "Number of unique songs in db:  6365\n",
      "Number of songs that have multiple versions:  5564\n"
     ]
    }
   ],
   "source": [
    "songArtist=df.groupby(['song','artist']).size().sort_values(ascending=False)\n",
    "print(\"Number of unique songs in db: \", len(songArtist))\n",
    "print(\"Number of songs that have multiple versions: \", songArtist[songArtist>1].sum())"
   ]
  },
  {
   "cell_type": "markdown",
   "metadata": {},
   "source": [
    "Interesting, so a majority of our songs all have multiple versions in this data set. It could be interesting to look at differences across versions at some point!\n",
    "\n",
    "As a first step though, lets look at which songs have the most versions in this data set."
   ]
  },
  {
   "cell_type": "code",
   "execution_count": 78,
   "metadata": {},
   "outputs": [
    {
     "data": {
      "text/plain": [
       "<matplotlib.axes._subplots.AxesSubplot at 0x126b27d68>"
      ]
     },
     "execution_count": 78,
     "metadata": {},
     "output_type": "execute_result"
    },
    {
     "data": {
      "image/png": "[encoded data removed]",
      "text/plain": [
       "<Figure size 432x288 with 1 Axes>"
      ]
     },
     "metadata": {
      "needs_background": "light"
     },
     "output_type": "display_data"
    }
   ],
   "source": [
    "(df['song']+'-'+df['artist']).value_counts().head(15).plot(kind='bar')\n",
    "# df.song.value_counts().head(10).plot(kind='bar')"
   ]
  },
  {
   "cell_type": "markdown",
   "metadata": {},
   "source": [
    "Wow Adele really dominates this list, tons of songs with multiple versions."
   ]
  },
  {
   "cell_type": "markdown",
   "metadata": {},
   "source": [
    "### Song Difficulties, Tuning, Capo, and Key (Not Finished)\n",
    "\n",
    "On to the next. These values were all gathered in one field listed at the top of the tab."
   ]
  },
  {
   "cell_type": "code",
   "execution_count": 79,
   "metadata": {},
   "outputs": [
    {
     "data": {
      "text/plain": [
       "<matplotlib.axes._subplots.AxesSubplot at 0x12531a7f0>"
      ]
     },
     "execution_count": 79,
     "metadata": {},
     "output_type": "execute_result"
    },
    {
     "data": {
      "image/png": "[encoded data removed]",
      "text/plain": [
       "<Figure size 432x288 with 1 Axes>"
      ]
     },
     "metadata": {},
     "output_type": "display_data"
    }
   ],
   "source": [
    "df.difficulty.value_counts().plot(kind='pie', title='difficulty')"
   ]
  },
  {
   "cell_type": "code",
   "execution_count": 80,
   "metadata": {},
   "outputs": [
    {
     "data": {
      "text/plain": [
       "<matplotlib.axes._subplots.AxesSubplot at 0x125a67ef0>"
      ]
     },
     "execution_count": 80,
     "metadata": {},
     "output_type": "execute_result"
    },
    {
     "data": {
      "image/png": "[encoded data removed]",
      "text/plain": [
       "<Figure size 432x288 with 1 Axes>"
      ]
     },
     "metadata": {
      "needs_background": "light"
     },
     "output_type": "display_data"
    }
   ],
   "source": [
    "df.tuning.value_counts().plot(kind='bar', title='tuning')"
   ]
  },
  {
   "cell_type": "markdown",
   "metadata": {},
   "source": [
    "Can we assume that all missing tunings are standard tuning?"
   ]
  },
  {
   "cell_type": "code",
   "execution_count": 81,
   "metadata": {},
   "outputs": [
    {
     "data": {
      "text/plain": [
       "<matplotlib.axes._subplots.AxesSubplot at 0x124b4ac88>"
      ]
     },
     "execution_count": 81,
     "metadata": {},
     "output_type": "execute_result"
    },
    {
     "data": {
      "image/png": "[encoded data removed]",
      "text/plain": [
       "<Figure size 432x288 with 1 Axes>"
      ]
     },
     "metadata": {
      "needs_background": "light"
     },
     "output_type": "display_data"
    }
   ],
   "source": [
    "df.key.value_counts().plot(kind='bar')"
   ]
  },
  {
   "cell_type": "code",
   "execution_count": 82,
   "metadata": {},
   "outputs": [],
   "source": [
    "# use other column to add tunings where missing\n",
    "\n",
    "# df['other']= df.other.apply(lambda x: x.lower() if isinstance(x, str) else x)\n",
    "# df.loc[df['other'].str.contains(\"standard tuning\") & df['tuning'].isnull(),\n",
    "#       'tuning']='E A D G B E'"
   ]
  },
  {
   "cell_type": "markdown",
   "metadata": {},
   "source": [
    "## Chords"
   ]
  },
  {
   "cell_type": "markdown",
   "metadata": {},
   "source": [
    "I honestly don't even know where to start with these. I think the best way forward will be to just ask some questions, and try to find answers. That might inform next questions and steps for modeling as well. I'm going to list out some question ideas below.\n",
    "\n",
    "#### Questions to answer\n",
    "\n",
    "* What are the most used chords?\n",
    "\n",
    "* How many chords do most songs have?\n",
    "\n",
    "* What are the total number of unique chords in all the songs\n",
    "\n",
    "* What is the most likely chord to happen after another chord?(i.e what transition should you learn)\n",
    "\n",
    "* How do chords and transitions differ by genre? (how do chords define genres)\n",
    "\n",
    "* What chords do you need to know for each difficulty level?\n",
    "\n",
    "* top chords per genre, decade, artist?\n",
    "* predict the genre or decade based on chords, cardinality, etc?\n",
    "\n",
    "\n",
    "#### Potential cleaning of chords remaining\n",
    "\n",
    "* Changing chord names based on capo??\n",
    "https://www.youtube.com/watch?v=Ky8uOOfI2tY\n",
    "\n",
    "* Adding key based on chords in song\n",
    "\n",
    "* Getting numeric notation chord sequence\n",
    "\n"
   ]
  },
  {
   "cell_type": "markdown",
   "metadata": {},
   "source": [
    "#### What are the most used chords across all songs?"
   ]
  },
  {
   "cell_type": "code",
   "execution_count": 83,
   "metadata": {},
   "outputs": [
    {
     "data": {
      "text/plain": [
       "<matplotlib.axes._subplots.AxesSubplot at 0x1250231d0>"
      ]
     },
     "execution_count": 83,
     "metadata": {},
     "output_type": "execute_result"
    },
    {
     "data": {
      "image/png": "[encoded data removed]",
      "text/plain": [
       "<Figure size 432x288 with 1 Axes>"
      ]
     },
     "metadata": {
      "needs_background": "light"
     },
     "output_type": "display_data"
    }
   ],
   "source": [
    "chordList=df.uniqueChords.sum()\n",
    "((pd.Series(chordList).value_counts().sort_values(ascending=False)/len(df))* 100).head(15).plot(kind='bar', title='Percent of Songs That Have Chord X')"
   ]
  },
  {
   "cell_type": "markdown",
   "metadata": {},
   "source": [
    "Wow G C and D are all in over 50% of the songs in the DB!"
   ]
  },
  {
   "cell_type": "markdown",
   "metadata": {},
   "source": [
    "#### How many unique chords are in this database?"
   ]
  },
  {
   "cell_type": "code",
   "execution_count": 84,
   "metadata": {},
   "outputs": [
    {
     "name": "stdout",
     "output_type": "stream",
     "text": [
      "There are 1730 unique chords used across all songs\n"
     ]
    }
   ],
   "source": [
    "uniqueChords=len(list(set(chordList)))\n",
    "print(\"There are {} unique chords used across all songs\".format(uniqueChords))"
   ]
  },
  {
   "cell_type": "markdown",
   "metadata": {},
   "source": [
    "Is this right?? Are there that many unique chords? Maybe we can check by seeing if chords are used across multiple songs? I would assume if they are only used once in the entire DB of 10k songs, it's likely they are just written in a unique way"
   ]
  },
  {
   "cell_type": "code",
   "execution_count": 85,
   "metadata": {},
   "outputs": [
    {
     "data": {
      "text/plain": [
       "<matplotlib.axes._subplots.AxesSubplot at 0x120d54080>"
      ]
     },
     "execution_count": 85,
     "metadata": {},
     "output_type": "execute_result"
    },
    {
     "data": {
      "image/png": "[encoded data removed]",
      "text/plain": [
       "<Figure size 432x288 with 1 Axes>"
      ]
     },
     "metadata": {
      "needs_background": "light"
     },
     "output_type": "display_data"
    }
   ],
   "source": [
    "chordCounts=pd.Series(chordList).value_counts().sort_values(ascending=False)\n",
    "ranges = [0,1,10,2000,100000]\n",
    "chordCounts.groupby(pd.cut(chordCounts, ranges)).count().plot(kind='bar')\n",
    "\n",
    "# chordCounts.plot(kind='hist', bins=20)\n",
    "\n",
    "sns.distplot(chordCounts)\n",
    "\n",
    "\n",
    "# df.artist.value_counts().plot(kind='hist', bins=25,title='Tabs per artist', edgecolor='k')\n",
    "# ax = sns.distplot(df.artist.value_counts(),bins=25 ,hist=True, color='b',hist_kws=dict(edgecolor=\"k\", linewidth=2))\n",
    "# plt.title('Distribution of Tab Count Per Artist') \n",
    "# plt.ylabel('Frequency')\n",
    "# plt.xlabel('Tab Count')"
   ]
  },
  {
   "cell_type": "code",
   "execution_count": 86,
   "metadata": {},
   "outputs": [
    {
     "data": {
      "text/plain": [
       "<matplotlib.axes._subplots.AxesSubplot at 0x1251b9ef0>"
      ]
     },
     "execution_count": 86,
     "metadata": {},
     "output_type": "execute_result"
    },
    {
     "data": {
      "image/png": "[encoded data removed]",
      "text/plain": [
       "<Figure size 432x288 with 1 Axes>"
      ]
     },
     "metadata": {
      "needs_background": "light"
     },
     "output_type": "display_data"
    }
   ],
   "source": [
    "sns.distplot(chordCounts)"
   ]
  },
  {
   "cell_type": "markdown",
   "metadata": {},
   "source": [
    "https://www.uberchord.com/blog/learn-how-to-read-guitar-chord-chart-symbols/"
   ]
  },
  {
   "cell_type": "markdown",
   "metadata": {},
   "source": [
    "We might need to consider cleaning these chords up, or at least using some subset of them. Lets keep this in mind as we eye a classification task with chords."
   ]
  },
  {
   "cell_type": "markdown",
   "metadata": {},
   "source": [
    "### How many chords do most songs have?\n"
   ]
  },
  {
   "cell_type": "code",
   "execution_count": 87,
   "metadata": {},
   "outputs": [
    {
     "data": {
      "text/plain": [
       "<matplotlib.axes._subplots.AxesSubplot at 0x1250b3f98>"
      ]
     },
     "execution_count": 87,
     "metadata": {},
     "output_type": "execute_result"
    },
    {
     "data": {
      "image/png": "[encoded data removed]",
      "text/plain": [
       "<Figure size 432x288 with 1 Axes>"
      ]
     },
     "metadata": {
      "needs_background": "light"
     },
     "output_type": "display_data"
    }
   ],
   "source": [
    "df['cardinality']=df.uniqueChords.apply(lambda x: len(x))\n",
    "df.cardinality.plot(kind='hist', bins=50)"
   ]
  },
  {
   "cell_type": "code",
   "execution_count": 88,
   "metadata": {},
   "outputs": [
    {
     "name": "stdout",
     "output_type": "stream",
     "text": [
      "Song Chord Info\n",
      "Median Cardinality:  6.0\n",
      "Max Cardinality:  101\n",
      "Min Cardinality:  0\n"
     ]
    }
   ],
   "source": [
    "print('Song Chord Info')\n",
    "print('Median Cardinality: ', df['cardinality'].median())\n",
    "print('Max Cardinality: ', df['cardinality'].max())\n",
    "print('Min Cardinality: ', df['cardinality'].min())"
   ]
  },
  {
   "cell_type": "markdown",
   "metadata": {},
   "source": [
    "These cadinality counts are interesting. Looks like we have some data with no chord data at all. We can remove those from our data set. It could also be worth exploring some of these songs with 50 chords! 101 is our max which is really a lot of chords to have for a song..."
   ]
  },
  {
   "cell_type": "code",
   "execution_count": 89,
   "metadata": {},
   "outputs": [],
   "source": [
    "pd.set_option('display.max_colwidth', -1)\n",
    "#remove songs with no chords\n",
    "df=df[df['cardinality']!=0]\n",
    "# df[df['cardinality']>50]"
   ]
  },
  {
   "cell_type": "markdown",
   "metadata": {},
   "source": [
    "Do difficult songs have more chords?"
   ]
  },
  {
   "cell_type": "code",
   "execution_count": 90,
   "metadata": {},
   "outputs": [],
   "source": [
    "# fig, ax = plt.subplots()\n",
    "\n",
    "# a_heights, a_bins = np.histogram(df[df['difficulty']=='novice'].cardinality)\n",
    "# b_heights, b_bins = np.histogram(df[df['difficulty']=='advanced'].cardinality, bins=a_bins)\n",
    "\n",
    "# width = (a_bins[1] - a_bins[0])/3\n",
    "\n",
    "# ax.bar(a_bins[:-1], a_heights, width=width, facecolor='cornflowerblue')\n",
    "# ax.bar(b_bins[:-1]+width, b_heights, width=width, facecolor='seagreen')"
   ]
  },
  {
   "cell_type": "markdown",
   "metadata": {},
   "source": [
    "### Do songs often use the same chords?"
   ]
  },
  {
   "cell_type": "code",
   "execution_count": 91,
   "metadata": {},
   "outputs": [],
   "source": [
    "# dfNov=df[df['difficulty']=='novice']\n",
    "# dfInt=df[df['difficulty']=='intermediate']\n",
    "# dfAdv=df[df['difficulty']=='advanced']\n",
    "# novChords=pd.Series(dfNov.uniqueChords.sum())"
   ]
  },
  {
   "cell_type": "code",
   "execution_count": 92,
   "metadata": {},
   "outputs": [
    {
     "data": {
      "text/plain": [
       "<matplotlib.axes._subplots.AxesSubplot at 0x1247e97b8>"
      ]
     },
     "execution_count": 92,
     "metadata": {},
     "output_type": "execute_result"
    },
    {
     "data": {
      "image/png": "[encoded data removed]",
      "text/plain": [
       "<Figure size 432x288 with 1 Axes>"
      ]
     },
     "metadata": {
      "needs_background": "light"
     },
     "output_type": "display_data"
    }
   ],
   "source": [
    "# novChords.value_counts()\n",
    "df.uniqueChords.apply(sorted).apply(tuple).value_counts().head(10).plot(kind='bar')"
   ]
  },
  {
   "cell_type": "code",
   "execution_count": 93,
   "metadata": {},
   "outputs": [],
   "source": [
    "df['uniqueChordsTup']=df.uniqueChords.apply(sorted).apply(tuple)"
   ]
  },
  {
   "cell_type": "code",
   "execution_count": 94,
   "metadata": {},
   "outputs": [
    {
     "data": {
      "text/plain": [
       "novice          127\n",
       "intermediate    18 \n",
       "advanced        1  \n",
       "Name: difficulty, dtype: int64"
      ]
     },
     "execution_count": 94,
     "metadata": {},
     "output_type": "execute_result"
    }
   ],
   "source": [
    "df[df['uniqueChords'].apply(sorted).apply(tuple)==('C','D','Em','G')].difficulty.value_counts()"
   ]
  },
  {
   "cell_type": "markdown",
   "metadata": {},
   "source": [
    "This makes a lot of sense.... It looks like common chord progressions are used in easier songs. I'm guessing harder songs have more unique chords progressions. We can take a look at this at a high level. Lets break down these common chord progressions by the difficulty level they fall in.\n",
    "\n",
    "Interesting video about the many songs made from this chord progression\n",
    "https://www.youtube.com/watch?v=2pXS8k1zx8U"
   ]
  },
  {
   "cell_type": "code",
   "execution_count": 95,
   "metadata": {},
   "outputs": [
    {
     "data": {
      "text/plain": [
       "<matplotlib.axes._subplots.AxesSubplot at 0x1271d3160>"
      ]
     },
     "execution_count": 95,
     "metadata": {},
     "output_type": "execute_result"
    },
    {
     "data": {
      "image/png": "[encoded data removed]",
      "text/plain": [
       "<Figure size 432x288 with 1 Axes>"
      ]
     },
     "metadata": {
      "needs_background": "light"
     },
     "output_type": "display_data"
    }
   ],
   "source": [
    "chordGroups=df.uniqueChordsTup.value_counts().head(20)\n",
    "dfTest=df[df['uniqueChordsTup'].isin(chordGroups.index.to_list())]\n",
    "dfTest.groupby(['uniqueChordsTup', 'difficulty']).size().unstack(fill_value=0).plot(kind='bar', stacked=True)"
   ]
  },
  {
   "cell_type": "markdown",
   "metadata": {},
   "source": [
    "Two things...\n",
    "1) would be nice for this graph to be sorted\n",
    "2) why is a song difficult with an easy chord progression"
   ]
  },
  {
   "cell_type": "code",
   "execution_count": 96,
   "metadata": {},
   "outputs": [],
   "source": [
    "# dfTest.groupby(['uniqueChordsTup', 'difficulty']).size().unstack(fill_value=0)"
   ]
  },
  {
   "cell_type": "code",
   "execution_count": 97,
   "metadata": {},
   "outputs": [],
   "source": [
    "# df[df['uniqueChordsTup']==('C','D','Em','G')]"
   ]
  },
  {
   "cell_type": "markdown",
   "metadata": {},
   "source": [
    "Can we do this same thing for genres?"
   ]
  },
  {
   "cell_type": "code",
   "execution_count": 98,
   "metadata": {},
   "outputs": [],
   "source": [
    "# df['genreTup']=df.genre.apply(sorted).apply(tuple)\n",
    "# dfTest=df[df['uniqueChordsTup'].isin(chordGroups.index.to_list())]\n",
    "# dfTest.groupby(['uniqueChordsTup', 'genreTup']).size().unstack(fill_value=0).plot(kind='bar', stacked=True)"
   ]
  },
  {
   "cell_type": "code",
   "execution_count": 99,
   "metadata": {},
   "outputs": [],
   "source": [
    "# dfTest=df[df['uniqueChordsTup'].isin(chordGroups.index.to_list())]\n",
    "# dfTest.groupby(['uniqueChordsTup', 'genreTup']).size().unstack(fill_value=0).plot(kind='bar', stacked=True)"
   ]
  },
  {
   "cell_type": "code",
   "execution_count": 100,
   "metadata": {},
   "outputs": [
    {
     "data": {
      "text/plain": [
       "<matplotlib.axes._subplots.AxesSubplot at 0x11db0a5c0>"
      ]
     },
     "execution_count": 100,
     "metadata": {},
     "output_type": "execute_result"
    },
    {
     "data": {
      "image/png": "[encoded data removed]",
      "text/plain": [
       "<Figure size 432x288 with 1 Axes>"
      ]
     },
     "metadata": {
      "needs_background": "light"
     },
     "output_type": "display_data"
    }
   ],
   "source": [
    "ChordList=df.uniqueChords.sum()\n",
    "((pd.Series(ChordList).value_counts().sort_values(ascending=False)/len(df))* 100).head(15).plot(kind='bar', title='Percent of Songs That Have Chord X')"
   ]
  },
  {
   "cell_type": "markdown",
   "metadata": {},
   "source": [
    "#### How many songs do you know by learning x top chords?"
   ]
  },
  {
   "cell_type": "code",
   "execution_count": 101,
   "metadata": {},
   "outputs": [],
   "source": [
    "# set('G','C')==('C','G')"
   ]
  },
  {
   "cell_type": "code",
   "execution_count": null,
   "metadata": {},
   "outputs": [],
   "source": []
  },
  {
   "cell_type": "markdown",
   "metadata": {},
   "source": [
    "## Missing Values\n",
    "\n",
    "- Steal values from other tabs of the same song (genre, decade, etc.) \n",
    "- Take data from other column\n",
    "- Make assumptions about tuning and capo\n",
    "- Calculate key from chords in song"
   ]
  },
  {
   "cell_type": "code",
   "execution_count": 102,
   "metadata": {},
   "outputs": [
    {
     "data": {
      "text/plain": [
       "<matplotlib.axes._subplots.AxesSubplot at 0x1251a7320>"
      ]
     },
     "execution_count": 102,
     "metadata": {},
     "output_type": "execute_result"
    },
    {
     "data": {
      "image/png": "[encoded data removed]",
      "text/plain": [
       "<Figure size 432x288 with 1 Axes>"
      ]
     },
     "metadata": {
      "needs_background": "light"
     },
     "output_type": "display_data"
    }
   ],
   "source": [
    "sns.heatmap(df.isnull(),yticklabels=False,cbar=False,cmap='viridis')"
   ]
  },
  {
   "cell_type": "markdown",
   "metadata": {},
   "source": [
    "#### Other Column"
   ]
  },
  {
   "cell_type": "code",
   "execution_count": 103,
   "metadata": {},
   "outputs": [],
   "source": [
    "# temp=df[df.other.notnull()]\n",
    "# word_list=' '.join(temp['other']).lower().split()\n",
    "# filtered_words =  pd.Series([word for word in word_list if word not in stopwords.words('english')])\n",
    "# filtered_words.value_counts()[:100]"
   ]
  },
  {
   "cell_type": "markdown",
   "metadata": {},
   "source": [
    "#### Other questions\n",
    "\n",
    "Whats the most difficult genre to play?"
   ]
  },
  {
   "cell_type": "code",
   "execution_count": 104,
   "metadata": {},
   "outputs": [],
   "source": [
    "df.to_csv(\"/Users/eshantarneja/Documents/DataScience/data/cleanData/cleanData.csv\")"
   ]
  },
  {
   "cell_type": "code",
   "execution_count": 106,
   "metadata": {},
   "outputs": [],
   "source": [
    "# df.to_pickle(\"/Users/eshantarneja/Documents/DataScience/data/cleanData/cleanData.pkl\")"
   ]
  },
  {
   "cell_type": "code",
   "execution_count": 110,
   "metadata": {},
   "outputs": [
    {
     "data": {
      "text/plain": [
       "list"
      ]
     },
     "execution_count": 110,
     "metadata": {},
     "output_type": "execute_result"
    }
   ],
   "source": [
    "type(df.loc[0,'chordOrder'])"
   ]
  },
  {
   "cell_type": "markdown",
   "metadata": {},
   "source": [
    "# Convert to number system\n",
    "\n",
    "Step 1: Clean up chords\n",
    "\n",
    "Step 2: Get Key\n",
    "\n",
    "Step 3: Add in numerical index"
   ]
  },
  {
   "cell_type": "code",
   "execution_count": 44,
   "metadata": {},
   "outputs": [],
   "source": [
    "import re\n",
    "def clean_chords(chords):\n",
    "    \"\"\"\n",
    "    This function takes in a comma-separated string of \n",
    "    chords and cleans it by removing any base note variations, or\n",
    "    other chord embelishments.  Diminished labels are kept as these\n",
    "    are used in the chord progression table. The purpose of this\n",
    "    is to clean the chords to match the labels within the chord\n",
    "    progression table.\n",
    "    \n",
    "    returns:\n",
    "        new_chords - array of newly cleaned chords to be tabulated\n",
    "                        by the chord progression table\n",
    "    \"\"\"\n",
    "    \n",
    "    chords=','.join(chords)\n",
    "    \n",
    "    # Pattern grouping: 1=(chord pitch) 2=(base note) 3=(chord type) 4=(base note)\n",
    "    pattern = \"^([A-G]+)(\\/[A-G]*[b#])*([(?m)|(?m\\d)|(?b\\d)|(?#\\d)|(?maj\\d)|\\\n",
    "    (?add\\d)|(?sus\\d)|(?aug)|(?aug\\d)|(?dim)|(?dim\\d)]*)(\\/[A-G]*[b#])*\"        \n",
    "    prog = re.compile(pattern)\n",
    "\n",
    "    pattern2 = \"^([A-G])([b#])?(m$|m\\d$)?(dim$|dim\\d$)?\"\n",
    "    prog2 = re.compile(pattern2)\n",
    "\n",
    "    chords = chords.split(',')\n",
    "#     filter out missing chords\n",
    "    chords = list(filter(None, chords))\n",
    "    new_chords = [\"\"]*len(chords)\n",
    "    for i in range(len(chords)):\n",
    "        try:\n",
    "            curr_chord = chords[i]\n",
    "#           fix for parentheses\n",
    "            curr_chord= re.sub('[()]', '', curr_chord)\n",
    "#   fix for H chords (they are used in Europe apparently, equivalent to b chords in US)\n",
    "            curr_chord = re.sub('[H]','B', curr_chord)\n",
    "            groups = prog.findall(curr_chord)[0] \n",
    "            no_base = groups[0] + groups[2]\n",
    "            no_num = re.sub(pattern=\"\\d\", repl=\"\", string=no_base)\n",
    "            groups = prog2.findall(no_num)[0]\n",
    "            note,accidental = fix_accidental(groups[0], groups[1])\n",
    "            new_chords[i] = note + accidental + groups[2] + groups[3]\n",
    "        except Exception as e:\n",
    "            print(\"exception\")\n",
    "            print(\"curr chord: \", curr_chord)\n",
    "            print(groups)\n",
    "            print('-------')\n",
    "\n",
    "        \n",
    "    return(new_chords)\n",
    "\n",
    "def fix_accidental(note, accidental):\n",
    "    notes = np.asarray(['A', 'B', 'C', 'D', 'E', 'F', 'G'])\n",
    "    note_idx = int(np.where(notes == note)[0])\n",
    "    if accidental == '#':\n",
    "        # Account for B# or E#\n",
    "        if note == 'B':\n",
    "            return('C', '')\n",
    "        elif note == 'E':\n",
    "            return('F', '')\n",
    "        return(note,accidental)\n",
    "    elif accidental == 'b':\n",
    "        # Account for Cb or Fb\n",
    "        if note == 'C':\n",
    "            return('B', '')\n",
    "        elif note == 'F':\n",
    "            return('E', '')\n",
    "        return(notes[note_idx - 1],'#')\n",
    "    else:\n",
    "        return(note, accidental)\n",
    "            \n",
    "df['cleanChordOrder']=df.chordOrder.apply(clean_chords)"
   ]
  },
  {
   "cell_type": "code",
   "execution_count": 45,
   "metadata": {},
   "outputs": [
    {
     "data": {
      "text/plain": [
       "['G', 'C', 'Am']"
      ]
     },
     "execution_count": 45,
     "metadata": {},
     "output_type": "execute_result"
    }
   ],
   "source": [
    "list(set(df.loc[1, 'cleanChordOrder']))"
   ]
  },
  {
   "cell_type": "code",
   "execution_count": 46,
   "metadata": {},
   "outputs": [
    {
     "data": {
      "text/html": [
       "<div>\n",
       "<style scoped>\n",
       "    .dataframe tbody tr th:only-of-type {\n",
       "        vertical-align: middle;\n",
       "    }\n",
       "\n",
       "    .dataframe tbody tr th {\n",
       "        vertical-align: top;\n",
       "    }\n",
       "\n",
       "    .dataframe thead th {\n",
       "        text-align: right;\n",
       "    }\n",
       "</style>\n",
       "<table border=\"1\" class=\"dataframe\">\n",
       "  <thead>\n",
       "    <tr style=\"text-align: right;\">\n",
       "      <th></th>\n",
       "      <th>url</th>\n",
       "      <th>chordOrder</th>\n",
       "      <th>uniqueChords</th>\n",
       "      <th>song</th>\n",
       "      <th>artist</th>\n",
       "      <th>genre</th>\n",
       "      <th>decade</th>\n",
       "      <th>difficulty</th>\n",
       "      <th>tuning</th>\n",
       "      <th>capo</th>\n",
       "      <th>key</th>\n",
       "      <th>other</th>\n",
       "      <th>cardinality</th>\n",
       "      <th>uniqueChordsTup</th>\n",
       "      <th>cleanChordOrder</th>\n",
       "      <th>cleanUniqueChords</th>\n",
       "    </tr>\n",
       "  </thead>\n",
       "  <tbody>\n",
       "    <tr>\n",
       "      <th>0</th>\n",
       "      <td>https://tabs.ultimate-guitar.com/tab/dolly-parton/its-all-wrong-but-its-all-right-chords-2113377</td>\n",
       "      <td>[G, C, G, C, D, G, C, G, C, D, G, C, G, C, D, G, C, G, C, D, G, G, C, G, C, D, G, C, G]</td>\n",
       "      <td>[G, C, D]</td>\n",
       "      <td>Its All Wrong But Its All Right</td>\n",
       "      <td>Dolly Parton</td>\n",
       "      <td>(Country,)</td>\n",
       "      <td>1970</td>\n",
       "      <td>NaN</td>\n",
       "      <td>NaN</td>\n",
       "      <td>NaN</td>\n",
       "      <td>NaN</td>\n",
       "      <td>NaN</td>\n",
       "      <td>3</td>\n",
       "      <td>(C, D, G)</td>\n",
       "      <td>[G, C, G, C, D, G, C, G, C, D, G, C, G, C, D, G, C, G, C, D, G, G, C, G, C, D, G, C, G]</td>\n",
       "      <td>[D, G, C]</td>\n",
       "    </tr>\n",
       "    <tr>\n",
       "      <th>1</th>\n",
       "      <td>https://tabs.ultimate-guitar.com/tab/dolly-parton/jolene-chords-1099394</td>\n",
       "      <td>[Am, C, G, Am, G, Am, Am, C, G, Am, G, Am, Am, C, G, Am, G, Am, Am, C, G, Am, G, Am, Am, C, G, Am, G, Am, Am, C, G, Am, G, Am, Am, C, G, Am, Am, Am, C, G, Am, G, Am, Am, C, G, Am, G, Am, Am, C, G, Am, G, Am, Am, C, G, Am, G, Am, Am, C, G, Am, G, Am]</td>\n",
       "      <td>[Am, C, G]</td>\n",
       "      <td>Jolene</td>\n",
       "      <td>Dolly Parton</td>\n",
       "      <td>(Country, Folk)</td>\n",
       "      <td>1970</td>\n",
       "      <td>intermediate</td>\n",
       "      <td>E A D G B E</td>\n",
       "      <td>4th fret</td>\n",
       "      <td>NaN</td>\n",
       "      <td>NaN</td>\n",
       "      <td>3</td>\n",
       "      <td>(Am, C, G)</td>\n",
       "      <td>[Am, C, G, Am, G, Am, Am, C, G, Am, G, Am, Am, C, G, Am, G, Am, Am, C, G, Am, G, Am, Am, C, G, Am, G, Am, Am, C, G, Am, G, Am, Am, C, G, Am, Am, Am, C, G, Am, G, Am, Am, C, G, Am, G, Am, Am, C, G, Am, G, Am, Am, C, G, Am, G, Am, Am, C, G, Am, G, Am]</td>\n",
       "      <td>[G, C, Am]</td>\n",
       "    </tr>\n",
       "    <tr>\n",
       "      <th>2</th>\n",
       "      <td>https://tabs.ultimate-guitar.com/tab/dolly-parton/jolene-chords-1233293</td>\n",
       "      <td>[Em, G, D, Em, D, Em, Em, G, D, Em, Em, G, D, Em, D, Em, Em, G, D, Em, D, Em, Em, G, D, Em, D, Em, Em, G, D, Em, D, Em, Em, G, D, Em, D, Em, Em, G, D, Em, D, Em, Em, G, D, Em, D, Em, Em, G, D, Em, D, Em, Em, G, D, Em, D, Em, Em, G, D, Em, D, Em, Em, G, D, Em, D, Em, Em, G, D, Em, D, Em, D, Em]</td>\n",
       "      <td>[Em, G, D]</td>\n",
       "      <td>Jolene</td>\n",
       "      <td>Dolly Parton</td>\n",
       "      <td>(Country,)</td>\n",
       "      <td>1970</td>\n",
       "      <td>novice</td>\n",
       "      <td>E A D G B E</td>\n",
       "      <td>4th fret</td>\n",
       "      <td>NaN</td>\n",
       "      <td>NaN</td>\n",
       "      <td>3</td>\n",
       "      <td>(D, Em, G)</td>\n",
       "      <td>[Em, G, D, Em, D, Em, Em, G, D, Em, Em, G, D, Em, D, Em, Em, G, D, Em, D, Em, Em, G, D, Em, D, Em, Em, G, D, Em, D, Em, Em, G, D, Em, D, Em, Em, G, D, Em, D, Em, Em, G, D, Em, D, Em, Em, G, D, Em, D, Em, Em, G, D, Em, D, Em, Em, G, D, Em, D, Em, Em, G, D, Em, D, Em, Em, G, D, Em, D, Em, D, Em]</td>\n",
       "      <td>[D, G, Em]</td>\n",
       "    </tr>\n",
       "    <tr>\n",
       "      <th>3</th>\n",
       "      <td>https://tabs.ultimate-guitar.com/tab/dolly-parton/jolene-chords-165569</td>\n",
       "      <td>[Dm, F, C, Dm, C, Dm, F, C, Dm, C, Dm, Dm, F, C, Dm, C, Dm, Dm, F, C, Dm, C, Dm, Dm, F, C, Dm, C, Dm, Dm, F, C, Dm, C, Dm]</td>\n",
       "      <td>[Dm, F, C]</td>\n",
       "      <td>Jolene</td>\n",
       "      <td>Dolly Parton</td>\n",
       "      <td>(Country, Folk)</td>\n",
       "      <td>1970</td>\n",
       "      <td>NaN</td>\n",
       "      <td>NaN</td>\n",
       "      <td>NaN</td>\n",
       "      <td>NaN</td>\n",
       "      <td>NaN</td>\n",
       "      <td>3</td>\n",
       "      <td>(C, Dm, F)</td>\n",
       "      <td>[Dm, F, C, Dm, C, Dm, F, C, Dm, C, Dm, Dm, F, C, Dm, C, Dm, Dm, F, C, Dm, C, Dm, Dm, F, C, Dm, C, Dm, Dm, F, C, Dm, C, Dm]</td>\n",
       "      <td>[Dm, F, C]</td>\n",
       "    </tr>\n",
       "    <tr>\n",
       "      <th>4</th>\n",
       "      <td>https://tabs.ultimate-guitar.com/tab/dolly-parton/jolene-chords-183019</td>\n",
       "      <td>[Am, Am, C, G, Am, G, Am, Am, C, G, Am, G, Em, Am, Am, C, G, Am, G, Em, Am, Am, C, G, Am, G, Em, Am, Am, C, G, Am, G, Em, Am, Am, C, G, Am, G, Em, Am, Am, C, G, Am, G, Am, Am, C, G, Am, G, Em, Am, Am, C, G, Am, G, Em, Am, Am, C, G, Am, G, Em, Am, Am, C, G, Am, G, Am, Am, C, G, Am, G, Em, Am]</td>\n",
       "      <td>[Am, C, G, Em]</td>\n",
       "      <td>Jolene</td>\n",
       "      <td>Dolly Parton</td>\n",
       "      <td>(Country, Folk)</td>\n",
       "      <td>1970</td>\n",
       "      <td>novice</td>\n",
       "      <td>E A D G B E</td>\n",
       "      <td>4th fret</td>\n",
       "      <td>C#m</td>\n",
       "      <td>NaN</td>\n",
       "      <td>4</td>\n",
       "      <td>(Am, C, Em, G)</td>\n",
       "      <td>[Am, Am, C, G, Am, G, Am, Am, C, G, Am, G, Em, Am, Am, C, G, Am, G, Em, Am, Am, C, G, Am, G, Em, Am, Am, C, G, Am, G, Em, Am, Am, C, G, Am, G, Em, Am, Am, C, G, Am, G, Am, Am, C, G, Am, G, Em, Am, Am, C, G, Am, G, Em, Am, Am, C, G, Am, G, Em, Am, Am, C, G, Am, G, Am, Am, C, G, Am, G, Em, Am]</td>\n",
       "      <td>[G, Em, C, Am]</td>\n",
       "    </tr>\n",
       "  </tbody>\n",
       "</table>\n",
       "</div>"
      ],
      "text/plain": [
       "                                                                                                url  \\\n",
       "0  https://tabs.ultimate-guitar.com/tab/dolly-parton/its-all-wrong-but-its-all-right-chords-2113377   \n",
       "1  https://tabs.ultimate-guitar.com/tab/dolly-parton/jolene-chords-1099394                            \n",
       "2  https://tabs.ultimate-guitar.com/tab/dolly-parton/jolene-chords-1233293                            \n",
       "3  https://tabs.ultimate-guitar.com/tab/dolly-parton/jolene-chords-165569                             \n",
       "4  https://tabs.ultimate-guitar.com/tab/dolly-parton/jolene-chords-183019                             \n",
       "\n",
       "                                                                                                                                                                                                                                                                                               chordOrder  \\\n",
       "0  [G, C, G, C, D, G, C, G, C, D, G, C, G, C, D, G, C, G, C, D, G, G, C, G, C, D, G, C, G]                                                                                                                                                                                                                  \n",
       "1  [Am, C, G, Am, G, Am, Am, C, G, Am, G, Am, Am, C, G, Am, G, Am, Am, C, G, Am, G, Am, Am, C, G, Am, G, Am, Am, C, G, Am, G, Am, Am, C, G, Am, Am, Am, C, G, Am, G, Am, Am, C, G, Am, G, Am, Am, C, G, Am, G, Am, Am, C, G, Am, G, Am, Am, C, G, Am, G, Am]                                                \n",
       "2  [Em, G, D, Em, D, Em, Em, G, D, Em, Em, G, D, Em, D, Em, Em, G, D, Em, D, Em, Em, G, D, Em, D, Em, Em, G, D, Em, D, Em, Em, G, D, Em, D, Em, Em, G, D, Em, D, Em, Em, G, D, Em, D, Em, Em, G, D, Em, D, Em, Em, G, D, Em, D, Em, Em, G, D, Em, D, Em, Em, G, D, Em, D, Em, Em, G, D, Em, D, Em, D, Em]   \n",
       "3  [Dm, F, C, Dm, C, Dm, F, C, Dm, C, Dm, Dm, F, C, Dm, C, Dm, Dm, F, C, Dm, C, Dm, Dm, F, C, Dm, C, Dm, Dm, F, C, Dm, C, Dm]                                                                                                                                                                               \n",
       "4  [Am, Am, C, G, Am, G, Am, Am, C, G, Am, G, Em, Am, Am, C, G, Am, G, Em, Am, Am, C, G, Am, G, Em, Am, Am, C, G, Am, G, Em, Am, Am, C, G, Am, G, Em, Am, Am, C, G, Am, G, Am, Am, C, G, Am, G, Em, Am, Am, C, G, Am, G, Em, Am, Am, C, G, Am, G, Em, Am, Am, C, G, Am, G, Am, Am, C, G, Am, G, Em, Am]     \n",
       "\n",
       "     uniqueChords                             song        artist  \\\n",
       "0  [G, C, D]       Its All Wrong But Its All Right  Dolly Parton   \n",
       "1  [Am, C, G]      Jolene                           Dolly Parton   \n",
       "2  [Em, G, D]      Jolene                           Dolly Parton   \n",
       "3  [Dm, F, C]      Jolene                           Dolly Parton   \n",
       "4  [Am, C, G, Em]  Jolene                           Dolly Parton   \n",
       "\n",
       "             genre decade    difficulty       tuning      capo  key other  \\\n",
       "0  (Country,)       1970   NaN           NaN          NaN       NaN  NaN    \n",
       "1  (Country, Folk)  1970   intermediate  E A D G B E  4th fret  NaN  NaN    \n",
       "2  (Country,)       1970   novice        E A D G B E  4th fret  NaN  NaN    \n",
       "3  (Country, Folk)  1970   NaN           NaN          NaN       NaN  NaN    \n",
       "4  (Country, Folk)  1970   novice        E A D G B E  4th fret  C#m  NaN    \n",
       "\n",
       "   cardinality uniqueChordsTup  \\\n",
       "0  3            (C, D, G)        \n",
       "1  3            (Am, C, G)       \n",
       "2  3            (D, Em, G)       \n",
       "3  3            (C, Dm, F)       \n",
       "4  4            (Am, C, Em, G)   \n",
       "\n",
       "                                                                                                                                                                                                                                                                                          cleanChordOrder  \\\n",
       "0  [G, C, G, C, D, G, C, G, C, D, G, C, G, C, D, G, C, G, C, D, G, G, C, G, C, D, G, C, G]                                                                                                                                                                                                                  \n",
       "1  [Am, C, G, Am, G, Am, Am, C, G, Am, G, Am, Am, C, G, Am, G, Am, Am, C, G, Am, G, Am, Am, C, G, Am, G, Am, Am, C, G, Am, G, Am, Am, C, G, Am, Am, Am, C, G, Am, G, Am, Am, C, G, Am, G, Am, Am, C, G, Am, G, Am, Am, C, G, Am, G, Am, Am, C, G, Am, G, Am]                                                \n",
       "2  [Em, G, D, Em, D, Em, Em, G, D, Em, Em, G, D, Em, D, Em, Em, G, D, Em, D, Em, Em, G, D, Em, D, Em, Em, G, D, Em, D, Em, Em, G, D, Em, D, Em, Em, G, D, Em, D, Em, Em, G, D, Em, D, Em, Em, G, D, Em, D, Em, Em, G, D, Em, D, Em, Em, G, D, Em, D, Em, Em, G, D, Em, D, Em, Em, G, D, Em, D, Em, D, Em]   \n",
       "3  [Dm, F, C, Dm, C, Dm, F, C, Dm, C, Dm, Dm, F, C, Dm, C, Dm, Dm, F, C, Dm, C, Dm, Dm, F, C, Dm, C, Dm, Dm, F, C, Dm, C, Dm]                                                                                                                                                                               \n",
       "4  [Am, Am, C, G, Am, G, Am, Am, C, G, Am, G, Em, Am, Am, C, G, Am, G, Em, Am, Am, C, G, Am, G, Em, Am, Am, C, G, Am, G, Em, Am, Am, C, G, Am, G, Em, Am, Am, C, G, Am, G, Am, Am, C, G, Am, G, Em, Am, Am, C, G, Am, G, Em, Am, Am, C, G, Am, G, Em, Am, Am, C, G, Am, G, Am, Am, C, G, Am, G, Em, Am]     \n",
       "\n",
       "  cleanUniqueChords  \n",
       "0  [D, G, C]         \n",
       "1  [G, C, Am]        \n",
       "2  [D, G, Em]        \n",
       "3  [Dm, F, C]        \n",
       "4  [G, Em, C, Am]    "
      ]
     },
     "execution_count": 46,
     "metadata": {},
     "output_type": "execute_result"
    }
   ],
   "source": [
    "df['cleanUniqueChords']=df.cleanChordOrder.apply(lambda x: list(set(x)))\n",
    "df.head()"
   ]
  },
  {
   "cell_type": "code",
   "execution_count": 47,
   "metadata": {},
   "outputs": [
    {
     "data": {
      "text/plain": [
       "<matplotlib.axes._subplots.AxesSubplot at 0x1242c2e10>"
      ]
     },
     "execution_count": 47,
     "metadata": {},
     "output_type": "execute_result"
    },
    {
     "data": {
      "image/png": "[encoded data removed]",
      "text/plain": [
       "<Figure size 432x288 with 1 Axes>"
      ]
     },
     "metadata": {
      "needs_background": "light"
     },
     "output_type": "display_data"
    }
   ],
   "source": [
    "ChordList=df.cleanUniqueChords.sum()\n",
    "((pd.Series(ChordList).value_counts().sort_values(ascending=False)/len(df))* 100).head(100).plot(kind='bar', title='Percent of Songs That Have Chord X')"
   ]
  },
  {
   "cell_type": "code",
   "execution_count": 48,
   "metadata": {},
   "outputs": [
    {
     "data": {
      "text/plain": [
       "G        6885\n",
       "C        6174\n",
       "D        5857\n",
       "A        4559\n",
       "F        4069\n",
       "Am       4060\n",
       "Em       3952\n",
       "E        3471\n",
       "Bm       2395\n",
       "B        2315\n",
       "Dm       2130\n",
       "A#       1923\n",
       "F#m      1561\n",
       "F#       1415\n",
       "G#       1200\n",
       "D#       1180\n",
       "C#m      1092\n",
       "Gm       1083\n",
       "C#       1020\n",
       "Cm       785 \n",
       "Fm       664 \n",
       "G#m      644 \n",
       "A#m      427 \n",
       "D#m      392 \n",
       "Fdim     42  \n",
       "G#dim    41  \n",
       "Bdim     37  \n",
       "Gdim     36  \n",
       "F#dim    35  \n",
       "C#dim    34  \n",
       "Adim     33  \n",
       "D#dim    33  \n",
       "Cdim     32  \n",
       "Edim     32  \n",
       "A#dim    31  \n",
       "Ddim     30  \n",
       "dtype: int64"
      ]
     },
     "execution_count": 48,
     "metadata": {},
     "output_type": "execute_result"
    }
   ],
   "source": [
    "pd.Series(ChordList).value_counts()"
   ]
  },
  {
   "cell_type": "markdown",
   "metadata": {},
   "source": [
    "Notes for finding key:\n",
    "\n",
    "Check commonalities between chords you know are in song and the key\n",
    "\n",
    "Some times there are ties\n",
    "tricks for ties\n",
    "\n",
    "1) 7th chord always has to be 5th chord\n",
    "2) diminished is a dead give away for chord\n",
    "3) most popular chord is often the key (not always though)\n",
    "4) first chords is often the key\n",
    "\n",
    "https://www.youtube.com/watch?v=Pg-zZEdNg3c&t=63s&ab_channel=SeanDaniel"
   ]
  },
  {
   "cell_type": "code",
   "execution_count": 49,
   "metadata": {},
   "outputs": [
    {
     "name": "stderr",
     "output_type": "stream",
     "text": [
      "/Library/Frameworks/Python.framework/Versions/3.6/lib/python3.6/site-packages/pandas/core/frame.py:3391: SettingWithCopyWarning: \n",
      "A value is trying to be set on a copy of a slice from a DataFrame.\n",
      "Try using .loc[row_indexer,col_indexer] = value instead\n",
      "\n",
      "See the caveats in the documentation: http://pandas.pydata.org/pandas-docs/stable/indexing.html#indexing-view-versus-copy\n",
      "  self[k1] = value[k2]\n",
      "/Library/Frameworks/Python.framework/Versions/3.6/lib/python3.6/site-packages/ipykernel_launcher.py:52: SettingWithCopyWarning: \n",
      "A value is trying to be set on a copy of a slice from a DataFrame.\n",
      "Try using .loc[row_indexer,col_indexer] = value instead\n",
      "\n",
      "See the caveats in the documentation: http://pandas.pydata.org/pandas-docs/stable/indexing.html#indexing-view-versus-copy\n"
     ]
    },
    {
     "data": {
      "text/plain": [
       "0    0.621578\n",
       "1    0.378422\n",
       "Name: keyCheck, dtype: float64"
      ]
     },
     "execution_count": 49,
     "metadata": {},
     "output_type": "execute_result"
    }
   ],
   "source": [
    "chordDic= {'A': ['A', 'Bm', 'C#m', 'D', 'E', 'F#', 'G#dim'],\n",
    " 'Am': ['Am', 'Bdim', 'C', 'Dm', 'Em', 'F', 'G'],\n",
    " 'B': ['B', 'C#m', 'D#m', 'E', 'F#', 'G#m', 'A#dim'],\n",
    " 'C': ['C', 'Dm', 'Em', 'F', 'G', 'Am', 'Bdim'],\n",
    "\n",
    " 'D': ['D', 'Em', 'F#m', 'G', 'A', 'Bm', 'C#dim'],\n",
    " 'E': ['E', 'F#m', 'G#m', 'A', 'B', 'C#m', 'D#dim'],\n",
    " 'Em': ['Em', 'F#dim', 'G', 'Am', 'Bm', 'C', 'D'],\n",
    " 'F': ['F', 'Gm', 'Am', 'Bb', 'C', 'Dm', 'Edim'],\n",
    " 'G': ['G', 'Am', 'Bm', 'C', 'D', 'Em', 'F#dim']}\n",
    "\n",
    "#  'Am': ['Am', 'Bdim', 'C', 'Dm', 'Em', 'F', 'G'],\n",
    "#  'Em': ['Em', 'F#dim', 'G', 'Am', 'Bm', 'C', 'D'],\n",
    "def findKey(chords):\n",
    "    keyMax=0\n",
    "    keys=[]\n",
    "    finalKey=\"N/A\"\n",
    "    match=\"\"\n",
    "    for key, value in chordDic.items():  \n",
    "        intersect=len(set(chords).intersection(set(value)))\n",
    "        if intersect>keyMax:\n",
    "            keys=[key]\n",
    "            keyMax=intersect\n",
    "        elif intersect==keyMax and keyMax>0:\n",
    "            keys.append(key)\n",
    "    # tiebreaker\n",
    "    if len(keys)>1:\n",
    "        maxChord= str(pd.Series(chords).value_counts().sort_values(ascending=False).head(1).index[0])\n",
    "        firstChord=chords[0]\n",
    "        lastChord=chords[-1]\n",
    "        if maxChord in keys:\n",
    "            finalKey=maxChord\n",
    "            match=\"maxChord\"\n",
    "        elif firstChord in keys:\n",
    "            finalKey=firstChord\n",
    "            match=\"firstChord\"\n",
    "        elif lastChord in keys:\n",
    "            finalKey=lastChord\n",
    "            match=\"lastChord\"\n",
    "        else:\n",
    "            match=\"tiebreak failed\"\n",
    "            finalKey=keys[0]\n",
    "    elif len(keys)==1:\n",
    "        finalKey=keys[0]\n",
    "        match=\"one choice\"\n",
    "    else:\n",
    "        match=\"no matches\"\n",
    "    return pd.Series([finalKey, keys, match])\n",
    "\n",
    "dfKeys=df[df.key.notnull()]\n",
    "dfKeys[['finalKey', 'keyChoices','match']]=dfKeys.cleanChordOrder.apply(lambda x: findKey(x))\n",
    "dfKeys['keyCheck']=dfKeys[['key','finalKey']].apply(lambda x: 1 if x[0]==x[1] else 0, axis=1)\n",
    "missDf=dfKeys[dfKeys['keyCheck']==0]\n",
    "matchDf=dfKeys[dfKeys['keyCheck']==1]\n",
    "dfKeys.keyCheck.value_counts(normalize=True)"
   ]
  },
  {
   "cell_type": "code",
   "execution_count": 50,
   "metadata": {},
   "outputs": [
    {
     "data": {
      "text/plain": [
       "Dm     56\n",
       "E      54\n",
       "A      52\n",
       "C      50\n",
       "Bm     46\n",
       "Cm     40\n",
       "F      39\n",
       "D      37\n",
       "F#m    36\n",
       "Bb     35\n",
       "G      35\n",
       "Ab     34\n",
       "Eb     32\n",
       "Em     30\n",
       "Am     29\n",
       "Gm     28\n",
       "C#m    21\n",
       "Bbm    18\n",
       "G#m    16\n",
       "Fm     16\n",
       "B      14\n",
       "Db     12\n",
       "C#     11\n",
       "Ebm    9 \n",
       "D#m    8 \n",
       "Gb     5 \n",
       "Abm    4 \n",
       "A#m    3 \n",
       "F#     2 \n",
       "Name: key, dtype: int64"
      ]
     },
     "execution_count": 50,
     "metadata": {},
     "output_type": "execute_result"
    }
   ],
   "source": [
    "missDf.key.value_counts()\n",
    "# missDf.match.value_counts()\n",
    "# missDf.groupby('key')['match'].apply(lambda x: list(x))\n",
    "# missDf[missDf['match']=='one choice']\n",
    "# missDf.fill_null(\"none\").match.value_counts()"
   ]
  },
  {
   "cell_type": "code",
   "execution_count": 51,
   "metadata": {},
   "outputs": [
    {
     "data": {
      "text/html": [
       "<div>\n",
       "<style scoped>\n",
       "    .dataframe tbody tr th:only-of-type {\n",
       "        vertical-align: middle;\n",
       "    }\n",
       "\n",
       "    .dataframe tbody tr th {\n",
       "        vertical-align: top;\n",
       "    }\n",
       "\n",
       "    .dataframe thead th {\n",
       "        text-align: right;\n",
       "    }\n",
       "</style>\n",
       "<table border=\"1\" class=\"dataframe\">\n",
       "  <thead>\n",
       "    <tr style=\"text-align: right;\">\n",
       "      <th></th>\n",
       "      <th>url</th>\n",
       "      <th>chordOrder</th>\n",
       "      <th>uniqueChords</th>\n",
       "      <th>song</th>\n",
       "      <th>artist</th>\n",
       "      <th>genre</th>\n",
       "      <th>decade</th>\n",
       "      <th>difficulty</th>\n",
       "      <th>tuning</th>\n",
       "      <th>capo</th>\n",
       "      <th>key</th>\n",
       "      <th>other</th>\n",
       "      <th>cardinality</th>\n",
       "      <th>uniqueChordsTup</th>\n",
       "      <th>cleanChordOrder</th>\n",
       "      <th>cleanUniqueChords</th>\n",
       "      <th>finalKey</th>\n",
       "      <th>keyChoices</th>\n",
       "      <th>match</th>\n",
       "      <th>keyCheck</th>\n",
       "    </tr>\n",
       "  </thead>\n",
       "  <tbody>\n",
       "    <tr>\n",
       "      <th>710</th>\n",
       "      <td>https://tabs.ultimate-guitar.com/tab/ed-sheeran/give-me-love-chords-1154540</td>\n",
       "      <td>[G#m7, E, B5, Bmaj7, G#m7, E, B5, B7+, G#m7, E, B5, B7+, G#m7, E, B5, Bmaj7, G#m7, E, B5, Bmaj7, G#m7, E, B5, Bmaj7, G#m7, E, B5, Bmaj7, C#m, E, B, F#, C#m, E, B, C#m, E, B, C#m, E, B, C#m, E, G#m, F#, E, G#m, F#, E, G#m7, E, B5, Bmaj7, G#m7, E, B5, Bmaj7, G#m7, E, B5, Bmaj7, G#m7, E, B5, Bmaj7, C#m, E, B, F#, C#m, E, B, C#m, E, B, C#m, E, B, C#m, E, G#m, F#, E, B, C#m, E, B, C#m, E, B, C#m, E, G#m, F#, E, G#m, F#, G#m, F#, G#m, ...]</td>\n",
       "      <td>[G#m7, E, B5, Bmaj7, B7+, C#m, B, F#, G#m]</td>\n",
       "      <td>Give Me Love</td>\n",
       "      <td>Ed Sheeran</td>\n",
       "      <td>(Folk,)</td>\n",
       "      <td>2010</td>\n",
       "      <td>novice</td>\n",
       "      <td>E A D G B E</td>\n",
       "      <td>2nd fret</td>\n",
       "      <td>Am</td>\n",
       "      <td>NaN</td>\n",
       "      <td>9</td>\n",
       "      <td>(B, B5, B7+, Bmaj7, C#m, E, F#, G#m, G#m7)</td>\n",
       "      <td>[G#m, E, B, B, G#m, E, B, B, G#m, E, B, B, G#m, E, B, B, G#m, E, B, B, G#m, E, B, B, G#m, E, B, B, C#m, E, B, F#, C#m, E, B, C#m, E, B, C#m, E, B, C#m, E, G#m, F#, E, G#m, F#, E, G#m, E, B, B, G#m, E, B, B, G#m, E, B, B, G#m, E, B, B, C#m, E, B, F#, C#m, E, B, C#m, E, B, C#m, E, B, C#m, E, G#m, F#, E, B, C#m, E, B, C#m, E, B, C#m, E, G#m, F#, E, G#m, F#, G#m, F#, G#m, ...]</td>\n",
       "      <td>[G#m, E, F#, C#m, B]</td>\n",
       "      <td>B</td>\n",
       "      <td>[B]</td>\n",
       "      <td>one choice</td>\n",
       "      <td>0</td>\n",
       "    </tr>\n",
       "    <tr>\n",
       "      <th>714</th>\n",
       "      <td>https://tabs.ultimate-guitar.com/tab/ed-sheeran/happier-chords-1956585</td>\n",
       "      <td>[Am7, F, C, Am7, F, C, Am7, F, C, Am7, F, C, Am7, F, C, Am7, F, C, Am7, F, C, Am7, F, C, Am7, F, C, Am7, F, C, Am7, F, C, Am7, F, C, Am7, F, C, Am7, F, C, Am7, F, C, Am7, F, C, Am7, F, C, Am7, F, C, Am7, F, C, Am7, F, C, Am7, F, C, Am7, F, C, Am7, F, C, Am7, F, C, Am7, F, C, Am7, F, C, Am7, F, C, Am7, F, C, Am7, F, C, Am7, F, C, Am7, F, C, Am7, F, C, Am7, F, C, Am7, ...]</td>\n",
       "      <td>[Am7, F, C]</td>\n",
       "      <td>Happier</td>\n",
       "      <td>Ed Sheeran</td>\n",
       "      <td>(Folk,)</td>\n",
       "      <td>2010</td>\n",
       "      <td>novice</td>\n",
       "      <td>E A D G B E</td>\n",
       "      <td>NaN</td>\n",
       "      <td>Am</td>\n",
       "      <td>NaN</td>\n",
       "      <td>3</td>\n",
       "      <td>(Am7, C, F)</td>\n",
       "      <td>[Am, F, C, Am, F, C, Am, F, C, Am, F, C, Am, F, C, Am, F, C, Am, F, C, Am, F, C, Am, F, C, Am, F, C, Am, F, C, Am, F, C, Am, F, C, Am, F, C, Am, F, C, Am, F, C, Am, F, C, Am, F, C, Am, F, C, Am, F, C, Am, F, C, Am, F, C, Am, F, C, Am, F, C, Am, F, C, Am, F, C, Am, F, C, Am, F, C, Am, F, C, Am, F, C, Am, F, C, Am, F, C, Am, F, C, Am, ...]</td>\n",
       "      <td>[F, C, Am]</td>\n",
       "      <td>C</td>\n",
       "      <td>[Am, C, F]</td>\n",
       "      <td>maxChord</td>\n",
       "      <td>0</td>\n",
       "    </tr>\n",
       "    <tr>\n",
       "      <th>853</th>\n",
       "      <td>https://tabs.ultimate-guitar.com/tab/edguy/holy-shadows-chords-2834503</td>\n",
       "      <td>[Am, F/A, Dm, C, G, Am, F/A, G, E, Am, F/A, Dm, C, G, Am, F/A, G, Fmaj7, Am, F, G, Am, Am, F, G, E, Am, F, G, Am, Am, F, G, E, Am, F/A, Dm, C, G, Am, F/A, G, E, Am, F/A, Dm, C, G, Am, F/A, G, E, Fmaj7, G6, Am, Am7, C, Bbadd11, Dm, Dm, F, G, Am, Bb, F, C, Dm, C, Bb, Dm, Bb, F, C, Dm, C, Bb, Dm, Bb, F, C, Bb, Am, F, G, Am, Am, F, G, E, Am, F, G, Am, Am, F, G, E, Am, F/A, Dm, ...]</td>\n",
       "      <td>[Am, F/A, Dm, C, G, E, Fmaj7, F, G6, Am7, Bbadd11, Bb, C7, Csus4, Gm, Eb]</td>\n",
       "      <td>Holy Shadows</td>\n",
       "      <td>Edguy</td>\n",
       "      <td>(Metal,)</td>\n",
       "      <td>1990</td>\n",
       "      <td>intermediate</td>\n",
       "      <td>Eb Ab Db Gb Bb Eb</td>\n",
       "      <td>NaN</td>\n",
       "      <td>Am</td>\n",
       "      <td>chords to \"holy shadows\" by edguy. was this info helpful?yesno</td>\n",
       "      <td>16</td>\n",
       "      <td>(Am, Am7, Bb, Bbadd11, C, C7, Csus4, Dm, E, Eb, F, F/A, Fmaj7, G, G6, Gm)</td>\n",
       "      <td>[Am, F, Dm, C, G, Am, F, G, E, Am, F, Dm, C, G, Am, F, G, F, Am, F, G, Am, Am, F, G, E, Am, F, G, Am, Am, F, G, E, Am, F, Dm, C, G, Am, F, G, E, Am, F, Dm, C, G, Am, F, G, E, F, G, Am, Am, C, A#, Dm, Dm, F, G, Am, A#, F, C, Dm, C, A#, Dm, A#, F, C, Dm, C, A#, Dm, A#, F, C, A#, Am, F, G, Am, Am, F, G, E, Am, F, G, Am, Am, F, G, E, Am, F, Dm, ...]</td>\n",
       "      <td>[G, A#, E, Gm, F, Dm, C, D#, Am]</td>\n",
       "      <td>F</td>\n",
       "      <td>[Am, C, F]</td>\n",
       "      <td>maxChord</td>\n",
       "      <td>0</td>\n",
       "    </tr>\n",
       "    <tr>\n",
       "      <th>937</th>\n",
       "      <td>https://tabs.ultimate-guitar.com/tab/electric-light-orchestra/evil-woman-chords-2473478</td>\n",
       "      <td>[C, C/E, C/G, C9, C, Am, Fmaj7, F9, C/E, Em7, G, F#dim, C/G, Dm7, Emadd9, D#m7, C9, F9, F#dim, C, C, C/E, C/G, Am, Em7, Dm7, Dm7, Em7, Am, Em7, Dm7, Em7, Am, Em7, Dm7, Dm7, Em7, Am, Em7, Dm7, Dm7, Em7, Am, Em7, Dm7, Dm7, Em7, Am, Em7, Dm7, Dm7, Em7, Am, Em7, Dm7, Dm7, Em7, Am, Em7, Dm7, Dm7, Em7, Am, Em7, Dm7, Dm7, Em7, Fmaj7, G, C, C, C/E, C/G, Am, Em7, Dm7, Dm7, Em7, Am, Em7, Dm7, Em7, Am, Em7, Dm7, Dm7, Em7, Am, Em7, Dm7, Em7, Am, Em7, Dm7, Dm7, Em7, Am, Em7, Dm7, Dm7, ...]</td>\n",
       "      <td>[C, C/E, C/G, C9, Am, Fmaj7, F9, Em7, G, F#dim, Dm7, Emadd9, D#m7]</td>\n",
       "      <td>Evil Woman</td>\n",
       "      <td>Electric Light Orchestra</td>\n",
       "      <td>(Pop,)</td>\n",
       "      <td>1970</td>\n",
       "      <td>intermediate</td>\n",
       "      <td>E A D G B E</td>\n",
       "      <td>NaN</td>\n",
       "      <td>Am</td>\n",
       "      <td>clearer formatting and alignment of chords, verse 4 with additional intermediate d#m7 chord clearly heard in the arrangement, tablature of linking riff. full chord legend. was this info helpful?yesno</td>\n",
       "      <td>13</td>\n",
       "      <td>(Am, C, C/E, C/G, C9, D#m7, Dm7, Em7, Emadd9, F#dim, F9, Fmaj7, G)</td>\n",
       "      <td>[C, C, C, C, C, Am, F, F, C, Em, G, F#dim, C, Dm, E, D#m, C, F, F#dim, C, C, C, C, Am, Em, Dm, Dm, Em, Am, Em, Dm, Em, Am, Em, Dm, Dm, Em, Am, Em, Dm, Dm, Em, Am, Em, Dm, Dm, Em, Am, Em, Dm, Dm, Em, Am, Em, Dm, Dm, Em, Am, Em, Dm, Dm, Em, Am, Em, Dm, Dm, Em, F, G, C, C, C, C, Am, Em, Dm, Dm, Em, Am, Em, Dm, Em, Am, Em, Dm, Dm, Em, Am, Em, Dm, Em, Am, Em, Dm, Dm, Em, Am, Em, Dm, Dm, ...]</td>\n",
       "      <td>[D#m, G, F#dim, E, F, Dm, C, Em, Am]</td>\n",
       "      <td>C</td>\n",
       "      <td>[Am, C]</td>\n",
       "      <td>firstChord</td>\n",
       "      <td>0</td>\n",
       "    </tr>\n",
       "    <tr>\n",
       "      <th>1333</th>\n",
       "      <td>https://tabs.ultimate-guitar.com/tab/3182702</td>\n",
       "      <td>[Am, Am7, Am, Am, Am, Gm, Am, Am, Am, Am, Gm, Am, Am, Am, Am, Gm, Am, Am, Am, Am, Gm, Am, Am, Am, Am, Gm, Am, Gm, Am, Gm, Am, Gm, Am, Am7, Am, Am, Am, Gm, Am, Am, Am, Am, Gm, Am, Am, Am, Am, Gm, Am, Am, Am, Am, Gm, Am, Am7, Am, Am]</td>\n",
       "      <td>[Am, Am7, Gm]</td>\n",
       "      <td>SchÃ¼ttel Deinen Speck</td>\n",
       "      <td>Peter Fox</td>\n",
       "      <td>(Hip Hop,)</td>\n",
       "      <td>2000</td>\n",
       "      <td>novice</td>\n",
       "      <td>E A D G B E</td>\n",
       "      <td>NaN</td>\n",
       "      <td>Am</td>\n",
       "      <td>tab eignet sich gut um das lied z.b. mit einer cajon zu covern. obwohl im original keine gitarre mitspielt eignen sich downstrokes im offbeat als begleitung. ich finde, es klingt am besten wenn man am und gm wie einen powerchord spielt. was this info helpful?yesno</td>\n",
       "      <td>3</td>\n",
       "      <td>(Am, Am7, Gm)</td>\n",
       "      <td>[Am, Am, Am, Am, Am, Gm, Am, Am, Am, Am, Gm, Am, Am, Am, Am, Gm, Am, Am, Am, Am, Gm, Am, Am, Am, Am, Gm, Am, Gm, Am, Gm, Am, Gm, Am, Am, Am, Am, Am, Gm, Am, Am, Am, Am, Gm, Am, Am, Am, Am, Gm, Am, Am, Am, Am, Gm, Am, Am, Am, Am]</td>\n",
       "      <td>[Gm, Am]</td>\n",
       "      <td>F</td>\n",
       "      <td>[F]</td>\n",
       "      <td>one choice</td>\n",
       "      <td>0</td>\n",
       "    </tr>\n",
       "    <tr>\n",
       "      <th>1468</th>\n",
       "      <td>https://tabs.ultimate-guitar.com/tab/a-great-big-world/say-something-chords-1443639</td>\n",
       "      <td>[Am, F, C, Gsus4, Am, F, C, Gsus4, Am, F, C, Gsus4, Am, F, C, Gsus4, Am, F, C, Gsus4, C, Em, F, C, Gsus4, C, Em, F, C, Gsus4, Am, F, C, Gsus4, Am, F, C, Gsus4, Am, F, C, Gsus4, Am, F, C, Gsus4, C, Em, F, C, Gsus4, Am, F, C, Gsus4, Am, F, C, Gsus4, Am, F, C, Gsus4, Am, F, C, Gsus4, Am, F, C, Gsus4, Am, F, C]</td>\n",
       "      <td>[Am, F, C, Gsus4, Em]</td>\n",
       "      <td>Say Something</td>\n",
       "      <td>A Great Big World</td>\n",
       "      <td>(Rock,)</td>\n",
       "      <td>2010</td>\n",
       "      <td>novice</td>\n",
       "      <td>E A D G B E</td>\n",
       "      <td>2nd fret</td>\n",
       "      <td>Am</td>\n",
       "      <td>NaN</td>\n",
       "      <td>5</td>\n",
       "      <td>(Am, C, Em, F, Gsus4)</td>\n",
       "      <td>[Am, F, C, G, Am, F, C, G, Am, F, C, G, Am, F, C, G, Am, F, C, G, C, Em, F, C, G, C, Em, F, C, G, Am, F, C, G, Am, F, C, G, Am, F, C, G, Am, F, C, G, C, Em, F, C, G, Am, F, C, G, Am, F, C, G, Am, F, C, G, Am, F, C, G, Am, F, C, G, Am, F, C]</td>\n",
       "      <td>[G, F, C, Em, Am]</td>\n",
       "      <td>C</td>\n",
       "      <td>[Am, C]</td>\n",
       "      <td>maxChord</td>\n",
       "      <td>0</td>\n",
       "    </tr>\n",
       "    <tr>\n",
       "      <th>1653</th>\n",
       "      <td>https://tabs.ultimate-guitar.com/tab/acdc/hells-bells-chords-2245939</td>\n",
       "      <td>[Am, D, C, D, C, G/B, G, D, C, G/B, Am, D, C, G/B, Am, D, C, G/B, Am, D, C, G/B, Am, D, C, G/B, Am, D, C, G/B, D, C, G, D, C, G, E, D, A, E, Am, D, C, D, Am, C, B, Am, Am, G, D, C, B, Am, D, C, B, Am, D, C, G/B, Am, D, C, G/B, Am, D, C, G/B, Am, D, C, G/B, D, C, G, D, C, G, E, D, A, E, Am, D, C, D, Am, D, C, D, C, B, Am, D, C, D, Am, G, D, ...]</td>\n",
       "      <td>[Am, D, C, G/B, G, E, A, B]</td>\n",
       "      <td>Hells Bells</td>\n",
       "      <td>AC/DC</td>\n",
       "      <td>(Rock,)</td>\n",
       "      <td>1980</td>\n",
       "      <td>novice</td>\n",
       "      <td>E A D G B E</td>\n",
       "      <td>NaN</td>\n",
       "      <td>Am</td>\n",
       "      <td>NaN</td>\n",
       "      <td>8</td>\n",
       "      <td>(A, Am, B, C, D, E, G, G/B)</td>\n",
       "      <td>[Am, D, C, D, C, G, G, D, C, G, Am, D, C, G, Am, D, C, G, Am, D, C, G, Am, D, C, G, Am, D, C, G, D, C, G, D, C, G, E, D, A, E, Am, D, C, D, Am, C, B, Am, Am, G, D, C, B, Am, D, C, B, Am, D, C, G, Am, D, C, G, Am, D, C, G, Am, D, C, G, D, C, G, D, C, G, E, D, A, E, Am, D, C, D, Am, D, C, D, C, B, Am, D, C, D, Am, G, D, ...]</td>\n",
       "      <td>[G, A, E, C, D, B, Am]</td>\n",
       "      <td>Em</td>\n",
       "      <td>[Em, G]</td>\n",
       "      <td>tiebreak failed</td>\n",
       "      <td>0</td>\n",
       "    </tr>\n",
       "    <tr>\n",
       "      <th>2902</th>\n",
       "      <td>https://tabs.ultimate-guitar.com/tab/angra/rebirth-chords-3133007</td>\n",
       "      <td>[Am, D/F#, G, Em, F, G, Am, Am, D/F#, G, Em, F, G, Am, Dm, Bb/D, C, Am, Dm, Bb/D, C, G/B, Am7, Dm9, G7, C, E7, Am7, D9, F, Am, Am7, Dm9, G7, C, E7, Am7, D9, F, Am, Am, G/A, Bm/A, Am, Am, G/A, E, Am, Am, G/A, Bm/A, Am, Am, G/A, E, Am, F, G, Am, G/A, Bm/A, Am, C/G, G, E, Am, G/A, A7, Dm, G, C, E, F, G, Am, F, F#, C#, D, D#, B, E, A, C#m, E, C#m, E, C#m, E, Am, G, F, G, Am, G, F, G, Am, G, F, ...]</td>\n",
       "      <td>[Am, D/F#, G, Em, F, Dm, Bb/D, C, G/B, Am7, Dm9, G7, E7, D9, G/A, Bm/A, E, C/G, A7, F#, C#, D, D#, B, A, C#m, Bm, F/E]</td>\n",
       "      <td>Rebirth</td>\n",
       "      <td>Angra</td>\n",
       "      <td>(Metal,)</td>\n",
       "      <td>2000</td>\n",
       "      <td>intermediate</td>\n",
       "      <td>E A D G B E</td>\n",
       "      <td>NaN</td>\n",
       "      <td>Am</td>\n",
       "      <td>NaN</td>\n",
       "      <td>28</td>\n",
       "      <td>(A, A7, Am, Am7, B, Bb/D, Bm, Bm/A, C, C#, C#m, C/G, D, D#, D/F#, D9, Dm, Dm9, E, E7, Em, F, F#, F/E, G, G/A, G/B, G7)</td>\n",
       "      <td>[Am, D, G, Em, F, G, Am, Am, D, G, Em, F, G, Am, Dm, A#, C, Am, Dm, A#, C, G, Am, Dm, G, C, E, Am, D, F, Am, Am, Dm, G, C, E, Am, D, F, Am, Am, G, Bm, Am, Am, G, E, Am, Am, G, Bm, Am, Am, G, E, Am, F, G, Am, G, Bm, Am, C, G, E, Am, G, A, Dm, G, C, E, F, G, Am, F, F#, C#, D, D#, B, E, A, C#m, E, C#m, E, C#m, E, Am, G, F, G, Am, G, F, G, Am, G, F, ...]</td>\n",
       "      <td>[Bm, D#, G, A#, A, C#m, E, F, F#, Dm, C, D, C#, Em, B, Am]</td>\n",
       "      <td>G</td>\n",
       "      <td>[A, Am, C, Em, G]</td>\n",
       "      <td>maxChord</td>\n",
       "      <td>0</td>\n",
       "    </tr>\n",
       "    <tr>\n",
       "      <th>2979</th>\n",
       "      <td>https://tabs.ultimate-guitar.com/tab/anssi-kela/puistossa-chords-2418713</td>\n",
       "      <td>[Am, F, C, G/H, Am, F, C, G/B, Am, F, C, G/B, Am, F, C, G/B, Am, F, C, G/B, Am, F/A, C/A, G/A, Am, F, C, G/B, Am, F, C, G/B, Am, F, C, G/B, Am, F, C, Em, Am, Am, F, C, G/B, Am, F, C, G/B, Am, F, C, G/B, Am, F, C, G/B, Am, F, Am, F, F/E, Am, F, C, G/B, Am, F, C, G/B, Am, F, C, G/B, Am, F/A, C/A, G/A, Am, Am, F, C, G/B, Am, F, C, G/B, Am, F, C, Em, Am, Am, F, C, G/B, Am, F, C, G/B, ...]</td>\n",
       "      <td>[Am, F, C, G/B, F/A, C/A, G/A, Em, F/E, Bm, G, D, A/C#, Asus2/C#]</td>\n",
       "      <td>Puistossa</td>\n",
       "      <td>Anssi Kela</td>\n",
       "      <td>(Folk, Rock)</td>\n",
       "      <td>2000</td>\n",
       "      <td>novice</td>\n",
       "      <td>E A D G B E</td>\n",
       "      <td>NaN</td>\n",
       "      <td>Am</td>\n",
       "      <td>the chords of puistossa were not found on ug before. was this info helpful?yesno</td>\n",
       "      <td>14</td>\n",
       "      <td>(A/C#, Am, Asus2/C#, Bm, C, C/A, D, Em, F, F/A, F/E, G, G/A, G/B)</td>\n",
       "      <td>[Am, F, C, G, Am, F, C, G, Am, F, C, G, Am, F, C, G, Am, F, C, G, Am, F, C, G, Am, F, C, G, Am, F, C, G, Am, F, C, G, Am, F, C, Em, Am, Am, F, C, G, Am, F, C, G, Am, F, C, G, Am, F, C, G, Am, F, Am, F, F, Am, F, C, G, Am, F, C, G, Am, F, C, G, Am, F, C, G, Am, Am, F, C, G, Am, F, C, G, Am, F, C, Em, Am, Am, F, C, G, Am, F, C, G, ...]</td>\n",
       "      <td>[Bm, G, A, F, C, D, Em, Am]</td>\n",
       "      <td>Em</td>\n",
       "      <td>[Em, G]</td>\n",
       "      <td>lastChord</td>\n",
       "      <td>0</td>\n",
       "    </tr>\n",
       "    <tr>\n",
       "      <th>3701</th>\n",
       "      <td>https://tabs.ultimate-guitar.com/tab/babymetal/no-rain-no-rainbow-chords-2493258</td>\n",
       "      <td>[Am, Em, F, G, Am, G, F, G, C, G, Am, C, F, C, Dm, E, Am, G#aug, C, D, F, G, Am, C, C, G, Am, C, F, C, Dm, E, Am, G#aug, C, D, F, G, Csus4, C, E, Am, G, F, Em, Dm, C, Bm7-5, E, Am, G, F, Em, Dm, C, Bm7-5, E, Asus4, A, G, F, G/F, Em, E, Am, G, Dm, D#dim, A, E, D, A, Bm, E, F, G, Am, G, F, G, Am, G, Ab, Bb, Gsus4, E, C, G, Am, Em, F, C, Dm, E, Am, G#aug, C, F#m7-5, F, G, ...]</td>\n",
       "      <td>[Am, Em, F, G, C, Dm, E, G#aug, D, Csus4, Bm7-5, Asus4, A, G/F, D#dim, Bm, Ab, Bb, Gsus4, F#m7-5]</td>\n",
       "      <td>No Rain No Rainbow</td>\n",
       "      <td>BABYMETAL</td>\n",
       "      <td>(Metal,)</td>\n",
       "      <td>2010</td>\n",
       "      <td>intermediate</td>\n",
       "      <td>E A D G B E</td>\n",
       "      <td>NaN</td>\n",
       "      <td>Am</td>\n",
       "      <td>NaN</td>\n",
       "      <td>20</td>\n",
       "      <td>(A, Ab, Am, Asus4, Bb, Bm, Bm7-5, C, Csus4, D, D#dim, Dm, E, Em, F, F#m7-5, G, G#aug, G/F, Gsus4)</td>\n",
       "      <td>[Am, Em, F, G, Am, G, F, G, C, G, Am, C, F, C, Dm, E, Am, G#, C, D, F, G, Am, C, C, G, Am, C, F, C, Dm, E, Am, G#, C, D, F, G, C, C, E, Am, G, F, Em, Dm, C, Bm, E, Am, G, F, Em, Dm, C, Bm, E, A, A, G, F, G, Em, E, Am, G, Dm, D#dim, A, E, D, A, Bm, E, F, G, Am, G, F, G, Am, G, G#, A#, G, E, C, G, Am, Em, F, C, Dm, E, Am, G#, C, F#m, F, G, ...]</td>\n",
       "      <td>[Bm, G, A#, A, E, F#m, F, G#, Dm, D#dim, C, D, Em, Am]</td>\n",
       "      <td>G</td>\n",
       "      <td>[Am, C, D, Em, G]</td>\n",
       "      <td>maxChord</td>\n",
       "      <td>0</td>\n",
       "    </tr>\n",
       "    <tr>\n",
       "      <th>4002</th>\n",
       "      <td>https://tabs.ultimate-guitar.com/tab/bee-gees/new-york-mining-disaster-1941-chords-16886</td>\n",
       "      <td>[Am, D, G, Am/D, G, C, G, G, C, F, Esus4, E, Am, D, G, F, G, C, G, G, C, F, Esus4, E, Am, G, Am/D, D, G, C, G, G, C, F, Esus4, E, Am, Am, Am/G, Am/F, Am/E, Am/D, Am, Am/D, D, E, Esus4, F, G]</td>\n",
       "      <td>[Am, D, G, Am/D, C, F, Esus4, E, Am/G, Am/F, Am/E]</td>\n",
       "      <td>New York Mining Disaster 1941</td>\n",
       "      <td>Bee Gees</td>\n",
       "      <td>(Disco, Pop, Rock)</td>\n",
       "      <td>1960</td>\n",
       "      <td>intermediate</td>\n",
       "      <td>D A D F# A D</td>\n",
       "      <td>NaN</td>\n",
       "      <td>Am</td>\n",
       "      <td>NaN</td>\n",
       "      <td>11</td>\n",
       "      <td>(Am, Am/D, Am/E, Am/F, Am/G, C, D, E, Esus4, F, G)</td>\n",
       "      <td>[Am, D, G, Am, G, C, G, G, C, F, E, E, Am, D, G, F, G, C, G, G, C, F, E, E, Am, G, Am, D, G, C, G, G, C, F, E, E, Am, Am, Am, Am, Am, Am, Am, Am, D, E, E, F, G]</td>\n",
       "      <td>[G, E, F, C, D, Am]</td>\n",
       "      <td>G</td>\n",
       "      <td>[Am, C, Em, G]</td>\n",
       "      <td>maxChord</td>\n",
       "      <td>0</td>\n",
       "    </tr>\n",
       "    <tr>\n",
       "      <th>4331</th>\n",
       "      <td>https://tabs.ultimate-guitar.com/tab/bill-withers/harlem-chords-2225295</td>\n",
       "      <td>[Am, Am, Em, G, Am, G, Am, G, Am, F#m, Am, F#m, Am, Am, G, Am, C#, G#7, A#m, A#m, B, A, Bm, Bm, D, B, Am, C, Cm, C, C, C]</td>\n",
       "      <td>[Am, Em, G, F#m, C#, G#7, A#m, B, A, Bm, D, C, Cm]</td>\n",
       "      <td>Harlem</td>\n",
       "      <td>Bill Withers</td>\n",
       "      <td>(Rhythm And Blues,)</td>\n",
       "      <td>1970</td>\n",
       "      <td>novice</td>\n",
       "      <td>E A D G B E</td>\n",
       "      <td>NaN</td>\n",
       "      <td>Am</td>\n",
       "      <td>NaN</td>\n",
       "      <td>13</td>\n",
       "      <td>(A, A#m, Am, B, Bm, C, C#, Cm, D, Em, F#m, G, G#7)</td>\n",
       "      <td>[Am, Am, Em, G, Am, G, Am, G, Am, F#m, Am, F#m, Am, Am, G, Am, C#, G#, A#m, A#m, B, A, Bm, Bm, D, B, Am, C, Cm, C, C, C]</td>\n",
       "      <td>[Bm, G, A, F#m, Cm, A#m, G#, C, D, C#, Em, B, Am]</td>\n",
       "      <td>D</td>\n",
       "      <td>[D, Em, G]</td>\n",
       "      <td>tiebreak failed</td>\n",
       "      <td>0</td>\n",
       "    </tr>\n",
       "    <tr>\n",
       "      <th>4363</th>\n",
       "      <td>https://tabs.ultimate-guitar.com/tab/bill-withers/take-it-all-in-and-check-it-all-out-chords-3122879</td>\n",
       "      <td>[Am, D, Am, D, Am, D, Am, D, Am, D, Am, D, Am, D, Am, D, Am, D, Am, D, Am, D, Am, D, Am, D, Am, D, Am, D, Am, D, Am, D, Am, D, Am, Am, Am, D, Am, D, Am, D, Am, D, Am, D, Am, D, Am, D, Am, Am, Am, D, Am, D, Am, D, Am, D, Am, D, Am, D, Am, D, Am, Am, Am, D, Am, D, Am, D, Am, D, Am, D, Am, D, Am, D, Am, Am, Am, D, Am, D, Am, D, Am, D, Am, D, Am, D, Am, D, ...]</td>\n",
       "      <td>[Am, D]</td>\n",
       "      <td>Take It All In And Check It All Out</td>\n",
       "      <td>Bill Withers</td>\n",
       "      <td>(Rhythm And Blues,)</td>\n",
       "      <td>1970</td>\n",
       "      <td>novice</td>\n",
       "      <td>E A D G B E</td>\n",
       "      <td>NaN</td>\n",
       "      <td>Am</td>\n",
       "      <td>simple way to play a great song - chords are matched with exact lyric placement and the strumming pattern should help it sound a little funky. was this info helpful?yesno</td>\n",
       "      <td>2</td>\n",
       "      <td>(Am, D)</td>\n",
       "      <td>[Am, D, Am, D, Am, D, Am, D, Am, D, Am, D, Am, D, Am, D, Am, D, Am, D, Am, D, Am, D, Am, D, Am, D, Am, D, Am, D, Am, D, Am, D, Am, Am, Am, D, Am, D, Am, D, Am, D, Am, D, Am, D, Am, D, Am, Am, Am, D, Am, D, Am, D, Am, D, Am, D, Am, D, Am, D, Am, Am, Am, D, Am, D, Am, D, Am, D, Am, D, Am, D, Am, D, Am, Am, Am, D, Am, D, Am, D, Am, D, Am, D, Am, D, Am, D, ...]</td>\n",
       "      <td>[D, Am]</td>\n",
       "      <td>Em</td>\n",
       "      <td>[Em, G]</td>\n",
       "      <td>tiebreak failed</td>\n",
       "      <td>0</td>\n",
       "    </tr>\n",
       "    <tr>\n",
       "      <th>4407</th>\n",
       "      <td>https://tabs.ultimate-guitar.com/tab/billie-eilish/wish-you-were-gay-chords-2623206</td>\n",
       "      <td>[Am, D7, G, Em, Am, D7, Gmaj7, Em, Am, D7, G, Em, D/F#, G, Am, D7, G, Em, Am, D7, G, Em, Am, D7, Gmaj7, Em, Am, D7, G, Am, D7, Gmaj7, Em, D/F#, G, Am, D7, Gmaj7, Em, D/F#, G, Am, D7, Gmaj7, Em, D/F#, G, Am, D7, G, Am, D7, Gmaj7, Em, Am, D7, Gmaj7, Em, Am, D7, Gmaj7, Em, Am, D7, G, Gmaj7, Em, D/F#, G, Am, D7, Gmaj7, Em, D/F#, G, Am, D7, Gmaj7, Em, D/F#, G, Am, D7, G, Am, D7, Gmaj7, Em, D/F#, G, Am, D7, Gmaj7, Em, D/F#, G, D7, Gmaj7, Em, D/F#, ...]</td>\n",
       "      <td>[Am, D7, G, Em, Gmaj7, D/F#, D]</td>\n",
       "      <td>Wish You Were Gay</td>\n",
       "      <td>Billie Eilish</td>\n",
       "      <td>(Contemporary R&amp;B, Pop)</td>\n",
       "      <td>2010</td>\n",
       "      <td>novice</td>\n",
       "      <td>E A D G B E</td>\n",
       "      <td>NaN</td>\n",
       "      <td>Am</td>\n",
       "      <td>chords to the official single released march 2019.</td>\n",
       "      <td>7</td>\n",
       "      <td>(Am, D, D/F#, D7, Em, G, Gmaj7)</td>\n",
       "      <td>[Am, D, G, Em, Am, D, G, Em, Am, D, G, Em, D, G, Am, D, G, Em, Am, D, G, Em, Am, D, G, Em, Am, D, G, Am, D, G, Em, D, G, Am, D, G, Em, D, G, Am, D, G, Em, D, G, Am, D, G, Am, D, G, Em, Am, D, G, Em, Am, D, G, Em, Am, D, G, G, Em, D, G, Am, D, G, Em, D, G, Am, D, G, Em, D, G, Am, D, G, Am, D, G, Em, D, G, Am, D, G, Em, D, G, D, G, Em, D, ...]</td>\n",
       "      <td>[D, G, Em, Am]</td>\n",
       "      <td>G</td>\n",
       "      <td>[Em, G]</td>\n",
       "      <td>maxChord</td>\n",
       "      <td>0</td>\n",
       "    </tr>\n",
       "    <tr>\n",
       "      <th>4768</th>\n",
       "      <td>https://tabs.ultimate-guitar.com/tab/blake-shelton/mine-would-be-you-chords-1237757</td>\n",
       "      <td>[Am, F, C, Am, F, C, Am, F, C, Am, C, F, Am, F, C, Am, F, C, Am, F, C, Am, C, F, Am, F, C, F, C, C, F, Dm, C, F, Am, F, C, Am, F, C, Am, F, C, Am, C, F, Am, F, C, F, C, C, F, Dm, C, F, F, G, Dm, C, F, G, Dm, C, Am, F, C, Am, F, C, Am, C, F, Am, F, C, Am, F, C, F, C, C, F, Dm, C, F, Am, F, C, Am, F, C]</td>\n",
       "      <td>[Am, F, C, Dm, G]</td>\n",
       "      <td>Mine Would Be You</td>\n",
       "      <td>Blake Shelton</td>\n",
       "      <td>(Country,)</td>\n",
       "      <td>2010</td>\n",
       "      <td>novice</td>\n",
       "      <td>E A D G B E</td>\n",
       "      <td>NaN</td>\n",
       "      <td>Am</td>\n",
       "      <td>NaN</td>\n",
       "      <td>5</td>\n",
       "      <td>(Am, C, Dm, F, G)</td>\n",
       "      <td>[Am, F, C, Am, F, C, Am, F, C, Am, C, F, Am, F, C, Am, F, C, Am, F, C, Am, C, F, Am, F, C, F, C, C, F, Dm, C, F, Am, F, C, Am, F, C, Am, F, C, Am, C, F, Am, F, C, F, C, C, F, Dm, C, F, F, G, Dm, C, F, G, Dm, C, Am, F, C, Am, F, C, Am, C, F, Am, F, C, Am, F, C, F, C, C, F, Dm, C, F, Am, F, C, Am, F, C]</td>\n",
       "      <td>[G, F, Dm, C, Am]</td>\n",
       "      <td>C</td>\n",
       "      <td>[Am, C]</td>\n",
       "      <td>maxChord</td>\n",
       "      <td>0</td>\n",
       "    </tr>\n",
       "    <tr>\n",
       "      <th>5407</th>\n",
       "      <td>https://tabs.ultimate-guitar.com/tab/bobby-hebb/sunny-chords-2666544</td>\n",
       "      <td>[Am7, Am/F, E7, Am7, Gm7, C7, Am/F, E7, Am7, Gm7, C7, Am/F, E7, Am7, Gm7, C7, Am/F, A#9#11, Dm6, E7, Am7, Am/F, E7, Am7, Gm7, C7, Am/F, E7, Am7, Gm7, C7, Am/F, E7, Am7, Gm7, C7, Am/F, A#9#11, Dm6, E7, Am7, Am/F, E7, Am7, Gm7, C7, Am/F, E7, Am7, Gm7, C7, Am/F, E7, Am7, Gm7, C7, Am/F, A#9#11, Dm6, E7, Am7, Am/F, E7, Am7, Gm7, C7, Am/F, E7, Am7, Gm7, C7, Am/F, E7, Am7, Gm7, C7, Am/F, A#9#11, Dm6, E7, Am7, Am/F, E7]</td>\n",
       "      <td>[Am7, Am/F, E7, Gm7, C7, A#9#11, Dm6]</td>\n",
       "      <td>Sunny</td>\n",
       "      <td>Bobby Hebb</td>\n",
       "      <td>(Rhythm And Blues,)</td>\n",
       "      <td>1960</td>\n",
       "      <td>intermediate</td>\n",
       "      <td>E A D G B E</td>\n",
       "      <td>NaN</td>\n",
       "      <td>Am</td>\n",
       "      <td>chords recognition has been fixed. was this info helpful?yesno</td>\n",
       "      <td>7</td>\n",
       "      <td>(A#9#11, Am/F, Am7, C7, Dm6, E7, Gm7)</td>\n",
       "      <td>[Am, Am, E, Am, Gm, C, Am, E, Am, Gm, C, Am, E, Am, Gm, C, Am, A#, Dm, E, Am, Am, E, Am, Gm, C, Am, E, Am, Gm, C, Am, E, Am, Gm, C, Am, A#, Dm, E, Am, Am, E, Am, Gm, C, Am, E, Am, Gm, C, Am, E, Am, Gm, C, Am, A#, Dm, E, Am, Am, E, Am, Gm, C, Am, E, Am, Gm, C, Am, E, Am, Gm, C, Am, A#, Dm, E, Am, Am, E]</td>\n",
       "      <td>[A#, E, Gm, Dm, C, Am]</td>\n",
       "      <td>F</td>\n",
       "      <td>[F]</td>\n",
       "      <td>one choice</td>\n",
       "      <td>0</td>\n",
       "    </tr>\n",
       "    <tr>\n",
       "      <th>5408</th>\n",
       "      <td>https://tabs.ultimate-guitar.com/tab/bobby-hebb/sunny-chords-2732844</td>\n",
       "      <td>[Am7, Gm7, C7, Fmaj7, Dm/B, E7, Am7, Gm, C7, Fmaj7, Dm/B, E7, Am7, C9, Fmaj7, Bb7, Dm/B, E7, Am, Am+5, Am6, Am7, E7, Am7, Gm7, C7, Fmaj7, Dm/B, E7, Am7, Gm, C7, Fmaj7, Dm/B, E7, Am7, C9, Fmaj7, Bb7, Dm/B, E7, Am, Am+5, Am6, Am7, E7, Am7, Gm7, C7, Fmaj7, Dm/B, E7, Am7, Gm7, C7, Fmaj7, Dm/B, E7, Am7, C9, Fmaj7, Bb7, Dm/B, E7, Am, Am+5, Am6, Am7, E7, Am7, Gm7, C7, Fmaj7, Dm/B, E7, Am7, Gm7, C7, Fmaj7, Dm/B, E7, Am7, C9, Fmaj7, Bb7, Dm/B, E7, Am, Am+5, Am6, Am7, E7]</td>\n",
       "      <td>[Am7, Gm7, C7, Fmaj7, Dm/B, E7, Gm, C9, Bb7, Am, Am+5, Am6]</td>\n",
       "      <td>Sunny</td>\n",
       "      <td>Bobby Hebb</td>\n",
       "      <td>(Rhythm And Blues,)</td>\n",
       "      <td>1960</td>\n",
       "      <td>NaN</td>\n",
       "      <td>E A D G B E</td>\n",
       "      <td>NaN</td>\n",
       "      <td>Am</td>\n",
       "      <td>chords recognition has been fixed. was this info helpful?yesno</td>\n",
       "      <td>12</td>\n",
       "      <td>(Am, Am+5, Am6, Am7, Bb7, C7, C9, Dm/B, E7, Fmaj7, Gm, Gm7)</td>\n",
       "      <td>[Am, Gm, C, F, Dm, E, Am, Gm, C, F, Dm, E, Am, C, F, A#, Dm, E, Am, Am, Am, Am, E, Am, Gm, C, F, Dm, E, Am, Gm, C, F, Dm, E, Am, C, F, A#, Dm, E, Am, Am, Am, Am, E, Am, Gm, C, F, Dm, E, Am, Gm, C, F, Dm, E, Am, C, F, A#, Dm, E, Am, Am, Am, Am, E, Am, Gm, C, F, Dm, E, Am, Gm, C, F, Dm, E, Am, C, F, A#, Dm, E, Am, Am, Am, Am, E]</td>\n",
       "      <td>[A#, E, Gm, F, Dm, C, Am]</td>\n",
       "      <td>F</td>\n",
       "      <td>[F]</td>\n",
       "      <td>one choice</td>\n",
       "      <td>0</td>\n",
       "    </tr>\n",
       "    <tr>\n",
       "      <th>5452</th>\n",
       "      <td>https://tabs.ultimate-guitar.com/tab/bon-iver/skinny-love-chords-835053</td>\n",
       "      <td>[Am, C, Am, C, Am, C, D6sus2, Am, C, Am, C, Am, C, Am, C, D6sus2, Am, Fmaj7/C, Am, C, Am, C, Am, C, D6sus2, Am, C, C/B, F, C, G, F, C, C/B, F, C, C/B, F, Am, C, Am, C, Am, C, D6sus2, Am, Fmaj7/C, C, C/B, F, C, G, F, C, C/B, F, C, C/B, F, C, C/B, F, C, C/B, F, Am, C, Am, C, Am, C, D6sus2, Am, C]</td>\n",
       "      <td>[Am, C, D6sus2, Fmaj7/C, C/B, F, G]</td>\n",
       "      <td>Skinny Love</td>\n",
       "      <td>Bon Iver</td>\n",
       "      <td>(Folk,)</td>\n",
       "      <td>2000</td>\n",
       "      <td>novice</td>\n",
       "      <td>E A D G B E</td>\n",
       "      <td>NaN</td>\n",
       "      <td>Am</td>\n",
       "      <td>NaN</td>\n",
       "      <td>7</td>\n",
       "      <td>(Am, C, C/B, D6sus2, F, Fmaj7/C, G)</td>\n",
       "      <td>[Am, C, Am, C, Am, C, D, Am, C, Am, C, Am, C, Am, C, D, Am, F, Am, C, Am, C, Am, C, D, Am, C, C, F, C, G, F, C, C, F, C, C, F, Am, C, Am, C, Am, C, D, Am, F, C, C, F, C, G, F, C, C, F, C, C, F, C, C, F, C, C, F, Am, C, Am, C, Am, C, D, Am, C]</td>\n",
       "      <td>[G, F, C, D, Am]</td>\n",
       "      <td>C</td>\n",
       "      <td>[Am, C, Em, G]</td>\n",
       "      <td>maxChord</td>\n",
       "      <td>0</td>\n",
       "    </tr>\n",
       "    <tr>\n",
       "      <th>5871</th>\n",
       "      <td>https://tabs.ultimate-guitar.com/tab/brian-eno/the-fat-lady-of-limbourg-chords-2143211</td>\n",
       "      <td>[A5, G5, G#5, A5, A5, G5, G#5, A5, E5, G5, A5, E5, G5, A5, A5, G5, G#5, A5, A5, G5, G#5, A5, A5, G5, G#5, A5, E5, G5, A5, E5, G5, A5, A5, G5, G#5, A5, A5, G5, G#5, A5, A5, G5, G#5, A5, E5, G5, A5, E5, G5, A5, A5, G5, G#5, A5, A5, A5, G5, G#5, A5]</td>\n",
       "      <td>[A5, G5, G#5, E5]</td>\n",
       "      <td>The Fat Lady Of Limbourg</td>\n",
       "      <td>Brian Eno</td>\n",
       "      <td>(Pop,)</td>\n",
       "      <td>1970</td>\n",
       "      <td>novice</td>\n",
       "      <td>E A D G B E</td>\n",
       "      <td>NaN</td>\n",
       "      <td>Am</td>\n",
       "      <td>chords closest to the bass line and tabs for the bass line and brass section. was this info helpful?yesno</td>\n",
       "      <td>4</td>\n",
       "      <td>(A5, E5, G#5, G5)</td>\n",
       "      <td>[A, G, G#, A, A, G, G#, A, E, G, A, E, G, A, A, G, G#, A, A, G, G#, A, A, G, G#, A, E, G, A, E, G, A, A, G, G#, A, A, G, G#, A, A, G, G#, A, E, G, A, E, G, A, A, G, G#, A, A, A, G, G#, A]</td>\n",
       "      <td>[E, G, G#, A]</td>\n",
       "      <td>A</td>\n",
       "      <td>[A, D, E]</td>\n",
       "      <td>maxChord</td>\n",
       "      <td>0</td>\n",
       "    </tr>\n",
       "    <tr>\n",
       "      <th>5983</th>\n",
       "      <td>https://tabs.ultimate-guitar.com/tab/britney-spears/toxic-chords-1429269</td>\n",
       "      <td>[Bm, Bm, Bm, Bm, D, F#, Bm, Bm, Bm, Bm, Bm, D, F#, Bm, Bm, Bm, Bm, Bm, D, F#, Bm, Bm, D, G, F#, Bm, G, D, G, F#, Bm, D, A, G, F#, Bm, D, G, F#, Bm, Bm, D, F#, Bm, Bm, G, Bm, F#, Bm, Bm, Bm, D, G, F#, Bm, G, G, F#, Bm, D, G, F#, Bm, D, G, F#, Bm, D, G, F#, Bm, D, G, F#]</td>\n",
       "      <td>[Bm, D, F#, G, A]</td>\n",
       "      <td>Toxic</td>\n",
       "      <td>Britney Spears</td>\n",
       "      <td>(Pop,)</td>\n",
       "      <td>2000</td>\n",
       "      <td>novice</td>\n",
       "      <td>E A D G B E</td>\n",
       "      <td>NaN</td>\n",
       "      <td>Am</td>\n",
       "      <td>NaN</td>\n",
       "      <td>5</td>\n",
       "      <td>(A, Bm, D, F#, G)</td>\n",
       "      <td>[Bm, Bm, Bm, Bm, D, F#, Bm, Bm, Bm, Bm, Bm, D, F#, Bm, Bm, Bm, Bm, Bm, D, F#, Bm, Bm, D, G, F#, Bm, G, D, G, F#, Bm, D, A, G, F#, Bm, D, G, F#, Bm, Bm, D, F#, Bm, Bm, G, Bm, F#, Bm, Bm, Bm, D, G, F#, Bm, G, G, F#, Bm, D, G, F#, Bm, D, G, F#, Bm, D, G, F#, Bm, D, G, F#]</td>\n",
       "      <td>[Bm, G, A, F#, D]</td>\n",
       "      <td>A</td>\n",
       "      <td>[A, D]</td>\n",
       "      <td>tiebreak failed</td>\n",
       "      <td>0</td>\n",
       "    </tr>\n",
       "    <tr>\n",
       "      <th>7152</th>\n",
       "      <td>https://tabs.ultimate-guitar.com/tab/cher/gypsies-tramps-and-thieves-chords-1768544</td>\n",
       "      <td>[Amadd9, Am/E, Amadd9, Dm7, Dm7/G, Am/E, F, G, Am, Em, Fmaj7, C, D7, Cmaj7, Dm, Fmaj7, Amadd9, Am/E, Amadd9, Am/E, Am, C, Dm7, F, C, Em, Amadd9, Am/E, Amadd9, Am/E, D7, Dm7, Dm7/G, C, Fmaj7, Cmaj7, Fmaj7, Cmaj7, Fmaj7, Cmaj7, Fmaj7, Cmaj7, Fmaj7, Cmaj7, Fmaj7, Cmaj7, Am, G, Fmaj7, Amadd9, Am/E, Amadd9, Am/E, Amadd9, Am/E, Amadd9, Am/E, Am, C, Dm7, F, C, Em, Amadd9, Am/E, Amadd9, Am/E, D7, Dm7, Dm7/G, C, Fmaj7, Cmaj7, Fmaj7, Cmaj7, Fmaj7, Cmaj7, Fmaj7, Cmaj7, Fmaj7, Cmaj7, Fmaj7, Cmaj7, Am, G, Fmaj7, Dm, C, Dm, C, Dm, C, Dm, C, Dm, C, Dm, C, Dm, C, ...]</td>\n",
       "      <td>[Amadd9, Am/E, Dm7, Dm7/G, F, G, Am, Em, Fmaj7, C, D7, Cmaj7, Dm]</td>\n",
       "      <td>Gypsies Tramps And Thieves</td>\n",
       "      <td>Cher</td>\n",
       "      <td>(Pop,)</td>\n",
       "      <td>1980</td>\n",
       "      <td>intermediate</td>\n",
       "      <td>E A D G B E</td>\n",
       "      <td>NaN</td>\n",
       "      <td>Am</td>\n",
       "      <td>all lyrics and breaks with their accompanying chords. full chord legend. additional tablature of riffs. fine tuning information. was this info helpful?yesno</td>\n",
       "      <td>13</td>\n",
       "      <td>(Am, Am/E, Amadd9, C, Cmaj7, D7, Dm, Dm7, Dm7/G, Em, F, Fmaj7, G)</td>\n",
       "      <td>[A, Am, A, Dm, Dm, Am, F, G, Am, Em, F, C, D, C, Dm, F, A, Am, A, Am, Am, C, Dm, F, C, Em, A, Am, A, Am, D, Dm, Dm, C, F, C, F, C, F, C, F, C, F, C, F, C, Am, G, F, A, Am, A, Am, A, Am, A, Am, Am, C, Dm, F, C, Em, A, Am, A, Am, D, Dm, Dm, C, F, C, F, C, F, C, F, C, F, C, F, C, Am, G, F, Dm, C, Dm, C, Dm, C, Dm, C, Dm, C, Dm, C, Dm, C, ...]</td>\n",
       "      <td>[G, A, F, Dm, C, D, Em, Am]</td>\n",
       "      <td>C</td>\n",
       "      <td>[Am, C]</td>\n",
       "      <td>maxChord</td>\n",
       "      <td>0</td>\n",
       "    </tr>\n",
       "    <tr>\n",
       "      <th>7409</th>\n",
       "      <td>https://tabs.ultimate-guitar.com/tab/chris-stapleton/sometimes-i-cry-chords-1814935</td>\n",
       "      <td>[Am7, Dm, F, Gm, F, Gm, Am7, Dm, F, Gm, Am7, Dm, F, Gm, F, Gm, Am7, Dm, F, Gm, F, Gm, Am7, Dm, F, Gm, F, Gm, A7, A7sus4, A7, Am7, Dm, F, Gm, F, Gm, Am7, Dm, F, Gm, Am7, Dm, F, Gm, F, Gm, A7, A7sus4, Dm, Am7, Dm, F, Gm, F, Gm, Am7, Dm, F, Gm, Am7, Dm, F, Gm, F, Gm, Am7, Dm, F, Gm, F, Gm, Am7, Dm, F, Gm, F, Gm, A7, A7sus4, A7, Am7, Dm, F, Gm, F, Gm, Am7, Dm, F, Gm, Am7, Dm, F, Gm, A7, A7sus4, Dm, Am7, Dm, ...]</td>\n",
       "      <td>[Am7, Dm, F, Gm, A7, A7sus4, G]</td>\n",
       "      <td>Sometimes I Cry</td>\n",
       "      <td>Chris Stapleton</td>\n",
       "      <td>(Country,)</td>\n",
       "      <td>2010</td>\n",
       "      <td>NaN</td>\n",
       "      <td>E A D G B E</td>\n",
       "      <td>NaN</td>\n",
       "      <td>Am</td>\n",
       "      <td>NaN</td>\n",
       "      <td>7</td>\n",
       "      <td>(A7, A7sus4, Am7, Dm, F, G, Gm)</td>\n",
       "      <td>[Am, Dm, F, Gm, F, Gm, Am, Dm, F, Gm, Am, Dm, F, Gm, F, Gm, Am, Dm, F, Gm, F, Gm, Am, Dm, F, Gm, F, Gm, A, A, A, Am, Dm, F, Gm, F, Gm, Am, Dm, F, Gm, Am, Dm, F, Gm, F, Gm, A, A, Dm, Am, Dm, F, Gm, F, Gm, Am, Dm, F, Gm, Am, Dm, F, Gm, F, Gm, Am, Dm, F, Gm, F, Gm, Am, Dm, F, Gm, F, Gm, A, A, A, Am, Dm, F, Gm, F, Gm, Am, Dm, F, Gm, Am, Dm, F, Gm, A, A, Dm, Am, Dm, ...]</td>\n",
       "      <td>[G, A, Gm, F, Dm, Am]</td>\n",
       "      <td>F</td>\n",
       "      <td>[Am, C, F]</td>\n",
       "      <td>maxChord</td>\n",
       "      <td>0</td>\n",
       "    </tr>\n",
       "    <tr>\n",
       "      <th>7678</th>\n",
       "      <td>https://tabs.ultimate-guitar.com/tab/christy-moore/only-our-rivers-run-free-chords-1677334</td>\n",
       "      <td>[C, C, C, G, C, C, C, G, C, C, F, C, G, G, F, F, C, C, G, G, Am, Am, F, F, C, C, F, F, G, G, E, E7, G, G, F, F, C, C, G, G, Am, Am, G, Am, C, F, C, G, C, F, C, G, F, F, C, G, G, Am, F, F, C, F, F, C, G, G, Am, C, G, C, F, C, G, F, F, C, G, G, Am, F, F, C, F, F, C, G, G, Am, C, G, C, F, C, G, F, F, C, G, G, Am, ...]</td>\n",
       "      <td>[C, G, F, Am, E, E7]</td>\n",
       "      <td>Only Our Rivers Run Free</td>\n",
       "      <td>Christy Moore</td>\n",
       "      <td>(Folk,)</td>\n",
       "      <td>1980</td>\n",
       "      <td>novice</td>\n",
       "      <td>E A D G B E</td>\n",
       "      <td>NaN</td>\n",
       "      <td>Am</td>\n",
       "      <td>NaN</td>\n",
       "      <td>6</td>\n",
       "      <td>(Am, C, E, E7, F, G)</td>\n",
       "      <td>[C, C, C, G, C, C, C, G, C, C, F, C, G, G, F, F, C, C, G, G, Am, Am, F, F, C, C, F, F, G, G, E, E, G, G, F, F, C, C, G, G, Am, Am, G, Am, C, F, C, G, C, F, C, G, F, F, C, G, G, Am, F, F, C, F, F, C, G, G, Am, C, G, C, F, C, G, F, F, C, G, G, Am, F, F, C, F, F, C, G, G, Am, C, G, C, F, C, G, F, F, C, G, G, Am, ...]</td>\n",
       "      <td>[G, E, F, C, Am]</td>\n",
       "      <td>C</td>\n",
       "      <td>[Am, C]</td>\n",
       "      <td>maxChord</td>\n",
       "      <td>0</td>\n",
       "    </tr>\n",
       "    <tr>\n",
       "      <th>8067</th>\n",
       "      <td>https://tabs.ultimate-guitar.com/tab/coldplay/the-scientist-chords-50712</td>\n",
       "      <td>[Am, F, C, B/C, D, A, Am, F, C, B/C, Am, F, C, B/C, Am, F, C, B/C, Am, F, C, B/C, Am, F, C, B/C, F, C, B/C, F, C, B/C, G, Dm7, C, Am, F, C, C, Am, F, C, B/C, Am, F, C, C, Am, F, C, C, Am, F, C, C, B/C, Am, F, C, C, B/C, F, C, B/C, F, C, B/C, G, Dm7, C, Am, F, C, C, Am, F, C, B/C, Am, F, C, C, Am, F, C, C, Am, F, C, B/C, Am, F, C]</td>\n",
       "      <td>[Am, F, C, B/C, D, A, G, Dm7]</td>\n",
       "      <td>The Scientist</td>\n",
       "      <td>Coldplay</td>\n",
       "      <td>(Rock,)</td>\n",
       "      <td>2000</td>\n",
       "      <td>NaN</td>\n",
       "      <td>E A D G B E</td>\n",
       "      <td>NaN</td>\n",
       "      <td>Am</td>\n",
       "      <td>NaN</td>\n",
       "      <td>8</td>\n",
       "      <td>(A, Am, B/C, C, D, Dm7, F, G)</td>\n",
       "      <td>[Am, F, C, B, D, A, Am, F, C, B, Am, F, C, B, Am, F, C, B, Am, F, C, B, Am, F, C, B, F, C, B, F, C, B, G, Dm, C, Am, F, C, C, Am, F, C, B, Am, F, C, C, Am, F, C, C, Am, F, C, C, B, Am, F, C, C, B, F, C, B, F, C, B, G, Dm, C, Am, F, C, C, Am, F, C, B, Am, F, C, C, Am, F, C, C, Am, F, C, B, Am, F, C]</td>\n",
       "      <td>[G, A, F, Dm, C, D, B, Am]</td>\n",
       "      <td>C</td>\n",
       "      <td>[Am, C]</td>\n",
       "      <td>maxChord</td>\n",
       "      <td>0</td>\n",
       "    </tr>\n",
       "    <tr>\n",
       "      <th>8206</th>\n",
       "      <td>https://tabs.ultimate-guitar.com/tab/conway-twitty/slow-hand-chords-2799548</td>\n",
       "      <td>[Am, G, Am, G, Em, C, Am, Am, D, G, Em, G, Em, C, D, G, Am, G, Am, G, Em, C, Am, Am, D, G, Em, G, Em, C, D, Em, C, D, G]</td>\n",
       "      <td>[Am, G, Em, C, D]</td>\n",
       "      <td>Slow Hand</td>\n",
       "      <td>Conway Twitty</td>\n",
       "      <td>(Country,)</td>\n",
       "      <td>1980</td>\n",
       "      <td>novice</td>\n",
       "      <td>E A D G B E</td>\n",
       "      <td>NaN</td>\n",
       "      <td>Am</td>\n",
       "      <td>correct lyrics, and chorded in a different key (am rather than gm), it is also chorded to be played without a capo. was this info helpful?yesno</td>\n",
       "      <td>5</td>\n",
       "      <td>(Am, C, D, Em, G)</td>\n",
       "      <td>[Am, G, Am, G, Em, C, Am, Am, D, G, Em, G, Em, C, D, G, Am, G, Am, G, Em, C, Am, Am, D, G, Em, G, Em, C, D, Em, C, D, G]</td>\n",
       "      <td>[G, C, D, Em, Am]</td>\n",
       "      <td>G</td>\n",
       "      <td>[Em, G]</td>\n",
       "      <td>maxChord</td>\n",
       "      <td>0</td>\n",
       "    </tr>\n",
       "    <tr>\n",
       "      <th>8787</th>\n",
       "      <td>https://tabs.ultimate-guitar.com/tab/dave-van-ronk/everybody-loves-my-baby-chords-2888480</td>\n",
       "      <td>[Am, D7, G, C, E7, Am, Em, B7, Em, G, C, D7, G, Am, D7, G, C, E7, Am, Em, D7, A7, G, D, C, G, E7, B7]</td>\n",
       "      <td>[Am, D7, G, C, E7, Em, B7, A7, D]</td>\n",
       "      <td>Everybody Loves My Baby</td>\n",
       "      <td>Dave Van Ronk</td>\n",
       "      <td>(Folk,)</td>\n",
       "      <td>1960</td>\n",
       "      <td>novice</td>\n",
       "      <td>E A D G B E</td>\n",
       "      <td>NaN</td>\n",
       "      <td>Am</td>\n",
       "      <td>NaN</td>\n",
       "      <td>9</td>\n",
       "      <td>(A7, Am, B7, C, D, D7, E7, Em, G)</td>\n",
       "      <td>[Am, D, G, C, E, Am, Em, B, Em, G, C, D, G, Am, D, G, C, E, Am, Em, D, A, G, D, C, G, E, B]</td>\n",
       "      <td>[G, A, E, C, D, Em, B, Am]</td>\n",
       "      <td>G</td>\n",
       "      <td>[Em, G]</td>\n",
       "      <td>maxChord</td>\n",
       "      <td>0</td>\n",
       "    </tr>\n",
       "    <tr>\n",
       "      <th>9092</th>\n",
       "      <td>https://tabs.ultimate-guitar.com/tab/dead-by-april/breaking-point-chords-2241147</td>\n",
       "      <td>[Am, D, C, D, Em, D, C, Am, Em, D, C, Am, Em, D, C, Em, D, C, Em, C, D, C, D, Em, D, C, Em, D, Em, D, C, Em, Bm, C, Em, G, D, Em, D, C, G, D, C, Em, Bm, Em, D, C, Am, Em, D, C, Em, D, C, Em, Em, C, D, Em, D, C, Em, D, Em, D, C, Em, Bm, C, Em, G, D, Em, D, C, G, D, C, Em, Bm, Em, D, C, Bm, C, Em, D, Bm, C, Em, D, Bm, C, Em, D, Bm, C, Em, D, ...]</td>\n",
       "      <td>[Am, D, C, Em, Bm, G]</td>\n",
       "      <td>Breaking Point</td>\n",
       "      <td>Dead by April</td>\n",
       "      <td>(Metal,)</td>\n",
       "      <td>2010</td>\n",
       "      <td>novice</td>\n",
       "      <td>E A D G B E</td>\n",
       "      <td>NaN</td>\n",
       "      <td>Am</td>\n",
       "      <td>NaN</td>\n",
       "      <td>6</td>\n",
       "      <td>(Am, Bm, C, D, Em, G)</td>\n",
       "      <td>[Am, D, C, D, Em, D, C, Am, Em, D, C, Am, Em, D, C, Em, D, C, Em, C, D, C, D, Em, D, C, Em, D, Em, D, C, Em, Bm, C, Em, G, D, Em, D, C, G, D, C, Em, Bm, Em, D, C, Am, Em, D, C, Em, D, C, Em, Em, C, D, Em, D, C, Em, D, Em, D, C, Em, Bm, C, Em, G, D, Em, D, C, G, D, C, Em, Bm, Em, D, C, Bm, C, Em, D, Bm, C, Em, D, Bm, C, Em, D, Bm, C, Em, D, ...]</td>\n",
       "      <td>[Bm, G, C, D, Em, Am]</td>\n",
       "      <td>Em</td>\n",
       "      <td>[Em, G]</td>\n",
       "      <td>maxChord</td>\n",
       "      <td>0</td>\n",
       "    </tr>\n",
       "    <tr>\n",
       "      <th>9167</th>\n",
       "      <td>https://tabs.ultimate-guitar.com/tab/death-cab-for-cutie/i-will-follow-you-into-the-dark-chords-335735</td>\n",
       "      <td>[Am, C, F, C, G/B, Am, C, G, Am, C, E, Am, Am/G, F, Fm, C/G, C/G, Am/E, F, C, G, C/G, Am/E, F, C, G, Am, C, F, C, G/B, Am, C, G, Am, C, E, Am, Am/G, F, Fm, C/G, C/G, Am/E, F, C, G, C/G, Am/E, F, C, G, Am, C, F, C, G/B, Am, C, G, Am, C, E, Am, Am/G, F, Fm, C/G, C/G, Am/E, F, C, G, C/G, Am/E, F, C, G, Am, F, Am, C, F, C, G/B, Am, C, G, Am, C, E, Am, Am/G, F, Fm, C, G/B, Am, F, Fm, ...]</td>\n",
       "      <td>[Am, C, F, G/B, G, E, Am/G, Fm, C/G, Am/E]</td>\n",
       "      <td>I Will Follow You Into The Dark</td>\n",
       "      <td>Death Cab for Cutie</td>\n",
       "      <td>(Rock,)</td>\n",
       "      <td>2000</td>\n",
       "      <td>novice</td>\n",
       "      <td>E A D G B E</td>\n",
       "      <td>5th fret</td>\n",
       "      <td>Am</td>\n",
       "      <td>NaN</td>\n",
       "      <td>10</td>\n",
       "      <td>(Am, Am/E, Am/G, C, C/G, E, F, Fm, G, G/B)</td>\n",
       "      <td>[Am, C, F, C, G, Am, C, G, Am, C, E, Am, Am, F, Fm, C, C, Am, F, C, G, C, Am, F, C, G, Am, C, F, C, G, Am, C, G, Am, C, E, Am, Am, F, Fm, C, C, Am, F, C, G, C, Am, F, C, G, Am, C, F, C, G, Am, C, G, Am, C, E, Am, Am, F, Fm, C, C, Am, F, C, G, C, Am, F, C, G, Am, F, Am, C, F, C, G, Am, C, G, Am, C, E, Am, Am, F, Fm, C, G, Am, F, Fm, ...]</td>\n",
       "      <td>[G, E, F, C, Fm, Am]</td>\n",
       "      <td>C</td>\n",
       "      <td>[Am, C]</td>\n",
       "      <td>maxChord</td>\n",
       "      <td>0</td>\n",
       "    </tr>\n",
       "    <tr>\n",
       "      <th>9655</th>\n",
       "      <td>https://tabs.ultimate-guitar.com/tab/die-toten-hosen/bonnie-and-clyde-chords-2451421</td>\n",
       "      <td>[Am, G, C, D, Am, G, C, D, Am, G, C, D, Am, G, C, D, Am, F, D, C, B, Am, F, D, E, C, Am, F, C, F, G, C, Am, F, C, F, G, Am, G, C, D, Am, G, C, D, Am, F, D, C, B, Am, F, D, E, C, Am, F, C, F, G, C, Am, F, C, F, G, E, C, E, D, E, G, C, D, Am, G, C, D, Am, G, C, D, Am, F, D, C, B, Am, F, D, E, C, Am, F, C, F, G, C, Am, F, ...]</td>\n",
       "      <td>[Am, G, C, D, F, B, E]</td>\n",
       "      <td>Bonnie And Clyde</td>\n",
       "      <td>Die Toten Hosen</td>\n",
       "      <td>(Rock,)</td>\n",
       "      <td>1990</td>\n",
       "      <td>novice</td>\n",
       "      <td>E A D G B E</td>\n",
       "      <td>NaN</td>\n",
       "      <td>Am</td>\n",
       "      <td>it's the first full version with full chord progressions and corrected lyrics. (especially at the end of the song). was this info helpful?yesno</td>\n",
       "      <td>7</td>\n",
       "      <td>(Am, B, C, D, E, F, G)</td>\n",
       "      <td>[Am, G, C, D, Am, G, C, D, Am, G, C, D, Am, G, C, D, Am, F, D, C, B, Am, F, D, E, C, Am, F, C, F, G, C, Am, F, C, F, G, Am, G, C, D, Am, G, C, D, Am, F, D, C, B, Am, F, D, E, C, Am, F, C, F, G, C, Am, F, C, F, G, E, C, E, D, E, G, C, D, Am, G, C, D, Am, G, C, D, Am, F, D, C, B, Am, F, D, E, C, Am, F, C, F, G, C, Am, F, ...]</td>\n",
       "      <td>[G, E, F, C, D, B, Am]</td>\n",
       "      <td>C</td>\n",
       "      <td>[Am, C, Em, G]</td>\n",
       "      <td>maxChord</td>\n",
       "      <td>0</td>\n",
       "    </tr>\n",
       "  </tbody>\n",
       "</table>\n",
       "</div>"
      ],
      "text/plain": [
       "                                                                                                         url  \\\n",
       "710   https://tabs.ultimate-guitar.com/tab/ed-sheeran/give-me-love-chords-1154540                              \n",
       "714   https://tabs.ultimate-guitar.com/tab/ed-sheeran/happier-chords-1956585                                   \n",
       "853   https://tabs.ultimate-guitar.com/tab/edguy/holy-shadows-chords-2834503                                   \n",
       "937   https://tabs.ultimate-guitar.com/tab/electric-light-orchestra/evil-woman-chords-2473478                  \n",
       "1333  https://tabs.ultimate-guitar.com/tab/3182702                                                             \n",
       "1468  https://tabs.ultimate-guitar.com/tab/a-great-big-world/say-something-chords-1443639                      \n",
       "1653  https://tabs.ultimate-guitar.com/tab/acdc/hells-bells-chords-2245939                                     \n",
       "2902  https://tabs.ultimate-guitar.com/tab/angra/rebirth-chords-3133007                                        \n",
       "2979  https://tabs.ultimate-guitar.com/tab/anssi-kela/puistossa-chords-2418713                                 \n",
       "3701  https://tabs.ultimate-guitar.com/tab/babymetal/no-rain-no-rainbow-chords-2493258                         \n",
       "4002  https://tabs.ultimate-guitar.com/tab/bee-gees/new-york-mining-disaster-1941-chords-16886                 \n",
       "4331  https://tabs.ultimate-guitar.com/tab/bill-withers/harlem-chords-2225295                                  \n",
       "4363  https://tabs.ultimate-guitar.com/tab/bill-withers/take-it-all-in-and-check-it-all-out-chords-3122879     \n",
       "4407  https://tabs.ultimate-guitar.com/tab/billie-eilish/wish-you-were-gay-chords-2623206                      \n",
       "4768  https://tabs.ultimate-guitar.com/tab/blake-shelton/mine-would-be-you-chords-1237757                      \n",
       "5407  https://tabs.ultimate-guitar.com/tab/bobby-hebb/sunny-chords-2666544                                     \n",
       "5408  https://tabs.ultimate-guitar.com/tab/bobby-hebb/sunny-chords-2732844                                     \n",
       "5452  https://tabs.ultimate-guitar.com/tab/bon-iver/skinny-love-chords-835053                                  \n",
       "5871  https://tabs.ultimate-guitar.com/tab/brian-eno/the-fat-lady-of-limbourg-chords-2143211                   \n",
       "5983  https://tabs.ultimate-guitar.com/tab/britney-spears/toxic-chords-1429269                                 \n",
       "7152  https://tabs.ultimate-guitar.com/tab/cher/gypsies-tramps-and-thieves-chords-1768544                      \n",
       "7409  https://tabs.ultimate-guitar.com/tab/chris-stapleton/sometimes-i-cry-chords-1814935                      \n",
       "7678  https://tabs.ultimate-guitar.com/tab/christy-moore/only-our-rivers-run-free-chords-1677334               \n",
       "8067  https://tabs.ultimate-guitar.com/tab/coldplay/the-scientist-chords-50712                                 \n",
       "8206  https://tabs.ultimate-guitar.com/tab/conway-twitty/slow-hand-chords-2799548                              \n",
       "8787  https://tabs.ultimate-guitar.com/tab/dave-van-ronk/everybody-loves-my-baby-chords-2888480                \n",
       "9092  https://tabs.ultimate-guitar.com/tab/dead-by-april/breaking-point-chords-2241147                         \n",
       "9167  https://tabs.ultimate-guitar.com/tab/death-cab-for-cutie/i-will-follow-you-into-the-dark-chords-335735   \n",
       "9655  https://tabs.ultimate-guitar.com/tab/die-toten-hosen/bonnie-and-clyde-chords-2451421                     \n",
       "\n",
       "                                                                                                                                                                                                                                                                                                                                                                                                                                                                                                                                                                          chordOrder  \\\n",
       "710   [G#m7, E, B5, Bmaj7, G#m7, E, B5, B7+, G#m7, E, B5, B7+, G#m7, E, B5, Bmaj7, G#m7, E, B5, Bmaj7, G#m7, E, B5, Bmaj7, G#m7, E, B5, Bmaj7, C#m, E, B, F#, C#m, E, B, C#m, E, B, C#m, E, B, C#m, E, G#m, F#, E, G#m, F#, E, G#m7, E, B5, Bmaj7, G#m7, E, B5, Bmaj7, G#m7, E, B5, Bmaj7, G#m7, E, B5, Bmaj7, C#m, E, B, F#, C#m, E, B, C#m, E, B, C#m, E, B, C#m, E, G#m, F#, E, B, C#m, E, B, C#m, E, B, C#m, E, G#m, F#, E, G#m, F#, G#m, F#, G#m, ...]                                                                                                                            \n",
       "714   [Am7, F, C, Am7, F, C, Am7, F, C, Am7, F, C, Am7, F, C, Am7, F, C, Am7, F, C, Am7, F, C, Am7, F, C, Am7, F, C, Am7, F, C, Am7, F, C, Am7, F, C, Am7, F, C, Am7, F, C, Am7, F, C, Am7, F, C, Am7, F, C, Am7, F, C, Am7, F, C, Am7, F, C, Am7, F, C, Am7, F, C, Am7, F, C, Am7, F, C, Am7, F, C, Am7, F, C, Am7, F, C, Am7, F, C, Am7, F, C, Am7, F, C, Am7, F, C, Am7, F, C, Am7, ...]                                                                                                                                                                                            \n",
       "853   [Am, F/A, Dm, C, G, Am, F/A, G, E, Am, F/A, Dm, C, G, Am, F/A, G, Fmaj7, Am, F, G, Am, Am, F, G, E, Am, F, G, Am, Am, F, G, E, Am, F/A, Dm, C, G, Am, F/A, G, E, Am, F/A, Dm, C, G, Am, F/A, G, E, Fmaj7, G6, Am, Am7, C, Bbadd11, Dm, Dm, F, G, Am, Bb, F, C, Dm, C, Bb, Dm, Bb, F, C, Dm, C, Bb, Dm, Bb, F, C, Bb, Am, F, G, Am, Am, F, G, E, Am, F, G, Am, Am, F, G, E, Am, F/A, Dm, ...]                                                                                                                                                                                     \n",
       "937   [C, C/E, C/G, C9, C, Am, Fmaj7, F9, C/E, Em7, G, F#dim, C/G, Dm7, Emadd9, D#m7, C9, F9, F#dim, C, C, C/E, C/G, Am, Em7, Dm7, Dm7, Em7, Am, Em7, Dm7, Em7, Am, Em7, Dm7, Dm7, Em7, Am, Em7, Dm7, Dm7, Em7, Am, Em7, Dm7, Dm7, Em7, Am, Em7, Dm7, Dm7, Em7, Am, Em7, Dm7, Dm7, Em7, Am, Em7, Dm7, Dm7, Em7, Am, Em7, Dm7, Dm7, Em7, Fmaj7, G, C, C, C/E, C/G, Am, Em7, Dm7, Dm7, Em7, Am, Em7, Dm7, Em7, Am, Em7, Dm7, Dm7, Em7, Am, Em7, Dm7, Em7, Am, Em7, Dm7, Dm7, Em7, Am, Em7, Dm7, Dm7, ...]                                                                                \n",
       "1333  [Am, Am7, Am, Am, Am, Gm, Am, Am, Am, Am, Gm, Am, Am, Am, Am, Gm, Am, Am, Am, Am, Gm, Am, Am, Am, Am, Gm, Am, Gm, Am, Gm, Am, Gm, Am, Am7, Am, Am, Am, Gm, Am, Am, Am, Am, Gm, Am, Am, Am, Am, Gm, Am, Am, Am, Am, Gm, Am, Am7, Am, Am]                                                                                                                                                                                                                                                                                                                                          \n",
       "1468  [Am, F, C, Gsus4, Am, F, C, Gsus4, Am, F, C, Gsus4, Am, F, C, Gsus4, Am, F, C, Gsus4, C, Em, F, C, Gsus4, C, Em, F, C, Gsus4, Am, F, C, Gsus4, Am, F, C, Gsus4, Am, F, C, Gsus4, Am, F, C, Gsus4, C, Em, F, C, Gsus4, Am, F, C, Gsus4, Am, F, C, Gsus4, Am, F, C, Gsus4, Am, F, C, Gsus4, Am, F, C, Gsus4, Am, F, C]                                                                                                                                                                                                                                                             \n",
       "1653  [Am, D, C, D, C, G/B, G, D, C, G/B, Am, D, C, G/B, Am, D, C, G/B, Am, D, C, G/B, Am, D, C, G/B, Am, D, C, G/B, D, C, G, D, C, G, E, D, A, E, Am, D, C, D, Am, C, B, Am, Am, G, D, C, B, Am, D, C, B, Am, D, C, G/B, Am, D, C, G/B, Am, D, C, G/B, Am, D, C, G/B, D, C, G, D, C, G, E, D, A, E, Am, D, C, D, Am, D, C, D, C, B, Am, D, C, D, Am, G, D, ...]                                                                                                                                                                                                                       \n",
       "2902  [Am, D/F#, G, Em, F, G, Am, Am, D/F#, G, Em, F, G, Am, Dm, Bb/D, C, Am, Dm, Bb/D, C, G/B, Am7, Dm9, G7, C, E7, Am7, D9, F, Am, Am7, Dm9, G7, C, E7, Am7, D9, F, Am, Am, G/A, Bm/A, Am, Am, G/A, E, Am, Am, G/A, Bm/A, Am, Am, G/A, E, Am, F, G, Am, G/A, Bm/A, Am, C/G, G, E, Am, G/A, A7, Dm, G, C, E, F, G, Am, F, F#, C#, D, D#, B, E, A, C#m, E, C#m, E, C#m, E, Am, G, F, G, Am, G, F, G, Am, G, F, ...]                                                                                                                                                                    \n",
       "2979  [Am, F, C, G/H, Am, F, C, G/B, Am, F, C, G/B, Am, F, C, G/B, Am, F, C, G/B, Am, F/A, C/A, G/A, Am, F, C, G/B, Am, F, C, G/B, Am, F, C, G/B, Am, F, C, Em, Am, Am, F, C, G/B, Am, F, C, G/B, Am, F, C, G/B, Am, F, C, G/B, Am, F, Am, F, F/E, Am, F, C, G/B, Am, F, C, G/B, Am, F, C, G/B, Am, F/A, C/A, G/A, Am, Am, F, C, G/B, Am, F, C, G/B, Am, F, C, Em, Am, Am, F, C, G/B, Am, F, C, G/B, ...]                                                                                                                                                                              \n",
       "3701  [Am, Em, F, G, Am, G, F, G, C, G, Am, C, F, C, Dm, E, Am, G#aug, C, D, F, G, Am, C, C, G, Am, C, F, C, Dm, E, Am, G#aug, C, D, F, G, Csus4, C, E, Am, G, F, Em, Dm, C, Bm7-5, E, Am, G, F, Em, Dm, C, Bm7-5, E, Asus4, A, G, F, G/F, Em, E, Am, G, Dm, D#dim, A, E, D, A, Bm, E, F, G, Am, G, F, G, Am, G, Ab, Bb, Gsus4, E, C, G, Am, Em, F, C, Dm, E, Am, G#aug, C, F#m7-5, F, G, ...]                                                                                                                                                                                         \n",
       "4002  [Am, D, G, Am/D, G, C, G, G, C, F, Esus4, E, Am, D, G, F, G, C, G, G, C, F, Esus4, E, Am, G, Am/D, D, G, C, G, G, C, F, Esus4, E, Am, Am, Am/G, Am/F, Am/E, Am/D, Am, Am/D, D, E, Esus4, F, G]                                                                                                                                                                                                                                                                                                                                                                                   \n",
       "4331  [Am, Am, Em, G, Am, G, Am, G, Am, F#m, Am, F#m, Am, Am, G, Am, C#, G#7, A#m, A#m, B, A, Bm, Bm, D, B, Am, C, Cm, C, C, C]                                                                                                                                                                                                                                                                                                                                                                                                                                                        \n",
       "4363  [Am, D, Am, D, Am, D, Am, D, Am, D, Am, D, Am, D, Am, D, Am, D, Am, D, Am, D, Am, D, Am, D, Am, D, Am, D, Am, D, Am, D, Am, D, Am, Am, Am, D, Am, D, Am, D, Am, D, Am, D, Am, D, Am, D, Am, Am, Am, D, Am, D, Am, D, Am, D, Am, D, Am, D, Am, D, Am, Am, Am, D, Am, D, Am, D, Am, D, Am, D, Am, D, Am, D, Am, Am, Am, D, Am, D, Am, D, Am, D, Am, D, Am, D, Am, D, ...]                                                                                                                                                                                                          \n",
       "4407  [Am, D7, G, Em, Am, D7, Gmaj7, Em, Am, D7, G, Em, D/F#, G, Am, D7, G, Em, Am, D7, G, Em, Am, D7, Gmaj7, Em, Am, D7, G, Am, D7, Gmaj7, Em, D/F#, G, Am, D7, Gmaj7, Em, D/F#, G, Am, D7, Gmaj7, Em, D/F#, G, Am, D7, G, Am, D7, Gmaj7, Em, Am, D7, Gmaj7, Em, Am, D7, Gmaj7, Em, Am, D7, G, Gmaj7, Em, D/F#, G, Am, D7, Gmaj7, Em, D/F#, G, Am, D7, Gmaj7, Em, D/F#, G, Am, D7, G, Am, D7, Gmaj7, Em, D/F#, G, Am, D7, Gmaj7, Em, D/F#, G, D7, Gmaj7, Em, D/F#, ...]                                                                                                               \n",
       "4768  [Am, F, C, Am, F, C, Am, F, C, Am, C, F, Am, F, C, Am, F, C, Am, F, C, Am, C, F, Am, F, C, F, C, C, F, Dm, C, F, Am, F, C, Am, F, C, Am, F, C, Am, C, F, Am, F, C, F, C, C, F, Dm, C, F, F, G, Dm, C, F, G, Dm, C, Am, F, C, Am, F, C, Am, C, F, Am, F, C, Am, F, C, F, C, C, F, Dm, C, F, Am, F, C, Am, F, C]                                                                                                                                                                                                                                                                   \n",
       "5407  [Am7, Am/F, E7, Am7, Gm7, C7, Am/F, E7, Am7, Gm7, C7, Am/F, E7, Am7, Gm7, C7, Am/F, A#9#11, Dm6, E7, Am7, Am/F, E7, Am7, Gm7, C7, Am/F, E7, Am7, Gm7, C7, Am/F, E7, Am7, Gm7, C7, Am/F, A#9#11, Dm6, E7, Am7, Am/F, E7, Am7, Gm7, C7, Am/F, E7, Am7, Gm7, C7, Am/F, E7, Am7, Gm7, C7, Am/F, A#9#11, Dm6, E7, Am7, Am/F, E7, Am7, Gm7, C7, Am/F, E7, Am7, Gm7, C7, Am/F, E7, Am7, Gm7, C7, Am/F, A#9#11, Dm6, E7, Am7, Am/F, E7]                                                                                                                                                  \n",
       "5408  [Am7, Gm7, C7, Fmaj7, Dm/B, E7, Am7, Gm, C7, Fmaj7, Dm/B, E7, Am7, C9, Fmaj7, Bb7, Dm/B, E7, Am, Am+5, Am6, Am7, E7, Am7, Gm7, C7, Fmaj7, Dm/B, E7, Am7, Gm, C7, Fmaj7, Dm/B, E7, Am7, C9, Fmaj7, Bb7, Dm/B, E7, Am, Am+5, Am6, Am7, E7, Am7, Gm7, C7, Fmaj7, Dm/B, E7, Am7, Gm7, C7, Fmaj7, Dm/B, E7, Am7, C9, Fmaj7, Bb7, Dm/B, E7, Am, Am+5, Am6, Am7, E7, Am7, Gm7, C7, Fmaj7, Dm/B, E7, Am7, Gm7, C7, Fmaj7, Dm/B, E7, Am7, C9, Fmaj7, Bb7, Dm/B, E7, Am, Am+5, Am6, Am7, E7]                                                                                               \n",
       "5452  [Am, C, Am, C, Am, C, D6sus2, Am, C, Am, C, Am, C, Am, C, D6sus2, Am, Fmaj7/C, Am, C, Am, C, Am, C, D6sus2, Am, C, C/B, F, C, G, F, C, C/B, F, C, C/B, F, Am, C, Am, C, Am, C, D6sus2, Am, Fmaj7/C, C, C/B, F, C, G, F, C, C/B, F, C, C/B, F, C, C/B, F, C, C/B, F, Am, C, Am, C, Am, C, D6sus2, Am, C]                                                                                                                                                                                                                                                                          \n",
       "5871  [A5, G5, G#5, A5, A5, G5, G#5, A5, E5, G5, A5, E5, G5, A5, A5, G5, G#5, A5, A5, G5, G#5, A5, A5, G5, G#5, A5, E5, G5, A5, E5, G5, A5, A5, G5, G#5, A5, A5, G5, G#5, A5, A5, G5, G#5, A5, E5, G5, A5, E5, G5, A5, A5, G5, G#5, A5, A5, A5, G5, G#5, A5]                                                                                                                                                                                                                                                                                                                           \n",
       "5983  [Bm, Bm, Bm, Bm, D, F#, Bm, Bm, Bm, Bm, Bm, D, F#, Bm, Bm, Bm, Bm, Bm, D, F#, Bm, Bm, D, G, F#, Bm, G, D, G, F#, Bm, D, A, G, F#, Bm, D, G, F#, Bm, Bm, D, F#, Bm, Bm, G, Bm, F#, Bm, Bm, Bm, D, G, F#, Bm, G, G, F#, Bm, D, G, F#, Bm, D, G, F#, Bm, D, G, F#, Bm, D, G, F#]                                                                                                                                                                                                                                                                                                    \n",
       "7152  [Amadd9, Am/E, Amadd9, Dm7, Dm7/G, Am/E, F, G, Am, Em, Fmaj7, C, D7, Cmaj7, Dm, Fmaj7, Amadd9, Am/E, Amadd9, Am/E, Am, C, Dm7, F, C, Em, Amadd9, Am/E, Amadd9, Am/E, D7, Dm7, Dm7/G, C, Fmaj7, Cmaj7, Fmaj7, Cmaj7, Fmaj7, Cmaj7, Fmaj7, Cmaj7, Fmaj7, Cmaj7, Fmaj7, Cmaj7, Am, G, Fmaj7, Amadd9, Am/E, Amadd9, Am/E, Amadd9, Am/E, Amadd9, Am/E, Am, C, Dm7, F, C, Em, Amadd9, Am/E, Amadd9, Am/E, D7, Dm7, Dm7/G, C, Fmaj7, Cmaj7, Fmaj7, Cmaj7, Fmaj7, Cmaj7, Fmaj7, Cmaj7, Fmaj7, Cmaj7, Fmaj7, Cmaj7, Am, G, Fmaj7, Dm, C, Dm, C, Dm, C, Dm, C, Dm, C, Dm, C, Dm, C, ...]   \n",
       "7409  [Am7, Dm, F, Gm, F, Gm, Am7, Dm, F, Gm, Am7, Dm, F, Gm, F, Gm, Am7, Dm, F, Gm, F, Gm, Am7, Dm, F, Gm, F, Gm, A7, A7sus4, A7, Am7, Dm, F, Gm, F, Gm, Am7, Dm, F, Gm, Am7, Dm, F, Gm, F, Gm, A7, A7sus4, Dm, Am7, Dm, F, Gm, F, Gm, Am7, Dm, F, Gm, Am7, Dm, F, Gm, F, Gm, Am7, Dm, F, Gm, F, Gm, Am7, Dm, F, Gm, F, Gm, A7, A7sus4, A7, Am7, Dm, F, Gm, F, Gm, Am7, Dm, F, Gm, Am7, Dm, F, Gm, A7, A7sus4, Dm, Am7, Dm, ...]                                                                                                                                                      \n",
       "7678  [C, C, C, G, C, C, C, G, C, C, F, C, G, G, F, F, C, C, G, G, Am, Am, F, F, C, C, F, F, G, G, E, E7, G, G, F, F, C, C, G, G, Am, Am, G, Am, C, F, C, G, C, F, C, G, F, F, C, G, G, Am, F, F, C, F, F, C, G, G, Am, C, G, C, F, C, G, F, F, C, G, G, Am, F, F, C, F, F, C, G, G, Am, C, G, C, F, C, G, F, F, C, G, G, Am, ...]                                                                                                                                                                                                                                                     \n",
       "8067  [Am, F, C, B/C, D, A, Am, F, C, B/C, Am, F, C, B/C, Am, F, C, B/C, Am, F, C, B/C, Am, F, C, B/C, F, C, B/C, F, C, B/C, G, Dm7, C, Am, F, C, C, Am, F, C, B/C, Am, F, C, C, Am, F, C, C, Am, F, C, C, B/C, Am, F, C, C, B/C, F, C, B/C, F, C, B/C, G, Dm7, C, Am, F, C, C, Am, F, C, B/C, Am, F, C, C, Am, F, C, C, Am, F, C, B/C, Am, F, C]                                                                                                                                                                                                                                      \n",
       "8206  [Am, G, Am, G, Em, C, Am, Am, D, G, Em, G, Em, C, D, G, Am, G, Am, G, Em, C, Am, Am, D, G, Em, G, Em, C, D, Em, C, D, G]                                                                                                                                                                                                                                                                                                                                                                                                                                                         \n",
       "8787  [Am, D7, G, C, E7, Am, Em, B7, Em, G, C, D7, G, Am, D7, G, C, E7, Am, Em, D7, A7, G, D, C, G, E7, B7]                                                                                                                                                                                                                                                                                                                                                                                                                                                                            \n",
       "9092  [Am, D, C, D, Em, D, C, Am, Em, D, C, Am, Em, D, C, Em, D, C, Em, C, D, C, D, Em, D, C, Em, D, Em, D, C, Em, Bm, C, Em, G, D, Em, D, C, G, D, C, Em, Bm, Em, D, C, Am, Em, D, C, Em, D, C, Em, Em, C, D, Em, D, C, Em, D, Em, D, C, Em, Bm, C, Em, G, D, Em, D, C, G, D, C, Em, Bm, Em, D, C, Bm, C, Em, D, Bm, C, Em, D, Bm, C, Em, D, Bm, C, Em, D, ...]                                                                                                                                                                                                                       \n",
       "9167  [Am, C, F, C, G/B, Am, C, G, Am, C, E, Am, Am/G, F, Fm, C/G, C/G, Am/E, F, C, G, C/G, Am/E, F, C, G, Am, C, F, C, G/B, Am, C, G, Am, C, E, Am, Am/G, F, Fm, C/G, C/G, Am/E, F, C, G, C/G, Am/E, F, C, G, Am, C, F, C, G/B, Am, C, G, Am, C, E, Am, Am/G, F, Fm, C/G, C/G, Am/E, F, C, G, C/G, Am/E, F, C, G, Am, F, Am, C, F, C, G/B, Am, C, G, Am, C, E, Am, Am/G, F, Fm, C, G/B, Am, F, Fm, ...]                                                                                                                                                                               \n",
       "9655  [Am, G, C, D, Am, G, C, D, Am, G, C, D, Am, G, C, D, Am, F, D, C, B, Am, F, D, E, C, Am, F, C, F, G, C, Am, F, C, F, G, Am, G, C, D, Am, G, C, D, Am, F, D, C, B, Am, F, D, E, C, Am, F, C, F, G, C, Am, F, C, F, G, E, C, E, D, E, G, C, D, Am, G, C, D, Am, G, C, D, Am, F, D, C, B, Am, F, D, E, C, Am, F, C, F, G, C, Am, F, ...]                                                                                                                                                                                                                                            \n",
       "\n",
       "                                                                                                                uniqueChords  \\\n",
       "710   [G#m7, E, B5, Bmaj7, B7+, C#m, B, F#, G#m]                                                                               \n",
       "714   [Am7, F, C]                                                                                                              \n",
       "853   [Am, F/A, Dm, C, G, E, Fmaj7, F, G6, Am7, Bbadd11, Bb, C7, Csus4, Gm, Eb]                                                \n",
       "937   [C, C/E, C/G, C9, Am, Fmaj7, F9, Em7, G, F#dim, Dm7, Emadd9, D#m7]                                                       \n",
       "1333  [Am, Am7, Gm]                                                                                                            \n",
       "1468  [Am, F, C, Gsus4, Em]                                                                                                    \n",
       "1653  [Am, D, C, G/B, G, E, A, B]                                                                                              \n",
       "2902  [Am, D/F#, G, Em, F, Dm, Bb/D, C, G/B, Am7, Dm9, G7, E7, D9, G/A, Bm/A, E, C/G, A7, F#, C#, D, D#, B, A, C#m, Bm, F/E]   \n",
       "2979  [Am, F, C, G/B, F/A, C/A, G/A, Em, F/E, Bm, G, D, A/C#, Asus2/C#]                                                        \n",
       "3701  [Am, Em, F, G, C, Dm, E, G#aug, D, Csus4, Bm7-5, Asus4, A, G/F, D#dim, Bm, Ab, Bb, Gsus4, F#m7-5]                        \n",
       "4002  [Am, D, G, Am/D, C, F, Esus4, E, Am/G, Am/F, Am/E]                                                                       \n",
       "4331  [Am, Em, G, F#m, C#, G#7, A#m, B, A, Bm, D, C, Cm]                                                                       \n",
       "4363  [Am, D]                                                                                                                  \n",
       "4407  [Am, D7, G, Em, Gmaj7, D/F#, D]                                                                                          \n",
       "4768  [Am, F, C, Dm, G]                                                                                                        \n",
       "5407  [Am7, Am/F, E7, Gm7, C7, A#9#11, Dm6]                                                                                    \n",
       "5408  [Am7, Gm7, C7, Fmaj7, Dm/B, E7, Gm, C9, Bb7, Am, Am+5, Am6]                                                              \n",
       "5452  [Am, C, D6sus2, Fmaj7/C, C/B, F, G]                                                                                      \n",
       "5871  [A5, G5, G#5, E5]                                                                                                        \n",
       "5983  [Bm, D, F#, G, A]                                                                                                        \n",
       "7152  [Amadd9, Am/E, Dm7, Dm7/G, F, G, Am, Em, Fmaj7, C, D7, Cmaj7, Dm]                                                        \n",
       "7409  [Am7, Dm, F, Gm, A7, A7sus4, G]                                                                                          \n",
       "7678  [C, G, F, Am, E, E7]                                                                                                     \n",
       "8067  [Am, F, C, B/C, D, A, G, Dm7]                                                                                            \n",
       "8206  [Am, G, Em, C, D]                                                                                                        \n",
       "8787  [Am, D7, G, C, E7, Em, B7, A7, D]                                                                                        \n",
       "9092  [Am, D, C, Em, Bm, G]                                                                                                    \n",
       "9167  [Am, C, F, G/B, G, E, Am/G, Fm, C/G, Am/E]                                                                               \n",
       "9655  [Am, G, C, D, F, B, E]                                                                                                   \n",
       "\n",
       "                                     song                    artist  \\\n",
       "710   Give Me Love                         Ed Sheeran                 \n",
       "714   Happier                              Ed Sheeran                 \n",
       "853   Holy Shadows                         Edguy                      \n",
       "937   Evil Woman                           Electric Light Orchestra   \n",
       "1333  SchÃ¼ttel Deinen Speck               Peter Fox                  \n",
       "1468  Say Something                        A Great Big World          \n",
       "1653  Hells Bells                          AC/DC                      \n",
       "2902  Rebirth                              Angra                      \n",
       "2979  Puistossa                            Anssi Kela                 \n",
       "3701  No Rain No Rainbow                   BABYMETAL                  \n",
       "4002  New York Mining Disaster 1941        Bee Gees                   \n",
       "4331  Harlem                               Bill Withers               \n",
       "4363  Take It All In And Check It All Out  Bill Withers               \n",
       "4407  Wish You Were Gay                    Billie Eilish              \n",
       "4768  Mine Would Be You                    Blake Shelton              \n",
       "5407  Sunny                                Bobby Hebb                 \n",
       "5408  Sunny                                Bobby Hebb                 \n",
       "5452  Skinny Love                          Bon Iver                   \n",
       "5871  The Fat Lady Of Limbourg             Brian Eno                  \n",
       "5983  Toxic                                Britney Spears             \n",
       "7152  Gypsies Tramps And Thieves           Cher                       \n",
       "7409  Sometimes I Cry                      Chris Stapleton            \n",
       "7678  Only Our Rivers Run Free             Christy Moore              \n",
       "8067  The Scientist                        Coldplay                   \n",
       "8206  Slow Hand                            Conway Twitty              \n",
       "8787  Everybody Loves My Baby              Dave Van Ronk              \n",
       "9092  Breaking Point                       Dead by April              \n",
       "9167  I Will Follow You Into The Dark      Death Cab for Cutie        \n",
       "9655  Bonnie And Clyde                     Die Toten Hosen            \n",
       "\n",
       "                        genre decade    difficulty             tuning  \\\n",
       "710   (Folk,)                  2010   novice        E A D G B E         \n",
       "714   (Folk,)                  2010   novice        E A D G B E         \n",
       "853   (Metal,)                 1990   intermediate  Eb Ab Db Gb Bb Eb   \n",
       "937   (Pop,)                   1970   intermediate  E A D G B E         \n",
       "1333  (Hip Hop,)               2000   novice        E A D G B E         \n",
       "1468  (Rock,)                  2010   novice        E A D G B E         \n",
       "1653  (Rock,)                  1980   novice        E A D G B E         \n",
       "2902  (Metal,)                 2000   intermediate  E A D G B E         \n",
       "2979  (Folk, Rock)             2000   novice        E A D G B E         \n",
       "3701  (Metal,)                 2010   intermediate  E A D G B E         \n",
       "4002  (Disco, Pop, Rock)       1960   intermediate  D A D F# A D        \n",
       "4331  (Rhythm And Blues,)      1970   novice        E A D G B E         \n",
       "4363  (Rhythm And Blues,)      1970   novice        E A D G B E         \n",
       "4407  (Contemporary R&B, Pop)  2010   novice        E A D G B E         \n",
       "4768  (Country,)               2010   novice        E A D G B E         \n",
       "5407  (Rhythm And Blues,)      1960   intermediate  E A D G B E         \n",
       "5408  (Rhythm And Blues,)      1960   NaN           E A D G B E         \n",
       "5452  (Folk,)                  2000   novice        E A D G B E         \n",
       "5871  (Pop,)                   1970   novice        E A D G B E         \n",
       "5983  (Pop,)                   2000   novice        E A D G B E         \n",
       "7152  (Pop,)                   1980   intermediate  E A D G B E         \n",
       "7409  (Country,)               2010   NaN           E A D G B E         \n",
       "7678  (Folk,)                  1980   novice        E A D G B E         \n",
       "8067  (Rock,)                  2000   NaN           E A D G B E         \n",
       "8206  (Country,)               1980   novice        E A D G B E         \n",
       "8787  (Folk,)                  1960   novice        E A D G B E         \n",
       "9092  (Metal,)                 2010   novice        E A D G B E         \n",
       "9167  (Rock,)                  2000   novice        E A D G B E         \n",
       "9655  (Rock,)                  1990   novice        E A D G B E         \n",
       "\n",
       "          capo key  \\\n",
       "710   2nd fret  Am   \n",
       "714   NaN       Am   \n",
       "853   NaN       Am   \n",
       "937   NaN       Am   \n",
       "1333  NaN       Am   \n",
       "1468  2nd fret  Am   \n",
       "1653  NaN       Am   \n",
       "2902  NaN       Am   \n",
       "2979  NaN       Am   \n",
       "3701  NaN       Am   \n",
       "4002  NaN       Am   \n",
       "4331  NaN       Am   \n",
       "4363  NaN       Am   \n",
       "4407  NaN       Am   \n",
       "4768  NaN       Am   \n",
       "5407  NaN       Am   \n",
       "5408  NaN       Am   \n",
       "5452  NaN       Am   \n",
       "5871  NaN       Am   \n",
       "5983  NaN       Am   \n",
       "7152  NaN       Am   \n",
       "7409  NaN       Am   \n",
       "7678  NaN       Am   \n",
       "8067  NaN       Am   \n",
       "8206  NaN       Am   \n",
       "8787  NaN       Am   \n",
       "9092  NaN       Am   \n",
       "9167  5th fret  Am   \n",
       "9655  NaN       Am   \n",
       "\n",
       "                                                                                                                                                                                                                                                                         other  \\\n",
       "710   NaN                                                                                                                                                                                                                                                                        \n",
       "714   NaN                                                                                                                                                                                                                                                                        \n",
       "853   chords to \"holy shadows\" by edguy. was this info helpful?yesno                                                                                                                                                                                                             \n",
       "937   clearer formatting and alignment of chords, verse 4 with additional intermediate d#m7 chord clearly heard in the arrangement, tablature of linking riff. full chord legend. was this info helpful?yesno                                                                    \n",
       "1333  tab eignet sich gut um das lied z.b. mit einer cajon zu covern. obwohl im original keine gitarre mitspielt eignen sich downstrokes im offbeat als begleitung. ich finde, es klingt am besten wenn man am und gm wie einen powerchord spielt. was this info helpful?yesno   \n",
       "1468  NaN                                                                                                                                                                                                                                                                        \n",
       "1653  NaN                                                                                                                                                                                                                                                                        \n",
       "2902  NaN                                                                                                                                                                                                                                                                        \n",
       "2979  the chords of puistossa were not found on ug before. was this info helpful?yesno                                                                                                                                                                                           \n",
       "3701  NaN                                                                                                                                                                                                                                                                        \n",
       "4002  NaN                                                                                                                                                                                                                                                                        \n",
       "4331  NaN                                                                                                                                                                                                                                                                        \n",
       "4363  simple way to play a great song - chords are matched with exact lyric placement and the strumming pattern should help it sound a little funky. was this info helpful?yesno                                                                                                 \n",
       "4407  chords to the official single released march 2019.                                                                                                                                                                                                                         \n",
       "4768  NaN                                                                                                                                                                                                                                                                        \n",
       "5407  chords recognition has been fixed. was this info helpful?yesno                                                                                                                                                                                                             \n",
       "5408  chords recognition has been fixed. was this info helpful?yesno                                                                                                                                                                                                             \n",
       "5452  NaN                                                                                                                                                                                                                                                                        \n",
       "5871  chords closest to the bass line and tabs for the bass line and brass section. was this info helpful?yesno                                                                                                                                                                  \n",
       "5983  NaN                                                                                                                                                                                                                                                                        \n",
       "7152  all lyrics and breaks with their accompanying chords. full chord legend. additional tablature of riffs. fine tuning information. was this info helpful?yesno                                                                                                               \n",
       "7409  NaN                                                                                                                                                                                                                                                                        \n",
       "7678  NaN                                                                                                                                                                                                                                                                        \n",
       "8067  NaN                                                                                                                                                                                                                                                                        \n",
       "8206  correct lyrics, and chorded in a different key (am rather than gm), it is also chorded to be played without a capo. was this info helpful?yesno                                                                                                                            \n",
       "8787  NaN                                                                                                                                                                                                                                                                        \n",
       "9092  NaN                                                                                                                                                                                                                                                                        \n",
       "9167  NaN                                                                                                                                                                                                                                                                        \n",
       "9655  it's the first full version with full chord progressions and corrected lyrics. (especially at the end of the song). was this info helpful?yesno                                                                                                                            \n",
       "\n",
       "      cardinality  \\\n",
       "710   9             \n",
       "714   3             \n",
       "853   16            \n",
       "937   13            \n",
       "1333  3             \n",
       "1468  5             \n",
       "1653  8             \n",
       "2902  28            \n",
       "2979  14            \n",
       "3701  20            \n",
       "4002  11            \n",
       "4331  13            \n",
       "4363  2             \n",
       "4407  7             \n",
       "4768  5             \n",
       "5407  7             \n",
       "5408  12            \n",
       "5452  7             \n",
       "5871  4             \n",
       "5983  5             \n",
       "7152  13            \n",
       "7409  7             \n",
       "7678  6             \n",
       "8067  8             \n",
       "8206  5             \n",
       "8787  9             \n",
       "9092  6             \n",
       "9167  10            \n",
       "9655  7             \n",
       "\n",
       "                                                                                                             uniqueChordsTup  \\\n",
       "710   (B, B5, B7+, Bmaj7, C#m, E, F#, G#m, G#m7)                                                                               \n",
       "714   (Am7, C, F)                                                                                                              \n",
       "853   (Am, Am7, Bb, Bbadd11, C, C7, Csus4, Dm, E, Eb, F, F/A, Fmaj7, G, G6, Gm)                                                \n",
       "937   (Am, C, C/E, C/G, C9, D#m7, Dm7, Em7, Emadd9, F#dim, F9, Fmaj7, G)                                                       \n",
       "1333  (Am, Am7, Gm)                                                                                                            \n",
       "1468  (Am, C, Em, F, Gsus4)                                                                                                    \n",
       "1653  (A, Am, B, C, D, E, G, G/B)                                                                                              \n",
       "2902  (A, A7, Am, Am7, B, Bb/D, Bm, Bm/A, C, C#, C#m, C/G, D, D#, D/F#, D9, Dm, Dm9, E, E7, Em, F, F#, F/E, G, G/A, G/B, G7)   \n",
       "2979  (A/C#, Am, Asus2/C#, Bm, C, C/A, D, Em, F, F/A, F/E, G, G/A, G/B)                                                        \n",
       "3701  (A, Ab, Am, Asus4, Bb, Bm, Bm7-5, C, Csus4, D, D#dim, Dm, E, Em, F, F#m7-5, G, G#aug, G/F, Gsus4)                        \n",
       "4002  (Am, Am/D, Am/E, Am/F, Am/G, C, D, E, Esus4, F, G)                                                                       \n",
       "4331  (A, A#m, Am, B, Bm, C, C#, Cm, D, Em, F#m, G, G#7)                                                                       \n",
       "4363  (Am, D)                                                                                                                  \n",
       "4407  (Am, D, D/F#, D7, Em, G, Gmaj7)                                                                                          \n",
       "4768  (Am, C, Dm, F, G)                                                                                                        \n",
       "5407  (A#9#11, Am/F, Am7, C7, Dm6, E7, Gm7)                                                                                    \n",
       "5408  (Am, Am+5, Am6, Am7, Bb7, C7, C9, Dm/B, E7, Fmaj7, Gm, Gm7)                                                              \n",
       "5452  (Am, C, C/B, D6sus2, F, Fmaj7/C, G)                                                                                      \n",
       "5871  (A5, E5, G#5, G5)                                                                                                        \n",
       "5983  (A, Bm, D, F#, G)                                                                                                        \n",
       "7152  (Am, Am/E, Amadd9, C, Cmaj7, D7, Dm, Dm7, Dm7/G, Em, F, Fmaj7, G)                                                        \n",
       "7409  (A7, A7sus4, Am7, Dm, F, G, Gm)                                                                                          \n",
       "7678  (Am, C, E, E7, F, G)                                                                                                     \n",
       "8067  (A, Am, B/C, C, D, Dm7, F, G)                                                                                            \n",
       "8206  (Am, C, D, Em, G)                                                                                                        \n",
       "8787  (A7, Am, B7, C, D, D7, E7, Em, G)                                                                                        \n",
       "9092  (Am, Bm, C, D, Em, G)                                                                                                    \n",
       "9167  (Am, Am/E, Am/G, C, C/G, E, F, Fm, G, G/B)                                                                               \n",
       "9655  (Am, B, C, D, E, F, G)                                                                                                   \n",
       "\n",
       "                                                                                                                                                                                                                                                                                                                                                                                            cleanChordOrder  \\\n",
       "710   [G#m, E, B, B, G#m, E, B, B, G#m, E, B, B, G#m, E, B, B, G#m, E, B, B, G#m, E, B, B, G#m, E, B, B, C#m, E, B, F#, C#m, E, B, C#m, E, B, C#m, E, B, C#m, E, G#m, F#, E, G#m, F#, E, G#m, E, B, B, G#m, E, B, B, G#m, E, B, B, G#m, E, B, B, C#m, E, B, F#, C#m, E, B, C#m, E, B, C#m, E, B, C#m, E, G#m, F#, E, B, C#m, E, B, C#m, E, B, C#m, E, G#m, F#, E, G#m, F#, G#m, F#, G#m, ...]                 \n",
       "714   [Am, F, C, Am, F, C, Am, F, C, Am, F, C, Am, F, C, Am, F, C, Am, F, C, Am, F, C, Am, F, C, Am, F, C, Am, F, C, Am, F, C, Am, F, C, Am, F, C, Am, F, C, Am, F, C, Am, F, C, Am, F, C, Am, F, C, Am, F, C, Am, F, C, Am, F, C, Am, F, C, Am, F, C, Am, F, C, Am, F, C, Am, F, C, Am, F, C, Am, F, C, Am, F, C, Am, F, C, Am, F, C, Am, F, C, Am, ...]                                                     \n",
       "853   [Am, F, Dm, C, G, Am, F, G, E, Am, F, Dm, C, G, Am, F, G, F, Am, F, G, Am, Am, F, G, E, Am, F, G, Am, Am, F, G, E, Am, F, Dm, C, G, Am, F, G, E, Am, F, Dm, C, G, Am, F, G, E, F, G, Am, Am, C, A#, Dm, Dm, F, G, Am, A#, F, C, Dm, C, A#, Dm, A#, F, C, Dm, C, A#, Dm, A#, F, C, A#, Am, F, G, Am, Am, F, G, E, Am, F, G, Am, Am, F, G, E, Am, F, Dm, ...]                                             \n",
       "937   [C, C, C, C, C, Am, F, F, C, Em, G, F#dim, C, Dm, E, D#m, C, F, F#dim, C, C, C, C, Am, Em, Dm, Dm, Em, Am, Em, Dm, Em, Am, Em, Dm, Dm, Em, Am, Em, Dm, Dm, Em, Am, Em, Dm, Dm, Em, Am, Em, Dm, Dm, Em, Am, Em, Dm, Dm, Em, Am, Em, Dm, Dm, Em, Am, Em, Dm, Dm, Em, F, G, C, C, C, C, Am, Em, Dm, Dm, Em, Am, Em, Dm, Em, Am, Em, Dm, Dm, Em, Am, Em, Dm, Em, Am, Em, Dm, Dm, Em, Am, Em, Dm, Dm, ...]   \n",
       "1333  [Am, Am, Am, Am, Am, Gm, Am, Am, Am, Am, Gm, Am, Am, Am, Am, Gm, Am, Am, Am, Am, Gm, Am, Am, Am, Am, Gm, Am, Gm, Am, Gm, Am, Gm, Am, Am, Am, Am, Am, Gm, Am, Am, Am, Am, Gm, Am, Am, Am, Am, Gm, Am, Am, Am, Am, Gm, Am, Am, Am, Am]                                                                                                                                                                    \n",
       "1468  [Am, F, C, G, Am, F, C, G, Am, F, C, G, Am, F, C, G, Am, F, C, G, C, Em, F, C, G, C, Em, F, C, G, Am, F, C, G, Am, F, C, G, Am, F, C, G, Am, F, C, G, C, Em, F, C, G, Am, F, C, G, Am, F, C, G, Am, F, C, G, Am, F, C, G, Am, F, C, G, Am, F, C]                                                                                                                                                        \n",
       "1653  [Am, D, C, D, C, G, G, D, C, G, Am, D, C, G, Am, D, C, G, Am, D, C, G, Am, D, C, G, Am, D, C, G, D, C, G, D, C, G, E, D, A, E, Am, D, C, D, Am, C, B, Am, Am, G, D, C, B, Am, D, C, B, Am, D, C, G, Am, D, C, G, Am, D, C, G, Am, D, C, G, D, C, G, D, C, G, E, D, A, E, Am, D, C, D, Am, D, C, D, C, B, Am, D, C, D, Am, G, D, ...]                                                                    \n",
       "2902  [Am, D, G, Em, F, G, Am, Am, D, G, Em, F, G, Am, Dm, A#, C, Am, Dm, A#, C, G, Am, Dm, G, C, E, Am, D, F, Am, Am, Dm, G, C, E, Am, D, F, Am, Am, G, Bm, Am, Am, G, E, Am, Am, G, Bm, Am, Am, G, E, Am, F, G, Am, G, Bm, Am, C, G, E, Am, G, A, Dm, G, C, E, F, G, Am, F, F#, C#, D, D#, B, E, A, C#m, E, C#m, E, C#m, E, Am, G, F, G, Am, G, F, G, Am, G, F, ...]                                        \n",
       "2979  [Am, F, C, G, Am, F, C, G, Am, F, C, G, Am, F, C, G, Am, F, C, G, Am, F, C, G, Am, F, C, G, Am, F, C, G, Am, F, C, G, Am, F, C, Em, Am, Am, F, C, G, Am, F, C, G, Am, F, C, G, Am, F, C, G, Am, F, Am, F, F, Am, F, C, G, Am, F, C, G, Am, F, C, G, Am, F, C, G, Am, Am, F, C, G, Am, F, C, G, Am, F, C, Em, Am, Am, F, C, G, Am, F, C, G, ...]                                                         \n",
       "3701  [Am, Em, F, G, Am, G, F, G, C, G, Am, C, F, C, Dm, E, Am, G#, C, D, F, G, Am, C, C, G, Am, C, F, C, Dm, E, Am, G#, C, D, F, G, C, C, E, Am, G, F, Em, Dm, C, Bm, E, Am, G, F, Em, Dm, C, Bm, E, A, A, G, F, G, Em, E, Am, G, Dm, D#dim, A, E, D, A, Bm, E, F, G, Am, G, F, G, Am, G, G#, A#, G, E, C, G, Am, Em, F, C, Dm, E, Am, G#, C, F#m, F, G, ...]                                                \n",
       "4002  [Am, D, G, Am, G, C, G, G, C, F, E, E, Am, D, G, F, G, C, G, G, C, F, E, E, Am, G, Am, D, G, C, G, G, C, F, E, E, Am, Am, Am, Am, Am, Am, Am, Am, D, E, E, F, G]                                                                                                                                                                                                                                        \n",
       "4331  [Am, Am, Em, G, Am, G, Am, G, Am, F#m, Am, F#m, Am, Am, G, Am, C#, G#, A#m, A#m, B, A, Bm, Bm, D, B, Am, C, Cm, C, C, C]                                                                                                                                                                                                                                                                                \n",
       "4363  [Am, D, Am, D, Am, D, Am, D, Am, D, Am, D, Am, D, Am, D, Am, D, Am, D, Am, D, Am, D, Am, D, Am, D, Am, D, Am, D, Am, D, Am, D, Am, Am, Am, D, Am, D, Am, D, Am, D, Am, D, Am, D, Am, D, Am, Am, Am, D, Am, D, Am, D, Am, D, Am, D, Am, D, Am, D, Am, Am, Am, D, Am, D, Am, D, Am, D, Am, D, Am, D, Am, D, Am, Am, Am, D, Am, D, Am, D, Am, D, Am, D, Am, D, Am, D, ...]                                 \n",
       "4407  [Am, D, G, Em, Am, D, G, Em, Am, D, G, Em, D, G, Am, D, G, Em, Am, D, G, Em, Am, D, G, Em, Am, D, G, Am, D, G, Em, D, G, Am, D, G, Em, D, G, Am, D, G, Em, D, G, Am, D, G, Am, D, G, Em, Am, D, G, Em, Am, D, G, Em, Am, D, G, G, Em, D, G, Am, D, G, Em, D, G, Am, D, G, Em, D, G, Am, D, G, Am, D, G, Em, D, G, Am, D, G, Em, D, G, D, G, Em, D, ...]                                                 \n",
       "4768  [Am, F, C, Am, F, C, Am, F, C, Am, C, F, Am, F, C, Am, F, C, Am, F, C, Am, C, F, Am, F, C, F, C, C, F, Dm, C, F, Am, F, C, Am, F, C, Am, F, C, Am, C, F, Am, F, C, F, C, C, F, Dm, C, F, F, G, Dm, C, F, G, Dm, C, Am, F, C, Am, F, C, Am, C, F, Am, F, C, Am, F, C, F, C, C, F, Dm, C, F, Am, F, C, Am, F, C]                                                                                          \n",
       "5407  [Am, Am, E, Am, Gm, C, Am, E, Am, Gm, C, Am, E, Am, Gm, C, Am, A#, Dm, E, Am, Am, E, Am, Gm, C, Am, E, Am, Gm, C, Am, E, Am, Gm, C, Am, A#, Dm, E, Am, Am, E, Am, Gm, C, Am, E, Am, Gm, C, Am, E, Am, Gm, C, Am, A#, Dm, E, Am, Am, E, Am, Gm, C, Am, E, Am, Gm, C, Am, E, Am, Gm, C, Am, A#, Dm, E, Am, Am, E]                                                                                         \n",
       "5408  [Am, Gm, C, F, Dm, E, Am, Gm, C, F, Dm, E, Am, C, F, A#, Dm, E, Am, Am, Am, Am, E, Am, Gm, C, F, Dm, E, Am, Gm, C, F, Dm, E, Am, C, F, A#, Dm, E, Am, Am, Am, Am, E, Am, Gm, C, F, Dm, E, Am, Gm, C, F, Dm, E, Am, C, F, A#, Dm, E, Am, Am, Am, Am, E, Am, Gm, C, F, Dm, E, Am, Gm, C, F, Dm, E, Am, C, F, A#, Dm, E, Am, Am, Am, Am, E]                                                                \n",
       "5452  [Am, C, Am, C, Am, C, D, Am, C, Am, C, Am, C, Am, C, D, Am, F, Am, C, Am, C, Am, C, D, Am, C, C, F, C, G, F, C, C, F, C, C, F, Am, C, Am, C, Am, C, D, Am, F, C, C, F, C, G, F, C, C, F, C, C, F, C, C, F, C, C, F, Am, C, Am, C, Am, C, D, Am, C]                                                                                                                                                      \n",
       "5871  [A, G, G#, A, A, G, G#, A, E, G, A, E, G, A, A, G, G#, A, A, G, G#, A, A, G, G#, A, E, G, A, E, G, A, A, G, G#, A, A, G, G#, A, A, G, G#, A, E, G, A, E, G, A, A, G, G#, A, A, A, G, G#, A]                                                                                                                                                                                                             \n",
       "5983  [Bm, Bm, Bm, Bm, D, F#, Bm, Bm, Bm, Bm, Bm, D, F#, Bm, Bm, Bm, Bm, Bm, D, F#, Bm, Bm, D, G, F#, Bm, G, D, G, F#, Bm, D, A, G, F#, Bm, D, G, F#, Bm, Bm, D, F#, Bm, Bm, G, Bm, F#, Bm, Bm, Bm, D, G, F#, Bm, G, G, F#, Bm, D, G, F#, Bm, D, G, F#, Bm, D, G, F#, Bm, D, G, F#]                                                                                                                           \n",
       "7152  [A, Am, A, Dm, Dm, Am, F, G, Am, Em, F, C, D, C, Dm, F, A, Am, A, Am, Am, C, Dm, F, C, Em, A, Am, A, Am, D, Dm, Dm, C, F, C, F, C, F, C, F, C, F, C, F, C, Am, G, F, A, Am, A, Am, A, Am, A, Am, Am, C, Dm, F, C, Em, A, Am, A, Am, D, Dm, Dm, C, F, C, F, C, F, C, F, C, F, C, F, C, Am, G, F, Dm, C, Dm, C, Dm, C, Dm, C, Dm, C, Dm, C, Dm, C, ...]                                                   \n",
       "7409  [Am, Dm, F, Gm, F, Gm, Am, Dm, F, Gm, Am, Dm, F, Gm, F, Gm, Am, Dm, F, Gm, F, Gm, Am, Dm, F, Gm, F, Gm, A, A, A, Am, Dm, F, Gm, F, Gm, Am, Dm, F, Gm, Am, Dm, F, Gm, F, Gm, A, A, Dm, Am, Dm, F, Gm, F, Gm, Am, Dm, F, Gm, Am, Dm, F, Gm, F, Gm, Am, Dm, F, Gm, F, Gm, Am, Dm, F, Gm, F, Gm, A, A, A, Am, Dm, F, Gm, F, Gm, Am, Dm, F, Gm, Am, Dm, F, Gm, A, A, Dm, Am, Dm, ...]                        \n",
       "7678  [C, C, C, G, C, C, C, G, C, C, F, C, G, G, F, F, C, C, G, G, Am, Am, F, F, C, C, F, F, G, G, E, E, G, G, F, F, C, C, G, G, Am, Am, G, Am, C, F, C, G, C, F, C, G, F, F, C, G, G, Am, F, F, C, F, F, C, G, G, Am, C, G, C, F, C, G, F, F, C, G, G, Am, F, F, C, F, F, C, G, G, Am, C, G, C, F, C, G, F, F, C, G, G, Am, ...]                                                                             \n",
       "8067  [Am, F, C, B, D, A, Am, F, C, B, Am, F, C, B, Am, F, C, B, Am, F, C, B, Am, F, C, B, F, C, B, F, C, B, G, Dm, C, Am, F, C, C, Am, F, C, B, Am, F, C, C, Am, F, C, C, Am, F, C, C, B, Am, F, C, C, B, F, C, B, F, C, B, G, Dm, C, Am, F, C, C, Am, F, C, B, Am, F, C, C, Am, F, C, C, Am, F, C, B, Am, F, C]                                                                                             \n",
       "8206  [Am, G, Am, G, Em, C, Am, Am, D, G, Em, G, Em, C, D, G, Am, G, Am, G, Em, C, Am, Am, D, G, Em, G, Em, C, D, Em, C, D, G]                                                                                                                                                                                                                                                                                \n",
       "8787  [Am, D, G, C, E, Am, Em, B, Em, G, C, D, G, Am, D, G, C, E, Am, Em, D, A, G, D, C, G, E, B]                                                                                                                                                                                                                                                                                                             \n",
       "9092  [Am, D, C, D, Em, D, C, Am, Em, D, C, Am, Em, D, C, Em, D, C, Em, C, D, C, D, Em, D, C, Em, D, Em, D, C, Em, Bm, C, Em, G, D, Em, D, C, G, D, C, Em, Bm, Em, D, C, Am, Em, D, C, Em, D, C, Em, Em, C, D, Em, D, C, Em, D, Em, D, C, Em, Bm, C, Em, G, D, Em, D, C, G, D, C, Em, Bm, Em, D, C, Bm, C, Em, D, Bm, C, Em, D, Bm, C, Em, D, Bm, C, Em, D, ...]                                              \n",
       "9167  [Am, C, F, C, G, Am, C, G, Am, C, E, Am, Am, F, Fm, C, C, Am, F, C, G, C, Am, F, C, G, Am, C, F, C, G, Am, C, G, Am, C, E, Am, Am, F, Fm, C, C, Am, F, C, G, C, Am, F, C, G, Am, C, F, C, G, Am, C, G, Am, C, E, Am, Am, F, Fm, C, C, Am, F, C, G, C, Am, F, C, G, Am, F, Am, C, F, C, G, Am, C, G, Am, C, E, Am, Am, F, Fm, C, G, Am, F, Fm, ...]                                                      \n",
       "9655  [Am, G, C, D, Am, G, C, D, Am, G, C, D, Am, G, C, D, Am, F, D, C, B, Am, F, D, E, C, Am, F, C, F, G, C, Am, F, C, F, G, Am, G, C, D, Am, G, C, D, Am, F, D, C, B, Am, F, D, E, C, Am, F, C, F, G, C, Am, F, C, F, G, E, C, E, D, E, G, C, D, Am, G, C, D, Am, G, C, D, Am, F, D, C, B, Am, F, D, E, C, Am, F, C, F, G, C, Am, F, ...]                                                                   \n",
       "\n",
       "                                               cleanUniqueChords finalKey  \\\n",
       "710   [G#m, E, F#, C#m, B]                                        B         \n",
       "714   [F, C, Am]                                                  C         \n",
       "853   [G, A#, E, Gm, F, Dm, C, D#, Am]                            F         \n",
       "937   [D#m, G, F#dim, E, F, Dm, C, Em, Am]                        C         \n",
       "1333  [Gm, Am]                                                    F         \n",
       "1468  [G, F, C, Em, Am]                                           C         \n",
       "1653  [G, A, E, C, D, B, Am]                                      Em        \n",
       "2902  [Bm, D#, G, A#, A, C#m, E, F, F#, Dm, C, D, C#, Em, B, Am]  G         \n",
       "2979  [Bm, G, A, F, C, D, Em, Am]                                 Em        \n",
       "3701  [Bm, G, A#, A, E, F#m, F, G#, Dm, D#dim, C, D, Em, Am]      G         \n",
       "4002  [G, E, F, C, D, Am]                                         G         \n",
       "4331  [Bm, G, A, F#m, Cm, A#m, G#, C, D, C#, Em, B, Am]           D         \n",
       "4363  [D, Am]                                                     Em        \n",
       "4407  [D, G, Em, Am]                                              G         \n",
       "4768  [G, F, Dm, C, Am]                                           C         \n",
       "5407  [A#, E, Gm, Dm, C, Am]                                      F         \n",
       "5408  [A#, E, Gm, F, Dm, C, Am]                                   F         \n",
       "5452  [G, F, C, D, Am]                                            C         \n",
       "5871  [E, G, G#, A]                                               A         \n",
       "5983  [Bm, G, A, F#, D]                                           A         \n",
       "7152  [G, A, F, Dm, C, D, Em, Am]                                 C         \n",
       "7409  [G, A, Gm, F, Dm, Am]                                       F         \n",
       "7678  [G, E, F, C, Am]                                            C         \n",
       "8067  [G, A, F, Dm, C, D, B, Am]                                  C         \n",
       "8206  [G, C, D, Em, Am]                                           G         \n",
       "8787  [G, A, E, C, D, Em, B, Am]                                  G         \n",
       "9092  [Bm, G, C, D, Em, Am]                                       Em        \n",
       "9167  [G, E, F, C, Fm, Am]                                        C         \n",
       "9655  [G, E, F, C, D, B, Am]                                      C         \n",
       "\n",
       "             keyChoices            match  keyCheck  \n",
       "710   [B]                one choice       0         \n",
       "714   [Am, C, F]         maxChord         0         \n",
       "853   [Am, C, F]         maxChord         0         \n",
       "937   [Am, C]            firstChord       0         \n",
       "1333  [F]                one choice       0         \n",
       "1468  [Am, C]            maxChord         0         \n",
       "1653  [Em, G]            tiebreak failed  0         \n",
       "2902  [A, Am, C, Em, G]  maxChord         0         \n",
       "2979  [Em, G]            lastChord        0         \n",
       "3701  [Am, C, D, Em, G]  maxChord         0         \n",
       "4002  [Am, C, Em, G]     maxChord         0         \n",
       "4331  [D, Em, G]         tiebreak failed  0         \n",
       "4363  [Em, G]            tiebreak failed  0         \n",
       "4407  [Em, G]            maxChord         0         \n",
       "4768  [Am, C]            maxChord         0         \n",
       "5407  [F]                one choice       0         \n",
       "5408  [F]                one choice       0         \n",
       "5452  [Am, C, Em, G]     maxChord         0         \n",
       "5871  [A, D, E]          maxChord         0         \n",
       "5983  [A, D]             tiebreak failed  0         \n",
       "7152  [Am, C]            maxChord         0         \n",
       "7409  [Am, C, F]         maxChord         0         \n",
       "7678  [Am, C]            maxChord         0         \n",
       "8067  [Am, C]            maxChord         0         \n",
       "8206  [Em, G]            maxChord         0         \n",
       "8787  [Em, G]            maxChord         0         \n",
       "9092  [Em, G]            maxChord         0         \n",
       "9167  [Am, C]            maxChord         0         \n",
       "9655  [Am, C, Em, G]     maxChord         0         "
      ]
     },
     "execution_count": 51,
     "metadata": {},
     "output_type": "execute_result"
    }
   ],
   "source": [
    "missDf[missDf['key']=='Am']"
   ]
  },
  {
   "cell_type": "code",
   "execution_count": 52,
   "metadata": {},
   "outputs": [
    {
     "data": {
      "text/plain": [
       "<matplotlib.axes._subplots.AxesSubplot at 0x118ee75f8>"
      ]
     },
     "execution_count": 52,
     "metadata": {},
     "output_type": "execute_result"
    },
    {
     "data": {
      "image/png": "[encoded data removed]",
      "text/plain": [
       "<Figure size 432x288 with 1 Axes>"
      ]
     },
     "metadata": {},
     "output_type": "display_data"
    }
   ],
   "source": [
    "dfKeys.match.fillna(\"NA\").value_counts().plot(kind='pie')"
   ]
  },
  {
   "cell_type": "code",
   "execution_count": 53,
   "metadata": {},
   "outputs": [
    {
     "data": {
      "text/html": [
       "<div>\n",
       "<style scoped>\n",
       "    .dataframe tbody tr th:only-of-type {\n",
       "        vertical-align: middle;\n",
       "    }\n",
       "\n",
       "    .dataframe tbody tr th {\n",
       "        vertical-align: top;\n",
       "    }\n",
       "\n",
       "    .dataframe thead th {\n",
       "        text-align: right;\n",
       "    }\n",
       "</style>\n",
       "<table border=\"1\" class=\"dataframe\">\n",
       "  <thead>\n",
       "    <tr style=\"text-align: right;\">\n",
       "      <th></th>\n",
       "      <th>url</th>\n",
       "      <th>chordOrder</th>\n",
       "      <th>uniqueChords</th>\n",
       "      <th>song</th>\n",
       "      <th>artist</th>\n",
       "      <th>genre</th>\n",
       "      <th>decade</th>\n",
       "      <th>difficulty</th>\n",
       "      <th>tuning</th>\n",
       "      <th>capo</th>\n",
       "      <th>key</th>\n",
       "      <th>other</th>\n",
       "      <th>cardinality</th>\n",
       "      <th>uniqueChordsTup</th>\n",
       "      <th>cleanChordOrder</th>\n",
       "      <th>cleanUniqueChords</th>\n",
       "      <th>finalKey</th>\n",
       "      <th>keyChoices</th>\n",
       "      <th>match</th>\n",
       "      <th>keyCheck</th>\n",
       "    </tr>\n",
       "  </thead>\n",
       "  <tbody>\n",
       "    <tr>\n",
       "      <th>4</th>\n",
       "      <td>https://tabs.ultimate-guitar.com/tab/dolly-parton/jolene-chords-183019</td>\n",
       "      <td>[Am, Am, C, G, Am, G, Am, Am, C, G, Am, G, Em, Am, Am, C, G, Am, G, Em, Am, Am, C, G, Am, G, Em, Am, Am, C, G, Am, G, Em, Am, Am, C, G, Am, G, Em, Am, Am, C, G, Am, G, Am, Am, C, G, Am, G, Em, Am, Am, C, G, Am, G, Em, Am, Am, C, G, Am, G, Em, Am, Am, C, G, Am, G, Am, Am, C, G, Am, G, Em, Am]</td>\n",
       "      <td>[Am, C, G, Em]</td>\n",
       "      <td>Jolene</td>\n",
       "      <td>Dolly Parton</td>\n",
       "      <td>(Country, Folk)</td>\n",
       "      <td>1970</td>\n",
       "      <td>novice</td>\n",
       "      <td>E A D G B E</td>\n",
       "      <td>4th fret</td>\n",
       "      <td>C#m</td>\n",
       "      <td>NaN</td>\n",
       "      <td>4</td>\n",
       "      <td>(Am, C, Em, G)</td>\n",
       "      <td>[Am, Am, C, G, Am, G, Am, Am, C, G, Am, G, Em, Am, Am, C, G, Am, G, Em, Am, Am, C, G, Am, G, Em, Am, Am, C, G, Am, G, Em, Am, Am, C, G, Am, G, Em, Am, Am, C, G, Am, G, Am, Am, C, G, Am, G, Em, Am, Am, C, G, Am, G, Em, Am, Am, C, G, Am, G, Em, Am, Am, C, G, Am, G, Am, Am, C, G, Am, G, Em, Am]</td>\n",
       "      <td>[G, Em, C, Am]</td>\n",
       "      <td>Am</td>\n",
       "      <td>[Am, C, Em, G]</td>\n",
       "      <td>maxChord</td>\n",
       "      <td>0</td>\n",
       "    </tr>\n",
       "    <tr>\n",
       "      <th>11</th>\n",
       "      <td>https://tabs.ultimate-guitar.com/tab/dolly-parton/mama-say-a-prayer-chords-2140773</td>\n",
       "      <td>[G, D, A, D, D, A, A, G, D, D, D7, G, G, D, A, D, A, G, D, E, A, A7, D, D7, G, D, A, D, G, D, A, D, D, A, A, G, D, D, D7, G, G, D, A, D, A, G, D, E, A, A7, D, D7, G, D, A, D]</td>\n",
       "      <td>[G, D, A, D7, E, A7]</td>\n",
       "      <td>Mama Say A Prayer</td>\n",
       "      <td>Dolly Parton</td>\n",
       "      <td>(Country,)</td>\n",
       "      <td>1960</td>\n",
       "      <td>novice</td>\n",
       "      <td>E A D G B E</td>\n",
       "      <td>NaN</td>\n",
       "      <td>D</td>\n",
       "      <td>full tab including intro intro and instrumental in original key. was this info helpful?yesno</td>\n",
       "      <td>6</td>\n",
       "      <td>(A, A7, D, D7, E, G)</td>\n",
       "      <td>[G, D, A, D, D, A, A, G, D, D, D, G, G, D, A, D, A, G, D, E, A, A, D, D, G, D, A, D, G, D, A, D, D, A, A, G, D, D, D, G, G, D, A, D, A, G, D, E, A, A, D, D, G, D, A, D]</td>\n",
       "      <td>[D, E, G, A]</td>\n",
       "      <td>D</td>\n",
       "      <td>[A, D]</td>\n",
       "      <td>maxChord</td>\n",
       "      <td>1</td>\n",
       "    </tr>\n",
       "    <tr>\n",
       "      <th>16</th>\n",
       "      <td>https://tabs.ultimate-guitar.com/tab/dolly-parton/poor-folks-town-chords-2528862</td>\n",
       "      <td>[E, A, D, A, E, A, D, A, E, A, D, A, E, D, A, D, E, A, D, A, E, D, E, D, A, E, A, D, A, E, A, D, A, E, D, A, D, E, A, D, A, E, D, A, D, E, A, D, A, E, D, E, D, A, E, A, D, A, E, A, D, A, E, D, A, D, E, A, D, A, E, D, E, D, A, E, A, D, A, E, A, D, A, E, D, E, D, A, E, A, D, A]</td>\n",
       "      <td>[E, A, D]</td>\n",
       "      <td>Poor Folks Town</td>\n",
       "      <td>Dolly Parton</td>\n",
       "      <td>(Country,)</td>\n",
       "      <td>1980</td>\n",
       "      <td>novice</td>\n",
       "      <td>E A D G B E</td>\n",
       "      <td>NaN</td>\n",
       "      <td>E</td>\n",
       "      <td>for any level guitarist. the chords to this song are nowhere on the internet so here is this. first time doing this and posting. was this info helpful?yesno</td>\n",
       "      <td>3</td>\n",
       "      <td>(A, D, E)</td>\n",
       "      <td>[E, A, D, A, E, A, D, A, E, A, D, A, E, D, A, D, E, A, D, A, E, D, E, D, A, E, A, D, A, E, A, D, A, E, D, A, D, E, A, D, A, E, D, A, D, E, A, D, A, E, D, E, D, A, E, A, D, A, E, A, D, A, E, D, A, D, E, A, D, A, E, D, E, D, A, E, A, D, A, E, A, D, A, E, D, E, D, A, E, A, D, A]</td>\n",
       "      <td>[D, E, A]</td>\n",
       "      <td>A</td>\n",
       "      <td>[A]</td>\n",
       "      <td>one choice</td>\n",
       "      <td>0</td>\n",
       "    </tr>\n",
       "    <tr>\n",
       "      <th>17</th>\n",
       "      <td>https://tabs.ultimate-guitar.com/tab/dolly-parton/randy-chords-2779966</td>\n",
       "      <td>[D, C, Bm, A, D, A, D, D, D, G, A7, G, D, G, A7, D, D, G, D, A7, G, D, D, G, D, A7, G, D, C, Bm, A, D, G, A7, G, D, D, G, A7, D, D, G, D, A7, G, D, D, G, D, A7, G, D, C, Bm, D]</td>\n",
       "      <td>[D, C, Bm, A, G, A7]</td>\n",
       "      <td>Randy</td>\n",
       "      <td>Dolly Parton</td>\n",
       "      <td>(Country,)</td>\n",
       "      <td>1970</td>\n",
       "      <td>intermediate</td>\n",
       "      <td>E A D G B E</td>\n",
       "      <td>NaN</td>\n",
       "      <td>D</td>\n",
       "      <td>NaN</td>\n",
       "      <td>6</td>\n",
       "      <td>(A, A7, Bm, C, D, G)</td>\n",
       "      <td>[D, C, Bm, A, D, A, D, D, D, G, A, G, D, G, A, D, D, G, D, A, G, D, D, G, D, A, G, D, C, Bm, A, D, G, A, G, D, D, G, A, D, D, G, D, A, G, D, D, G, D, A, G, D, C, Bm, D]</td>\n",
       "      <td>[Bm, G, A, C, D]</td>\n",
       "      <td>D</td>\n",
       "      <td>[D, Em, G]</td>\n",
       "      <td>maxChord</td>\n",
       "      <td>1</td>\n",
       "    </tr>\n",
       "    <tr>\n",
       "      <th>20</th>\n",
       "      <td>https://tabs.ultimate-guitar.com/tab/dolly-parton/the-bridge-chords-3211670</td>\n",
       "      <td>[A, G, A, G, A, D, E, A, A, G, A, G, A, A, G, G/F#, A, G, A, A, G, G/F#, A, G, A, A, G, G/F#, A, G, A, A, G, G/F#, A, G, A, A, G, G/F#, A, G, A, A, G, G/F#, A, G, A, A, G, G/F#, A, G, A, A, G, G/F#, A, G, A, A, D, E, A, A, G, A, G, A, A#, G#, G#/G, A#, G#, A#, A#, G#, G#/G, A#, G#, A#, A#, G#, G#/G, A#, G#, A#, A#, G#, G#/G, A#, G#, A#]</td>\n",
       "      <td>[A, G, D, E, G/F#, A#, G#, G#/G]</td>\n",
       "      <td>The Bridge</td>\n",
       "      <td>Dolly Parton</td>\n",
       "      <td>(Country,)</td>\n",
       "      <td>1960</td>\n",
       "      <td>NaN</td>\n",
       "      <td>E A D G B E</td>\n",
       "      <td>4th fret</td>\n",
       "      <td>C#</td>\n",
       "      <td>NaN</td>\n",
       "      <td>8</td>\n",
       "      <td>(A, A#, D, E, G, G#, G#/G, G/F#)</td>\n",
       "      <td>[A, G, A, G, A, D, E, A, A, G, A, G, A, A, G, G, A, G, A, A, G, G, A, G, A, A, G, G, A, G, A, A, G, G, A, G, A, A, G, G, A, G, A, A, G, G, A, G, A, A, G, G, A, G, A, A, G, G, A, G, A, A, D, E, A, A, G, A, G, A, A#, G#, G#, A#, G#, A#, A#, G#, G#, A#, G#, A#, A#, G#, G#, A#, G#, A#, A#, G#, G#, A#, G#, A#]</td>\n",
       "      <td>[G, A#, A, E, G#, D]</td>\n",
       "      <td>A</td>\n",
       "      <td>[A, D]</td>\n",
       "      <td>maxChord</td>\n",
       "      <td>0</td>\n",
       "    </tr>\n",
       "  </tbody>\n",
       "</table>\n",
       "</div>"
      ],
      "text/plain": [
       "                                                                                   url  \\\n",
       "4   https://tabs.ultimate-guitar.com/tab/dolly-parton/jolene-chords-183019               \n",
       "11  https://tabs.ultimate-guitar.com/tab/dolly-parton/mama-say-a-prayer-chords-2140773   \n",
       "16  https://tabs.ultimate-guitar.com/tab/dolly-parton/poor-folks-town-chords-2528862     \n",
       "17  https://tabs.ultimate-guitar.com/tab/dolly-parton/randy-chords-2779966               \n",
       "20  https://tabs.ultimate-guitar.com/tab/dolly-parton/the-bridge-chords-3211670          \n",
       "\n",
       "                                                                                                                                                                                                                                                                                                                                            chordOrder  \\\n",
       "4   [Am, Am, C, G, Am, G, Am, Am, C, G, Am, G, Em, Am, Am, C, G, Am, G, Em, Am, Am, C, G, Am, G, Em, Am, Am, C, G, Am, G, Em, Am, Am, C, G, Am, G, Em, Am, Am, C, G, Am, G, Am, Am, C, G, Am, G, Em, Am, Am, C, G, Am, G, Em, Am, Am, C, G, Am, G, Em, Am, Am, C, G, Am, G, Am, Am, C, G, Am, G, Em, Am]                                                 \n",
       "11  [G, D, A, D, D, A, A, G, D, D, D7, G, G, D, A, D, A, G, D, E, A, A7, D, D7, G, D, A, D, G, D, A, D, D, A, A, G, D, D, D7, G, G, D, A, D, A, G, D, E, A, A7, D, D7, G, D, A, D]                                                                                                                                                                       \n",
       "16  [E, A, D, A, E, A, D, A, E, A, D, A, E, D, A, D, E, A, D, A, E, D, E, D, A, E, A, D, A, E, A, D, A, E, D, A, D, E, A, D, A, E, D, A, D, E, A, D, A, E, D, E, D, A, E, A, D, A, E, A, D, A, E, D, A, D, E, A, D, A, E, D, E, D, A, E, A, D, A, E, A, D, A, E, D, E, D, A, E, A, D, A]                                                                 \n",
       "17  [D, C, Bm, A, D, A, D, D, D, G, A7, G, D, G, A7, D, D, G, D, A7, G, D, D, G, D, A7, G, D, C, Bm, A, D, G, A7, G, D, D, G, A7, D, D, G, D, A7, G, D, D, G, D, A7, G, D, C, Bm, D]                                                                                                                                                                     \n",
       "20  [A, G, A, G, A, D, E, A, A, G, A, G, A, A, G, G/F#, A, G, A, A, G, G/F#, A, G, A, A, G, G/F#, A, G, A, A, G, G/F#, A, G, A, A, G, G/F#, A, G, A, A, G, G/F#, A, G, A, A, G, G/F#, A, G, A, A, G, G/F#, A, G, A, A, D, E, A, A, G, A, G, A, A#, G#, G#/G, A#, G#, A#, A#, G#, G#/G, A#, G#, A#, A#, G#, G#/G, A#, G#, A#, A#, G#, G#/G, A#, G#, A#]   \n",
       "\n",
       "                        uniqueChords               song        artist  \\\n",
       "4   [Am, C, G, Em]                    Jolene             Dolly Parton   \n",
       "11  [G, D, A, D7, E, A7]              Mama Say A Prayer  Dolly Parton   \n",
       "16  [E, A, D]                         Poor Folks Town    Dolly Parton   \n",
       "17  [D, C, Bm, A, G, A7]              Randy              Dolly Parton   \n",
       "20  [A, G, D, E, G/F#, A#, G#, G#/G]  The Bridge         Dolly Parton   \n",
       "\n",
       "              genre decade    difficulty       tuning      capo  key  \\\n",
       "4   (Country, Folk)  1970   novice        E A D G B E  4th fret  C#m   \n",
       "11  (Country,)       1960   novice        E A D G B E  NaN       D     \n",
       "16  (Country,)       1980   novice        E A D G B E  NaN       E     \n",
       "17  (Country,)       1970   intermediate  E A D G B E  NaN       D     \n",
       "20  (Country,)       1960   NaN           E A D G B E  4th fret  C#    \n",
       "\n",
       "                                                                                                                                                           other  \\\n",
       "4   NaN                                                                                                                                                            \n",
       "11  full tab including intro intro and instrumental in original key. was this info helpful?yesno                                                                   \n",
       "16  for any level guitarist. the chords to this song are nowhere on the internet so here is this. first time doing this and posting. was this info helpful?yesno   \n",
       "17  NaN                                                                                                                                                            \n",
       "20  NaN                                                                                                                                                            \n",
       "\n",
       "    cardinality                   uniqueChordsTup  \\\n",
       "4   4            (Am, C, Em, G)                     \n",
       "11  6            (A, A7, D, D7, E, G)               \n",
       "16  3            (A, D, E)                          \n",
       "17  6            (A, A7, Bm, C, D, G)               \n",
       "20  8            (A, A#, D, E, G, G#, G#/G, G/F#)   \n",
       "\n",
       "                                                                                                                                                                                                                                                                                                       cleanChordOrder  \\\n",
       "4   [Am, Am, C, G, Am, G, Am, Am, C, G, Am, G, Em, Am, Am, C, G, Am, G, Em, Am, Am, C, G, Am, G, Em, Am, Am, C, G, Am, G, Em, Am, Am, C, G, Am, G, Em, Am, Am, C, G, Am, G, Am, Am, C, G, Am, G, Em, Am, Am, C, G, Am, G, Em, Am, Am, C, G, Am, G, Em, Am, Am, C, G, Am, G, Am, Am, C, G, Am, G, Em, Am]                 \n",
       "11  [G, D, A, D, D, A, A, G, D, D, D, G, G, D, A, D, A, G, D, E, A, A, D, D, G, D, A, D, G, D, A, D, D, A, A, G, D, D, D, G, G, D, A, D, A, G, D, E, A, A, D, D, G, D, A, D]                                                                                                                                             \n",
       "16  [E, A, D, A, E, A, D, A, E, A, D, A, E, D, A, D, E, A, D, A, E, D, E, D, A, E, A, D, A, E, A, D, A, E, D, A, D, E, A, D, A, E, D, A, D, E, A, D, A, E, D, E, D, A, E, A, D, A, E, A, D, A, E, D, A, D, E, A, D, A, E, D, E, D, A, E, A, D, A, E, A, D, A, E, D, E, D, A, E, A, D, A]                                 \n",
       "17  [D, C, Bm, A, D, A, D, D, D, G, A, G, D, G, A, D, D, G, D, A, G, D, D, G, D, A, G, D, C, Bm, A, D, G, A, G, D, D, G, A, D, D, G, D, A, G, D, D, G, D, A, G, D, C, Bm, D]                                                                                                                                             \n",
       "20  [A, G, A, G, A, D, E, A, A, G, A, G, A, A, G, G, A, G, A, A, G, G, A, G, A, A, G, G, A, G, A, A, G, G, A, G, A, A, G, G, A, G, A, A, G, G, A, G, A, A, G, G, A, G, A, A, G, G, A, G, A, A, D, E, A, A, G, A, G, A, A#, G#, G#, A#, G#, A#, A#, G#, G#, A#, G#, A#, A#, G#, G#, A#, G#, A#, A#, G#, G#, A#, G#, A#]   \n",
       "\n",
       "       cleanUniqueChords finalKey      keyChoices       match  keyCheck  \n",
       "4   [G, Em, C, Am]        Am       [Am, C, Em, G]  maxChord    0         \n",
       "11  [D, E, G, A]          D        [A, D]          maxChord    1         \n",
       "16  [D, E, A]             A        [A]             one choice  0         \n",
       "17  [Bm, G, A, C, D]      D        [D, Em, G]      maxChord    1         \n",
       "20  [G, A#, A, E, G#, D]  A        [A, D]          maxChord    0         "
      ]
     },
     "execution_count": 53,
     "metadata": {},
     "output_type": "execute_result"
    }
   ],
   "source": [
    "dfKeys.head()"
   ]
  },
  {
   "cell_type": "code",
   "execution_count": 54,
   "metadata": {},
   "outputs": [
    {
     "name": "stderr",
     "output_type": "stream",
     "text": [
      "/Library/Frameworks/Python.framework/Versions/3.6/lib/python3.6/site-packages/ipykernel_launcher.py:2: SettingWithCopyWarning: \n",
      "A value is trying to be set on a copy of a slice from a DataFrame.\n",
      "Try using .loc[row_indexer,col_indexer] = value instead\n",
      "\n",
      "See the caveats in the documentation: http://pandas.pydata.org/pandas-docs/stable/indexing.html#indexing-view-versus-copy\n",
      "  \n"
     ]
    }
   ],
   "source": [
    "\n",
    "dfKeys['keyCheck']=dfKeys[['key','finalKey']].apply(lambda x: 1 if x[0]==x[1] else 0, axis=1)"
   ]
  },
  {
   "cell_type": "code",
   "execution_count": 55,
   "metadata": {},
   "outputs": [
    {
     "data": {
      "text/html": [
       "<div>\n",
       "<style scoped>\n",
       "    .dataframe tbody tr th:only-of-type {\n",
       "        vertical-align: middle;\n",
       "    }\n",
       "\n",
       "    .dataframe tbody tr th {\n",
       "        vertical-align: top;\n",
       "    }\n",
       "\n",
       "    .dataframe thead th {\n",
       "        text-align: right;\n",
       "    }\n",
       "</style>\n",
       "<table border=\"1\" class=\"dataframe\">\n",
       "  <thead>\n",
       "    <tr style=\"text-align: right;\">\n",
       "      <th></th>\n",
       "      <th>url</th>\n",
       "      <th>chordOrder</th>\n",
       "      <th>uniqueChords</th>\n",
       "      <th>song</th>\n",
       "      <th>artist</th>\n",
       "      <th>genre</th>\n",
       "      <th>decade</th>\n",
       "      <th>difficulty</th>\n",
       "      <th>tuning</th>\n",
       "      <th>capo</th>\n",
       "      <th>key</th>\n",
       "      <th>other</th>\n",
       "      <th>cardinality</th>\n",
       "      <th>uniqueChordsTup</th>\n",
       "      <th>cleanChordOrder</th>\n",
       "      <th>cleanUniqueChords</th>\n",
       "      <th>finalKey</th>\n",
       "      <th>keyChoices</th>\n",
       "      <th>match</th>\n",
       "      <th>keyCheck</th>\n",
       "    </tr>\n",
       "  </thead>\n",
       "  <tbody>\n",
       "    <tr>\n",
       "      <th>4</th>\n",
       "      <td>https://tabs.ultimate-guitar.com/tab/dolly-parton/jolene-chords-183019</td>\n",
       "      <td>[Am, Am, C, G, Am, G, Am, Am, C, G, Am, G, Em, Am, Am, C, G, Am, G, Em, Am, Am, C, G, Am, G, Em, Am, Am, C, G, Am, G, Em, Am, Am, C, G, Am, G, Em, Am, Am, C, G, Am, G, Am, Am, C, G, Am, G, Em, Am, Am, C, G, Am, G, Em, Am, Am, C, G, Am, G, Em, Am, Am, C, G, Am, G, Am, Am, C, G, Am, G, Em, Am]</td>\n",
       "      <td>[Am, C, G, Em]</td>\n",
       "      <td>Jolene</td>\n",
       "      <td>Dolly Parton</td>\n",
       "      <td>(Country, Folk)</td>\n",
       "      <td>1970</td>\n",
       "      <td>novice</td>\n",
       "      <td>E A D G B E</td>\n",
       "      <td>4th fret</td>\n",
       "      <td>C#m</td>\n",
       "      <td>NaN</td>\n",
       "      <td>4</td>\n",
       "      <td>(Am, C, Em, G)</td>\n",
       "      <td>[Am, Am, C, G, Am, G, Am, Am, C, G, Am, G, Em, Am, Am, C, G, Am, G, Em, Am, Am, C, G, Am, G, Em, Am, Am, C, G, Am, G, Em, Am, Am, C, G, Am, G, Em, Am, Am, C, G, Am, G, Am, Am, C, G, Am, G, Em, Am, Am, C, G, Am, G, Em, Am, Am, C, G, Am, G, Em, Am, Am, C, G, Am, G, Am, Am, C, G, Am, G, Em, Am]</td>\n",
       "      <td>[G, Em, C, Am]</td>\n",
       "      <td>Am</td>\n",
       "      <td>[Am, C, Em, G]</td>\n",
       "      <td>maxChord</td>\n",
       "      <td>0</td>\n",
       "    </tr>\n",
       "    <tr>\n",
       "      <th>11</th>\n",
       "      <td>https://tabs.ultimate-guitar.com/tab/dolly-parton/mama-say-a-prayer-chords-2140773</td>\n",
       "      <td>[G, D, A, D, D, A, A, G, D, D, D7, G, G, D, A, D, A, G, D, E, A, A7, D, D7, G, D, A, D, G, D, A, D, D, A, A, G, D, D, D7, G, G, D, A, D, A, G, D, E, A, A7, D, D7, G, D, A, D]</td>\n",
       "      <td>[G, D, A, D7, E, A7]</td>\n",
       "      <td>Mama Say A Prayer</td>\n",
       "      <td>Dolly Parton</td>\n",
       "      <td>(Country,)</td>\n",
       "      <td>1960</td>\n",
       "      <td>novice</td>\n",
       "      <td>E A D G B E</td>\n",
       "      <td>NaN</td>\n",
       "      <td>D</td>\n",
       "      <td>full tab including intro intro and instrumental in original key. was this info helpful?yesno</td>\n",
       "      <td>6</td>\n",
       "      <td>(A, A7, D, D7, E, G)</td>\n",
       "      <td>[G, D, A, D, D, A, A, G, D, D, D, G, G, D, A, D, A, G, D, E, A, A, D, D, G, D, A, D, G, D, A, D, D, A, A, G, D, D, D, G, G, D, A, D, A, G, D, E, A, A, D, D, G, D, A, D]</td>\n",
       "      <td>[D, E, G, A]</td>\n",
       "      <td>D</td>\n",
       "      <td>[A, D]</td>\n",
       "      <td>maxChord</td>\n",
       "      <td>1</td>\n",
       "    </tr>\n",
       "    <tr>\n",
       "      <th>16</th>\n",
       "      <td>https://tabs.ultimate-guitar.com/tab/dolly-parton/poor-folks-town-chords-2528862</td>\n",
       "      <td>[E, A, D, A, E, A, D, A, E, A, D, A, E, D, A, D, E, A, D, A, E, D, E, D, A, E, A, D, A, E, A, D, A, E, D, A, D, E, A, D, A, E, D, A, D, E, A, D, A, E, D, E, D, A, E, A, D, A, E, A, D, A, E, D, A, D, E, A, D, A, E, D, E, D, A, E, A, D, A, E, A, D, A, E, D, E, D, A, E, A, D, A]</td>\n",
       "      <td>[E, A, D]</td>\n",
       "      <td>Poor Folks Town</td>\n",
       "      <td>Dolly Parton</td>\n",
       "      <td>(Country,)</td>\n",
       "      <td>1980</td>\n",
       "      <td>novice</td>\n",
       "      <td>E A D G B E</td>\n",
       "      <td>NaN</td>\n",
       "      <td>E</td>\n",
       "      <td>for any level guitarist. the chords to this song are nowhere on the internet so here is this. first time doing this and posting. was this info helpful?yesno</td>\n",
       "      <td>3</td>\n",
       "      <td>(A, D, E)</td>\n",
       "      <td>[E, A, D, A, E, A, D, A, E, A, D, A, E, D, A, D, E, A, D, A, E, D, E, D, A, E, A, D, A, E, A, D, A, E, D, A, D, E, A, D, A, E, D, A, D, E, A, D, A, E, D, E, D, A, E, A, D, A, E, A, D, A, E, D, A, D, E, A, D, A, E, D, E, D, A, E, A, D, A, E, A, D, A, E, D, E, D, A, E, A, D, A]</td>\n",
       "      <td>[D, E, A]</td>\n",
       "      <td>A</td>\n",
       "      <td>[A]</td>\n",
       "      <td>one choice</td>\n",
       "      <td>0</td>\n",
       "    </tr>\n",
       "    <tr>\n",
       "      <th>17</th>\n",
       "      <td>https://tabs.ultimate-guitar.com/tab/dolly-parton/randy-chords-2779966</td>\n",
       "      <td>[D, C, Bm, A, D, A, D, D, D, G, A7, G, D, G, A7, D, D, G, D, A7, G, D, D, G, D, A7, G, D, C, Bm, A, D, G, A7, G, D, D, G, A7, D, D, G, D, A7, G, D, D, G, D, A7, G, D, C, Bm, D]</td>\n",
       "      <td>[D, C, Bm, A, G, A7]</td>\n",
       "      <td>Randy</td>\n",
       "      <td>Dolly Parton</td>\n",
       "      <td>(Country,)</td>\n",
       "      <td>1970</td>\n",
       "      <td>intermediate</td>\n",
       "      <td>E A D G B E</td>\n",
       "      <td>NaN</td>\n",
       "      <td>D</td>\n",
       "      <td>NaN</td>\n",
       "      <td>6</td>\n",
       "      <td>(A, A7, Bm, C, D, G)</td>\n",
       "      <td>[D, C, Bm, A, D, A, D, D, D, G, A, G, D, G, A, D, D, G, D, A, G, D, D, G, D, A, G, D, C, Bm, A, D, G, A, G, D, D, G, A, D, D, G, D, A, G, D, D, G, D, A, G, D, C, Bm, D]</td>\n",
       "      <td>[Bm, G, A, C, D]</td>\n",
       "      <td>D</td>\n",
       "      <td>[D, Em, G]</td>\n",
       "      <td>maxChord</td>\n",
       "      <td>1</td>\n",
       "    </tr>\n",
       "    <tr>\n",
       "      <th>20</th>\n",
       "      <td>https://tabs.ultimate-guitar.com/tab/dolly-parton/the-bridge-chords-3211670</td>\n",
       "      <td>[A, G, A, G, A, D, E, A, A, G, A, G, A, A, G, G/F#, A, G, A, A, G, G/F#, A, G, A, A, G, G/F#, A, G, A, A, G, G/F#, A, G, A, A, G, G/F#, A, G, A, A, G, G/F#, A, G, A, A, G, G/F#, A, G, A, A, G, G/F#, A, G, A, A, D, E, A, A, G, A, G, A, A#, G#, G#/G, A#, G#, A#, A#, G#, G#/G, A#, G#, A#, A#, G#, G#/G, A#, G#, A#, A#, G#, G#/G, A#, G#, A#]</td>\n",
       "      <td>[A, G, D, E, G/F#, A#, G#, G#/G]</td>\n",
       "      <td>The Bridge</td>\n",
       "      <td>Dolly Parton</td>\n",
       "      <td>(Country,)</td>\n",
       "      <td>1960</td>\n",
       "      <td>NaN</td>\n",
       "      <td>E A D G B E</td>\n",
       "      <td>4th fret</td>\n",
       "      <td>C#</td>\n",
       "      <td>NaN</td>\n",
       "      <td>8</td>\n",
       "      <td>(A, A#, D, E, G, G#, G#/G, G/F#)</td>\n",
       "      <td>[A, G, A, G, A, D, E, A, A, G, A, G, A, A, G, G, A, G, A, A, G, G, A, G, A, A, G, G, A, G, A, A, G, G, A, G, A, A, G, G, A, G, A, A, G, G, A, G, A, A, G, G, A, G, A, A, G, G, A, G, A, A, D, E, A, A, G, A, G, A, A#, G#, G#, A#, G#, A#, A#, G#, G#, A#, G#, A#, A#, G#, G#, A#, G#, A#, A#, G#, G#, A#, G#, A#]</td>\n",
       "      <td>[G, A#, A, E, G#, D]</td>\n",
       "      <td>A</td>\n",
       "      <td>[A, D]</td>\n",
       "      <td>maxChord</td>\n",
       "      <td>0</td>\n",
       "    </tr>\n",
       "  </tbody>\n",
       "</table>\n",
       "</div>"
      ],
      "text/plain": [
       "                                                                                   url  \\\n",
       "4   https://tabs.ultimate-guitar.com/tab/dolly-parton/jolene-chords-183019               \n",
       "11  https://tabs.ultimate-guitar.com/tab/dolly-parton/mama-say-a-prayer-chords-2140773   \n",
       "16  https://tabs.ultimate-guitar.com/tab/dolly-parton/poor-folks-town-chords-2528862     \n",
       "17  https://tabs.ultimate-guitar.com/tab/dolly-parton/randy-chords-2779966               \n",
       "20  https://tabs.ultimate-guitar.com/tab/dolly-parton/the-bridge-chords-3211670          \n",
       "\n",
       "                                                                                                                                                                                                                                                                                                                                            chordOrder  \\\n",
       "4   [Am, Am, C, G, Am, G, Am, Am, C, G, Am, G, Em, Am, Am, C, G, Am, G, Em, Am, Am, C, G, Am, G, Em, Am, Am, C, G, Am, G, Em, Am, Am, C, G, Am, G, Em, Am, Am, C, G, Am, G, Am, Am, C, G, Am, G, Em, Am, Am, C, G, Am, G, Em, Am, Am, C, G, Am, G, Em, Am, Am, C, G, Am, G, Am, Am, C, G, Am, G, Em, Am]                                                 \n",
       "11  [G, D, A, D, D, A, A, G, D, D, D7, G, G, D, A, D, A, G, D, E, A, A7, D, D7, G, D, A, D, G, D, A, D, D, A, A, G, D, D, D7, G, G, D, A, D, A, G, D, E, A, A7, D, D7, G, D, A, D]                                                                                                                                                                       \n",
       "16  [E, A, D, A, E, A, D, A, E, A, D, A, E, D, A, D, E, A, D, A, E, D, E, D, A, E, A, D, A, E, A, D, A, E, D, A, D, E, A, D, A, E, D, A, D, E, A, D, A, E, D, E, D, A, E, A, D, A, E, A, D, A, E, D, A, D, E, A, D, A, E, D, E, D, A, E, A, D, A, E, A, D, A, E, D, E, D, A, E, A, D, A]                                                                 \n",
       "17  [D, C, Bm, A, D, A, D, D, D, G, A7, G, D, G, A7, D, D, G, D, A7, G, D, D, G, D, A7, G, D, C, Bm, A, D, G, A7, G, D, D, G, A7, D, D, G, D, A7, G, D, D, G, D, A7, G, D, C, Bm, D]                                                                                                                                                                     \n",
       "20  [A, G, A, G, A, D, E, A, A, G, A, G, A, A, G, G/F#, A, G, A, A, G, G/F#, A, G, A, A, G, G/F#, A, G, A, A, G, G/F#, A, G, A, A, G, G/F#, A, G, A, A, G, G/F#, A, G, A, A, G, G/F#, A, G, A, A, G, G/F#, A, G, A, A, D, E, A, A, G, A, G, A, A#, G#, G#/G, A#, G#, A#, A#, G#, G#/G, A#, G#, A#, A#, G#, G#/G, A#, G#, A#, A#, G#, G#/G, A#, G#, A#]   \n",
       "\n",
       "                        uniqueChords               song        artist  \\\n",
       "4   [Am, C, G, Em]                    Jolene             Dolly Parton   \n",
       "11  [G, D, A, D7, E, A7]              Mama Say A Prayer  Dolly Parton   \n",
       "16  [E, A, D]                         Poor Folks Town    Dolly Parton   \n",
       "17  [D, C, Bm, A, G, A7]              Randy              Dolly Parton   \n",
       "20  [A, G, D, E, G/F#, A#, G#, G#/G]  The Bridge         Dolly Parton   \n",
       "\n",
       "              genre decade    difficulty       tuning      capo  key  \\\n",
       "4   (Country, Folk)  1970   novice        E A D G B E  4th fret  C#m   \n",
       "11  (Country,)       1960   novice        E A D G B E  NaN       D     \n",
       "16  (Country,)       1980   novice        E A D G B E  NaN       E     \n",
       "17  (Country,)       1970   intermediate  E A D G B E  NaN       D     \n",
       "20  (Country,)       1960   NaN           E A D G B E  4th fret  C#    \n",
       "\n",
       "                                                                                                                                                           other  \\\n",
       "4   NaN                                                                                                                                                            \n",
       "11  full tab including intro intro and instrumental in original key. was this info helpful?yesno                                                                   \n",
       "16  for any level guitarist. the chords to this song are nowhere on the internet so here is this. first time doing this and posting. was this info helpful?yesno   \n",
       "17  NaN                                                                                                                                                            \n",
       "20  NaN                                                                                                                                                            \n",
       "\n",
       "    cardinality                   uniqueChordsTup  \\\n",
       "4   4            (Am, C, Em, G)                     \n",
       "11  6            (A, A7, D, D7, E, G)               \n",
       "16  3            (A, D, E)                          \n",
       "17  6            (A, A7, Bm, C, D, G)               \n",
       "20  8            (A, A#, D, E, G, G#, G#/G, G/F#)   \n",
       "\n",
       "                                                                                                                                                                                                                                                                                                       cleanChordOrder  \\\n",
       "4   [Am, Am, C, G, Am, G, Am, Am, C, G, Am, G, Em, Am, Am, C, G, Am, G, Em, Am, Am, C, G, Am, G, Em, Am, Am, C, G, Am, G, Em, Am, Am, C, G, Am, G, Em, Am, Am, C, G, Am, G, Am, Am, C, G, Am, G, Em, Am, Am, C, G, Am, G, Em, Am, Am, C, G, Am, G, Em, Am, Am, C, G, Am, G, Am, Am, C, G, Am, G, Em, Am]                 \n",
       "11  [G, D, A, D, D, A, A, G, D, D, D, G, G, D, A, D, A, G, D, E, A, A, D, D, G, D, A, D, G, D, A, D, D, A, A, G, D, D, D, G, G, D, A, D, A, G, D, E, A, A, D, D, G, D, A, D]                                                                                                                                             \n",
       "16  [E, A, D, A, E, A, D, A, E, A, D, A, E, D, A, D, E, A, D, A, E, D, E, D, A, E, A, D, A, E, A, D, A, E, D, A, D, E, A, D, A, E, D, A, D, E, A, D, A, E, D, E, D, A, E, A, D, A, E, A, D, A, E, D, A, D, E, A, D, A, E, D, E, D, A, E, A, D, A, E, A, D, A, E, D, E, D, A, E, A, D, A]                                 \n",
       "17  [D, C, Bm, A, D, A, D, D, D, G, A, G, D, G, A, D, D, G, D, A, G, D, D, G, D, A, G, D, C, Bm, A, D, G, A, G, D, D, G, A, D, D, G, D, A, G, D, D, G, D, A, G, D, C, Bm, D]                                                                                                                                             \n",
       "20  [A, G, A, G, A, D, E, A, A, G, A, G, A, A, G, G, A, G, A, A, G, G, A, G, A, A, G, G, A, G, A, A, G, G, A, G, A, A, G, G, A, G, A, A, G, G, A, G, A, A, G, G, A, G, A, A, G, G, A, G, A, A, D, E, A, A, G, A, G, A, A#, G#, G#, A#, G#, A#, A#, G#, G#, A#, G#, A#, A#, G#, G#, A#, G#, A#, A#, G#, G#, A#, G#, A#]   \n",
       "\n",
       "       cleanUniqueChords finalKey      keyChoices       match  keyCheck  \n",
       "4   [G, Em, C, Am]        Am       [Am, C, Em, G]  maxChord    0         \n",
       "11  [D, E, G, A]          D        [A, D]          maxChord    1         \n",
       "16  [D, E, A]             A        [A]             one choice  0         \n",
       "17  [Bm, G, A, C, D]      D        [D, Em, G]      maxChord    1         \n",
       "20  [G, A#, A, E, G#, D]  A        [A, D]          maxChord    0         "
      ]
     },
     "execution_count": 55,
     "metadata": {},
     "output_type": "execute_result"
    }
   ],
   "source": [
    "dfKeys.head()"
   ]
  },
  {
   "cell_type": "code",
   "execution_count": 56,
   "metadata": {},
   "outputs": [
    {
     "data": {
      "text/plain": [
       "0    772\n",
       "1    470\n",
       "Name: keyCheck, dtype: int64"
      ]
     },
     "execution_count": 56,
     "metadata": {},
     "output_type": "execute_result"
    }
   ],
   "source": [
    "dfKeys.fillna(\"null\").keyCheck.value_counts()"
   ]
  },
  {
   "cell_type": "code",
   "execution_count": 57,
   "metadata": {},
   "outputs": [
    {
     "data": {
      "text/plain": [
       "1242"
      ]
     },
     "execution_count": 57,
     "metadata": {},
     "output_type": "execute_result"
    }
   ],
   "source": [
    "dfKeys.shape[0]"
   ]
  },
  {
   "cell_type": "code",
   "execution_count": 58,
   "metadata": {},
   "outputs": [
    {
     "name": "stdout",
     "output_type": "stream",
     "text": [
      "<class 'pandas.core.frame.DataFrame'>\n",
      "Int64Index: 1242 entries, 4 to 9993\n",
      "Data columns (total 20 columns):\n",
      "url                  1242 non-null object\n",
      "chordOrder           1242 non-null object\n",
      "uniqueChords         1242 non-null object\n",
      "song                 1242 non-null object\n",
      "artist               1242 non-null object\n",
      "genre                1242 non-null object\n",
      "decade               1240 non-null object\n",
      "difficulty           1049 non-null object\n",
      "tuning               1207 non-null object\n",
      "capo                 365 non-null object\n",
      "key                  1242 non-null object\n",
      "other                497 non-null object\n",
      "cardinality          1242 non-null int64\n",
      "uniqueChordsTup      1242 non-null object\n",
      "cleanChordOrder      1242 non-null object\n",
      "cleanUniqueChords    1242 non-null object\n",
      "finalKey             1242 non-null object\n",
      "keyChoices           1242 non-null object\n",
      "match                1242 non-null object\n",
      "keyCheck             1242 non-null int64\n",
      "dtypes: int64(2), object(18)\n",
      "memory usage: 203.8+ KB\n"
     ]
    }
   ],
   "source": [
    "dfKeys.info()"
   ]
  },
  {
   "cell_type": "code",
   "execution_count": null,
   "metadata": {},
   "outputs": [],
   "source": []
  }
 ],
 "metadata": {
  "kernelspec": {
   "display_name": "Python 3",
   "language": "python",
   "name": "python3"
  },
  "language_info": {
   "codemirror_mode": {
    "name": "ipython",
    "version": 3
   },
   "file_extension": ".py",
   "mimetype": "text/x-python",
   "name": "python",
   "nbconvert_exporter": "python",
   "pygments_lexer": "ipython3",
   "version": "3.6.4"
  }
 },
 "nbformat": 4,
 "nbformat_minor": 2
}
