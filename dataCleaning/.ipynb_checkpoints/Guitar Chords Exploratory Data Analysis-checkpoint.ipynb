{
 "cells": [
  {
   "cell_type": "markdown",
   "metadata": {},
   "source": [
    "# Introduction and Motivation\n",
    "\n",
    "As both an aspiring guitarist and product management/data science professional, I thought it would be a great idea to merge my interests into one project - using data to explore basic guitar music theory and to inform my next steps for learning guitar.\n",
    "\n",
    "#### Guitar Motivation\n",
    "For the last year I have been self teaching myself guitar. Like all things I've self-taught in the past, I have spent endless hours on youtube, learning new songs, chords, etc. I feel like I've got the basics down now and can learn most songs after watching a youtube video or finding the chords online. However, I'm hungry now to get into that next level of understanding - music theory. I want to know what and why I'm playing. I've found myself asking questions like - What chords sound good together? Why does chord x always show up after chord y? How can I think about starting to write my own music? What song should I be learning next? I've started diving into these questions through youtube, but like anything, I believed data could help guide my learning and decision making.\n",
    "\n",
    "#### Data Motivation\n",
    "Over the last few years, I've really found my interests converging at the intersetion of product and data. In school I was lucky enough to get involved in classes all over the data science spectrum, touching subjects and projects varying from ML to Data Visualization Interaction. Now as a Product manager, I am actively involved in analyzing our business data to help us make decisions on how to build our products!\n",
    "\n",
    "Although I've done a lot so far, there's still so many more skills that I want to build upon in this space. For example, I've often worked with dirty data, usually in the form of logs generated from our software at work. However, I've never really had to gather it myself. And although I've gotten to answer some really cool questions with data, I've never been able to use data to explore a subject I really know nothing about.\n",
    "\n",
    "#### Project  Overview\n",
    "\n",
    "So for this project, I will be working down the data science pipeline from A-Z to explore the basics of music theory while simultaneosly building out my data science skills!\n",
    "\n",
    "This notebook contains a majority of my work, broken up by each step in the process\n",
    "\n",
    "1. Data Collection\n",
    "\n",
    "2. Data Cleaning\n",
    "\n",
    "3. Exploratory Data Analysis\n",
    "\n",
    "4. Modeling\n",
    "\n",
    "5. Conclusion/Takeaways\n"
   ]
  },
  {
   "cell_type": "markdown",
   "metadata": {},
   "source": [
    "## 1. Data Collection"
   ]
  },
  {
   "cell_type": "markdown",
   "metadata": {},
   "source": [
    "The first step of the process was finding or creating an approptiate data set of guitar chords/tabelature. Specifically, I wanted a large data set of guitar tabelature from a variety of different difficulty levels, genres, artists, etc. One of my main objectives for this project was to build out my own ETL pipeline. With that in mind I decided to build a web scraper. \n",
    "\n",
    "I scraped my data from a popular guitar tabelature website. To scrape the site I utilized the selenium data package. This was my first time web scraping so I relied heavily on this amazing tutorial from techwithtim! The code for my scraper can be found in the scraping folder in my git. But I will give a brief overview of my process here...\n",
    "\n",
    "\n",
    "\n",
    "\n",
    "There is no clear location on the site to gather all of the tabs in one place, so I had to get a bit creative. The first step was gathering a list of individual urls that linked to the songs tabs. To do that, I went to the site's main search page and itiratevly changed the filters using the website name to get different amounts\n",
    "\n",
    "The top source on the internet for guitar chords is the site that I use, ultimate-guitar.com. \n",
    "The code for my web scraper can be found in the scraping tab in this same git folder. \n"
   ]
  },
  {
   "cell_type": "markdown",
   "metadata": {},
   "source": [
    "## 2. Data Cleaning"
   ]
  },
  {
   "cell_type": "code",
   "execution_count": 61,
   "metadata": {},
   "outputs": [],
   "source": [
    "import pandas as pd\n",
    "import matplotlib.pyplot as plt\n",
    "import seaborn as sns\n",
    "from ast import literal_eval\n",
    "import numpy as np\n",
    "import math\n",
    "import glob\n",
    "import seaborn as sns"
   ]
  },
  {
   "cell_type": "markdown",
   "metadata": {},
   "source": [
    "#### Read in and combine data files\n",
    "\n",
    "After scraping they were put into various CSV files (to deal with issues of computer turning off overnight). We'll want to read all these files and combine them into one"
   ]
  },
  {
   "cell_type": "code",
   "execution_count": 62,
   "metadata": {},
   "outputs": [
    {
     "data": {
      "text/html": [
       "<div>\n",
       "<style scoped>\n",
       "    .dataframe tbody tr th:only-of-type {\n",
       "        vertical-align: middle;\n",
       "    }\n",
       "\n",
       "    .dataframe tbody tr th {\n",
       "        vertical-align: top;\n",
       "    }\n",
       "\n",
       "    .dataframe thead th {\n",
       "        text-align: right;\n",
       "    }\n",
       "</style>\n",
       "<table border=\"1\" class=\"dataframe\">\n",
       "  <thead>\n",
       "    <tr style=\"text-align: right;\">\n",
       "      <th></th>\n",
       "      <th>url</th>\n",
       "      <th>new_x</th>\n",
       "      <th>new_y</th>\n",
       "      <th>chordOrder</th>\n",
       "      <th>chordList</th>\n",
       "      <th>topInfo</th>\n",
       "      <th>songArtist</th>\n",
       "    </tr>\n",
       "  </thead>\n",
       "  <tbody>\n",
       "    <tr>\n",
       "      <th>0</th>\n",
       "      <td>https://tabs.ultimate-guitar.com/tab/dolly-par...</td>\n",
       "      <td>['Country']</td>\n",
       "      <td>[1970]</td>\n",
       "      <td>['G', 'C', 'G', 'C', 'D', 'G', 'C', 'G', 'C', ...</td>\n",
       "      <td>['G', 'C', 'D']</td>\n",
       "      <td>[]</td>\n",
       "      <td>Its All Wrong But Its All Right chords by Doll...</td>\n",
       "    </tr>\n",
       "    <tr>\n",
       "      <th>1</th>\n",
       "      <td>https://tabs.ultimate-guitar.com/tab/dolly-par...</td>\n",
       "      <td>['Country', 'Folk', 'Folk']</td>\n",
       "      <td>[1970, 1970, 1940]</td>\n",
       "      <td>['Am', 'C', 'G', 'Am', 'G', 'Am', 'Am', 'C', '...</td>\n",
       "      <td>['Am', 'C', 'G']</td>\n",
       "      <td>['Difficulty: intermediate', 'Tuning: E A D G ...</td>\n",
       "      <td>Jolene chords by Dolly Parton</td>\n",
       "    </tr>\n",
       "    <tr>\n",
       "      <th>2</th>\n",
       "      <td>https://tabs.ultimate-guitar.com/tab/dolly-par...</td>\n",
       "      <td>['Country']</td>\n",
       "      <td>[1970]</td>\n",
       "      <td>['Em', 'G', 'D', 'Em', 'D', 'Em', 'Em', 'G', '...</td>\n",
       "      <td>['Em', 'G', 'D']</td>\n",
       "      <td>['Difficulty: novice', 'Tuning: E A D G B E', ...</td>\n",
       "      <td>Jolene chords by Dolly Parton</td>\n",
       "    </tr>\n",
       "    <tr>\n",
       "      <th>3</th>\n",
       "      <td>https://tabs.ultimate-guitar.com/tab/dolly-par...</td>\n",
       "      <td>['Country', 'Folk']</td>\n",
       "      <td>[1970, 1970]</td>\n",
       "      <td>['Dm', 'F', 'C', 'Dm', 'C', 'Dm', 'F', 'C', 'D...</td>\n",
       "      <td>['Dm', 'F', 'C']</td>\n",
       "      <td>[]</td>\n",
       "      <td>Jolene chords by Dolly Parton</td>\n",
       "    </tr>\n",
       "    <tr>\n",
       "      <th>4</th>\n",
       "      <td>https://tabs.ultimate-guitar.com/tab/dolly-par...</td>\n",
       "      <td>['Country', 'Country', 'Folk', 'Folk']</td>\n",
       "      <td>[1970, 1940, 1970, 1940]</td>\n",
       "      <td>['Am', 'Am', 'C', 'G', 'Am', 'G', 'Am', 'Am', ...</td>\n",
       "      <td>['Am', 'C', 'G', 'Em']</td>\n",
       "      <td>['Difficulty: novice', 'Tuning: E A D G B E', ...</td>\n",
       "      <td>Jolene chords by Dolly Parton</td>\n",
       "    </tr>\n",
       "  </tbody>\n",
       "</table>\n",
       "</div>"
      ],
      "text/plain": [
       "                                                 url  \\\n",
       "0  https://tabs.ultimate-guitar.com/tab/dolly-par...   \n",
       "1  https://tabs.ultimate-guitar.com/tab/dolly-par...   \n",
       "2  https://tabs.ultimate-guitar.com/tab/dolly-par...   \n",
       "3  https://tabs.ultimate-guitar.com/tab/dolly-par...   \n",
       "4  https://tabs.ultimate-guitar.com/tab/dolly-par...   \n",
       "\n",
       "                                    new_x                     new_y  \\\n",
       "0                             ['Country']                    [1970]   \n",
       "1             ['Country', 'Folk', 'Folk']        [1970, 1970, 1940]   \n",
       "2                             ['Country']                    [1970]   \n",
       "3                     ['Country', 'Folk']              [1970, 1970]   \n",
       "4  ['Country', 'Country', 'Folk', 'Folk']  [1970, 1940, 1970, 1940]   \n",
       "\n",
       "                                          chordOrder               chordList  \\\n",
       "0  ['G', 'C', 'G', 'C', 'D', 'G', 'C', 'G', 'C', ...         ['G', 'C', 'D']   \n",
       "1  ['Am', 'C', 'G', 'Am', 'G', 'Am', 'Am', 'C', '...        ['Am', 'C', 'G']   \n",
       "2  ['Em', 'G', 'D', 'Em', 'D', 'Em', 'Em', 'G', '...        ['Em', 'G', 'D']   \n",
       "3  ['Dm', 'F', 'C', 'Dm', 'C', 'Dm', 'F', 'C', 'D...        ['Dm', 'F', 'C']   \n",
       "4  ['Am', 'Am', 'C', 'G', 'Am', 'G', 'Am', 'Am', ...  ['Am', 'C', 'G', 'Em']   \n",
       "\n",
       "                                             topInfo  \\\n",
       "0                                                 []   \n",
       "1  ['Difficulty: intermediate', 'Tuning: E A D G ...   \n",
       "2  ['Difficulty: novice', 'Tuning: E A D G B E', ...   \n",
       "3                                                 []   \n",
       "4  ['Difficulty: novice', 'Tuning: E A D G B E', ...   \n",
       "\n",
       "                                          songArtist  \n",
       "0  Its All Wrong But Its All Right chords by Doll...  \n",
       "1                      Jolene chords by Dolly Parton  \n",
       "2                      Jolene chords by Dolly Parton  \n",
       "3                      Jolene chords by Dolly Parton  \n",
       "4                      Jolene chords by Dolly Parton  "
      ]
     },
     "execution_count": 62,
     "metadata": {},
     "output_type": "execute_result"
    }
   ],
   "source": [
    "# Combine csvs\n",
    "all_files=glob.glob(\"/Users/eshantarneja/Documents/DataScience/data/rawData/*.csv\")\n",
    "li = []\n",
    "for filename in all_files:\n",
    "    df = pd.read_csv(filename, encoding='latin-1')\n",
    "    li.append(df)\n",
    "df = pd.concat(li, axis=0, ignore_index=True)\n",
    "df.head()"
   ]
  },
  {
   "cell_type": "code",
   "execution_count": 63,
   "metadata": {},
   "outputs": [
    {
     "name": "stdout",
     "output_type": "stream",
     "text": [
      "<class 'pandas.core.frame.DataFrame'>\n",
      "RangeIndex: 9997 entries, 0 to 9996\n",
      "Data columns (total 7 columns):\n",
      "url           9997 non-null object\n",
      "new_x         9997 non-null object\n",
      "new_y         9997 non-null object\n",
      "chordOrder    9997 non-null object\n",
      "chordList     9997 non-null object\n",
      "topInfo       9997 non-null object\n",
      "songArtist    9997 non-null object\n",
      "dtypes: object(7)\n",
      "memory usage: 546.8+ KB\n"
     ]
    }
   ],
   "source": [
    "df.info()"
   ]
  },
  {
   "cell_type": "markdown",
   "metadata": {},
   "source": [
    "#### Low Hanging Fruit\n",
    "\n",
    "There are a couple of issues within this raw data that I can see just by looking at it. Lets clean those up to start.\n",
    "\n",
    "1. Song and Artist are in a field together (i.e Dust Bowl chords by 10,000 Maniacs). We'll want to seperate these into their own fields\n",
    "\n",
    "2. All of the lists got read in as strings. I can see that by all of them being read as \"objects\". I learned that reading and writing in csvs loses python formatting (this is what pckl files are great for apparently...I had always heard of these...never knew why people used them). I'll go ahead and convert those back into lists though.\n",
    "\n",
    "3. The topInfo column has really disparate information about the song. This data is found at the top of the chord page and usually contains Key, Capo, and Tuning...but sometimes has only some of that info, and also sometimes has random facts about the song. I'll break these into their own fields if they exist, and if there is extra info, I'll put it in a column called \"other\"\n",
    "\n",
    "4. I know from my original file combining that there are quite a few duplicates in the data. I.e these Urls were found in multiple genres and decades, but have the exact same tab (shown by url). That is why the genre and decades are stored as list because I combined all the info from each of these into one before scraping the song to avoid duplicate work. I'll take the unique set of genres and decades for each entry. I.e [\"Folk\",\"Folk\", \"Rock\", \"Rock\"] -> [\"Folk\", \"Rock\"]. I'll decide what to do with multiple genres/decades later..."
   ]
  },
  {
   "cell_type": "code",
   "execution_count": 64,
   "metadata": {},
   "outputs": [
    {
     "data": {
      "text/html": [
       "<div>\n",
       "<style scoped>\n",
       "    .dataframe tbody tr th:only-of-type {\n",
       "        vertical-align: middle;\n",
       "    }\n",
       "\n",
       "    .dataframe tbody tr th {\n",
       "        vertical-align: top;\n",
       "    }\n",
       "\n",
       "    .dataframe thead th {\n",
       "        text-align: right;\n",
       "    }\n",
       "</style>\n",
       "<table border=\"1\" class=\"dataframe\">\n",
       "  <thead>\n",
       "    <tr style=\"text-align: right;\">\n",
       "      <th></th>\n",
       "      <th>url</th>\n",
       "      <th>chordOrder</th>\n",
       "      <th>uniqueChords</th>\n",
       "      <th>song</th>\n",
       "      <th>artist</th>\n",
       "      <th>genre</th>\n",
       "      <th>decade</th>\n",
       "      <th>difficulty</th>\n",
       "      <th>tuning</th>\n",
       "      <th>capo</th>\n",
       "      <th>key</th>\n",
       "      <th>other</th>\n",
       "    </tr>\n",
       "  </thead>\n",
       "  <tbody>\n",
       "    <tr>\n",
       "      <th>0</th>\n",
       "      <td>https://tabs.ultimate-guitar.com/tab/dolly-par...</td>\n",
       "      <td>[G, C, G, C, D, G, C, G, C, D, G, C, G, C, D, ...</td>\n",
       "      <td>[G, C, D]</td>\n",
       "      <td>Its All Wrong But Its All Right</td>\n",
       "      <td>Dolly Parton</td>\n",
       "      <td>[Country]</td>\n",
       "      <td>[1970]</td>\n",
       "      <td>NaN</td>\n",
       "      <td>NaN</td>\n",
       "      <td>NaN</td>\n",
       "      <td>NaN</td>\n",
       "      <td>NaN</td>\n",
       "    </tr>\n",
       "    <tr>\n",
       "      <th>1</th>\n",
       "      <td>https://tabs.ultimate-guitar.com/tab/dolly-par...</td>\n",
       "      <td>[Am, C, G, Am, G, Am, Am, C, G, Am, G, Am, Am,...</td>\n",
       "      <td>[Am, C, G]</td>\n",
       "      <td>Jolene</td>\n",
       "      <td>Dolly Parton</td>\n",
       "      <td>[Folk, Country]</td>\n",
       "      <td>[1970, 1940]</td>\n",
       "      <td>intermediate</td>\n",
       "      <td>E A D G B E</td>\n",
       "      <td>4th fret</td>\n",
       "      <td>NaN</td>\n",
       "      <td>NaN</td>\n",
       "    </tr>\n",
       "    <tr>\n",
       "      <th>2</th>\n",
       "      <td>https://tabs.ultimate-guitar.com/tab/dolly-par...</td>\n",
       "      <td>[Em, G, D, Em, D, Em, Em, G, D, Em, Em, G, D, ...</td>\n",
       "      <td>[Em, G, D]</td>\n",
       "      <td>Jolene</td>\n",
       "      <td>Dolly Parton</td>\n",
       "      <td>[Country]</td>\n",
       "      <td>[1970]</td>\n",
       "      <td>novice</td>\n",
       "      <td>E A D G B E</td>\n",
       "      <td>4th fret</td>\n",
       "      <td>NaN</td>\n",
       "      <td>NaN</td>\n",
       "    </tr>\n",
       "    <tr>\n",
       "      <th>3</th>\n",
       "      <td>https://tabs.ultimate-guitar.com/tab/dolly-par...</td>\n",
       "      <td>[Dm, F, C, Dm, C, Dm, F, C, Dm, C, Dm, Dm, F, ...</td>\n",
       "      <td>[Dm, F, C]</td>\n",
       "      <td>Jolene</td>\n",
       "      <td>Dolly Parton</td>\n",
       "      <td>[Folk, Country]</td>\n",
       "      <td>[1970]</td>\n",
       "      <td>NaN</td>\n",
       "      <td>NaN</td>\n",
       "      <td>NaN</td>\n",
       "      <td>NaN</td>\n",
       "      <td>NaN</td>\n",
       "    </tr>\n",
       "    <tr>\n",
       "      <th>4</th>\n",
       "      <td>https://tabs.ultimate-guitar.com/tab/dolly-par...</td>\n",
       "      <td>[Am, Am, C, G, Am, G, Am, Am, C, G, Am, G, Em,...</td>\n",
       "      <td>[Am, C, G, Em]</td>\n",
       "      <td>Jolene</td>\n",
       "      <td>Dolly Parton</td>\n",
       "      <td>[Folk, Country]</td>\n",
       "      <td>[1970, 1940]</td>\n",
       "      <td>novice</td>\n",
       "      <td>E A D G B E</td>\n",
       "      <td>4th fret</td>\n",
       "      <td>C#m</td>\n",
       "      <td>NaN</td>\n",
       "    </tr>\n",
       "  </tbody>\n",
       "</table>\n",
       "</div>"
      ],
      "text/plain": [
       "                                                 url  \\\n",
       "0  https://tabs.ultimate-guitar.com/tab/dolly-par...   \n",
       "1  https://tabs.ultimate-guitar.com/tab/dolly-par...   \n",
       "2  https://tabs.ultimate-guitar.com/tab/dolly-par...   \n",
       "3  https://tabs.ultimate-guitar.com/tab/dolly-par...   \n",
       "4  https://tabs.ultimate-guitar.com/tab/dolly-par...   \n",
       "\n",
       "                                          chordOrder    uniqueChords  \\\n",
       "0  [G, C, G, C, D, G, C, G, C, D, G, C, G, C, D, ...       [G, C, D]   \n",
       "1  [Am, C, G, Am, G, Am, Am, C, G, Am, G, Am, Am,...      [Am, C, G]   \n",
       "2  [Em, G, D, Em, D, Em, Em, G, D, Em, Em, G, D, ...      [Em, G, D]   \n",
       "3  [Dm, F, C, Dm, C, Dm, F, C, Dm, C, Dm, Dm, F, ...      [Dm, F, C]   \n",
       "4  [Am, Am, C, G, Am, G, Am, Am, C, G, Am, G, Em,...  [Am, C, G, Em]   \n",
       "\n",
       "                              song        artist            genre  \\\n",
       "0  Its All Wrong But Its All Right  Dolly Parton        [Country]   \n",
       "1                           Jolene  Dolly Parton  [Folk, Country]   \n",
       "2                           Jolene  Dolly Parton        [Country]   \n",
       "3                           Jolene  Dolly Parton  [Folk, Country]   \n",
       "4                           Jolene  Dolly Parton  [Folk, Country]   \n",
       "\n",
       "         decade    difficulty       tuning      capo  key other  \n",
       "0        [1970]           NaN          NaN       NaN  NaN   NaN  \n",
       "1  [1970, 1940]  intermediate  E A D G B E  4th fret  NaN   NaN  \n",
       "2        [1970]        novice  E A D G B E  4th fret  NaN   NaN  \n",
       "3        [1970]           NaN          NaN       NaN  NaN   NaN  \n",
       "4  [1970, 1940]        novice  E A D G B E  4th fret  C#m   NaN  "
      ]
     },
     "execution_count": 64,
     "metadata": {},
     "output_type": "execute_result"
    }
   ],
   "source": [
    "def cleanSongArtist(raw):\n",
    "#     takes in songArtist field and splits into Song and Artist columns seperately\n",
    "    song=np.NaN\n",
    "    artist=np.NaN\n",
    "    saList=raw.split(\" chords by \")\n",
    "    if len(saList)==2:       \n",
    "        song=saList[0]\n",
    "        artist=saList[1]\n",
    "    return pd.Series([song,artist])\n",
    "\n",
    "\n",
    "def stringToList(row):\n",
    "#     all lists were read into CSVS as strings. Use literal eval to convert back to list format\n",
    "    chordList=literal_eval(row['chordList'])\n",
    "    chordOrder=literal_eval(row['chordOrder'])\n",
    "    songInfo=literal_eval(row['topInfo'])\n",
    "    genre=literal_eval(row['new_x'])\n",
    "    decade=literal_eval(row['new_y'])\n",
    "    return pd.Series([chordList, chordOrder, genre, decade, songInfo])\n",
    "\n",
    "\n",
    "def cleanSongInfo(songInfo):\n",
    "#     break songInfo field into its parts\n",
    "    diff = np.NaN\n",
    "    tuning = np.NaN\n",
    "    capo = np.NaN\n",
    "    key = np.NaN\n",
    "    other = np.NaN\n",
    "# loop through since some values may be missing (i.e no capo listed). weird values stored in the \"other\" column\n",
    "    if type(songInfo)==int:\n",
    "        print(songInfo)\n",
    "    for i in songInfo:\n",
    "        infoList=i.split(': ')\n",
    "        if len(infoList)==2:\n",
    "            infoType=infoList[0]\n",
    "            value=infoList[1]\n",
    "            if infoType=='Difficulty':\n",
    "                diff=value\n",
    "            elif infoType=='Tuning':\n",
    "                tuning=value\n",
    "            elif infoType=='Capo':\n",
    "                capo=value\n",
    "            elif infoType=='Key':\n",
    "                key=value\n",
    "            else:\n",
    "                other=i\n",
    "        else:\n",
    "            other=i            \n",
    "    return pd.Series([diff, tuning, capo, key, other])\n",
    "\n",
    "# remove duplicate genre and decades from data\n",
    "def removeDuplicates(row):\n",
    "    decade=list(set(row['decade']))\n",
    "    genre=list(set(row['genre']))\n",
    "    return pd.Series([decade, genre])\n",
    "\n",
    "# def cleanUrl(rawUrl):\n",
    "#     urlList=rawUrl.split('/')\n",
    "#     urlShort=urlList[4:6]\n",
    "#     artistName=urlShort[0].replace('-',' ')\n",
    "#     songName=urlShort[1].split('-chords')[0].replace('-',' ')\n",
    "#     return pd.Series([artistName, songName])\n",
    "\n",
    "\n",
    "\n",
    "# df[['artistName', 'songName']]=df.url.apply(cleanUrl)\n",
    "df[['song','artist']]=df.songArtist.apply(cleanSongArtist)\n",
    "df[['chordList', 'chordOrder', 'genre', 'decade', 'songInfo']]=df.apply(stringToList, axis=1)\n",
    "df[['difficulty', 'tuning', 'capo', 'key','other']]=df.songInfo.apply(cleanSongInfo)\n",
    "df[['decade','genre']]=df.apply(removeDuplicates, axis=1)\n",
    "df.drop(['new_x', 'new_y', 'songInfo', 'topInfo', 'songArtist'], axis=1, inplace=True)\n",
    "df.rename(columns={'chordList':'uniqueChords'},inplace=True)\n",
    "\n",
    "\n",
    "df.head()   \n"
   ]
  },
  {
   "cell_type": "markdown",
   "metadata": {},
   "source": [
    "# EDA\n",
    "\n",
    "Let's now do some exploratory analysis of our data, we could have to clean up some more as we expose more issues. To keep this somewhat systematic, lets step through each field one by one and answer some questions about each."
   ]
  },
  {
   "cell_type": "markdown",
   "metadata": {},
   "source": [
    "### Decades\n",
    "\n",
    "We'll start with this field. Lets see the breakdown of how much of our data is from each decade. From the start, it seems a bit weird that we have tabs with multiple decades...that could be something to look into here as well."
   ]
  },
  {
   "cell_type": "code",
   "execution_count": 65,
   "metadata": {},
   "outputs": [
    {
     "data": {
      "text/plain": [
       "<matplotlib.axes._subplots.AxesSubplot at 0x1184ef198>"
      ]
     },
     "execution_count": 65,
     "metadata": {},
     "output_type": "execute_result"
    },
    {
     "data": {
      "image/png": "[encoded data removed]",
      "text/plain": [
       "<Figure size 432x288 with 1 Axes>"
      ]
     },
     "metadata": {
      "needs_background": "light"
     },
     "output_type": "display_data"
    }
   ],
   "source": [
    "pd.Series(df.decade.sum()).value_counts().plot(kind=\"bar\")"
   ]
  },
  {
   "cell_type": "markdown",
   "metadata": {},
   "source": [
    "Wow, lots of 1940's....seems a bit off. After a quick check on the ultimate guitar website I realized that there are no 1940's chords at all. So there was a bug in my web scraper that was adding in that date as a filter. I should have only been going back to 1950. \n",
    "\n",
    "This might explain why there are multiple decades for some songs. A song can only be from one decade. Lets see if all of these multi-decade songs have a 1940 in them."
   ]
  },
  {
   "cell_type": "code",
   "execution_count": 66,
   "metadata": {},
   "outputs": [
    {
     "name": "stdout",
     "output_type": "stream",
     "text": [
      "Entries with multiple decade values:  36528\n",
      "Multiple decade values that contain 1940:  36528\n",
      "Maximum length of duplicate values:  2\n"
     ]
    }
   ],
   "source": [
    "a=df[df['decade'].map(len)>1]\n",
    "print('Entries with multiple decade values: ', a.size)\n",
    "mask = a.decade.apply(lambda x: 1940 in x)\n",
    "print('Multiple decade values that contain 1940: ', a[mask].size)\n",
    "newCol=a['decade'].map(len)\n",
    "print('Maximum length of duplicate values: ', max(newCol))"
   ]
  },
  {
   "cell_type": "markdown",
   "metadata": {},
   "source": [
    "Awesome news...all of these entries that have multiple decade values have 2 decades in their list, and one of those decades is a 1940. Also, when I check out those filters on ultimate guitar, it seems all of the rest of the info is correct...so all I need to do is remove the \"1940\" decade tag from them and the rest of the data is still good values. We shouldn't have any more duplicate decades after that."
   ]
  },
  {
   "cell_type": "code",
   "execution_count": 67,
   "metadata": {},
   "outputs": [
    {
     "data": {
      "text/plain": [
       "<matplotlib.axes._subplots.AxesSubplot at 0x123b8a320>"
      ]
     },
     "execution_count": 67,
     "metadata": {},
     "output_type": "execute_result"
    },
    {
     "data": {
      "image/png": "[encoded data removed]",
      "text/plain": [
       "<Figure size 432x288 with 1 Axes>"
      ]
     },
     "metadata": {
      "needs_background": "light"
     },
     "output_type": "display_data"
    }
   ],
   "source": [
    "# remove 1940s from data. found during initial data analysis that these values were brought in incorrectly...no 1940 data online. when scraping for 1940 it just removes that filter but keeps the other (genre)\n",
    "def removeFourtys(decades):\n",
    "    newList=[]\n",
    "    for dec in decades:\n",
    "        if dec!=1940:\n",
    "            newList.append(dec)\n",
    "    if len(newList)>0:\n",
    "        return str(max(newList))\n",
    "    else:\n",
    "        return np.NaN\n",
    "\n",
    "df['decade']=df.decade.apply(removeFourtys)\n",
    "df.fillna('Missing').decade.value_counts().plot(kind='bar')\n"
   ]
  },
  {
   "cell_type": "markdown",
   "metadata": {},
   "source": [
    "Much better...After removing 1940 as a possible decade, we see that most of our tabs are from recent decades. The amount of tabs decreases as we go further back in time. There are a couple of tabs now missing decades since all they had were \"1940\". We can either clean those up by hand or just remove them...\n",
    "\n",
    "(PS I've also gone ahead and fixed that bug in my scraper in case any one else wants to use it!) "
   ]
  },
  {
   "cell_type": "code",
   "execution_count": 68,
   "metadata": {},
   "outputs": [
    {
     "data": {
      "text/html": [
       "<div>\n",
       "<style scoped>\n",
       "    .dataframe tbody tr th:only-of-type {\n",
       "        vertical-align: middle;\n",
       "    }\n",
       "\n",
       "    .dataframe tbody tr th {\n",
       "        vertical-align: top;\n",
       "    }\n",
       "\n",
       "    .dataframe thead th {\n",
       "        text-align: right;\n",
       "    }\n",
       "</style>\n",
       "<table border=\"1\" class=\"dataframe\">\n",
       "  <thead>\n",
       "    <tr style=\"text-align: right;\">\n",
       "      <th></th>\n",
       "      <th>url</th>\n",
       "      <th>chordOrder</th>\n",
       "      <th>uniqueChords</th>\n",
       "      <th>song</th>\n",
       "      <th>artist</th>\n",
       "      <th>genre</th>\n",
       "      <th>decade</th>\n",
       "      <th>difficulty</th>\n",
       "      <th>tuning</th>\n",
       "      <th>capo</th>\n",
       "      <th>key</th>\n",
       "      <th>other</th>\n",
       "    </tr>\n",
       "  </thead>\n",
       "  <tbody>\n",
       "    <tr>\n",
       "      <th>24</th>\n",
       "      <td>https://tabs.ultimate-guitar.com/tab/dolly-par...</td>\n",
       "      <td>[E, A, A/G#, A/F#, A, A/G#, A/F#, A, B, E, B, ...</td>\n",
       "      <td>[E, A, A/G#, A/F#, B, C#m, B/A, B/G, B/F#, D, ...</td>\n",
       "      <td>Whyd You Come In Here Lookin Like That</td>\n",
       "      <td>Dolly Parton</td>\n",
       "      <td>[Country]</td>\n",
       "      <td>NaN</td>\n",
       "      <td>intermediate</td>\n",
       "      <td>E A D G B E</td>\n",
       "      <td>NaN</td>\n",
       "      <td>E</td>\n",
       "      <td>NaN</td>\n",
       "    </tr>\n",
       "    <tr>\n",
       "      <th>26</th>\n",
       "      <td>https://tabs.ultimate-guitar.com/tab/dolly-par...</td>\n",
       "      <td>[G, C, G, D7, G, C, G, D7, G, C, G, C, G, D7, ...</td>\n",
       "      <td>[G, C, D7]</td>\n",
       "      <td>Wildflowers</td>\n",
       "      <td>Dolly Parton</td>\n",
       "      <td>[Country]</td>\n",
       "      <td>NaN</td>\n",
       "      <td>novice</td>\n",
       "      <td>E A D G B E</td>\n",
       "      <td>3rd fret</td>\n",
       "      <td>NaN</td>\n",
       "      <td>NaN</td>\n",
       "    </tr>\n",
       "    <tr>\n",
       "      <th>129</th>\n",
       "      <td>https://tabs.ultimate-guitar.com/tab/don-willi...</td>\n",
       "      <td>[D, D, A, G, A, D, D, A, G, A, D, Bm, F#m, G, ...</td>\n",
       "      <td>[D, A, G, Bm, F#m, Em]</td>\n",
       "      <td>Lord I Hope This Day Is Good</td>\n",
       "      <td>Don Williams</td>\n",
       "      <td>[Country]</td>\n",
       "      <td>NaN</td>\n",
       "      <td>NaN</td>\n",
       "      <td>NaN</td>\n",
       "      <td>NaN</td>\n",
       "      <td>NaN</td>\n",
       "      <td>NaN</td>\n",
       "    </tr>\n",
       "    <tr>\n",
       "      <th>583</th>\n",
       "      <td>https://tabs.ultimate-guitar.com/tab/dwight-yo...</td>\n",
       "      <td>[A, E, B, E, A, E, B, E, E, A, E, B, E, A, E, ...</td>\n",
       "      <td>[A, E, B]</td>\n",
       "      <td>Buenas Noches From A Lonely Room She Wore Red ...</td>\n",
       "      <td>Dwight Yoakam</td>\n",
       "      <td>[Country]</td>\n",
       "      <td>NaN</td>\n",
       "      <td>intermediate</td>\n",
       "      <td>NaN</td>\n",
       "      <td>NaN</td>\n",
       "      <td>NaN</td>\n",
       "      <td>NaN</td>\n",
       "    </tr>\n",
       "    <tr>\n",
       "      <th>734</th>\n",
       "      <td>https://tabs.ultimate-guitar.com/tab/ed-sheera...</td>\n",
       "      <td>[C, Am, Fmaj7, G, C, Am, Fmaj7, G, C, Am, Fmaj...</td>\n",
       "      <td>[C, Am, Fmaj7, G, F, G/B]</td>\n",
       "      <td>Perfect</td>\n",
       "      <td>Ed Sheeran</td>\n",
       "      <td>[Folk]</td>\n",
       "      <td>NaN</td>\n",
       "      <td>novice</td>\n",
       "      <td>E A D G B E</td>\n",
       "      <td>2nd fret</td>\n",
       "      <td>NaN</td>\n",
       "      <td>Improvised INTRO riff included and chords adju...</td>\n",
       "    </tr>\n",
       "    <tr>\n",
       "      <th>762</th>\n",
       "      <td>https://tabs.ultimate-guitar.com/tab/ed-sheera...</td>\n",
       "      <td>[G, D/F#, Em, C, G, G, D/F#, Em, C, G, G, D, E...</td>\n",
       "      <td>[G, D/F#, Em, C, D, Am, Cadd9]</td>\n",
       "      <td>The A Team</td>\n",
       "      <td>Ed Sheeran</td>\n",
       "      <td>[Folk]</td>\n",
       "      <td>NaN</td>\n",
       "      <td>NaN</td>\n",
       "      <td>E A D G B E</td>\n",
       "      <td>2nd fret</td>\n",
       "      <td>A</td>\n",
       "      <td>NaN</td>\n",
       "    </tr>\n",
       "    <tr>\n",
       "      <th>1442</th>\n",
       "      <td>https://tabs.ultimate-guitar.com/tab/a-day-to-...</td>\n",
       "      <td>[Em, G, D, Em, G, D, Em, G, D, Em, G, D, C, D,...</td>\n",
       "      <td>[Em, G, D, C]</td>\n",
       "      <td>If It Means A Lot To You</td>\n",
       "      <td>A Day to Remember</td>\n",
       "      <td>[Rock]</td>\n",
       "      <td>NaN</td>\n",
       "      <td>novice</td>\n",
       "      <td>E A D G B E</td>\n",
       "      <td>3rd fret</td>\n",
       "      <td>NaN</td>\n",
       "      <td>NaN</td>\n",
       "    </tr>\n",
       "    <tr>\n",
       "      <th>2101</th>\n",
       "      <td>https://tabs.ultimate-guitar.com/tab/alan-jack...</td>\n",
       "      <td>[G, G, C, D, C, D, G, C, D, C, G, D, G, C, G, ...</td>\n",
       "      <td>[G, C, D, Bm, Em, A, E, C#m, F#m, B]</td>\n",
       "      <td>Chasin That Neon Rainbow</td>\n",
       "      <td>Alan Jackson</td>\n",
       "      <td>[Country]</td>\n",
       "      <td>NaN</td>\n",
       "      <td>novice</td>\n",
       "      <td>E A D G B E</td>\n",
       "      <td>NaN</td>\n",
       "      <td>NaN</td>\n",
       "      <td>NaN</td>\n",
       "    </tr>\n",
       "    <tr>\n",
       "      <th>2461</th>\n",
       "      <td>https://tabs.ultimate-guitar.com/tab/alicia-ke...</td>\n",
       "      <td>[Am, E, G, D, F, C, C, G, Am, F, C, G, C, G, A...</td>\n",
       "      <td>[Am, E, G, D, F, C, Fm]</td>\n",
       "      <td>Superwoman</td>\n",
       "      <td>Alicia Keys</td>\n",
       "      <td>[Contemporary R&amp;B]</td>\n",
       "      <td>NaN</td>\n",
       "      <td>NaN</td>\n",
       "      <td>NaN</td>\n",
       "      <td>NaN</td>\n",
       "      <td>NaN</td>\n",
       "      <td>NaN</td>\n",
       "    </tr>\n",
       "    <tr>\n",
       "      <th>2621</th>\n",
       "      <td>https://tabs.ultimate-guitar.com/tab/alter-bri...</td>\n",
       "      <td>[G, C, Cadd9, G, C, Cadd9, G, C, Cadd9, G, C, ...</td>\n",
       "      <td>[G, C, Cadd9, G/Gb, Em7, D, Dsus4, Em]</td>\n",
       "      <td>Watch Over You</td>\n",
       "      <td>Alter Bridge</td>\n",
       "      <td>[Rock]</td>\n",
       "      <td>NaN</td>\n",
       "      <td>NaN</td>\n",
       "      <td>E A D G B E</td>\n",
       "      <td>NaN</td>\n",
       "      <td>NaN</td>\n",
       "      <td>NaN</td>\n",
       "    </tr>\n",
       "    <tr>\n",
       "      <th>3359</th>\n",
       "      <td>https://tabs.ultimate-guitar.com/tab/aurora/ru...</td>\n",
       "      <td>[Em, D, C, G, Am, Cmaj7, Em, D, Em, D, Em, D, ...</td>\n",
       "      <td>[Em, D, C, G, Am, Cmaj7]</td>\n",
       "      <td>Runaway</td>\n",
       "      <td>AURORA</td>\n",
       "      <td>[Pop]</td>\n",
       "      <td>NaN</td>\n",
       "      <td>novice</td>\n",
       "      <td>E A D G B E</td>\n",
       "      <td>4th fret</td>\n",
       "      <td>NaN</td>\n",
       "      <td>NaN</td>\n",
       "    </tr>\n",
       "    <tr>\n",
       "      <th>5604</th>\n",
       "      <td>https://tabs.ultimate-guitar.com/tab/boyz-ii-m...</td>\n",
       "      <td>[Eb, Gm7/C, Cm7, Ab, Bb/G, Ab/F, Ab/Bb, Eb, Gm...</td>\n",
       "      <td>[Eb, Gm7/C, Cm7, Ab, Bb/G, Ab/F, Ab/Bb, Cm, G+...</td>\n",
       "      <td>End Of The Road</td>\n",
       "      <td>Boyz II Men</td>\n",
       "      <td>[Contemporary R&amp;B]</td>\n",
       "      <td>NaN</td>\n",
       "      <td>novice</td>\n",
       "      <td>NaN</td>\n",
       "      <td>NaN</td>\n",
       "      <td>NaN</td>\n",
       "      <td>NaN</td>\n",
       "    </tr>\n",
       "    <tr>\n",
       "      <th>8833</th>\n",
       "      <td>https://tabs.ultimate-guitar.com/tab/david-all...</td>\n",
       "      <td>[G, D, A, G, D, A, A, C, C, D, D, A, A, C, D, ...</td>\n",
       "      <td>[G, D, A, C, E]</td>\n",
       "      <td>The Ride</td>\n",
       "      <td>David Allan Coe</td>\n",
       "      <td>[Country]</td>\n",
       "      <td>NaN</td>\n",
       "      <td>novice</td>\n",
       "      <td>E A D G B E</td>\n",
       "      <td>3rd fret</td>\n",
       "      <td>NaN</td>\n",
       "      <td>NaN</td>\n",
       "    </tr>\n",
       "    <tr>\n",
       "      <th>9290</th>\n",
       "      <td>https://tabs.ultimate-guitar.com/tab/demi-lova...</td>\n",
       "      <td>[G, C, Em, D, G, C, Em, D, G, C, Em, D, Em, C,...</td>\n",
       "      <td>[G, C, Em, D, Am]</td>\n",
       "      <td>Skyscraper</td>\n",
       "      <td>Demi Lovato</td>\n",
       "      <td>[Pop]</td>\n",
       "      <td>NaN</td>\n",
       "      <td>novice</td>\n",
       "      <td>E A D G B E</td>\n",
       "      <td>NaN</td>\n",
       "      <td>NaN</td>\n",
       "      <td>NaN</td>\n",
       "    </tr>\n",
       "  </tbody>\n",
       "</table>\n",
       "</div>"
      ],
      "text/plain": [
       "                                                    url  \\\n",
       "24    https://tabs.ultimate-guitar.com/tab/dolly-par...   \n",
       "26    https://tabs.ultimate-guitar.com/tab/dolly-par...   \n",
       "129   https://tabs.ultimate-guitar.com/tab/don-willi...   \n",
       "583   https://tabs.ultimate-guitar.com/tab/dwight-yo...   \n",
       "734   https://tabs.ultimate-guitar.com/tab/ed-sheera...   \n",
       "762   https://tabs.ultimate-guitar.com/tab/ed-sheera...   \n",
       "1442  https://tabs.ultimate-guitar.com/tab/a-day-to-...   \n",
       "2101  https://tabs.ultimate-guitar.com/tab/alan-jack...   \n",
       "2461  https://tabs.ultimate-guitar.com/tab/alicia-ke...   \n",
       "2621  https://tabs.ultimate-guitar.com/tab/alter-bri...   \n",
       "3359  https://tabs.ultimate-guitar.com/tab/aurora/ru...   \n",
       "5604  https://tabs.ultimate-guitar.com/tab/boyz-ii-m...   \n",
       "8833  https://tabs.ultimate-guitar.com/tab/david-all...   \n",
       "9290  https://tabs.ultimate-guitar.com/tab/demi-lova...   \n",
       "\n",
       "                                             chordOrder  \\\n",
       "24    [E, A, A/G#, A/F#, A, A/G#, A/F#, A, B, E, B, ...   \n",
       "26    [G, C, G, D7, G, C, G, D7, G, C, G, C, G, D7, ...   \n",
       "129   [D, D, A, G, A, D, D, A, G, A, D, Bm, F#m, G, ...   \n",
       "583   [A, E, B, E, A, E, B, E, E, A, E, B, E, A, E, ...   \n",
       "734   [C, Am, Fmaj7, G, C, Am, Fmaj7, G, C, Am, Fmaj...   \n",
       "762   [G, D/F#, Em, C, G, G, D/F#, Em, C, G, G, D, E...   \n",
       "1442  [Em, G, D, Em, G, D, Em, G, D, Em, G, D, C, D,...   \n",
       "2101  [G, G, C, D, C, D, G, C, D, C, G, D, G, C, G, ...   \n",
       "2461  [Am, E, G, D, F, C, C, G, Am, F, C, G, C, G, A...   \n",
       "2621  [G, C, Cadd9, G, C, Cadd9, G, C, Cadd9, G, C, ...   \n",
       "3359  [Em, D, C, G, Am, Cmaj7, Em, D, Em, D, Em, D, ...   \n",
       "5604  [Eb, Gm7/C, Cm7, Ab, Bb/G, Ab/F, Ab/Bb, Eb, Gm...   \n",
       "8833  [G, D, A, G, D, A, A, C, C, D, D, A, A, C, D, ...   \n",
       "9290  [G, C, Em, D, G, C, Em, D, G, C, Em, D, Em, C,...   \n",
       "\n",
       "                                           uniqueChords  \\\n",
       "24    [E, A, A/G#, A/F#, B, C#m, B/A, B/G, B/F#, D, ...   \n",
       "26                                           [G, C, D7]   \n",
       "129                              [D, A, G, Bm, F#m, Em]   \n",
       "583                                           [A, E, B]   \n",
       "734                           [C, Am, Fmaj7, G, F, G/B]   \n",
       "762                      [G, D/F#, Em, C, D, Am, Cadd9]   \n",
       "1442                                      [Em, G, D, C]   \n",
       "2101               [G, C, D, Bm, Em, A, E, C#m, F#m, B]   \n",
       "2461                            [Am, E, G, D, F, C, Fm]   \n",
       "2621             [G, C, Cadd9, G/Gb, Em7, D, Dsus4, Em]   \n",
       "3359                           [Em, D, C, G, Am, Cmaj7]   \n",
       "5604  [Eb, Gm7/C, Cm7, Ab, Bb/G, Ab/F, Ab/Bb, Cm, G+...   \n",
       "8833                                    [G, D, A, C, E]   \n",
       "9290                                  [G, C, Em, D, Am]   \n",
       "\n",
       "                                                   song             artist  \\\n",
       "24               Whyd You Come In Here Lookin Like That       Dolly Parton   \n",
       "26                                          Wildflowers       Dolly Parton   \n",
       "129                        Lord I Hope This Day Is Good       Don Williams   \n",
       "583   Buenas Noches From A Lonely Room She Wore Red ...      Dwight Yoakam   \n",
       "734                                             Perfect         Ed Sheeran   \n",
       "762                                          The A Team         Ed Sheeran   \n",
       "1442                           If It Means A Lot To You  A Day to Remember   \n",
       "2101                           Chasin That Neon Rainbow       Alan Jackson   \n",
       "2461                                         Superwoman        Alicia Keys   \n",
       "2621                                     Watch Over You       Alter Bridge   \n",
       "3359                                            Runaway             AURORA   \n",
       "5604                                    End Of The Road        Boyz II Men   \n",
       "8833                                           The Ride    David Allan Coe   \n",
       "9290                                         Skyscraper        Demi Lovato   \n",
       "\n",
       "                   genre decade    difficulty       tuning      capo  key  \\\n",
       "24             [Country]    NaN  intermediate  E A D G B E       NaN    E   \n",
       "26             [Country]    NaN        novice  E A D G B E  3rd fret  NaN   \n",
       "129            [Country]    NaN           NaN          NaN       NaN  NaN   \n",
       "583            [Country]    NaN  intermediate          NaN       NaN  NaN   \n",
       "734               [Folk]    NaN        novice  E A D G B E  2nd fret  NaN   \n",
       "762               [Folk]    NaN           NaN  E A D G B E  2nd fret    A   \n",
       "1442              [Rock]    NaN        novice  E A D G B E  3rd fret  NaN   \n",
       "2101           [Country]    NaN        novice  E A D G B E       NaN  NaN   \n",
       "2461  [Contemporary R&B]    NaN           NaN          NaN       NaN  NaN   \n",
       "2621              [Rock]    NaN           NaN  E A D G B E       NaN  NaN   \n",
       "3359               [Pop]    NaN        novice  E A D G B E  4th fret  NaN   \n",
       "5604  [Contemporary R&B]    NaN        novice          NaN       NaN  NaN   \n",
       "8833           [Country]    NaN        novice  E A D G B E  3rd fret  NaN   \n",
       "9290               [Pop]    NaN        novice  E A D G B E       NaN  NaN   \n",
       "\n",
       "                                                  other  \n",
       "24                                                  NaN  \n",
       "26                                                  NaN  \n",
       "129                                                 NaN  \n",
       "583                                                 NaN  \n",
       "734   Improvised INTRO riff included and chords adju...  \n",
       "762                                                 NaN  \n",
       "1442                                                NaN  \n",
       "2101                                                NaN  \n",
       "2461                                                NaN  \n",
       "2621                                                NaN  \n",
       "3359                                                NaN  \n",
       "5604                                                NaN  \n",
       "8833                                                NaN  \n",
       "9290                                                NaN  "
      ]
     },
     "execution_count": 68,
     "metadata": {},
     "output_type": "execute_result"
    }
   ],
   "source": [
    "# df[df['decade'].isnull()]"
   ]
  },
  {
   "cell_type": "markdown",
   "metadata": {},
   "source": [
    "### Genres"
   ]
  },
  {
   "cell_type": "code",
   "execution_count": 69,
   "metadata": {},
   "outputs": [
    {
     "data": {
      "text/plain": [
       "<matplotlib.axes._subplots.AxesSubplot at 0x1235c6fd0>"
      ]
     },
     "execution_count": 69,
     "metadata": {},
     "output_type": "execute_result"
    },
    {
     "data": {
      "image/png": "[encoded data removed]",
      "text/plain": [
       "<Figure size 432x288 with 1 Axes>"
      ]
     },
     "metadata": {
      "needs_background": "light"
     },
     "output_type": "display_data"
    }
   ],
   "source": [
    "pd.Series(df.genre.sum()).value_counts().plot(kind=\"bar\")"
   ]
  },
  {
   "cell_type": "markdown",
   "metadata": {},
   "source": [
    "Similar to decades, a song potentially has multiple genres. However, unlike decades, having multiple genres is definitely possible. "
   ]
  },
  {
   "cell_type": "code",
   "execution_count": 70,
   "metadata": {},
   "outputs": [
    {
     "name": "stdout",
     "output_type": "stream",
     "text": [
      "Entries with multiple genre values:  18636\n"
     ]
    },
    {
     "data": {
      "text/plain": [
       "Text(0, 0.5, 'Count')"
      ]
     },
     "execution_count": 70,
     "metadata": {},
     "output_type": "execute_result"
    },
    {
     "data": {
      "image/png": "[encoded data removed]",
      "text/plain": [
       "<Figure size 432x288 with 1 Axes>"
      ]
     },
     "metadata": {
      "needs_background": "light"
     },
     "output_type": "display_data"
    }
   ],
   "source": [
    "a=df[df['genre'].map(len)>1]\n",
    "print('Entries with multiple genre values: ', a.size)\n",
    "# newCol=a['genre'].map(len)\n",
    "# print('Maximum length of duplicate values: ', max(newCol))\n",
    "ax =df['genre'].map(len).value_counts().plot(kind='bar', title='Number of Genres a Song Has')\n",
    "ax.set_xlabel(\"Genres\")\n",
    "ax.set_ylabel(\"Count\")"
   ]
  },
  {
   "cell_type": "markdown",
   "metadata": {},
   "source": [
    "I actually don't think we want to remove the multiple tags from the genres. It could be interesting to explore songs that cross genres, how they are related, etc...\n",
    "\n",
    "Another thing I'm interested to see is how our decades and genres are related. I would assume that most of our Pop songs are from 2000's on, and Jazz would be earlier on. Lets try to graph this breakdown. It will be a good excercise in playing with pandas group by's as well"
   ]
  },
  {
   "cell_type": "code",
   "execution_count": 71,
   "metadata": {},
   "outputs": [
    {
     "data": {
      "text/plain": [
       "<matplotlib.axes._subplots.AxesSubplot at 0x123b16fd0>"
      ]
     },
     "execution_count": 71,
     "metadata": {},
     "output_type": "execute_result"
    },
    {
     "data": {
      "image/png": "[encoded data removed]",
      "text/plain": [
       "<Figure size 432x288 with 1 Axes>"
      ]
     },
     "metadata": {
      "needs_background": "light"
     },
     "output_type": "display_data"
    }
   ],
   "source": [
    "groups=df.groupby('decade')['genre'].apply(lambda x: list(x)).apply(lambda x: [item for sublist in x for item in sublist]).apply(lambda x: pd.Series(x).value_counts())\n",
    "# pd.Series(groups[1950]).value_counts().transpose().plot(kind=\"bar\")\n",
    "\n",
    "groups[['Pop','Folk','Rock','Rhythm And Blues','Country','Metal']].plot(kind='bar', stacked=True)\n",
    "# groups.Pop.plot(kind='bar', title='pop')\n",
    "\n",
    "# df.genre.value_counts().sort_values()"
   ]
  },
  {
   "cell_type": "code",
   "execution_count": 72,
   "metadata": {},
   "outputs": [],
   "source": [
    "# (df[df['decade']=='1970'])[df.genre.apply(lambda x: 'Pop' in x)]"
   ]
  },
  {
   "cell_type": "markdown",
   "metadata": {},
   "source": [
    "### Songs and Artists"
   ]
  },
  {
   "cell_type": "markdown",
   "metadata": {},
   "source": [
    "Lets take a look at our artists first. I wonder how many diferent artists we have in this dataset?"
   ]
  },
  {
   "cell_type": "code",
   "execution_count": 73,
   "metadata": {},
   "outputs": [
    {
     "name": "stdout",
     "output_type": "stream",
     "text": [
      "Unique artists in data set:  872\n"
     ]
    }
   ],
   "source": [
    "print(\"Unique artists in data set: \", df.artist.nunique())"
   ]
  },
  {
   "cell_type": "markdown",
   "metadata": {},
   "source": [
    "Interesting, so we only have 630 unique artist, but we have over 7000 tabs. That means we have multiple songs per artist. Lets see which artists have the most songs in our dataset"
   ]
  },
  {
   "cell_type": "code",
   "execution_count": 74,
   "metadata": {},
   "outputs": [
    {
     "data": {
      "text/plain": [
       "<matplotlib.axes._subplots.AxesSubplot at 0x1236384a8>"
      ]
     },
     "execution_count": 74,
     "metadata": {},
     "output_type": "execute_result"
    },
    {
     "data": {
      "image/png": "[encoded data removed]",
      "text/plain": [
       "<Figure size 432x288 with 1 Axes>"
      ]
     },
     "metadata": {
      "needs_background": "light"
     },
     "output_type": "display_data"
    }
   ],
   "source": [
    "df.artist.value_counts().head(10).plot(kind='bar', title='Tabs per artist')"
   ]
  },
  {
   "cell_type": "code",
   "execution_count": 75,
   "metadata": {},
   "outputs": [
    {
     "data": {
      "text/plain": [
       "Text(0.5, 0, 'Tab Count')"
      ]
     },
     "execution_count": 75,
     "metadata": {},
     "output_type": "execute_result"
    },
    {
     "data": {
      "image/png": "[encoded data removed]",
      "text/plain": [
       "<Figure size 432x288 with 1 Axes>"
      ]
     },
     "metadata": {
      "needs_background": "light"
     },
     "output_type": "display_data"
    }
   ],
   "source": [
    "# df.artist.value_counts().plot(kind='hist', bins=25,title='Tabs per artist', edgecolor='k')\n",
    "ax = sns.distplot(df.artist.value_counts(),bins=25 ,hist=True, color='b',hist_kws=dict(edgecolor=\"k\", linewidth=2))\n",
    "plt.title('Distribution of Tab Count Per Artist') \n",
    "plt.ylabel('Frequency')\n",
    "plt.xlabel('Tab Count')"
   ]
  },
  {
   "cell_type": "markdown",
   "metadata": {},
   "source": [
    "Lets look at the top artist from this group, Bob Dylan, to get an idea of what a breakdown of all his songs are"
   ]
  },
  {
   "cell_type": "code",
   "execution_count": 78,
   "metadata": {},
   "outputs": [],
   "source": [
    "dylan=df[df['artist']==\"Bob Dylan\"]"
   ]
  },
  {
   "cell_type": "code",
   "execution_count": 97,
   "metadata": {},
   "outputs": [],
   "source": [
    "dylanSongs=dylan.groupby('song').size().sort_values(ascending=False)"
   ]
  },
  {
   "cell_type": "code",
   "execution_count": 104,
   "metadata": {},
   "outputs": [
    {
     "name": "stdout",
     "output_type": "stream",
     "text": [
      "number of bob dylan songs with tabs:  152\n",
      "number of bob dylan songs with multiple versions:  80\n"
     ]
    }
   ],
   "source": [
    "print(\"number of bob dylan songs with tabs: \", len(dylanSongs))\n",
    "print(\"number of bob dylan songs with multiple versions: \",len(dylanSongs[dylanSongs>1]) )"
   ]
  },
  {
   "cell_type": "code",
   "execution_count": 106,
   "metadata": {},
   "outputs": [
    {
     "data": {
      "text/plain": [
       "<matplotlib.axes._subplots.AxesSubplot at 0x12193eda0>"
      ]
     },
     "execution_count": 106,
     "metadata": {},
     "output_type": "execute_result"
    },
    {
     "data": {
      "image/png": "[encoded data removed]",
      "text/plain": [
       "<Figure size 432x288 with 1 Axes>"
      ]
     },
     "metadata": {
      "needs_background": "light"
     },
     "output_type": "display_data"
    }
   ],
   "source": [
    "dylanSongs.head(20).plot(kind='bar')"
   ]
  },
  {
   "cell_type": "markdown",
   "metadata": {},
   "source": [
    "lets look specifically into Blowing in the Wind to see what the differences are"
   ]
  },
  {
   "cell_type": "code",
   "execution_count": 111,
   "metadata": {},
   "outputs": [
    {
     "data": {
      "text/html": [
       "<div>\n",
       "<style scoped>\n",
       "    .dataframe tbody tr th:only-of-type {\n",
       "        vertical-align: middle;\n",
       "    }\n",
       "\n",
       "    .dataframe tbody tr th {\n",
       "        vertical-align: top;\n",
       "    }\n",
       "\n",
       "    .dataframe thead th {\n",
       "        text-align: right;\n",
       "    }\n",
       "</style>\n",
       "<table border=\"1\" class=\"dataframe\">\n",
       "  <thead>\n",
       "    <tr style=\"text-align: right;\">\n",
       "      <th></th>\n",
       "      <th>url</th>\n",
       "      <th>chordOrder</th>\n",
       "      <th>uniqueChords</th>\n",
       "      <th>song</th>\n",
       "      <th>artist</th>\n",
       "      <th>genre</th>\n",
       "      <th>decade</th>\n",
       "      <th>difficulty</th>\n",
       "      <th>tuning</th>\n",
       "      <th>capo</th>\n",
       "      <th>key</th>\n",
       "      <th>other</th>\n",
       "    </tr>\n",
       "  </thead>\n",
       "  <tbody>\n",
       "    <tr>\n",
       "      <th>4996</th>\n",
       "      <td>https://tabs.ultimate-guitar.com/tab/bob-dylan...</td>\n",
       "      <td>[D, D, G, D, G, D, D, G, D, G, A, D, G, D, G, ...</td>\n",
       "      <td>[D, G, A, Bm]</td>\n",
       "      <td>Blowin In The Wind</td>\n",
       "      <td>Bob Dylan</td>\n",
       "      <td>[Folk, Rock]</td>\n",
       "      <td>1960</td>\n",
       "      <td>novice</td>\n",
       "      <td>NaN</td>\n",
       "      <td>NaN</td>\n",
       "      <td>D</td>\n",
       "      <td>NaN</td>\n",
       "    </tr>\n",
       "    <tr>\n",
       "      <th>4997</th>\n",
       "      <td>https://tabs.ultimate-guitar.com/tab/bob-dylan...</td>\n",
       "      <td>[C, F, C, Am, C, F, G, G7, C, F, C, Am, C, F, ...</td>\n",
       "      <td>[C, F, Am, G, G7, E7]</td>\n",
       "      <td>Blowin In The Wind</td>\n",
       "      <td>Bob Dylan</td>\n",
       "      <td>[Folk, Rock]</td>\n",
       "      <td>1960</td>\n",
       "      <td>NaN</td>\n",
       "      <td>E A D G B E</td>\n",
       "      <td>NaN</td>\n",
       "      <td>NaN</td>\n",
       "      <td>NaN</td>\n",
       "    </tr>\n",
       "    <tr>\n",
       "      <th>4998</th>\n",
       "      <td>https://tabs.ultimate-guitar.com/tab/bob-dylan...</td>\n",
       "      <td>[G, C, D, G, C, G, G, C, D, G, C, D, G, C, D, ...</td>\n",
       "      <td>[G, C, D]</td>\n",
       "      <td>Blowin In The Wind</td>\n",
       "      <td>Bob Dylan</td>\n",
       "      <td>[Folk, Rock]</td>\n",
       "      <td>1960</td>\n",
       "      <td>novice</td>\n",
       "      <td>E A D G B E</td>\n",
       "      <td>7th fret</td>\n",
       "      <td>D</td>\n",
       "      <td>NaN</td>\n",
       "    </tr>\n",
       "    <tr>\n",
       "      <th>4999</th>\n",
       "      <td>https://tabs.ultimate-guitar.com/tab/bob-dylan...</td>\n",
       "      <td>[C, D, G, C, D, G, G, C, D, G, C, D, G, C, D, ...</td>\n",
       "      <td>[C, D, G]</td>\n",
       "      <td>Blowin In The Wind</td>\n",
       "      <td>Bob Dylan</td>\n",
       "      <td>[Folk, Rock]</td>\n",
       "      <td>1960</td>\n",
       "      <td>NaN</td>\n",
       "      <td>NaN</td>\n",
       "      <td>NaN</td>\n",
       "      <td>NaN</td>\n",
       "      <td>NaN</td>\n",
       "    </tr>\n",
       "    <tr>\n",
       "      <th>5000</th>\n",
       "      <td>https://tabs.ultimate-guitar.com/tab/bob-dylan...</td>\n",
       "      <td>[G, C, G, C, G, G, C, G, C, D, G, C, G, C, G, ...</td>\n",
       "      <td>[G, C, D, Em]</td>\n",
       "      <td>Blowin In The Wind</td>\n",
       "      <td>Bob Dylan</td>\n",
       "      <td>[Folk, Rock]</td>\n",
       "      <td>1960</td>\n",
       "      <td>novice</td>\n",
       "      <td>E A D G B E</td>\n",
       "      <td>6th fret</td>\n",
       "      <td>NaN</td>\n",
       "      <td>NaN</td>\n",
       "    </tr>\n",
       "    <tr>\n",
       "      <th>5001</th>\n",
       "      <td>https://tabs.ultimate-guitar.com/tab/bob-dylan...</td>\n",
       "      <td>[G, G, C, G/B, D/A, G, G, C, G/B, G, G, C, G/B...</td>\n",
       "      <td>[G, C, G/B, D/A, C/B, D/F#, C/G, D]</td>\n",
       "      <td>Blowin In The Wind</td>\n",
       "      <td>Bob Dylan</td>\n",
       "      <td>[Folk]</td>\n",
       "      <td>1960</td>\n",
       "      <td>intermediate</td>\n",
       "      <td>E A D G B E</td>\n",
       "      <td>7th fret</td>\n",
       "      <td>D</td>\n",
       "      <td>Chords for the classic acoustic version from \"...</td>\n",
       "    </tr>\n",
       "    <tr>\n",
       "      <th>5002</th>\n",
       "      <td>https://tabs.ultimate-guitar.com/tab/bob-dylan...</td>\n",
       "      <td>[D, D, G, A, D, G, D, G, A, D, G, A, D, G, A, ...</td>\n",
       "      <td>[D, G, A, Bm]</td>\n",
       "      <td>Blowin In The Wind</td>\n",
       "      <td>Bob Dylan</td>\n",
       "      <td>[Folk]</td>\n",
       "      <td>1960</td>\n",
       "      <td>NaN</td>\n",
       "      <td>E A D G B E</td>\n",
       "      <td>NaN</td>\n",
       "      <td>NaN</td>\n",
       "      <td>NaN</td>\n",
       "    </tr>\n",
       "    <tr>\n",
       "      <th>5003</th>\n",
       "      <td>https://tabs.ultimate-guitar.com/tab/bob-dylan...</td>\n",
       "      <td>[G, C, G, C, G, G, C, G, C, D, G, C, G, C, G, ...</td>\n",
       "      <td>[G, C, D]</td>\n",
       "      <td>Blowin In The Wind</td>\n",
       "      <td>Bob Dylan</td>\n",
       "      <td>[Folk]</td>\n",
       "      <td>1960</td>\n",
       "      <td>NaN</td>\n",
       "      <td>E A D G B E</td>\n",
       "      <td>NaN</td>\n",
       "      <td>NaN</td>\n",
       "      <td>NaN</td>\n",
       "    </tr>\n",
       "    <tr>\n",
       "      <th>5004</th>\n",
       "      <td>https://tabs.ultimate-guitar.com/tab/bob-dylan...</td>\n",
       "      <td>[C, F, C, C, C, F, C, C, C, F, C, C, C, F, C, ...</td>\n",
       "      <td>[C, F, G, Am]</td>\n",
       "      <td>Blowin In The Wind</td>\n",
       "      <td>Bob Dylan</td>\n",
       "      <td>[Folk]</td>\n",
       "      <td>1960</td>\n",
       "      <td>novice</td>\n",
       "      <td>E A D G B E</td>\n",
       "      <td>2nd fret</td>\n",
       "      <td>NaN</td>\n",
       "      <td>NaN</td>\n",
       "    </tr>\n",
       "  </tbody>\n",
       "</table>\n",
       "</div>"
      ],
      "text/plain": [
       "                                                    url  \\\n",
       "4996  https://tabs.ultimate-guitar.com/tab/bob-dylan...   \n",
       "4997  https://tabs.ultimate-guitar.com/tab/bob-dylan...   \n",
       "4998  https://tabs.ultimate-guitar.com/tab/bob-dylan...   \n",
       "4999  https://tabs.ultimate-guitar.com/tab/bob-dylan...   \n",
       "5000  https://tabs.ultimate-guitar.com/tab/bob-dylan...   \n",
       "5001  https://tabs.ultimate-guitar.com/tab/bob-dylan...   \n",
       "5002  https://tabs.ultimate-guitar.com/tab/bob-dylan...   \n",
       "5003  https://tabs.ultimate-guitar.com/tab/bob-dylan...   \n",
       "5004  https://tabs.ultimate-guitar.com/tab/bob-dylan...   \n",
       "\n",
       "                                             chordOrder  \\\n",
       "4996  [D, D, G, D, G, D, D, G, D, G, A, D, G, D, G, ...   \n",
       "4997  [C, F, C, Am, C, F, G, G7, C, F, C, Am, C, F, ...   \n",
       "4998  [G, C, D, G, C, G, G, C, D, G, C, D, G, C, D, ...   \n",
       "4999  [C, D, G, C, D, G, G, C, D, G, C, D, G, C, D, ...   \n",
       "5000  [G, C, G, C, G, G, C, G, C, D, G, C, G, C, G, ...   \n",
       "5001  [G, G, C, G/B, D/A, G, G, C, G/B, G, G, C, G/B...   \n",
       "5002  [D, D, G, A, D, G, D, G, A, D, G, A, D, G, A, ...   \n",
       "5003  [G, C, G, C, G, G, C, G, C, D, G, C, G, C, G, ...   \n",
       "5004  [C, F, C, C, C, F, C, C, C, F, C, C, C, F, C, ...   \n",
       "\n",
       "                             uniqueChords                song     artist  \\\n",
       "4996                        [D, G, A, Bm]  Blowin In The Wind  Bob Dylan   \n",
       "4997                [C, F, Am, G, G7, E7]  Blowin In The Wind  Bob Dylan   \n",
       "4998                            [G, C, D]  Blowin In The Wind  Bob Dylan   \n",
       "4999                            [C, D, G]  Blowin In The Wind  Bob Dylan   \n",
       "5000                        [G, C, D, Em]  Blowin In The Wind  Bob Dylan   \n",
       "5001  [G, C, G/B, D/A, C/B, D/F#, C/G, D]  Blowin In The Wind  Bob Dylan   \n",
       "5002                        [D, G, A, Bm]  Blowin In The Wind  Bob Dylan   \n",
       "5003                            [G, C, D]  Blowin In The Wind  Bob Dylan   \n",
       "5004                        [C, F, G, Am]  Blowin In The Wind  Bob Dylan   \n",
       "\n",
       "             genre decade    difficulty       tuning      capo  key  \\\n",
       "4996  [Folk, Rock]   1960        novice          NaN       NaN    D   \n",
       "4997  [Folk, Rock]   1960           NaN  E A D G B E       NaN  NaN   \n",
       "4998  [Folk, Rock]   1960        novice  E A D G B E  7th fret    D   \n",
       "4999  [Folk, Rock]   1960           NaN          NaN       NaN  NaN   \n",
       "5000  [Folk, Rock]   1960        novice  E A D G B E  6th fret  NaN   \n",
       "5001        [Folk]   1960  intermediate  E A D G B E  7th fret    D   \n",
       "5002        [Folk]   1960           NaN  E A D G B E       NaN  NaN   \n",
       "5003        [Folk]   1960           NaN  E A D G B E       NaN  NaN   \n",
       "5004        [Folk]   1960        novice  E A D G B E  2nd fret  NaN   \n",
       "\n",
       "                                                  other  \n",
       "4996                                                NaN  \n",
       "4997                                                NaN  \n",
       "4998                                                NaN  \n",
       "4999                                                NaN  \n",
       "5000                                                NaN  \n",
       "5001  Chords for the classic acoustic version from \"...  \n",
       "5002                                                NaN  \n",
       "5003                                                NaN  \n",
       "5004                                                NaN  "
      ]
     },
     "execution_count": 111,
     "metadata": {},
     "output_type": "execute_result"
    }
   ],
   "source": [
    "dylan[dylan['song']=='Blowin In The Wind']"
   ]
  },
  {
   "cell_type": "markdown",
   "metadata": {},
   "source": [
    "Interesting, so looks like there are 9 pretty different versions of the same song. There are a few basic versions where the songs only use C D and G. Theres another version with D G A and Bm. Theres also an intermediate version with some more unique chords...\n",
    "\n",
    "Lets look at these multi-versioned songs on a higher level."
   ]
  },
  {
   "cell_type": "code",
   "execution_count": 94,
   "metadata": {},
   "outputs": [
    {
     "name": "stdout",
     "output_type": "stream",
     "text": [
      "Number of unique songs in db:  6365\n",
      "Number of songs that have multiple versions:  5564\n"
     ]
    }
   ],
   "source": [
    "songArtist=df.groupby(['song','artist']).size().sort_values(ascending=False)\n",
    "print(\"Number of unique songs in db: \", len(songArtist))\n",
    "print(\"Number of songs that have multiple versions: \", songArtist[songArtist>1].sum())"
   ]
  },
  {
   "cell_type": "code",
   "execution_count": 113,
   "metadata": {},
   "outputs": [
    {
     "data": {
      "text/plain": [
       "<matplotlib.axes._subplots.AxesSubplot at 0x122ff9860>"
      ]
     },
     "execution_count": 113,
     "metadata": {},
     "output_type": "execute_result"
    },
    {
     "data": {
      "image/png": "[encoded data removed]",
      "text/plain": [
       "<Figure size 432x288 with 1 Axes>"
      ]
     },
     "metadata": {
      "needs_background": "light"
     },
     "output_type": "display_data"
    }
   ],
   "source": [
    "(df['song']+'-'+df['artist']).value_counts().head(15).plot(kind='bar')\n",
    "# df.song.value_counts().head(10).plot(kind='bar')"
   ]
  },
  {
   "cell_type": "markdown",
   "metadata": {},
   "source": [
    "Adele really dominates this list, tons of songs with multiple versions"
   ]
  },
  {
   "cell_type": "markdown",
   "metadata": {},
   "source": [
    "### Song Difficulties, Tuning, Capo, and Key\n",
    "\n",
    "On to the next..."
   ]
  },
  {
   "cell_type": "code",
   "execution_count": 80,
   "metadata": {},
   "outputs": [
    {
     "data": {
      "text/plain": [
       "<matplotlib.axes._subplots.AxesSubplot at 0x1210ec9b0>"
      ]
     },
     "execution_count": 80,
     "metadata": {},
     "output_type": "execute_result"
    },
    {
     "data": {
      "image/png": "[encoded data removed]",
      "text/plain": [
       "<Figure size 432x288 with 1 Axes>"
      ]
     },
     "metadata": {},
     "output_type": "display_data"
    }
   ],
   "source": [
    "df.difficulty.value_counts().plot(kind='pie')"
   ]
  },
  {
   "cell_type": "markdown",
   "metadata": {},
   "source": [
    "Whats the most difficult genre to play?"
   ]
  },
  {
   "cell_type": "markdown",
   "metadata": {},
   "source": [
    "### Missing Values"
   ]
  },
  {
   "cell_type": "markdown",
   "metadata": {},
   "source": [
    "#### Deal with Missing Values\n",
    "\n",
    "- Steal values from other tabs of the same song (genre, decade, etc.) \n",
    "- Take data from other column\n",
    "- Make assumptions about tuning and capo\n",
    "- Calculate key from chords in song"
   ]
  },
  {
   "cell_type": "code",
   "execution_count": 81,
   "metadata": {},
   "outputs": [
    {
     "data": {
      "text/plain": [
       "<matplotlib.axes._subplots.AxesSubplot at 0x1236e2518>"
      ]
     },
     "execution_count": 81,
     "metadata": {},
     "output_type": "execute_result"
    },
    {
     "data": {
      "image/png": "[encoded data removed]",
      "text/plain": [
       "<Figure size 432x288 with 1 Axes>"
      ]
     },
     "metadata": {
      "needs_background": "light"
     },
     "output_type": "display_data"
    }
   ],
   "source": [
    "sns.heatmap(df.isnull(),yticklabels=False,cbar=False,cmap='viridis')"
   ]
  },
  {
   "cell_type": "code",
   "execution_count": 82,
   "metadata": {},
   "outputs": [],
   "source": [
    "# use other column to add tunings where missing\n",
    "\n",
    "df['other']= df.other.apply(lambda x: x.lower() if isinstance(x, str) else x)\n",
    "df.loc[df['other'].str.contains(\"standard tuning\") & df['tuning'].isnull(),\n",
    "      'tuning']='E A D G B E'"
   ]
  },
  {
   "cell_type": "markdown",
   "metadata": {},
   "source": [
    "# Chord Analysis"
   ]
  },
  {
   "cell_type": "markdown",
   "metadata": {},
   "source": [
    "## Questions to answer\n",
    "\n",
    "What are the most used chords?\n",
    "\n",
    "How many chords do most songs have?\n",
    "\n",
    "What are the total number of unique chords in all the songs\n",
    "\n",
    "What is the most likely chord to happen after another chord?(i.e what transition should you learn)\n",
    "\n",
    "How do chords and transitions differ by genre? (how do chords define genres)\n",
    "\n",
    "What chords do you need to know for each difficulty level?\n",
    "\n",
    "\n",
    "Cleaning:\n",
    "\n",
    "Changing chord names based on capo??\n",
    "https://www.youtube.com/watch?v=Ky8uOOfI2tY\n",
    "\n",
    "Adding key based on chords in song\n",
    "\n",
    "Getting numeric notation chord sequence\n",
    "\n",
    "Other Ideas:\n",
    "\n",
    "\n",
    "- Focus on chord analysis\n",
    "- top chords per genre, decade, artist?\n",
    "- predict the genre or decade based on chords, cardinality, etc?"
   ]
  },
  {
   "cell_type": "markdown",
   "metadata": {},
   "source": [
    "#### What are the most used chords across all songs?"
   ]
  },
  {
   "cell_type": "code",
   "execution_count": 83,
   "metadata": {},
   "outputs": [],
   "source": [
    "chordList=df.uniqueChords.sum()"
   ]
  },
  {
   "cell_type": "code",
   "execution_count": 123,
   "metadata": {},
   "outputs": [
    {
     "data": {
      "text/plain": [
       "<matplotlib.axes._subplots.AxesSubplot at 0x11b8dc630>"
      ]
     },
     "execution_count": 123,
     "metadata": {},
     "output_type": "execute_result"
    },
    {
     "data": {
      "image/png": "[encoded data removed]",
      "text/plain": [
       "<Figure size 432x288 with 1 Axes>"
      ]
     },
     "metadata": {
      "needs_background": "light"
     },
     "output_type": "display_data"
    }
   ],
   "source": [
    "# pd.Series(chordList).value_counts().sort_values(ascending=False).head(15).plot(kind='bar')\n",
    "((pd.Series(chordList).value_counts().sort_values(ascending=False)/len(df))* 100).head(15).plot(kind='bar', title='Percent of Songs That Have Chord X')"
   ]
  },
  {
   "cell_type": "markdown",
   "metadata": {},
   "source": [
    "Wow G C and D are all in over 50% of the songs in the DB!"
   ]
  },
  {
   "cell_type": "markdown",
   "metadata": {},
   "source": [
    "#### How many unique chords are in this database?"
   ]
  },
  {
   "cell_type": "code",
   "execution_count": 85,
   "metadata": {},
   "outputs": [
    {
     "name": "stdout",
     "output_type": "stream",
     "text": [
      "There are 1730 unique chords used across all songs\n"
     ]
    }
   ],
   "source": [
    "uniqueChords=len(list(set(chordList)))\n",
    "print(\"There are {} unique chords used across all songs\".format(uniqueChords))"
   ]
  },
  {
   "cell_type": "markdown",
   "metadata": {},
   "source": [
    "Is this right?? Are there that many unique chords..."
   ]
  },
  {
   "cell_type": "code",
   "execution_count": 86,
   "metadata": {},
   "outputs": [],
   "source": [
    "# print(list(set(chordList)))"
   ]
  },
  {
   "cell_type": "markdown",
   "metadata": {},
   "source": [
    "Maybe we can check by seeing if chords are used across multiple songs? I would assume if they are only used once in the entire DB of 10k songs, it's likely they are just written in a unique way"
   ]
  },
  {
   "cell_type": "code",
   "execution_count": 87,
   "metadata": {},
   "outputs": [
    {
     "ename": "SyntaxError",
     "evalue": "invalid syntax (<ipython-input-87-98fa622d3da6>, line 2)",
     "output_type": "error",
     "traceback": [
      "\u001b[0;36m  File \u001b[0;32m\"<ipython-input-87-98fa622d3da6>\"\u001b[0;36m, line \u001b[0;32m2\u001b[0m\n\u001b[0;31m    chordCounts=pd.Series(chordList).value_counts().sort_values(ascending=False)ranges = [0,1,2,3,4,5,6,7,8,9,10,50, 100, 100000]\u001b[0m\n\u001b[0m                                                                                     ^\u001b[0m\n\u001b[0;31mSyntaxError\u001b[0m\u001b[0;31m:\u001b[0m invalid syntax\n"
     ]
    }
   ],
   "source": [
    "\n",
    "chordCounts=pd.Series(chordList).value_counts().sort_values(ascending=False)ranges = [0,1,2,3,4,5,6,7,8,9,10,50, 100, 100000]\n",
    "ranges = [0,1,100000]\n",
    "chordCounts.groupby(pd.cut(chordCounts, ranges)).count().plot(kind='bar')\n",
    "# df.groupby(pd.cut(df.a, ranges)).count()"
   ]
  },
  {
   "cell_type": "code",
   "execution_count": null,
   "metadata": {},
   "outputs": [],
   "source": [
    "# chordCounts[chordCounts==1]"
   ]
  },
  {
   "cell_type": "markdown",
   "metadata": {},
   "source": [
    "https://www.uberchord.com/blog/learn-how-to-read-guitar-chord-chart-symbols/"
   ]
  },
  {
   "cell_type": "markdown",
   "metadata": {},
   "source": [
    "So theres a ton of chords...unclear if these are all legit or not"
   ]
  },
  {
   "cell_type": "markdown",
   "metadata": {},
   "source": [
    "### How many chords do most songs have?\n"
   ]
  },
  {
   "cell_type": "code",
   "execution_count": null,
   "metadata": {},
   "outputs": [],
   "source": [
    "df['cardinality']=df.uniqueChords.apply(lambda x: len(x))\n",
    "df.cardinality.plot(kind='hist', bins=50)"
   ]
  },
  {
   "cell_type": "code",
   "execution_count": null,
   "metadata": {},
   "outputs": [],
   "source": [
    "print('Song Chord Info')\n",
    "print('Median Cardinality: ', df['cardinality'].median())\n",
    "print('Max Cardinality: ', df['cardinality'].max())\n",
    "print('Min Cardinality: ', df['cardinality'].min())"
   ]
  },
  {
   "cell_type": "markdown",
   "metadata": {},
   "source": [
    "Lets look into these ones with weird cardinalities...."
   ]
  },
  {
   "cell_type": "markdown",
   "metadata": {},
   "source": [
    "### Do songs often use the same chords?"
   ]
  },
  {
   "cell_type": "code",
   "execution_count": null,
   "metadata": {},
   "outputs": [],
   "source": [
    "# dfNov=df[df['difficulty']=='novice']\n",
    "# dfInt=df[df['difficulty']=='intermediate']\n",
    "# dfAdv=df[df['difficulty']=='advanced']\n",
    "# novChords=pd.Series(dfNov.uniqueChords.sum())"
   ]
  },
  {
   "cell_type": "code",
   "execution_count": null,
   "metadata": {},
   "outputs": [],
   "source": [
    "# novChords.value_counts()\n",
    "df.uniqueChords.apply(sorted).apply(tuple).value_counts().head(10).plot(kind='bar')"
   ]
  },
  {
   "cell_type": "code",
   "execution_count": null,
   "metadata": {},
   "outputs": [],
   "source": [
    "df['uniqueChordsTup']=df.uniqueChords.apply(sorted).apply(tuple)"
   ]
  },
  {
   "cell_type": "code",
   "execution_count": null,
   "metadata": {},
   "outputs": [],
   "source": [
    "df[df['uniqueChords'].apply(sorted).apply(tuple)==('C','D','Em','G')].difficulty.value_counts()"
   ]
  },
  {
   "cell_type": "markdown",
   "metadata": {},
   "source": [
    "This makes a lot of sense....\n",
    "\n",
    "https://www.youtube.com/watch?v=2pXS8k1zx8U"
   ]
  },
  {
   "cell_type": "code",
   "execution_count": null,
   "metadata": {},
   "outputs": [],
   "source": [
    "df.head()"
   ]
  },
  {
   "cell_type": "code",
   "execution_count": null,
   "metadata": {},
   "outputs": [],
   "source": [
    "chordGroups=df.uniqueChordsTup.value_counts().head(20)\n",
    "dfTest=df[df['uniqueChordsTup'].isin(chordGroups.index.to_list())]"
   ]
  },
  {
   "cell_type": "code",
   "execution_count": null,
   "metadata": {},
   "outputs": [],
   "source": [
    "dfTest.groupby(['uniqueChordsTup', 'difficulty']).size().unstack(fill_value=0).plot(kind='bar', stacked=True)"
   ]
  },
  {
   "cell_type": "markdown",
   "metadata": {},
   "source": [
    "Two things...\n",
    "1) would be nice for this graph to be sorted\n",
    "2) why is a song difficult with an easy chord progression"
   ]
  },
  {
   "cell_type": "code",
   "execution_count": null,
   "metadata": {},
   "outputs": [],
   "source": [
    "dfTest.groupby(['uniqueChordsTup', 'difficulty']).size().unstack(fill_value=0)"
   ]
  },
  {
   "cell_type": "code",
   "execution_count": null,
   "metadata": {},
   "outputs": [],
   "source": [
    "df[df['uniqueChordsTup']==('C','D','Em','G')]"
   ]
  },
  {
   "cell_type": "markdown",
   "metadata": {},
   "source": [
    "Can we do this same thing for genres?"
   ]
  },
  {
   "cell_type": "code",
   "execution_count": null,
   "metadata": {},
   "outputs": [],
   "source": [
    "# df['genreTup']=df.genre.apply(sorted).apply(tuple)\n",
    "# dfTest=df[df['uniqueChordsTup'].isin(chordGroups.index.to_list())]\n",
    "# dfTest.groupby(['uniqueChordsTup', 'genreTup']).size().unstack(fill_value=0).plot(kind='bar', stacked=True)"
   ]
  },
  {
   "cell_type": "code",
   "execution_count": null,
   "metadata": {},
   "outputs": [],
   "source": [
    "dfTest=df[df['uniqueChordsTup'].isin(chordGroups.index.to_list())]\n",
    "# dfTest.groupby(['uniqueChordsTup', 'genreTup']).size().unstack(fill_value=0).plot(kind='bar', stacked=True)"
   ]
  },
  {
   "cell_type": "markdown",
   "metadata": {},
   "source": [
    "#### How many songs do you know by learning x top chords?"
   ]
  },
  {
   "cell_type": "code",
   "execution_count": null,
   "metadata": {},
   "outputs": [],
   "source": [
    "set('G','C')==('C','G')"
   ]
  },
  {
   "cell_type": "code",
   "execution_count": null,
   "metadata": {},
   "outputs": [],
   "source": []
  }
 ],
 "metadata": {
  "kernelspec": {
   "display_name": "Python 3",
   "language": "python",
   "name": "python3"
  },
  "language_info": {
   "codemirror_mode": {
    "name": "ipython",
    "version": 3
   },
   "file_extension": ".py",
   "mimetype": "text/x-python",
   "name": "python",
   "nbconvert_exporter": "python",
   "pygments_lexer": "ipython3",
   "version": "3.6.4"
  }
 },
 "nbformat": 4,
 "nbformat_minor": 2
}
