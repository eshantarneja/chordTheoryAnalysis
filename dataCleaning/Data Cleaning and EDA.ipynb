{
 "cells": [
  {
   "cell_type": "markdown",
   "metadata": {},
   "source": [
    "# Data Cleaning and EDA"
   ]
  },
  {
   "cell_type": "code",
   "execution_count": 139,
   "metadata": {},
   "outputs": [],
   "source": [
    "import pandas as pd\n",
    "import matplotlib.pyplot as plt\n",
    "import seaborn as sns\n",
    "from ast import literal_eval\n",
    "import numpy as np\n",
    "import math\n",
    "import glob\n",
    "import seaborn as sns\n",
    "from nltk.corpus import stopwords"
   ]
  },
  {
   "cell_type": "markdown",
   "metadata": {},
   "source": [
    "## 1. Read in Data\n",
    "\n",
    "I iteratively stored tabs into different CSVs during scraping to avoid losing data if my computer shut down. So  we'll want to read all these files and combine them into one"
   ]
  },
  {
   "cell_type": "code",
   "execution_count": 140,
   "metadata": {},
   "outputs": [
    {
     "data": {
      "text/html": [
       "<div>\n",
       "<style scoped>\n",
       "    .dataframe tbody tr th:only-of-type {\n",
       "        vertical-align: middle;\n",
       "    }\n",
       "\n",
       "    .dataframe tbody tr th {\n",
       "        vertical-align: top;\n",
       "    }\n",
       "\n",
       "    .dataframe thead th {\n",
       "        text-align: right;\n",
       "    }\n",
       "</style>\n",
       "<table border=\"1\" class=\"dataframe\">\n",
       "  <thead>\n",
       "    <tr style=\"text-align: right;\">\n",
       "      <th></th>\n",
       "      <th>url</th>\n",
       "      <th>new_x</th>\n",
       "      <th>new_y</th>\n",
       "      <th>chordOrder</th>\n",
       "      <th>chordList</th>\n",
       "      <th>topInfo</th>\n",
       "      <th>songArtist</th>\n",
       "    </tr>\n",
       "  </thead>\n",
       "  <tbody>\n",
       "    <tr>\n",
       "      <th>0</th>\n",
       "      <td>https://tabs.ultimate-guitar.com/tab/dolly-parton/its-all-wrong-but-its-all-right-chords-2113377</td>\n",
       "      <td>['Country']</td>\n",
       "      <td>[1970]</td>\n",
       "      <td>['G', 'C', 'G', 'C', 'D', 'G', 'C', 'G', 'C', 'D', 'G', 'C', 'G', 'C', 'D', 'G', 'C', 'G', 'C', 'D', 'G', 'G', 'C', 'G', 'C', 'D', 'G', 'C', 'G']</td>\n",
       "      <td>['G', 'C', 'D']</td>\n",
       "      <td>[]</td>\n",
       "      <td>Its All Wrong But Its All Right chords by Dolly Parton</td>\n",
       "    </tr>\n",
       "    <tr>\n",
       "      <th>1</th>\n",
       "      <td>https://tabs.ultimate-guitar.com/tab/dolly-parton/jolene-chords-1099394</td>\n",
       "      <td>['Country', 'Folk', 'Folk']</td>\n",
       "      <td>[1970, 1970, 1940]</td>\n",
       "      <td>['Am', 'C', 'G', 'Am', 'G', 'Am', 'Am', 'C', 'G', 'Am', 'G', 'Am', 'Am', 'C', 'G', 'Am', 'G', 'Am', 'Am', 'C', 'G', 'Am', 'G', 'Am', 'Am', 'C', 'G', 'Am', 'G', 'Am', 'Am', 'C', 'G', 'Am', 'G', 'Am', 'Am', 'C', 'G', 'Am', 'Am', 'Am', 'C', 'G', 'Am', 'G', 'Am', 'Am', 'C', 'G', 'Am', 'G', 'Am', 'Am', 'C', 'G', 'Am', 'G', 'Am', 'Am', 'C', 'G', 'Am', 'G', 'Am', 'Am', 'C', 'G', 'Am', 'G', 'Am']</td>\n",
       "      <td>['Am', 'C', 'G']</td>\n",
       "      <td>['Difficulty: intermediate', 'Tuning: E A D G B E', 'Capo: 4th fret']</td>\n",
       "      <td>Jolene chords by Dolly Parton</td>\n",
       "    </tr>\n",
       "    <tr>\n",
       "      <th>2</th>\n",
       "      <td>https://tabs.ultimate-guitar.com/tab/dolly-parton/jolene-chords-1233293</td>\n",
       "      <td>['Country']</td>\n",
       "      <td>[1970]</td>\n",
       "      <td>['Em', 'G', 'D', 'Em', 'D', 'Em', 'Em', 'G', 'D', 'Em', 'Em', 'G', 'D', 'Em', 'D', 'Em', 'Em', 'G', 'D', 'Em', 'D', 'Em', 'Em', 'G', 'D', 'Em', 'D', 'Em', 'Em', 'G', 'D', 'Em', 'D', 'Em', 'Em', 'G', 'D', 'Em', 'D', 'Em', 'Em', 'G', 'D', 'Em', 'D', 'Em', 'Em', 'G', 'D', 'Em', 'D', 'Em', 'Em', 'G', 'D', 'Em', 'D', 'Em', 'Em', 'G', 'D', 'Em', 'D', 'Em', 'Em', 'G', 'D', 'Em', 'D', 'Em', 'Em', 'G', 'D', 'Em', 'D', 'Em', 'Em', 'G', 'D', 'Em', 'D', 'Em', 'D', 'Em']</td>\n",
       "      <td>['Em', 'G', 'D']</td>\n",
       "      <td>['Difficulty: novice', 'Tuning: E A D G B E', 'Capo: 4th fret']</td>\n",
       "      <td>Jolene chords by Dolly Parton</td>\n",
       "    </tr>\n",
       "    <tr>\n",
       "      <th>3</th>\n",
       "      <td>https://tabs.ultimate-guitar.com/tab/dolly-parton/jolene-chords-165569</td>\n",
       "      <td>['Country', 'Folk']</td>\n",
       "      <td>[1970, 1970]</td>\n",
       "      <td>['Dm', 'F', 'C', 'Dm', 'C', 'Dm', 'F', 'C', 'Dm', 'C', 'Dm', 'Dm', 'F', 'C', 'Dm', 'C', 'Dm', 'Dm', 'F', 'C', 'Dm', 'C', 'Dm', 'Dm', 'F', 'C', 'Dm', 'C', 'Dm', 'Dm', 'F', 'C', 'Dm', 'C', 'Dm']</td>\n",
       "      <td>['Dm', 'F', 'C']</td>\n",
       "      <td>[]</td>\n",
       "      <td>Jolene chords by Dolly Parton</td>\n",
       "    </tr>\n",
       "    <tr>\n",
       "      <th>4</th>\n",
       "      <td>https://tabs.ultimate-guitar.com/tab/dolly-parton/jolene-chords-183019</td>\n",
       "      <td>['Country', 'Country', 'Folk', 'Folk']</td>\n",
       "      <td>[1970, 1940, 1970, 1940]</td>\n",
       "      <td>['Am', 'Am', 'C', 'G', 'Am', 'G', 'Am', 'Am', 'C', 'G', 'Am', 'G', 'Em', 'Am', 'Am', 'C', 'G', 'Am', 'G', 'Em', 'Am', 'Am', 'C', 'G', 'Am', 'G', 'Em', 'Am', 'Am', 'C', 'G', 'Am', 'G', 'Em', 'Am', 'Am', 'C', 'G', 'Am', 'G', 'Em', 'Am', 'Am', 'C', 'G', 'Am', 'G', 'Am', 'Am', 'C', 'G', 'Am', 'G', 'Em', 'Am', 'Am', 'C', 'G', 'Am', 'G', 'Em', 'Am', 'Am', 'C', 'G', 'Am', 'G', 'Em', 'Am', 'Am', 'C', 'G', 'Am', 'G', 'Am', 'Am', 'C', 'G', 'Am', 'G', 'Em', 'Am']</td>\n",
       "      <td>['Am', 'C', 'G', 'Em']</td>\n",
       "      <td>['Difficulty: novice', 'Tuning: E A D G B E', 'Capo: 4th fret', 'Key: C#m']</td>\n",
       "      <td>Jolene chords by Dolly Parton</td>\n",
       "    </tr>\n",
       "  </tbody>\n",
       "</table>\n",
       "</div>"
      ],
      "text/plain": [
       "                                                                                                url  \\\n",
       "0  https://tabs.ultimate-guitar.com/tab/dolly-parton/its-all-wrong-but-its-all-right-chords-2113377   \n",
       "1  https://tabs.ultimate-guitar.com/tab/dolly-parton/jolene-chords-1099394                            \n",
       "2  https://tabs.ultimate-guitar.com/tab/dolly-parton/jolene-chords-1233293                            \n",
       "3  https://tabs.ultimate-guitar.com/tab/dolly-parton/jolene-chords-165569                             \n",
       "4  https://tabs.ultimate-guitar.com/tab/dolly-parton/jolene-chords-183019                             \n",
       "\n",
       "                                    new_x                     new_y  \\\n",
       "0  ['Country']                             [1970]                     \n",
       "1  ['Country', 'Folk', 'Folk']             [1970, 1970, 1940]         \n",
       "2  ['Country']                             [1970]                     \n",
       "3  ['Country', 'Folk']                     [1970, 1970]               \n",
       "4  ['Country', 'Country', 'Folk', 'Folk']  [1970, 1940, 1970, 1940]   \n",
       "\n",
       "                                                                                                                                                                                                                                                                                                                                                                                                                                                                       chordOrder  \\\n",
       "0  ['G', 'C', 'G', 'C', 'D', 'G', 'C', 'G', 'C', 'D', 'G', 'C', 'G', 'C', 'D', 'G', 'C', 'G', 'C', 'D', 'G', 'G', 'C', 'G', 'C', 'D', 'G', 'C', 'G']                                                                                                                                                                                                                                                                                                                                \n",
       "1  ['Am', 'C', 'G', 'Am', 'G', 'Am', 'Am', 'C', 'G', 'Am', 'G', 'Am', 'Am', 'C', 'G', 'Am', 'G', 'Am', 'Am', 'C', 'G', 'Am', 'G', 'Am', 'Am', 'C', 'G', 'Am', 'G', 'Am', 'Am', 'C', 'G', 'Am', 'G', 'Am', 'Am', 'C', 'G', 'Am', 'Am', 'Am', 'C', 'G', 'Am', 'G', 'Am', 'Am', 'C', 'G', 'Am', 'G', 'Am', 'Am', 'C', 'G', 'Am', 'G', 'Am', 'Am', 'C', 'G', 'Am', 'G', 'Am', 'Am', 'C', 'G', 'Am', 'G', 'Am']                                                                          \n",
       "2  ['Em', 'G', 'D', 'Em', 'D', 'Em', 'Em', 'G', 'D', 'Em', 'Em', 'G', 'D', 'Em', 'D', 'Em', 'Em', 'G', 'D', 'Em', 'D', 'Em', 'Em', 'G', 'D', 'Em', 'D', 'Em', 'Em', 'G', 'D', 'Em', 'D', 'Em', 'Em', 'G', 'D', 'Em', 'D', 'Em', 'Em', 'G', 'D', 'Em', 'D', 'Em', 'Em', 'G', 'D', 'Em', 'D', 'Em', 'Em', 'G', 'D', 'Em', 'D', 'Em', 'Em', 'G', 'D', 'Em', 'D', 'Em', 'Em', 'G', 'D', 'Em', 'D', 'Em', 'Em', 'G', 'D', 'Em', 'D', 'Em', 'Em', 'G', 'D', 'Em', 'D', 'Em', 'D', 'Em']   \n",
       "3  ['Dm', 'F', 'C', 'Dm', 'C', 'Dm', 'F', 'C', 'Dm', 'C', 'Dm', 'Dm', 'F', 'C', 'Dm', 'C', 'Dm', 'Dm', 'F', 'C', 'Dm', 'C', 'Dm', 'Dm', 'F', 'C', 'Dm', 'C', 'Dm', 'Dm', 'F', 'C', 'Dm', 'C', 'Dm']                                                                                                                                                                                                                                                                                 \n",
       "4  ['Am', 'Am', 'C', 'G', 'Am', 'G', 'Am', 'Am', 'C', 'G', 'Am', 'G', 'Em', 'Am', 'Am', 'C', 'G', 'Am', 'G', 'Em', 'Am', 'Am', 'C', 'G', 'Am', 'G', 'Em', 'Am', 'Am', 'C', 'G', 'Am', 'G', 'Em', 'Am', 'Am', 'C', 'G', 'Am', 'G', 'Em', 'Am', 'Am', 'C', 'G', 'Am', 'G', 'Am', 'Am', 'C', 'G', 'Am', 'G', 'Em', 'Am', 'Am', 'C', 'G', 'Am', 'G', 'Em', 'Am', 'Am', 'C', 'G', 'Am', 'G', 'Em', 'Am', 'Am', 'C', 'G', 'Am', 'G', 'Am', 'Am', 'C', 'G', 'Am', 'G', 'Em', 'Am']         \n",
       "\n",
       "                chordList  \\\n",
       "0  ['G', 'C', 'D']          \n",
       "1  ['Am', 'C', 'G']         \n",
       "2  ['Em', 'G', 'D']         \n",
       "3  ['Dm', 'F', 'C']         \n",
       "4  ['Am', 'C', 'G', 'Em']   \n",
       "\n",
       "                                                                       topInfo  \\\n",
       "0  []                                                                            \n",
       "1  ['Difficulty: intermediate', 'Tuning: E A D G B E', 'Capo: 4th fret']         \n",
       "2  ['Difficulty: novice', 'Tuning: E A D G B E', 'Capo: 4th fret']               \n",
       "3  []                                                                            \n",
       "4  ['Difficulty: novice', 'Tuning: E A D G B E', 'Capo: 4th fret', 'Key: C#m']   \n",
       "\n",
       "                                               songArtist  \n",
       "0  Its All Wrong But Its All Right chords by Dolly Parton  \n",
       "1  Jolene chords by Dolly Parton                           \n",
       "2  Jolene chords by Dolly Parton                           \n",
       "3  Jolene chords by Dolly Parton                           \n",
       "4  Jolene chords by Dolly Parton                           "
      ]
     },
     "execution_count": 140,
     "metadata": {},
     "output_type": "execute_result"
    }
   ],
   "source": [
    "# Combine csvs\n",
    "all_files=glob.glob(\"/Users/eshantarneja/Documents/DataScience/data/rawData/*.csv\")\n",
    "li = []\n",
    "for filename in all_files:\n",
    "    df = pd.read_csv(filename, encoding='latin-1')\n",
    "    li.append(df)\n",
    "df = pd.concat(li, axis=0, ignore_index=True)\n",
    "df.head()"
   ]
  },
  {
   "cell_type": "code",
   "execution_count": 141,
   "metadata": {},
   "outputs": [
    {
     "name": "stdout",
     "output_type": "stream",
     "text": [
      "<class 'pandas.core.frame.DataFrame'>\n",
      "RangeIndex: 9997 entries, 0 to 9996\n",
      "Data columns (total 7 columns):\n",
      "url           9997 non-null object\n",
      "new_x         9997 non-null object\n",
      "new_y         9997 non-null object\n",
      "chordOrder    9997 non-null object\n",
      "chordList     9997 non-null object\n",
      "topInfo       9997 non-null object\n",
      "songArtist    9997 non-null object\n",
      "dtypes: object(7)\n",
      "memory usage: 546.8+ KB\n"
     ]
    }
   ],
   "source": [
    "df.info()"
   ]
  },
  {
   "cell_type": "markdown",
   "metadata": {},
   "source": [
    "We have about 10,000 data points to work with all in one data frame now! Our data set has 7 total columns. They are poorly named right now, but they give us \n",
    "1. the url of the tab \n",
    "2. the genre \n",
    "3. decade \n",
    "4. chords in order they are played \n",
    "5. unique chords in the song \n",
    "6. disparate info about the songs that are scraped from top of tab \n",
    "7. song name and artist"
   ]
  },
  {
   "cell_type": "markdown",
   "metadata": {},
   "source": [
    "## 2. Clean up Low Hanging Fruit\n",
    "\n",
    "My data set is quite expansive, but it also rather dirty. Before getting into any analysis I need to do some basic cleaning. There is more cleaning to come throughout the analysis as I identify more errors, so this section is focused more instead on cleaning up the low hanging fruit.\n",
    "\n",
    "There are a couple of issues within this raw data that I can see just by looking at it. Lets clean those up to start.\n",
    "\n",
    "1. Song and Artist are in a field together (i.e Dust Bowl chords by 10,000 Maniacs). We'll want to seperate these into their own fields\n",
    "\n",
    "2. All of the lists were read in as strings. I can see that by all of them being read as \"objects\". I learned that reading and writing in csvs loses python formatting (this is what pckl files are great for apparently...I had always heard of these...never knew why people used them). I'll go ahead and convert those back into lists though.\n",
    "\n",
    "3. The topInfo column has really disparate information about the song. This data is found at the top of the chord page and usually contains Key, Capo, and Tuning...but sometimes has only some of that info, and also sometimes has random facts about the song. I'll break these into their own fields if they exist, and if there is extra info, I'll put it in a column called \"other\"\n",
    "\n",
    "4. I know from my original file combining that there are quite a few duplicates in the data. I.e these Urls were found in multiple genres and decades, but have the exact same tab (shown by url). That is why the genre and decades are stored as list because I combined all the info from each of these into one before scraping the song to avoid duplicate work. I'll take the unique set of genres and decades for each entry. I.e [\"Folk\",\"Folk\", \"Rock\", \"Rock\"] -> [\"Folk\", \"Rock\"]. I'll decide what to do with multiple genres/decades later..."
   ]
  },
  {
   "cell_type": "code",
   "execution_count": 142,
   "metadata": {},
   "outputs": [
    {
     "data": {
      "text/html": [
       "<div>\n",
       "<style scoped>\n",
       "    .dataframe tbody tr th:only-of-type {\n",
       "        vertical-align: middle;\n",
       "    }\n",
       "\n",
       "    .dataframe tbody tr th {\n",
       "        vertical-align: top;\n",
       "    }\n",
       "\n",
       "    .dataframe thead th {\n",
       "        text-align: right;\n",
       "    }\n",
       "</style>\n",
       "<table border=\"1\" class=\"dataframe\">\n",
       "  <thead>\n",
       "    <tr style=\"text-align: right;\">\n",
       "      <th></th>\n",
       "      <th>url</th>\n",
       "      <th>chordOrder</th>\n",
       "      <th>uniqueChords</th>\n",
       "      <th>song</th>\n",
       "      <th>artist</th>\n",
       "      <th>genre</th>\n",
       "      <th>decade</th>\n",
       "      <th>difficulty</th>\n",
       "      <th>tuning</th>\n",
       "      <th>capo</th>\n",
       "      <th>key</th>\n",
       "      <th>other</th>\n",
       "    </tr>\n",
       "  </thead>\n",
       "  <tbody>\n",
       "    <tr>\n",
       "      <th>0</th>\n",
       "      <td>https://tabs.ultimate-guitar.com/tab/dolly-parton/its-all-wrong-but-its-all-right-chords-2113377</td>\n",
       "      <td>[G, C, G, C, D, G, C, G, C, D, G, C, G, C, D, G, C, G, C, D, G, G, C, G, C, D, G, C, G]</td>\n",
       "      <td>[G, C, D]</td>\n",
       "      <td>Its All Wrong But Its All Right</td>\n",
       "      <td>Dolly Parton</td>\n",
       "      <td>[Country]</td>\n",
       "      <td>[1970]</td>\n",
       "      <td>NaN</td>\n",
       "      <td>NaN</td>\n",
       "      <td>NaN</td>\n",
       "      <td>NaN</td>\n",
       "      <td>NaN</td>\n",
       "    </tr>\n",
       "    <tr>\n",
       "      <th>1</th>\n",
       "      <td>https://tabs.ultimate-guitar.com/tab/dolly-parton/jolene-chords-1099394</td>\n",
       "      <td>[Am, C, G, Am, G, Am, Am, C, G, Am, G, Am, Am, C, G, Am, G, Am, Am, C, G, Am, G, Am, Am, C, G, Am, G, Am, Am, C, G, Am, G, Am, Am, C, G, Am, Am, Am, C, G, Am, G, Am, Am, C, G, Am, G, Am, Am, C, G, Am, G, Am, Am, C, G, Am, G, Am, Am, C, G, Am, G, Am]</td>\n",
       "      <td>[Am, C, G]</td>\n",
       "      <td>Jolene</td>\n",
       "      <td>Dolly Parton</td>\n",
       "      <td>[Folk, Country]</td>\n",
       "      <td>[1970, 1940]</td>\n",
       "      <td>intermediate</td>\n",
       "      <td>E A D G B E</td>\n",
       "      <td>4th fret</td>\n",
       "      <td>NaN</td>\n",
       "      <td>NaN</td>\n",
       "    </tr>\n",
       "    <tr>\n",
       "      <th>2</th>\n",
       "      <td>https://tabs.ultimate-guitar.com/tab/dolly-parton/jolene-chords-1233293</td>\n",
       "      <td>[Em, G, D, Em, D, Em, Em, G, D, Em, Em, G, D, Em, D, Em, Em, G, D, Em, D, Em, Em, G, D, Em, D, Em, Em, G, D, Em, D, Em, Em, G, D, Em, D, Em, Em, G, D, Em, D, Em, Em, G, D, Em, D, Em, Em, G, D, Em, D, Em, Em, G, D, Em, D, Em, Em, G, D, Em, D, Em, Em, G, D, Em, D, Em, Em, G, D, Em, D, Em, D, Em]</td>\n",
       "      <td>[Em, G, D]</td>\n",
       "      <td>Jolene</td>\n",
       "      <td>Dolly Parton</td>\n",
       "      <td>[Country]</td>\n",
       "      <td>[1970]</td>\n",
       "      <td>novice</td>\n",
       "      <td>E A D G B E</td>\n",
       "      <td>4th fret</td>\n",
       "      <td>NaN</td>\n",
       "      <td>NaN</td>\n",
       "    </tr>\n",
       "    <tr>\n",
       "      <th>3</th>\n",
       "      <td>https://tabs.ultimate-guitar.com/tab/dolly-parton/jolene-chords-165569</td>\n",
       "      <td>[Dm, F, C, Dm, C, Dm, F, C, Dm, C, Dm, Dm, F, C, Dm, C, Dm, Dm, F, C, Dm, C, Dm, Dm, F, C, Dm, C, Dm, Dm, F, C, Dm, C, Dm]</td>\n",
       "      <td>[Dm, F, C]</td>\n",
       "      <td>Jolene</td>\n",
       "      <td>Dolly Parton</td>\n",
       "      <td>[Folk, Country]</td>\n",
       "      <td>[1970]</td>\n",
       "      <td>NaN</td>\n",
       "      <td>NaN</td>\n",
       "      <td>NaN</td>\n",
       "      <td>NaN</td>\n",
       "      <td>NaN</td>\n",
       "    </tr>\n",
       "    <tr>\n",
       "      <th>4</th>\n",
       "      <td>https://tabs.ultimate-guitar.com/tab/dolly-parton/jolene-chords-183019</td>\n",
       "      <td>[Am, Am, C, G, Am, G, Am, Am, C, G, Am, G, Em, Am, Am, C, G, Am, G, Em, Am, Am, C, G, Am, G, Em, Am, Am, C, G, Am, G, Em, Am, Am, C, G, Am, G, Em, Am, Am, C, G, Am, G, Am, Am, C, G, Am, G, Em, Am, Am, C, G, Am, G, Em, Am, Am, C, G, Am, G, Em, Am, Am, C, G, Am, G, Am, Am, C, G, Am, G, Em, Am]</td>\n",
       "      <td>[Am, C, G, Em]</td>\n",
       "      <td>Jolene</td>\n",
       "      <td>Dolly Parton</td>\n",
       "      <td>[Folk, Country]</td>\n",
       "      <td>[1970, 1940]</td>\n",
       "      <td>novice</td>\n",
       "      <td>E A D G B E</td>\n",
       "      <td>4th fret</td>\n",
       "      <td>C#m</td>\n",
       "      <td>NaN</td>\n",
       "    </tr>\n",
       "  </tbody>\n",
       "</table>\n",
       "</div>"
      ],
      "text/plain": [
       "                                                                                                url  \\\n",
       "0  https://tabs.ultimate-guitar.com/tab/dolly-parton/its-all-wrong-but-its-all-right-chords-2113377   \n",
       "1  https://tabs.ultimate-guitar.com/tab/dolly-parton/jolene-chords-1099394                            \n",
       "2  https://tabs.ultimate-guitar.com/tab/dolly-parton/jolene-chords-1233293                            \n",
       "3  https://tabs.ultimate-guitar.com/tab/dolly-parton/jolene-chords-165569                             \n",
       "4  https://tabs.ultimate-guitar.com/tab/dolly-parton/jolene-chords-183019                             \n",
       "\n",
       "                                                                                                                                                                                                                                                                                               chordOrder  \\\n",
       "0  [G, C, G, C, D, G, C, G, C, D, G, C, G, C, D, G, C, G, C, D, G, G, C, G, C, D, G, C, G]                                                                                                                                                                                                                  \n",
       "1  [Am, C, G, Am, G, Am, Am, C, G, Am, G, Am, Am, C, G, Am, G, Am, Am, C, G, Am, G, Am, Am, C, G, Am, G, Am, Am, C, G, Am, G, Am, Am, C, G, Am, Am, Am, C, G, Am, G, Am, Am, C, G, Am, G, Am, Am, C, G, Am, G, Am, Am, C, G, Am, G, Am, Am, C, G, Am, G, Am]                                                \n",
       "2  [Em, G, D, Em, D, Em, Em, G, D, Em, Em, G, D, Em, D, Em, Em, G, D, Em, D, Em, Em, G, D, Em, D, Em, Em, G, D, Em, D, Em, Em, G, D, Em, D, Em, Em, G, D, Em, D, Em, Em, G, D, Em, D, Em, Em, G, D, Em, D, Em, Em, G, D, Em, D, Em, Em, G, D, Em, D, Em, Em, G, D, Em, D, Em, Em, G, D, Em, D, Em, D, Em]   \n",
       "3  [Dm, F, C, Dm, C, Dm, F, C, Dm, C, Dm, Dm, F, C, Dm, C, Dm, Dm, F, C, Dm, C, Dm, Dm, F, C, Dm, C, Dm, Dm, F, C, Dm, C, Dm]                                                                                                                                                                               \n",
       "4  [Am, Am, C, G, Am, G, Am, Am, C, G, Am, G, Em, Am, Am, C, G, Am, G, Em, Am, Am, C, G, Am, G, Em, Am, Am, C, G, Am, G, Em, Am, Am, C, G, Am, G, Em, Am, Am, C, G, Am, G, Am, Am, C, G, Am, G, Em, Am, Am, C, G, Am, G, Em, Am, Am, C, G, Am, G, Em, Am, Am, C, G, Am, G, Am, Am, C, G, Am, G, Em, Am]     \n",
       "\n",
       "     uniqueChords                             song        artist  \\\n",
       "0  [G, C, D]       Its All Wrong But Its All Right  Dolly Parton   \n",
       "1  [Am, C, G]      Jolene                           Dolly Parton   \n",
       "2  [Em, G, D]      Jolene                           Dolly Parton   \n",
       "3  [Dm, F, C]      Jolene                           Dolly Parton   \n",
       "4  [Am, C, G, Em]  Jolene                           Dolly Parton   \n",
       "\n",
       "             genre        decade    difficulty       tuning      capo  key  \\\n",
       "0  [Country]        [1970]        NaN           NaN          NaN       NaN   \n",
       "1  [Folk, Country]  [1970, 1940]  intermediate  E A D G B E  4th fret  NaN   \n",
       "2  [Country]        [1970]        novice        E A D G B E  4th fret  NaN   \n",
       "3  [Folk, Country]  [1970]        NaN           NaN          NaN       NaN   \n",
       "4  [Folk, Country]  [1970, 1940]  novice        E A D G B E  4th fret  C#m   \n",
       "\n",
       "  other  \n",
       "0  NaN   \n",
       "1  NaN   \n",
       "2  NaN   \n",
       "3  NaN   \n",
       "4  NaN   "
      ]
     },
     "execution_count": 142,
     "metadata": {},
     "output_type": "execute_result"
    }
   ],
   "source": [
    "def cleanSongArtist(raw):\n",
    "#     takes in songArtist field and splits into Song and Artist columns seperately\n",
    "    song=np.NaN\n",
    "    artist=np.NaN\n",
    "    saList=raw.split(\" chords by \")\n",
    "    if len(saList)==2:       \n",
    "        song=saList[0]\n",
    "        artist=saList[1]\n",
    "    return pd.Series([song,artist])\n",
    "\n",
    "\n",
    "def stringToList(row):\n",
    "#     all lists were read into CSVS as strings. Use literal eval to convert back to list format\n",
    "    chordList=literal_eval(row['chordList'])\n",
    "    chordOrder=literal_eval(row['chordOrder'])\n",
    "    songInfo=literal_eval(row['topInfo'])\n",
    "    genre=literal_eval(row['new_x'])\n",
    "    decade=literal_eval(row['new_y'])\n",
    "    return pd.Series([chordList, chordOrder, genre, decade, songInfo])\n",
    "\n",
    "\n",
    "def cleanSongInfo(songInfo):\n",
    "#     break songInfo field into its parts\n",
    "    diff = np.NaN\n",
    "    tuning = np.NaN\n",
    "    capo = np.NaN\n",
    "    key = np.NaN\n",
    "    other = np.NaN\n",
    "# loop through since some values may be missing (i.e no capo listed). weird values stored in the \"other\" column\n",
    "    if type(songInfo)==int:\n",
    "        print(songInfo)\n",
    "    for i in songInfo:\n",
    "        infoList=i.split(': ')\n",
    "        if len(infoList)==2:\n",
    "            infoType=infoList[0]\n",
    "            value=infoList[1]\n",
    "            if infoType=='Difficulty':\n",
    "                diff=value\n",
    "            elif infoType=='Tuning':\n",
    "                tuning=value\n",
    "            elif infoType=='Capo':\n",
    "                capo=value\n",
    "            elif infoType=='Key':\n",
    "                key=value\n",
    "            else:\n",
    "                other=i\n",
    "        else:\n",
    "            other=i            \n",
    "    return pd.Series([diff, tuning, capo, key, other])\n",
    "\n",
    "# remove duplicate genre and decades from data\n",
    "def removeDuplicates(row):\n",
    "    decade=list(set(row['decade']))\n",
    "    genre=list(set(row['genre']))\n",
    "    return pd.Series([decade, genre])\n",
    "\n",
    "# def cleanUrl(rawUrl):\n",
    "#     urlList=rawUrl.split('/')\n",
    "#     urlShort=urlList[4:6]\n",
    "#     artistName=urlShort[0].replace('-',' ')\n",
    "#     songName=urlShort[1].split('-chords')[0].replace('-',' ')\n",
    "#     return pd.Series([artistName, songName])\n",
    "\n",
    "\n",
    "# df[['artistName', 'songName']]=df.url.apply(cleanUrl)\n",
    "df[['song','artist']]=df.songArtist.apply(cleanSongArtist)\n",
    "df[['chordList', 'chordOrder', 'genre', 'decade', 'songInfo']]=df.apply(stringToList, axis=1)\n",
    "df[['difficulty', 'tuning', 'capo', 'key','other']]=df.songInfo.apply(cleanSongInfo)\n",
    "df[['decade','genre']]=df.apply(removeDuplicates, axis=1)\n",
    "df.drop(['new_x', 'new_y', 'songInfo', 'topInfo', 'songArtist'], axis=1, inplace=True)\n",
    "df.rename(columns={'chordList':'uniqueChords'},inplace=True)\n",
    "\n",
    "\n",
    "df.head()   \n"
   ]
  },
  {
   "cell_type": "markdown",
   "metadata": {},
   "source": [
    "Looks good!"
   ]
  },
  {
   "cell_type": "markdown",
   "metadata": {},
   "source": [
    "## 3. EDA\n",
    "\n",
    "Let's now do a basic exploratory analysis of our data, we could have to clean up some more as we expose more issues. While the main focus of this analysis is on the chords, I still want to get a baseline understanding of this data set first, so I'll step through each field one by one until we reach the chords. We'll go a bit more in depth there!"
   ]
  },
  {
   "cell_type": "markdown",
   "metadata": {},
   "source": [
    "### Decades\n",
    "\n",
    "We'll start with the decades field. Lets see the breakdown of how much of our data is from each decade. This column is of type \"list\", because we seem to have some songs with multiple decades (i.e the same song was scraped from multiple decade pages). Right from the start, this jumped out to me as something that could be off - so let's check that out here."
   ]
  },
  {
   "cell_type": "code",
   "execution_count": 143,
   "metadata": {},
   "outputs": [
    {
     "data": {
      "text/plain": [
       "<matplotlib.axes._subplots.AxesSubplot at 0x12cd01ba8>"
      ]
     },
     "execution_count": 143,
     "metadata": {},
     "output_type": "execute_result"
    },
    {
     "data": {
      "image/png": "[encoded data removed]",
      "text/plain": [
       "<Figure size 432x288 with 1 Axes>"
      ]
     },
     "metadata": {
      "needs_background": "light"
     },
     "output_type": "display_data"
    }
   ],
   "source": [
    "pd.Series(df.decade.sum()).value_counts().plot(kind=\"bar\", title=\"Decades\")"
   ]
  },
  {
   "cell_type": "markdown",
   "metadata": {},
   "source": [
    "Wow, lots of song from the 1940's....seems a bit off. After a quick check on the ultimate guitar website I realized that there are no 1940's chords at all. Turns out there was a bug in my web scraper that was adding in that date as a filter. I should have only been going back to 1950. \n",
    "\n",
    "This might explain why there are multiple decades for some songs. A song can only be from one decade. Lets see if all of these multi-decade songs have a 1940 in them."
   ]
  },
  {
   "cell_type": "code",
   "execution_count": 144,
   "metadata": {},
   "outputs": [
    {
     "name": "stdout",
     "output_type": "stream",
     "text": [
      "Entries with multiple decade values:  36528\n",
      "Multiple decade values that contain 1940:  36528\n",
      "Maximum length of duplicate values:  2\n"
     ]
    }
   ],
   "source": [
    "a=df[df['decade'].map(len)>1]\n",
    "print('Entries with multiple decade values: ', a.size)\n",
    "mask = a.decade.apply(lambda x: 1940 in x)\n",
    "print('Multiple decade values that contain 1940: ', a[mask].size)\n",
    "newCol=a['decade'].map(len)\n",
    "print('Maximum length of duplicate values: ', max(newCol))"
   ]
  },
  {
   "cell_type": "markdown",
   "metadata": {},
   "source": [
    "Awesome news...all of these entries that have multiple decade values have 2 decades in their list, and one of those decades is a 1940. Also, when I check out those filters on ultimate guitar, it seems the rest of the info is correct...so all I need to do is remove the \"1940\" decade tag from them and the rest of the data is still good values. We shouldn't have any more duplicate decades after that."
   ]
  },
  {
   "cell_type": "code",
   "execution_count": 145,
   "metadata": {},
   "outputs": [
    {
     "data": {
      "text/plain": [
       "<matplotlib.axes._subplots.AxesSubplot at 0x126c130f0>"
      ]
     },
     "execution_count": 145,
     "metadata": {},
     "output_type": "execute_result"
    },
    {
     "data": {
      "image/png": "[encoded data removed]",
      "text/plain": [
       "<Figure size 432x288 with 1 Axes>"
      ]
     },
     "metadata": {
      "needs_background": "light"
     },
     "output_type": "display_data"
    }
   ],
   "source": [
    "# remove 1940s from data. found during initial data analysis that these values were brought in incorrectly...no 1940 data online. when scraping for 1940 it just removes that filter but keeps the other (genre)\n",
    "def removeFourtys(decades):\n",
    "    newList=[]\n",
    "    for dec in decades:\n",
    "        if dec!=1940:\n",
    "            newList.append(dec)\n",
    "    if len(newList)>0:\n",
    "        return str(max(newList))\n",
    "    else:\n",
    "        return np.NaN\n",
    "\n",
    "df['decade']=df.decade.apply(removeFourtys)\n",
    "df.fillna('Missing').decade.value_counts().plot(kind='bar')\n"
   ]
  },
  {
   "cell_type": "markdown",
   "metadata": {},
   "source": [
    "Much better...After removing 1940 as a possible decade, we see that most of our tabs are from recent decades. The amount of tabs decreases as we go further back in time. There are a couple of tabs now missing decades since all they had were \"1940\". We could either clean those up by hand or just remove them when we deal with missing values.\n",
    "\n",
    "(PS I've also gone ahead and fixed that bug in my scraper in case any one else wants to use it!) "
   ]
  },
  {
   "cell_type": "markdown",
   "metadata": {},
   "source": [
    "### Genres"
   ]
  },
  {
   "cell_type": "markdown",
   "metadata": {},
   "source": [
    "We'll start again by just looking at the breakdown of genres. We have mostly all categorical data, so bar and pie charts are our best option here."
   ]
  },
  {
   "cell_type": "code",
   "execution_count": 146,
   "metadata": {},
   "outputs": [
    {
     "data": {
      "text/plain": [
       "<matplotlib.axes._subplots.AxesSubplot at 0x126b17f28>"
      ]
     },
     "execution_count": 146,
     "metadata": {},
     "output_type": "execute_result"
    },
    {
     "data": {
      "image/png": "[encoded data removed]",
      "text/plain": [
       "<Figure size 432x288 with 1 Axes>"
      ]
     },
     "metadata": {
      "needs_background": "light"
     },
     "output_type": "display_data"
    }
   ],
   "source": [
    "pd.Series(df.genre.sum()).value_counts().plot(kind=\"bar\")"
   ]
  },
  {
   "cell_type": "markdown",
   "metadata": {},
   "source": [
    "Similar to decades, a song potentially has multiple genres. However, unlike decades, having multiple genres is definitely possible. Let's exlore our songs that have multiple genres."
   ]
  },
  {
   "cell_type": "code",
   "execution_count": 147,
   "metadata": {},
   "outputs": [
    {
     "data": {
      "text/plain": [
       "<matplotlib.axes._subplots.AxesSubplot at 0x12cbb5f28>"
      ]
     },
     "execution_count": 147,
     "metadata": {},
     "output_type": "execute_result"
    },
    {
     "data": {
      "image/png": "[encoded data removed]",
      "text/plain": [
       "<Figure size 432x288 with 1 Axes>"
      ]
     },
     "metadata": {},
     "output_type": "display_data"
    }
   ],
   "source": [
    "a=df[df['genre'].notnull()].genre.apply(lambda x: \"One Genre\" if len(x)==1 else \"Multiple Genres\")\n",
    "a.value_counts().plot(kind='pie', autopct='%1.0f%%')"
   ]
  },
  {
   "cell_type": "code",
   "execution_count": 148,
   "metadata": {},
   "outputs": [
    {
     "data": {
      "text/plain": [
       "Text(0, 0.5, 'Count')"
      ]
     },
     "execution_count": 148,
     "metadata": {},
     "output_type": "execute_result"
    },
    {
     "data": {
      "image/png": "[encoded data removed]",
      "text/plain": [
       "<Figure size 432x288 with 1 Axes>"
      ]
     },
     "metadata": {
      "needs_background": "light"
     },
     "output_type": "display_data"
    }
   ],
   "source": [
    "ax =df['genre'].map(len).value_counts().plot(kind='bar', title='Number of Genres a Song Has')\n",
    "ax.set_xlabel(\"Genres\")\n",
    "ax.set_ylabel(\"Count\")"
   ]
  },
  {
   "cell_type": "markdown",
   "metadata": {},
   "source": [
    "So most songs only have one genre, but we still have quite a few with multiple (some even have 5). There's no reason to try and choose one genre for each song, as it could be interesting to to explore songs that cross genres, how they are related, etc. However, a list may not be the best format for comparing them. Lets try and see what the most popular crossover genres are. We will transform the field to be a sorted tuple for direct comparisons and hashing ability."
   ]
  },
  {
   "cell_type": "code",
   "execution_count": 149,
   "metadata": {},
   "outputs": [
    {
     "data": {
      "text/plain": [
       "<matplotlib.axes._subplots.AxesSubplot at 0x126c546a0>"
      ]
     },
     "execution_count": 149,
     "metadata": {},
     "output_type": "execute_result"
    },
    {
     "data": {
      "image/png": "[encoded data removed]",
      "text/plain": [
       "<Figure size 432x288 with 1 Axes>"
      ]
     },
     "metadata": {
      "needs_background": "light"
     },
     "output_type": "display_data"
    }
   ],
   "source": [
    "df['genre']=df.genre.apply(sorted).apply(tuple)\n",
    "df[df['genre'].map(len)>1]['genre'].value_counts().sort_values(ascending=False).head(15).plot(kind='bar')"
   ]
  },
  {
   "cell_type": "markdown",
   "metadata": {},
   "source": [
    "These all seem legit! \n",
    "\n",
    "Another thing I'm interested to see is how our decades and genres are related. I would assume that most of our Pop songs are from 2000's on, and Jazz would be earlier on. Lets try to graph this breakdown. It will be a good excercise in playing with pandas group by's as well"
   ]
  },
  {
   "cell_type": "code",
   "execution_count": 150,
   "metadata": {},
   "outputs": [
    {
     "data": {
      "text/plain": [
       "<matplotlib.axes._subplots.AxesSubplot at 0x13100f080>"
      ]
     },
     "execution_count": 150,
     "metadata": {},
     "output_type": "execute_result"
    },
    {
     "data": {
      "image/png": "[encoded data removed]",
      "text/plain": [
       "<Figure size 432x288 with 1 Axes>"
      ]
     },
     "metadata": {
      "needs_background": "light"
     },
     "output_type": "display_data"
    }
   ],
   "source": [
    "groups=df.groupby('decade')['genre'].apply(lambda x: list(x)).apply(lambda x: [item for sublist in x for item in sublist]).apply(lambda x: pd.Series(x).value_counts())\n",
    "groups[['Pop','Folk','Rock','Rhythm And Blues','Country','Metal']].plot(kind='bar', stacked=True)"
   ]
  },
  {
   "cell_type": "markdown",
   "metadata": {},
   "source": [
    "Nevermind! There actually is a fairly even split among all decades. This is honestly unexpected. This means that when I filtered on UG by \"2010+Pop\", I recieved a similar amount of data for the filter \"1980+Pop\". This is great that we have a balanced data set though! That was one of the reasons of scraping in the way I did."
   ]
  },
  {
   "cell_type": "markdown",
   "metadata": {},
   "source": [
    "### Songs and Artists"
   ]
  },
  {
   "cell_type": "markdown",
   "metadata": {},
   "source": [
    "Lets take a look at our artists first. I wonder how many diferent artists we have in this dataset?"
   ]
  },
  {
   "cell_type": "code",
   "execution_count": 151,
   "metadata": {},
   "outputs": [
    {
     "name": "stdout",
     "output_type": "stream",
     "text": [
      "Unique artists in data set:  872\n"
     ]
    }
   ],
   "source": [
    "print(\"Unique artists in data set: \", df.artist.nunique())"
   ]
  },
  {
   "cell_type": "markdown",
   "metadata": {},
   "source": [
    "Interesting, so we only have 872 unique artist, but we have over 10000 tabs. That means we have multiple songs per artist. Lets see which artists have the most songs in our dataset"
   ]
  },
  {
   "cell_type": "code",
   "execution_count": 152,
   "metadata": {},
   "outputs": [
    {
     "data": {
      "text/plain": [
       "<matplotlib.axes._subplots.AxesSubplot at 0x12ff2a7b8>"
      ]
     },
     "execution_count": 152,
     "metadata": {},
     "output_type": "execute_result"
    },
    {
     "data": {
      "image/png": "[encoded data removed]",
      "text/plain": [
       "<Figure size 432x288 with 1 Axes>"
      ]
     },
     "metadata": {
      "needs_background": "light"
     },
     "output_type": "display_data"
    }
   ],
   "source": [
    "df.artist.value_counts().head(10).plot(kind='bar', title='Tabs per artist')"
   ]
  },
  {
   "cell_type": "markdown",
   "metadata": {},
   "source": [
    "Lets look at the top artist from this group, Bob Dylan, to get an idea of what a breakdown of all his songs are"
   ]
  },
  {
   "cell_type": "code",
   "execution_count": 153,
   "metadata": {},
   "outputs": [
    {
     "name": "stdout",
     "output_type": "stream",
     "text": [
      "number of bob dylan songs in dataset:  152\n",
      "number of bob dylan songs with multiple versions:  80\n"
     ]
    },
    {
     "data": {
      "text/plain": [
       "<matplotlib.axes._subplots.AxesSubplot at 0x12cf385f8>"
      ]
     },
     "execution_count": 153,
     "metadata": {},
     "output_type": "execute_result"
    },
    {
     "data": {
      "image/png": "[encoded data removed]",
      "text/plain": [
       "<Figure size 432x288 with 1 Axes>"
      ]
     },
     "metadata": {
      "needs_background": "light"
     },
     "output_type": "display_data"
    }
   ],
   "source": [
    "dylan=df[df['artist']==\"Bob Dylan\"]\n",
    "dylanSongs=dylan.groupby('song').size().sort_values(ascending=False)\n",
    "print(\"number of bob dylan songs in dataset: \", len(dylanSongs))\n",
    "print(\"number of bob dylan songs with multiple versions: \",len(dylanSongs[dylanSongs>1]) )\n",
    "dylanSongs.head(20).plot(kind='bar', title=\"Versions of Bob Dylan Songs\")"
   ]
  },
  {
   "cell_type": "markdown",
   "metadata": {},
   "source": [
    "Lets look specifically into Blowing in the Wind to see what the differences in each version are"
   ]
  },
  {
   "cell_type": "code",
   "execution_count": 154,
   "metadata": {},
   "outputs": [
    {
     "data": {
      "text/html": [
       "<div>\n",
       "<style scoped>\n",
       "    .dataframe tbody tr th:only-of-type {\n",
       "        vertical-align: middle;\n",
       "    }\n",
       "\n",
       "    .dataframe tbody tr th {\n",
       "        vertical-align: top;\n",
       "    }\n",
       "\n",
       "    .dataframe thead th {\n",
       "        text-align: right;\n",
       "    }\n",
       "</style>\n",
       "<table border=\"1\" class=\"dataframe\">\n",
       "  <thead>\n",
       "    <tr style=\"text-align: right;\">\n",
       "      <th></th>\n",
       "      <th>url</th>\n",
       "      <th>chordOrder</th>\n",
       "      <th>uniqueChords</th>\n",
       "      <th>song</th>\n",
       "      <th>artist</th>\n",
       "      <th>genre</th>\n",
       "      <th>decade</th>\n",
       "      <th>difficulty</th>\n",
       "      <th>tuning</th>\n",
       "      <th>capo</th>\n",
       "      <th>key</th>\n",
       "      <th>other</th>\n",
       "    </tr>\n",
       "  </thead>\n",
       "  <tbody>\n",
       "    <tr>\n",
       "      <th>4996</th>\n",
       "      <td>https://tabs.ultimate-guitar.com/tab/bob-dylan/blowin-in-the-wind-chords-1086954</td>\n",
       "      <td>[D, D, G, D, G, D, D, G, D, G, A, D, G, D, G, D, G, A, D, Bm, G, A, D, G, A, D, Bm, G, A, D, D, G, D, G, D, D, G, D, G, A, D, G, D, G, D, G, A, D, Bm, G, A, D, G, A, D, Bm, G, A, D, D, G, D, G, D, D, G, D, G, A, D, G, D, G, D, G, A, D, Bm, G, A, D, G, A, D, Bm, G, A, D]</td>\n",
       "      <td>[D, G, A, Bm]</td>\n",
       "      <td>Blowin In The Wind</td>\n",
       "      <td>Bob Dylan</td>\n",
       "      <td>(Folk, Rock)</td>\n",
       "      <td>1960</td>\n",
       "      <td>novice</td>\n",
       "      <td>NaN</td>\n",
       "      <td>NaN</td>\n",
       "      <td>D</td>\n",
       "      <td>NaN</td>\n",
       "    </tr>\n",
       "    <tr>\n",
       "      <th>4997</th>\n",
       "      <td>https://tabs.ultimate-guitar.com/tab/bob-dylan/blowin-in-the-wind-chords-147936</td>\n",
       "      <td>[C, F, C, Am, C, F, G, G7, C, F, C, Am, C, F, G, G7, C, F, C, Am, C, F, G, F, G, C, E7, Am, F, G, C, C, F, C, Am, C, F, G, G7, C, F, C, Am, C, F, G, G7, C, F, C, Am, C, F, G, G7, F, G, C, E7, Am, F, G, C, C, F, C, Am, C, F, G, G7, C, F, C, Am, C, F, G, G7, C, F, C, Am, C, F, G, G7, F, G, C, E7, Am, F, G, C]</td>\n",
       "      <td>[C, F, Am, G, G7, E7]</td>\n",
       "      <td>Blowin In The Wind</td>\n",
       "      <td>Bob Dylan</td>\n",
       "      <td>(Folk, Rock)</td>\n",
       "      <td>1960</td>\n",
       "      <td>NaN</td>\n",
       "      <td>E A D G B E</td>\n",
       "      <td>NaN</td>\n",
       "      <td>NaN</td>\n",
       "      <td>NaN</td>\n",
       "    </tr>\n",
       "    <tr>\n",
       "      <th>4998</th>\n",
       "      <td>https://tabs.ultimate-guitar.com/tab/bob-dylan/blowin-in-the-wind-chords-14835</td>\n",
       "      <td>[G, C, D, G, C, G, G, C, D, G, C, D, G, C, D, G, C, G, C, D, G, C, D, G, C, D, G, C, C, D, G, G, C, D, G, C, G, G, C, D, G, C, D, G, C, D, G, C, G, C, D, G, C, D, G, C, D, G, C, C, D, G, G, C, D, G, C, G, G, C, D, G, C, D, G, C, D, G, C, G, C, D, G, C, D, G, C, D, G, C, C, D, G]</td>\n",
       "      <td>[G, C, D]</td>\n",
       "      <td>Blowin In The Wind</td>\n",
       "      <td>Bob Dylan</td>\n",
       "      <td>(Folk, Rock)</td>\n",
       "      <td>1960</td>\n",
       "      <td>novice</td>\n",
       "      <td>E A D G B E</td>\n",
       "      <td>7th fret</td>\n",
       "      <td>D</td>\n",
       "      <td>NaN</td>\n",
       "    </tr>\n",
       "    <tr>\n",
       "      <th>4999</th>\n",
       "      <td>https://tabs.ultimate-guitar.com/tab/bob-dylan/blowin-in-the-wind-chords-14845</td>\n",
       "      <td>[C, D, G, C, D, G, G, C, D, G, C, D, G, C, D, G, C, D, G, C, D, G, C, D, G, C, D, G, C, D, G, C, D, G, C, D, G, C, D, G, C, D, G, C, D, G, C, D, G, C, D, G, C, D, G, C, D, G, C, D]</td>\n",
       "      <td>[C, D, G]</td>\n",
       "      <td>Blowin In The Wind</td>\n",
       "      <td>Bob Dylan</td>\n",
       "      <td>(Folk, Rock)</td>\n",
       "      <td>1960</td>\n",
       "      <td>NaN</td>\n",
       "      <td>NaN</td>\n",
       "      <td>NaN</td>\n",
       "      <td>NaN</td>\n",
       "      <td>NaN</td>\n",
       "    </tr>\n",
       "    <tr>\n",
       "      <th>5000</th>\n",
       "      <td>https://tabs.ultimate-guitar.com/tab/bob-dylan/blowin-in-the-wind-chords-1813913</td>\n",
       "      <td>[G, C, G, C, G, G, C, G, C, D, G, C, G, C, G, C, D, G, Em, C, D, G, C, D, G, Em, C, D, G, G, C, G, C, G, G, C, G, C, D, G, C, G, C, G, C, D, G, Em, C, D, G, C, D, G, Em, C, D, G, G, C, G, C, G, G, C, G, C, D, G, C, G, C, G, C, D, G, Em, C, D, G]</td>\n",
       "      <td>[G, C, D, Em]</td>\n",
       "      <td>Blowin In The Wind</td>\n",
       "      <td>Bob Dylan</td>\n",
       "      <td>(Folk, Rock)</td>\n",
       "      <td>1960</td>\n",
       "      <td>novice</td>\n",
       "      <td>E A D G B E</td>\n",
       "      <td>6th fret</td>\n",
       "      <td>NaN</td>\n",
       "      <td>NaN</td>\n",
       "    </tr>\n",
       "    <tr>\n",
       "      <th>5001</th>\n",
       "      <td>https://tabs.ultimate-guitar.com/tab/bob-dylan/blowin-in-the-wind-chords-2273011</td>\n",
       "      <td>[G, G, C, G/B, D/A, G, G, C, G/B, G, G, C, G/B, D/A, G, G, C, G/B, D/A, G, C, G/B, D/A, G, G, C, G/B, G, C, C/B, D/A, D/F#, G, C, C/G, C, C/B, D/A, G, C, C/B, D/A, D/F#, G, C, C/G, C, C/B, D/A, G, G, G, C, G/B, D/A, G, G, C, G/B, G, G, C, G/B, D/A, G, G, C, G/B, D/A, G, C, G/B, D/A, G, G, C, G/B, G, C, C/B, D/A, D/F#, G, C, C/G, C, C/B, D/A, G, C, C/B, D/A, G, C, C/G, C, C/B, D/A, D/F#, G, ...]</td>\n",
       "      <td>[G, C, G/B, D/A, C/B, D/F#, C/G, D]</td>\n",
       "      <td>Blowin In The Wind</td>\n",
       "      <td>Bob Dylan</td>\n",
       "      <td>(Folk,)</td>\n",
       "      <td>1960</td>\n",
       "      <td>intermediate</td>\n",
       "      <td>E A D G B E</td>\n",
       "      <td>7th fret</td>\n",
       "      <td>D</td>\n",
       "      <td>Chords for the classic acoustic version from \"The Freewheelin' Bob Dylan\": https://www.youtube.com/watch?v=MMFj8uDubsE / intermediate with split chords - including the bass line played on the 5th and 6th string. Was this info helpful?YesNo</td>\n",
       "    </tr>\n",
       "    <tr>\n",
       "      <th>5002</th>\n",
       "      <td>https://tabs.ultimate-guitar.com/tab/bob-dylan/blowin-in-the-wind-chords-660670</td>\n",
       "      <td>[D, D, G, A, D, G, D, G, A, D, G, A, D, G, A, D, G, D, G, A, D, Bm, G, A, D, G, A, D, Bm, G, A, D, D, G, A, D, G, D, G, A, D, G, A, D, G, A, D, G, D, G, A, D, Bm, G, A, D, G, A, D, Bm, G, A, D, D, G, A, D, G, D, G, A, D, G, A, D, G, A, D, G, D, G, A, D, Bm, G, A, D, G, A, D, Bm, G, A, D]</td>\n",
       "      <td>[D, G, A, Bm]</td>\n",
       "      <td>Blowin In The Wind</td>\n",
       "      <td>Bob Dylan</td>\n",
       "      <td>(Folk,)</td>\n",
       "      <td>1960</td>\n",
       "      <td>NaN</td>\n",
       "      <td>E A D G B E</td>\n",
       "      <td>NaN</td>\n",
       "      <td>NaN</td>\n",
       "      <td>NaN</td>\n",
       "    </tr>\n",
       "    <tr>\n",
       "      <th>5003</th>\n",
       "      <td>https://tabs.ultimate-guitar.com/tab/bob-dylan/blowin-in-the-wind-chords-771892</td>\n",
       "      <td>[G, C, G, C, G, G, C, G, C, D, G, C, G, C, G, C, D, G, C, C, D, G, C, D, G, C, C, D, G, G, C, G, C, G, G, C, G, C, D, G, C, G, C, G, C, D, G, C, C, D, G, G, C, G, G, C, G, G, C, G, G, C, D, G, C, G, G, C, G, C, D, G, C, C, D, G]</td>\n",
       "      <td>[G, C, D]</td>\n",
       "      <td>Blowin In The Wind</td>\n",
       "      <td>Bob Dylan</td>\n",
       "      <td>(Folk,)</td>\n",
       "      <td>1960</td>\n",
       "      <td>NaN</td>\n",
       "      <td>E A D G B E</td>\n",
       "      <td>NaN</td>\n",
       "      <td>NaN</td>\n",
       "      <td>NaN</td>\n",
       "    </tr>\n",
       "    <tr>\n",
       "      <th>5004</th>\n",
       "      <td>https://tabs.ultimate-guitar.com/tab/bob-dylan/blowin-in-the-wind-chords-995791</td>\n",
       "      <td>[C, F, C, C, C, F, C, C, C, F, C, C, C, F, C, C, C, F, G, G, C, F, C, G, C, F, G, F, G, C, Am, F, G, C, C, C, F, C, C, C, F, C, C, C, F, C, C, C, F, C, C, C, F, G, G, C, F, C, C, C, F, G, F, G, C, Am, F, G, C, C, C, F, C, C, C, F, C, C, C, F, C, C, C, F, C, C, C, F, G, G, C, F, C, C, C, F, G, F, G, C, ...]</td>\n",
       "      <td>[C, F, G, Am]</td>\n",
       "      <td>Blowin In The Wind</td>\n",
       "      <td>Bob Dylan</td>\n",
       "      <td>(Folk,)</td>\n",
       "      <td>1960</td>\n",
       "      <td>novice</td>\n",
       "      <td>E A D G B E</td>\n",
       "      <td>2nd fret</td>\n",
       "      <td>NaN</td>\n",
       "      <td>NaN</td>\n",
       "    </tr>\n",
       "  </tbody>\n",
       "</table>\n",
       "</div>"
      ],
      "text/plain": [
       "                                                                                   url  \\\n",
       "4996  https://tabs.ultimate-guitar.com/tab/bob-dylan/blowin-in-the-wind-chords-1086954   \n",
       "4997  https://tabs.ultimate-guitar.com/tab/bob-dylan/blowin-in-the-wind-chords-147936    \n",
       "4998  https://tabs.ultimate-guitar.com/tab/bob-dylan/blowin-in-the-wind-chords-14835     \n",
       "4999  https://tabs.ultimate-guitar.com/tab/bob-dylan/blowin-in-the-wind-chords-14845     \n",
       "5000  https://tabs.ultimate-guitar.com/tab/bob-dylan/blowin-in-the-wind-chords-1813913   \n",
       "5001  https://tabs.ultimate-guitar.com/tab/bob-dylan/blowin-in-the-wind-chords-2273011   \n",
       "5002  https://tabs.ultimate-guitar.com/tab/bob-dylan/blowin-in-the-wind-chords-660670    \n",
       "5003  https://tabs.ultimate-guitar.com/tab/bob-dylan/blowin-in-the-wind-chords-771892    \n",
       "5004  https://tabs.ultimate-guitar.com/tab/bob-dylan/blowin-in-the-wind-chords-995791    \n",
       "\n",
       "                                                                                                                                                                                                                                                                                                                                                                                                         chordOrder  \\\n",
       "4996  [D, D, G, D, G, D, D, G, D, G, A, D, G, D, G, D, G, A, D, Bm, G, A, D, G, A, D, Bm, G, A, D, D, G, D, G, D, D, G, D, G, A, D, G, D, G, D, G, A, D, Bm, G, A, D, G, A, D, Bm, G, A, D, D, G, D, G, D, D, G, D, G, A, D, G, D, G, D, G, A, D, Bm, G, A, D, G, A, D, Bm, G, A, D]                                                                                                                                  \n",
       "4997  [C, F, C, Am, C, F, G, G7, C, F, C, Am, C, F, G, G7, C, F, C, Am, C, F, G, F, G, C, E7, Am, F, G, C, C, F, C, Am, C, F, G, G7, C, F, C, Am, C, F, G, G7, C, F, C, Am, C, F, G, G7, F, G, C, E7, Am, F, G, C, C, F, C, Am, C, F, G, G7, C, F, C, Am, C, F, G, G7, C, F, C, Am, C, F, G, G7, F, G, C, E7, Am, F, G, C]                                                                                            \n",
       "4998  [G, C, D, G, C, G, G, C, D, G, C, D, G, C, D, G, C, G, C, D, G, C, D, G, C, D, G, C, C, D, G, G, C, D, G, C, G, G, C, D, G, C, D, G, C, D, G, C, G, C, D, G, C, D, G, C, D, G, C, C, D, G, G, C, D, G, C, G, G, C, D, G, C, D, G, C, D, G, C, G, C, D, G, C, D, G, C, D, G, C, C, D, G]                                                                                                                         \n",
       "4999  [C, D, G, C, D, G, G, C, D, G, C, D, G, C, D, G, C, D, G, C, D, G, C, D, G, C, D, G, C, D, G, C, D, G, C, D, G, C, D, G, C, D, G, C, D, G, C, D, G, C, D, G, C, D, G, C, D, G, C, D]                                                                                                                                                                                                                            \n",
       "5000  [G, C, G, C, G, G, C, G, C, D, G, C, G, C, G, C, D, G, Em, C, D, G, C, D, G, Em, C, D, G, G, C, G, C, G, G, C, G, C, D, G, C, G, C, G, C, D, G, Em, C, D, G, C, D, G, Em, C, D, G, G, C, G, C, G, G, C, G, C, D, G, C, G, C, G, C, D, G, Em, C, D, G]                                                                                                                                                           \n",
       "5001  [G, G, C, G/B, D/A, G, G, C, G/B, G, G, C, G/B, D/A, G, G, C, G/B, D/A, G, C, G/B, D/A, G, G, C, G/B, G, C, C/B, D/A, D/F#, G, C, C/G, C, C/B, D/A, G, C, C/B, D/A, D/F#, G, C, C/G, C, C/B, D/A, G, G, G, C, G/B, D/A, G, G, C, G/B, G, G, C, G/B, D/A, G, G, C, G/B, D/A, G, C, G/B, D/A, G, G, C, G/B, G, C, C/B, D/A, D/F#, G, C, C/G, C, C/B, D/A, G, C, C/B, D/A, G, C, C/G, C, C/B, D/A, D/F#, G, ...]   \n",
       "5002  [D, D, G, A, D, G, D, G, A, D, G, A, D, G, A, D, G, D, G, A, D, Bm, G, A, D, G, A, D, Bm, G, A, D, D, G, A, D, G, D, G, A, D, G, A, D, G, A, D, G, D, G, A, D, Bm, G, A, D, G, A, D, Bm, G, A, D, D, G, A, D, G, D, G, A, D, G, A, D, G, A, D, G, D, G, A, D, Bm, G, A, D, G, A, D, Bm, G, A, D]                                                                                                                \n",
       "5003  [G, C, G, C, G, G, C, G, C, D, G, C, G, C, G, C, D, G, C, C, D, G, C, D, G, C, C, D, G, G, C, G, C, G, G, C, G, C, D, G, C, G, C, G, C, D, G, C, C, D, G, G, C, G, G, C, G, G, C, G, G, C, D, G, C, G, G, C, G, C, D, G, C, C, D, G]                                                                                                                                                                            \n",
       "5004  [C, F, C, C, C, F, C, C, C, F, C, C, C, F, C, C, C, F, G, G, C, F, C, G, C, F, G, F, G, C, Am, F, G, C, C, C, F, C, C, C, F, C, C, C, F, C, C, C, F, C, C, C, F, G, G, C, F, C, C, C, F, G, F, G, C, Am, F, G, C, C, C, F, C, C, C, F, C, C, C, F, C, C, C, F, C, C, C, F, G, G, C, F, C, C, C, F, G, F, G, C, ...]                                                                                             \n",
       "\n",
       "                             uniqueChords                song     artist  \\\n",
       "4996  [D, G, A, Bm]                        Blowin In The Wind  Bob Dylan   \n",
       "4997  [C, F, Am, G, G7, E7]                Blowin In The Wind  Bob Dylan   \n",
       "4998  [G, C, D]                            Blowin In The Wind  Bob Dylan   \n",
       "4999  [C, D, G]                            Blowin In The Wind  Bob Dylan   \n",
       "5000  [G, C, D, Em]                        Blowin In The Wind  Bob Dylan   \n",
       "5001  [G, C, G/B, D/A, C/B, D/F#, C/G, D]  Blowin In The Wind  Bob Dylan   \n",
       "5002  [D, G, A, Bm]                        Blowin In The Wind  Bob Dylan   \n",
       "5003  [G, C, D]                            Blowin In The Wind  Bob Dylan   \n",
       "5004  [C, F, G, Am]                        Blowin In The Wind  Bob Dylan   \n",
       "\n",
       "             genre decade    difficulty       tuning      capo  key  \\\n",
       "4996  (Folk, Rock)  1960   novice        NaN          NaN       D     \n",
       "4997  (Folk, Rock)  1960   NaN           E A D G B E  NaN       NaN   \n",
       "4998  (Folk, Rock)  1960   novice        E A D G B E  7th fret  D     \n",
       "4999  (Folk, Rock)  1960   NaN           NaN          NaN       NaN   \n",
       "5000  (Folk, Rock)  1960   novice        E A D G B E  6th fret  NaN   \n",
       "5001  (Folk,)       1960   intermediate  E A D G B E  7th fret  D     \n",
       "5002  (Folk,)       1960   NaN           E A D G B E  NaN       NaN   \n",
       "5003  (Folk,)       1960   NaN           E A D G B E  NaN       NaN   \n",
       "5004  (Folk,)       1960   novice        E A D G B E  2nd fret  NaN   \n",
       "\n",
       "                                                                                                                                                                                                                                                other  \n",
       "4996  NaN                                                                                                                                                                                                                                              \n",
       "4997  NaN                                                                                                                                                                                                                                              \n",
       "4998  NaN                                                                                                                                                                                                                                              \n",
       "4999  NaN                                                                                                                                                                                                                                              \n",
       "5000  NaN                                                                                                                                                                                                                                              \n",
       "5001  Chords for the classic acoustic version from \"The Freewheelin' Bob Dylan\": https://www.youtube.com/watch?v=MMFj8uDubsE / intermediate with split chords - including the bass line played on the 5th and 6th string. Was this info helpful?YesNo  \n",
       "5002  NaN                                                                                                                                                                                                                                              \n",
       "5003  NaN                                                                                                                                                                                                                                              \n",
       "5004  NaN                                                                                                                                                                                                                                              "
      ]
     },
     "execution_count": 154,
     "metadata": {},
     "output_type": "execute_result"
    }
   ],
   "source": [
    "dylan[dylan['song']=='Blowin In The Wind']"
   ]
  },
  {
   "cell_type": "markdown",
   "metadata": {},
   "source": [
    "Interesting, so looks like there are 9 pretty different versions of the same song. There are a few basic/easy versions where the songs only use C D and G. Theres another version with D G A and Bm. Theres also an intermediate version with some more unique chords...\n",
    "\n",
    "Lets look at multi-versioned songs on a higher level."
   ]
  },
  {
   "cell_type": "code",
   "execution_count": 155,
   "metadata": {},
   "outputs": [
    {
     "data": {
      "text/plain": [
       "<matplotlib.axes._subplots.AxesSubplot at 0x12e956390>"
      ]
     },
     "execution_count": 155,
     "metadata": {},
     "output_type": "execute_result"
    },
    {
     "data": {
      "image/png": "[encoded data removed]",
      "text/plain": [
       "<Figure size 432x288 with 1 Axes>"
      ]
     },
     "metadata": {},
     "output_type": "display_data"
    }
   ],
   "source": [
    "songArtist=df.groupby(['song','artist']).size().sort_values(ascending=False)\n",
    "# print(\"Number of unique songs in db: \", len(songArtist))\n",
    "# print(\"Number of songs that have multiple versions: \", songArtist[songArtist>1].sum())\n",
    "# songArtist.head()\n",
    "songArtist.apply(lambda x: \"One Version\" if x==1 else \"Multiple Versions\").value_counts().plot(kind='pie',  autopct='%1.0f%%')\n"
   ]
  },
  {
   "cell_type": "markdown",
   "metadata": {},
   "source": [
    "Interesting, so 30% of our songs have multiple versions in this data set. It could be interesting to look at differences across versions at some point!\n",
    "\n",
    "As a first step though, lets look at which songs have the most versions in this data set."
   ]
  },
  {
   "cell_type": "code",
   "execution_count": 156,
   "metadata": {},
   "outputs": [
    {
     "data": {
      "text/plain": [
       "<matplotlib.axes._subplots.AxesSubplot at 0x12a2f8208>"
      ]
     },
     "execution_count": 156,
     "metadata": {},
     "output_type": "execute_result"
    },
    {
     "data": {
      "image/png": "[encoded data removed]",
      "text/plain": [
       "<Figure size 432x288 with 1 Axes>"
      ]
     },
     "metadata": {
      "needs_background": "light"
     },
     "output_type": "display_data"
    }
   ],
   "source": [
    "(df['song']+'-'+df['artist']).value_counts().head(15).plot(kind='bar')\n",
    "# df.song.value_counts().head(10).plot(kind='bar')"
   ]
  },
  {
   "cell_type": "markdown",
   "metadata": {},
   "source": [
    "Wow Adele really dominates this list, tons of songs with multiple versions."
   ]
  },
  {
   "cell_type": "markdown",
   "metadata": {},
   "source": [
    "### Song Difficulties, Tuning, Capo, and Key\n",
    "\n",
    "On to the next. These values were all gathered in one field listed at the top of the tab."
   ]
  },
  {
   "cell_type": "code",
   "execution_count": 157,
   "metadata": {},
   "outputs": [
    {
     "data": {
      "text/plain": [
       "<matplotlib.axes._subplots.AxesSubplot at 0x126cd7a58>"
      ]
     },
     "execution_count": 157,
     "metadata": {},
     "output_type": "execute_result"
    },
    {
     "data": {
      "image/png": "[encoded data removed]",
      "text/plain": [
       "<Figure size 432x288 with 1 Axes>"
      ]
     },
     "metadata": {},
     "output_type": "display_data"
    }
   ],
   "source": [
    "df.difficulty.value_counts().plot(kind='pie', title='Difficulty')"
   ]
  },
  {
   "cell_type": "markdown",
   "metadata": {},
   "source": [
    "A majority of our songs are novice!"
   ]
  },
  {
   "cell_type": "code",
   "execution_count": 158,
   "metadata": {},
   "outputs": [
    {
     "data": {
      "text/plain": [
       "<matplotlib.axes._subplots.AxesSubplot at 0x12cda65c0>"
      ]
     },
     "execution_count": 158,
     "metadata": {},
     "output_type": "execute_result"
    },
    {
     "data": {
      "image/png": "[encoded data removed]",
      "text/plain": [
       "<Figure size 432x288 with 1 Axes>"
      ]
     },
     "metadata": {
      "needs_background": "light"
     },
     "output_type": "display_data"
    }
   ],
   "source": [
    "df.tuning.value_counts().plot(kind='bar', title='Tuning')"
   ]
  },
  {
   "cell_type": "markdown",
   "metadata": {},
   "source": [
    "The large majority of these are in standard tuning. Interesting that the next most popular tuning is just standard tuning shifted a half step down."
   ]
  },
  {
   "cell_type": "code",
   "execution_count": 159,
   "metadata": {},
   "outputs": [
    {
     "data": {
      "text/plain": [
       "<matplotlib.axes._subplots.AxesSubplot at 0x12a49f630>"
      ]
     },
     "execution_count": 159,
     "metadata": {},
     "output_type": "execute_result"
    },
    {
     "data": {
      "image/png": "[encoded data removed]",
      "text/plain": [
       "<Figure size 432x288 with 1 Axes>"
      ]
     },
     "metadata": {
      "needs_background": "light"
     },
     "output_type": "display_data"
    }
   ],
   "source": [
    "df.key.value_counts().plot(kind='bar', title='Key')"
   ]
  },
  {
   "cell_type": "markdown",
   "metadata": {},
   "source": [
    "We've got a pretty balanced set of keys here"
   ]
  },
  {
   "cell_type": "markdown",
   "metadata": {},
   "source": [
    "## Chords"
   ]
  },
  {
   "cell_type": "markdown",
   "metadata": {},
   "source": [
    "I honestly don't even know where to start with these, there's so many interesting directions to take this. I think the best way forward will be to just ask some questions about the chords, and try to find answers. This might inform next questions and steps for this project as well."
   ]
  },
  {
   "cell_type": "markdown",
   "metadata": {},
   "source": [
    "#### What are the most used chords across all songs?"
   ]
  },
  {
   "cell_type": "code",
   "execution_count": 160,
   "metadata": {},
   "outputs": [
    {
     "data": {
      "text/plain": [
       "<matplotlib.axes._subplots.AxesSubplot at 0x12e1e9898>"
      ]
     },
     "execution_count": 160,
     "metadata": {},
     "output_type": "execute_result"
    },
    {
     "data": {
      "image/png": "[encoded data removed]",
      "text/plain": [
       "<Figure size 432x288 with 1 Axes>"
      ]
     },
     "metadata": {
      "needs_background": "light"
     },
     "output_type": "display_data"
    }
   ],
   "source": [
    "chordList=df.uniqueChords.sum()\n",
    "((pd.Series(chordList).value_counts().sort_values(ascending=False)/len(df))* 100).head(15).plot(kind='bar', title='Percent of Songs That Have Chord X')"
   ]
  },
  {
   "cell_type": "markdown",
   "metadata": {},
   "source": [
    "Wow G C and D are all in over 50% of the songs in the DB!"
   ]
  },
  {
   "cell_type": "markdown",
   "metadata": {},
   "source": [
    "#### How many unique chords are in this database?"
   ]
  },
  {
   "cell_type": "code",
   "execution_count": 161,
   "metadata": {},
   "outputs": [
    {
     "name": "stdout",
     "output_type": "stream",
     "text": [
      "There are 1730 unique chords used across all songs\n"
     ]
    }
   ],
   "source": [
    "uniqueChords=len(list(set(chordList)))\n",
    "print(\"There are {} unique chords used across all songs\".format(uniqueChords))"
   ]
  },
  {
   "cell_type": "markdown",
   "metadata": {},
   "source": [
    "Is this right?? Are there that many unique chords? Maybe we can check by seeing if chords are used across multiple songs? I would assume if they are only used once in the entire DB of 10k songs, it's likely they are just written in a unique way"
   ]
  },
  {
   "cell_type": "code",
   "execution_count": 162,
   "metadata": {},
   "outputs": [
    {
     "data": {
      "text/plain": [
       "Text(0, 0.5, 'Chord Count')"
      ]
     },
     "execution_count": 162,
     "metadata": {},
     "output_type": "execute_result"
    },
    {
     "data": {
      "image/png": "[encoded data removed]",
      "text/plain": [
       "<Figure size 432x288 with 1 Axes>"
      ]
     },
     "metadata": {
      "needs_background": "light"
     },
     "output_type": "display_data"
    }
   ],
   "source": [
    "chordCounts=pd.Series(chordList).value_counts().sort_values(ascending=False)\n",
    "ranges = [0,1,10,2000,100000]\n",
    "ax=chordCounts.groupby(pd.cut(chordCounts, ranges)).count().plot(kind='bar', title='Chord Frequency')\n",
    "ax.set_xlabel(\"Song Count\")\n",
    "ax.set_ylabel(\"Chord Count\")"
   ]
  },
  {
   "cell_type": "markdown",
   "metadata": {},
   "source": [
    "Interesting, so although we definitely have \"common chords\" (i.e ones that are used across many songs), we've got plenty of chords that are used very sparsely (i.e only seen in one song). There are likely many ways to clean this up properly, so I'll leave this for future work."
   ]
  },
  {
   "cell_type": "code",
   "execution_count": 163,
   "metadata": {},
   "outputs": [
    {
     "data": {
      "text/plain": [
       "Text(0.5, 1.0, 'Chord Frequency of Use Across Songs')"
      ]
     },
     "execution_count": 163,
     "metadata": {},
     "output_type": "execute_result"
    },
    {
     "data": {
      "image/png": "[encoded data removed]",
      "text/plain": [
       "<Figure size 432x288 with 1 Axes>"
      ]
     },
     "metadata": {
      "needs_background": "light"
     },
     "output_type": "display_data"
    }
   ],
   "source": [
    "sns.distplot(chordCounts).set_title(\"Chord Frequency of Use Across Songs\")"
   ]
  },
  {
   "cell_type": "markdown",
   "metadata": {},
   "source": [
    "This is another way of looking at this data. Most chords are used rarely (big spike near 0), while there are small percentages of chords used many times."
   ]
  },
  {
   "cell_type": "markdown",
   "metadata": {},
   "source": [
    "#### How many chords do most songs have?\n"
   ]
  },
  {
   "cell_type": "code",
   "execution_count": 164,
   "metadata": {},
   "outputs": [
    {
     "data": {
      "text/plain": [
       "<matplotlib.axes._subplots.AxesSubplot at 0x12a36fbe0>"
      ]
     },
     "execution_count": 164,
     "metadata": {},
     "output_type": "execute_result"
    },
    {
     "data": {
      "image/png": "[encoded data removed]",
      "text/plain": [
       "<Figure size 432x288 with 1 Axes>"
      ]
     },
     "metadata": {
      "needs_background": "light"
     },
     "output_type": "display_data"
    }
   ],
   "source": [
    "df['cardinality']=df.uniqueChords.apply(lambda x: len(x))\n",
    "df.cardinality.plot(kind='hist', bins=50)"
   ]
  },
  {
   "cell_type": "code",
   "execution_count": 165,
   "metadata": {},
   "outputs": [
    {
     "name": "stdout",
     "output_type": "stream",
     "text": [
      "Song Chord Info\n",
      "Median Cardinality:  6.0\n",
      "Max Cardinality:  101\n",
      "Min Cardinality:  0\n"
     ]
    }
   ],
   "source": [
    "print('Song Chord Info')\n",
    "print('Median Cardinality: ', df['cardinality'].median())\n",
    "print('Max Cardinality: ', df['cardinality'].max())\n",
    "print('Min Cardinality: ', df['cardinality'].min())"
   ]
  },
  {
   "cell_type": "markdown",
   "metadata": {},
   "source": [
    "These cadinality counts are interesting. Looks like we have some data with no chord data at all. We can remove those from our data set. It could also be worth exploring some of these songs with 50 chords! 101 is our max which is really a lot of chords to have for a song..."
   ]
  },
  {
   "cell_type": "code",
   "execution_count": 166,
   "metadata": {},
   "outputs": [
    {
     "name": "stdout",
     "output_type": "stream",
     "text": [
      "Old Count of Songs:  9997\n",
      "Song Chord Info\n",
      "Median Cardinality:  6.0\n",
      "Max Cardinality:  101\n",
      "Min Cardinality:  1\n",
      "New Count of Songs (after removing 0 cardinality songs):  9927\n"
     ]
    }
   ],
   "source": [
    "#remove songs with no chords\n",
    "print('Old Count of Songs: ', df.shape[0])\n",
    "df=df[df['cardinality']!=0]\n",
    "print('Song Chord Info')\n",
    "print('Median Cardinality: ', df['cardinality'].median())\n",
    "print('Max Cardinality: ', df['cardinality'].max())\n",
    "print('Min Cardinality: ', df['cardinality'].min())\n",
    "print('New Count of Songs (after removing 0 cardinality songs): ', df.shape[0])"
   ]
  },
  {
   "cell_type": "markdown",
   "metadata": {},
   "source": [
    "#### Do songs often use the same chords?"
   ]
  },
  {
   "cell_type": "code",
   "execution_count": 167,
   "metadata": {},
   "outputs": [
    {
     "data": {
      "text/plain": [
       "<matplotlib.axes._subplots.AxesSubplot at 0x12410d898>"
      ]
     },
     "execution_count": 167,
     "metadata": {},
     "output_type": "execute_result"
    },
    {
     "data": {
      "image/png": "[encoded data removed]",
      "text/plain": [
       "<Figure size 432x288 with 1 Axes>"
      ]
     },
     "metadata": {
      "needs_background": "light"
     },
     "output_type": "display_data"
    }
   ],
   "source": [
    "# novChords.value_counts()\n",
    "df.uniqueChords.apply(sorted).apply(tuple).value_counts().head(10).plot(kind='bar')"
   ]
  },
  {
   "cell_type": "markdown",
   "metadata": {},
   "source": [
    "So we definitely have quite a few songs that have similar chords. I would imagine that songs with these rather simple chord progressions are mostly novice songs. Lets check this out by breaking down these common groupings by the difficulty group they are found in"
   ]
  },
  {
   "cell_type": "code",
   "execution_count": 168,
   "metadata": {},
   "outputs": [
    {
     "data": {
      "text/plain": [
       "<matplotlib.axes._subplots.AxesSubplot at 0x130464f60>"
      ]
     },
     "execution_count": 168,
     "metadata": {},
     "output_type": "execute_result"
    },
    {
     "data": {
      "image/png": "[encoded data removed]",
      "text/plain": [
       "<Figure size 432x288 with 1 Axes>"
      ]
     },
     "metadata": {
      "needs_background": "light"
     },
     "output_type": "display_data"
    }
   ],
   "source": [
    "df['uniqueChords']=df.uniqueChords.apply(sorted).apply(tuple)\n",
    "chordGroups=df.uniqueChords.value_counts().head(20)\n",
    "dfTest=df[df['uniqueChords'].isin(chordGroups.index.to_list())]\n",
    "dfTest.groupby(['uniqueChords', 'difficulty']).size().unstack(fill_value=0).plot(kind='bar', stacked=True)"
   ]
  },
  {
   "cell_type": "markdown",
   "metadata": {},
   "source": [
    "This makes a lot of sense.... It looks like common chord progressions are used in easier songs as expected. It's worth noting that a majority of our songs are from the \"novice\" difficulty, so our data set is a bit skewed to start. This is still an interesting result regardless. One question I'm interested to see is what makes a song \"advance\" if it's using a simple chord progression like (C,D, Em, G). We have a few advanced songs in that group.\n",
    "\n",
    "Interesting video about the many songs made from one chord progression\n",
    "https://www.youtube.com/watch?v=2pXS8k1zx8U"
   ]
  },
  {
   "cell_type": "code",
   "execution_count": 169,
   "metadata": {},
   "outputs": [
    {
     "data": {
      "text/html": [
       "<div>\n",
       "<style scoped>\n",
       "    .dataframe tbody tr th:only-of-type {\n",
       "        vertical-align: middle;\n",
       "    }\n",
       "\n",
       "    .dataframe tbody tr th {\n",
       "        vertical-align: top;\n",
       "    }\n",
       "\n",
       "    .dataframe thead th {\n",
       "        text-align: right;\n",
       "    }\n",
       "</style>\n",
       "<table border=\"1\" class=\"dataframe\">\n",
       "  <thead>\n",
       "    <tr style=\"text-align: right;\">\n",
       "      <th></th>\n",
       "      <th>url</th>\n",
       "      <th>chordOrder</th>\n",
       "      <th>uniqueChords</th>\n",
       "      <th>song</th>\n",
       "      <th>artist</th>\n",
       "      <th>genre</th>\n",
       "      <th>decade</th>\n",
       "      <th>difficulty</th>\n",
       "      <th>tuning</th>\n",
       "      <th>capo</th>\n",
       "      <th>key</th>\n",
       "      <th>other</th>\n",
       "      <th>cardinality</th>\n",
       "    </tr>\n",
       "  </thead>\n",
       "  <tbody>\n",
       "    <tr>\n",
       "      <th>6022</th>\n",
       "      <td>https://tabs.ultimate-guitar.com/tab/broods/heartlines-chords-1859035</td>\n",
       "      <td>[G, D, Em, C, G, D, Em, C, G, D, Em, C, G, D, Em, C, G, D, Em, C, G, D, Em, C, G, D, Em, C, G, D, Em, C, G, D, Em, C, G, D, Em, C, G, D, Em, C, G, D, Em, C, G, D, Em, C, G, D, Em, C, G, D, Em, C, G, D, Em, C]</td>\n",
       "      <td>(C, D, Em, G)</td>\n",
       "      <td>Heartlines</td>\n",
       "      <td>Broods</td>\n",
       "      <td>(Electronic,)</td>\n",
       "      <td>2010</td>\n",
       "      <td>advanced</td>\n",
       "      <td>NaN</td>\n",
       "      <td>NaN</td>\n",
       "      <td>NaN</td>\n",
       "      <td>NaN</td>\n",
       "      <td>4</td>\n",
       "    </tr>\n",
       "  </tbody>\n",
       "</table>\n",
       "</div>"
      ],
      "text/plain": [
       "                                                                        url  \\\n",
       "6022  https://tabs.ultimate-guitar.com/tab/broods/heartlines-chords-1859035   \n",
       "\n",
       "                                                                                                                                                                                                            chordOrder  \\\n",
       "6022  [G, D, Em, C, G, D, Em, C, G, D, Em, C, G, D, Em, C, G, D, Em, C, G, D, Em, C, G, D, Em, C, G, D, Em, C, G, D, Em, C, G, D, Em, C, G, D, Em, C, G, D, Em, C, G, D, Em, C, G, D, Em, C, G, D, Em, C, G, D, Em, C]   \n",
       "\n",
       "       uniqueChords        song  artist          genre decade difficulty  \\\n",
       "6022  (C, D, Em, G)  Heartlines  Broods  (Electronic,)  2010   advanced    \n",
       "\n",
       "     tuning capo  key other  cardinality  \n",
       "6022  NaN    NaN  NaN  NaN   4            "
      ]
     },
     "execution_count": 169,
     "metadata": {},
     "output_type": "execute_result"
    }
   ],
   "source": [
    "temp=df[df['uniqueChords']==('C','D','Em','G')]\n",
    "temp[temp['difficulty']=='advanced']"
   ]
  },
  {
   "cell_type": "markdown",
   "metadata": {},
   "source": [
    "I don't see anything advanced about this song! Could bring into question the validity of our difficulty levels for future tasks..."
   ]
  },
  {
   "cell_type": "markdown",
   "metadata": {},
   "source": [
    "There are really endless more ways we can go with this, but let's stop for now! Listing out a few more of my question ideas here for potential future use.\n",
    "\n",
    "\n",
    "* What is the most likely chord to happen after another chord?(i.e what transition should you learn)\n",
    "\n",
    "* How do chords and transitions differ by genre? (how do chords define genres)\n",
    "\n",
    "* What chords do you need to know for each difficulty level?\n",
    "\n",
    "* Top chords per genre, decade, artist?\n",
    "* Predict the genre or decade based on chords, cardinality, etc?\n",
    "\n",
    "\n",
    "#### Potential cleaning of chords remaining\n",
    "\n",
    "* Changing chord names based on capo??\n",
    "https://www.youtube.com/watch?v=Ky8uOOfI2tY\n",
    "\n",
    "* Adding key based on chords in song\n",
    "\n",
    "* Getting numeric notation chord sequence"
   ]
  },
  {
   "cell_type": "markdown",
   "metadata": {},
   "source": [
    "## 5. Deal with Missing Values\n",
    "\n",
    "Now that we've done all our necessary cleaning, lets take a quick look at missing values.\n",
    "\n",
    "- Steal values from other tabs of the same song (genre, decade, etc.) \n",
    "- Take data from other column\n",
    "- Make assumptions about tuning and capo\n",
    "- Calculate key from chords in song"
   ]
  },
  {
   "cell_type": "code",
   "execution_count": 170,
   "metadata": {},
   "outputs": [
    {
     "data": {
      "text/plain": [
       "<matplotlib.axes._subplots.AxesSubplot at 0x12d837390>"
      ]
     },
     "execution_count": 170,
     "metadata": {},
     "output_type": "execute_result"
    },
    {
     "data": {
      "image/png": "[encoded data removed]",
      "text/plain": [
       "<Figure size 432x288 with 1 Axes>"
      ]
     },
     "metadata": {
      "needs_background": "light"
     },
     "output_type": "display_data"
    }
   ],
   "source": [
    "sns.heatmap(df.isnull(),yticklabels=False,cbar=False,cmap='viridis')"
   ]
  },
  {
   "cell_type": "markdown",
   "metadata": {},
   "source": [
    "So we've done a great job for the most part already cleaning this up. The only columns that have missing data are ones that came from the \"top info section\". There are some methods for potentially filling out these columns that I've put below, but for the sake of exporting this data set, I'm going to leave them as is for now. I can deal with nulls if and when I want to use them for a classification task.\n",
    "\n",
    "- Steal values from other tabs of the same song (genre, decade, etc.) \n",
    "- Take data from other column\n",
    "- Make assumptions about tuning and capo\n",
    "- Calculate key from chords in song"
   ]
  },
  {
   "cell_type": "code",
   "execution_count": 171,
   "metadata": {},
   "outputs": [],
   "source": [
    "#some code from my initial look at filling missing values\n",
    "#use other column to add tunings where missing\n",
    "\n",
    "# df['other']= df.other.apply(lambda x: x.lower() if isinstance(x, str) else x)\n",
    "# df.loc[df['other'].str.contains(\"standard tuning\") & df['tuning'].isnull(),\n",
    "#       'tuning']='E A D G B E'\n",
    "\n",
    "# check for most used workds in other column\n",
    "# temp=df[df.other.notnull()]\n",
    "# word_list=' '.join(temp['other']).lower().split()\n",
    "# filtered_words =  pd.Series([word for word in word_list if word not in stopwords.words('english')])\n",
    "# filtered_words.value_counts()[:100]"
   ]
  },
  {
   "cell_type": "markdown",
   "metadata": {},
   "source": [
    "## 6. Export Data\n",
    "\n",
    "Lets send this data out! Hopefully someone else gets some use out of this data even if I don't pick it up for future work. I will use both a pkl and a csv to avoid the loss of formatting which I found in the beginning! Let's take one final look at the data set I'll be sending out. It's really come a long way since my initial scrape!"
   ]
  },
  {
   "cell_type": "code",
   "execution_count": 172,
   "metadata": {},
   "outputs": [
    {
     "data": {
      "text/html": [
       "<div>\n",
       "<style scoped>\n",
       "    .dataframe tbody tr th:only-of-type {\n",
       "        vertical-align: middle;\n",
       "    }\n",
       "\n",
       "    .dataframe tbody tr th {\n",
       "        vertical-align: top;\n",
       "    }\n",
       "\n",
       "    .dataframe thead th {\n",
       "        text-align: right;\n",
       "    }\n",
       "</style>\n",
       "<table border=\"1\" class=\"dataframe\">\n",
       "  <thead>\n",
       "    <tr style=\"text-align: right;\">\n",
       "      <th></th>\n",
       "      <th>url</th>\n",
       "      <th>chordOrder</th>\n",
       "      <th>uniqueChords</th>\n",
       "      <th>song</th>\n",
       "      <th>artist</th>\n",
       "      <th>genre</th>\n",
       "      <th>decade</th>\n",
       "      <th>difficulty</th>\n",
       "      <th>tuning</th>\n",
       "      <th>capo</th>\n",
       "      <th>key</th>\n",
       "      <th>other</th>\n",
       "      <th>cardinality</th>\n",
       "    </tr>\n",
       "  </thead>\n",
       "  <tbody>\n",
       "    <tr>\n",
       "      <th>0</th>\n",
       "      <td>https://tabs.ultimate-guitar.com/tab/dolly-parton/its-all-wrong-but-its-all-right-chords-2113377</td>\n",
       "      <td>[G, C, G, C, D, G, C, G, C, D, G, C, G, C, D, G, C, G, C, D, G, G, C, G, C, D, G, C, G]</td>\n",
       "      <td>(C, D, G)</td>\n",
       "      <td>Its All Wrong But Its All Right</td>\n",
       "      <td>Dolly Parton</td>\n",
       "      <td>(Country,)</td>\n",
       "      <td>1970</td>\n",
       "      <td>NaN</td>\n",
       "      <td>NaN</td>\n",
       "      <td>NaN</td>\n",
       "      <td>NaN</td>\n",
       "      <td>NaN</td>\n",
       "      <td>3</td>\n",
       "    </tr>\n",
       "    <tr>\n",
       "      <th>1</th>\n",
       "      <td>https://tabs.ultimate-guitar.com/tab/dolly-parton/jolene-chords-1099394</td>\n",
       "      <td>[Am, C, G, Am, G, Am, Am, C, G, Am, G, Am, Am, C, G, Am, G, Am, Am, C, G, Am, G, Am, Am, C, G, Am, G, Am, Am, C, G, Am, G, Am, Am, C, G, Am, Am, Am, C, G, Am, G, Am, Am, C, G, Am, G, Am, Am, C, G, Am, G, Am, Am, C, G, Am, G, Am, Am, C, G, Am, G, Am]</td>\n",
       "      <td>(Am, C, G)</td>\n",
       "      <td>Jolene</td>\n",
       "      <td>Dolly Parton</td>\n",
       "      <td>(Country, Folk)</td>\n",
       "      <td>1970</td>\n",
       "      <td>intermediate</td>\n",
       "      <td>E A D G B E</td>\n",
       "      <td>4th fret</td>\n",
       "      <td>NaN</td>\n",
       "      <td>NaN</td>\n",
       "      <td>3</td>\n",
       "    </tr>\n",
       "    <tr>\n",
       "      <th>2</th>\n",
       "      <td>https://tabs.ultimate-guitar.com/tab/dolly-parton/jolene-chords-1233293</td>\n",
       "      <td>[Em, G, D, Em, D, Em, Em, G, D, Em, Em, G, D, Em, D, Em, Em, G, D, Em, D, Em, Em, G, D, Em, D, Em, Em, G, D, Em, D, Em, Em, G, D, Em, D, Em, Em, G, D, Em, D, Em, Em, G, D, Em, D, Em, Em, G, D, Em, D, Em, Em, G, D, Em, D, Em, Em, G, D, Em, D, Em, Em, G, D, Em, D, Em, Em, G, D, Em, D, Em, D, Em]</td>\n",
       "      <td>(D, Em, G)</td>\n",
       "      <td>Jolene</td>\n",
       "      <td>Dolly Parton</td>\n",
       "      <td>(Country,)</td>\n",
       "      <td>1970</td>\n",
       "      <td>novice</td>\n",
       "      <td>E A D G B E</td>\n",
       "      <td>4th fret</td>\n",
       "      <td>NaN</td>\n",
       "      <td>NaN</td>\n",
       "      <td>3</td>\n",
       "    </tr>\n",
       "    <tr>\n",
       "      <th>3</th>\n",
       "      <td>https://tabs.ultimate-guitar.com/tab/dolly-parton/jolene-chords-165569</td>\n",
       "      <td>[Dm, F, C, Dm, C, Dm, F, C, Dm, C, Dm, Dm, F, C, Dm, C, Dm, Dm, F, C, Dm, C, Dm, Dm, F, C, Dm, C, Dm, Dm, F, C, Dm, C, Dm]</td>\n",
       "      <td>(C, Dm, F)</td>\n",
       "      <td>Jolene</td>\n",
       "      <td>Dolly Parton</td>\n",
       "      <td>(Country, Folk)</td>\n",
       "      <td>1970</td>\n",
       "      <td>NaN</td>\n",
       "      <td>NaN</td>\n",
       "      <td>NaN</td>\n",
       "      <td>NaN</td>\n",
       "      <td>NaN</td>\n",
       "      <td>3</td>\n",
       "    </tr>\n",
       "    <tr>\n",
       "      <th>4</th>\n",
       "      <td>https://tabs.ultimate-guitar.com/tab/dolly-parton/jolene-chords-183019</td>\n",
       "      <td>[Am, Am, C, G, Am, G, Am, Am, C, G, Am, G, Em, Am, Am, C, G, Am, G, Em, Am, Am, C, G, Am, G, Em, Am, Am, C, G, Am, G, Em, Am, Am, C, G, Am, G, Em, Am, Am, C, G, Am, G, Am, Am, C, G, Am, G, Em, Am, Am, C, G, Am, G, Em, Am, Am, C, G, Am, G, Em, Am, Am, C, G, Am, G, Am, Am, C, G, Am, G, Em, Am]</td>\n",
       "      <td>(Am, C, Em, G)</td>\n",
       "      <td>Jolene</td>\n",
       "      <td>Dolly Parton</td>\n",
       "      <td>(Country, Folk)</td>\n",
       "      <td>1970</td>\n",
       "      <td>novice</td>\n",
       "      <td>E A D G B E</td>\n",
       "      <td>4th fret</td>\n",
       "      <td>C#m</td>\n",
       "      <td>NaN</td>\n",
       "      <td>4</td>\n",
       "    </tr>\n",
       "  </tbody>\n",
       "</table>\n",
       "</div>"
      ],
      "text/plain": [
       "                                                                                                url  \\\n",
       "0  https://tabs.ultimate-guitar.com/tab/dolly-parton/its-all-wrong-but-its-all-right-chords-2113377   \n",
       "1  https://tabs.ultimate-guitar.com/tab/dolly-parton/jolene-chords-1099394                            \n",
       "2  https://tabs.ultimate-guitar.com/tab/dolly-parton/jolene-chords-1233293                            \n",
       "3  https://tabs.ultimate-guitar.com/tab/dolly-parton/jolene-chords-165569                             \n",
       "4  https://tabs.ultimate-guitar.com/tab/dolly-parton/jolene-chords-183019                             \n",
       "\n",
       "                                                                                                                                                                                                                                                                                               chordOrder  \\\n",
       "0  [G, C, G, C, D, G, C, G, C, D, G, C, G, C, D, G, C, G, C, D, G, G, C, G, C, D, G, C, G]                                                                                                                                                                                                                  \n",
       "1  [Am, C, G, Am, G, Am, Am, C, G, Am, G, Am, Am, C, G, Am, G, Am, Am, C, G, Am, G, Am, Am, C, G, Am, G, Am, Am, C, G, Am, G, Am, Am, C, G, Am, Am, Am, C, G, Am, G, Am, Am, C, G, Am, G, Am, Am, C, G, Am, G, Am, Am, C, G, Am, G, Am, Am, C, G, Am, G, Am]                                                \n",
       "2  [Em, G, D, Em, D, Em, Em, G, D, Em, Em, G, D, Em, D, Em, Em, G, D, Em, D, Em, Em, G, D, Em, D, Em, Em, G, D, Em, D, Em, Em, G, D, Em, D, Em, Em, G, D, Em, D, Em, Em, G, D, Em, D, Em, Em, G, D, Em, D, Em, Em, G, D, Em, D, Em, Em, G, D, Em, D, Em, Em, G, D, Em, D, Em, Em, G, D, Em, D, Em, D, Em]   \n",
       "3  [Dm, F, C, Dm, C, Dm, F, C, Dm, C, Dm, Dm, F, C, Dm, C, Dm, Dm, F, C, Dm, C, Dm, Dm, F, C, Dm, C, Dm, Dm, F, C, Dm, C, Dm]                                                                                                                                                                               \n",
       "4  [Am, Am, C, G, Am, G, Am, Am, C, G, Am, G, Em, Am, Am, C, G, Am, G, Em, Am, Am, C, G, Am, G, Em, Am, Am, C, G, Am, G, Em, Am, Am, C, G, Am, G, Em, Am, Am, C, G, Am, G, Am, Am, C, G, Am, G, Em, Am, Am, C, G, Am, G, Em, Am, Am, C, G, Am, G, Em, Am, Am, C, G, Am, G, Am, Am, C, G, Am, G, Em, Am]     \n",
       "\n",
       "     uniqueChords                             song        artist  \\\n",
       "0  (C, D, G)       Its All Wrong But Its All Right  Dolly Parton   \n",
       "1  (Am, C, G)      Jolene                           Dolly Parton   \n",
       "2  (D, Em, G)      Jolene                           Dolly Parton   \n",
       "3  (C, Dm, F)      Jolene                           Dolly Parton   \n",
       "4  (Am, C, Em, G)  Jolene                           Dolly Parton   \n",
       "\n",
       "             genre decade    difficulty       tuning      capo  key other  \\\n",
       "0  (Country,)       1970   NaN           NaN          NaN       NaN  NaN    \n",
       "1  (Country, Folk)  1970   intermediate  E A D G B E  4th fret  NaN  NaN    \n",
       "2  (Country,)       1970   novice        E A D G B E  4th fret  NaN  NaN    \n",
       "3  (Country, Folk)  1970   NaN           NaN          NaN       NaN  NaN    \n",
       "4  (Country, Folk)  1970   novice        E A D G B E  4th fret  C#m  NaN    \n",
       "\n",
       "   cardinality  \n",
       "0  3            \n",
       "1  3            \n",
       "2  3            \n",
       "3  3            \n",
       "4  4            "
      ]
     },
     "execution_count": 172,
     "metadata": {},
     "output_type": "execute_result"
    }
   ],
   "source": [
    "df.head()"
   ]
  },
  {
   "cell_type": "code",
   "execution_count": 174,
   "metadata": {},
   "outputs": [],
   "source": [
    "# df.to_csv(\"/Users/eshantarneja/Documents/DataScience/data/cleanData/cleanData.csv\")\n",
    "# df.to_pickle(\"/Users/eshantarneja/Documents/DataScience/data/cleanData/cleanData.pkl\")"
   ]
  }
 ],
 "metadata": {
  "kernelspec": {
   "display_name": "Python 3",
   "language": "python",
   "name": "python3"
  },
  "language_info": {
   "codemirror_mode": {
    "name": "ipython",
    "version": 3
   },
   "file_extension": ".py",
   "mimetype": "text/x-python",
   "name": "python",
   "nbconvert_exporter": "python",
   "pygments_lexer": "ipython3",
   "version": "3.6.4"
  }
 },
 "nbformat": 4,
 "nbformat_minor": 2
}
